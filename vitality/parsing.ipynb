{
 "cells": [
  {
   "cell_type": "markdown",
   "id": "1c3e98fc",
   "metadata": {},
   "source": [
    ":!cabal update"
   ]
  },
  {
   "cell_type": "code",
   "execution_count": null,
   "id": "eb1c926c",
   "metadata": {},
   "outputs": [
    {
     "data": {
      "text/plain": [
       "Resolving dependencies...\n",
       "Up to date"
      ]
     },
     "metadata": {},
     "output_type": "display_data"
    }
   ],
   "source": [
    ":!cabal install --lib hashmap"
   ]
  },
  {
   "cell_type": "code",
   "execution_count": 1,
   "id": "bc84d173",
   "metadata": {},
   "outputs": [],
   "source": [
    "{-# LANGUAGE OverloadedStrings #-}\n",
    "\n",
    "import Data.Aeson\n",
    "import qualified Data.ByteString.Lazy as B\n",
    "import qualified Data.ByteString.Lazy.Char8 as L\n",
    "\n",
    "-- Define a data type to represent the structure of the JSON\n",
    "data Person = Person\n",
    "  { name :: String\n",
    "  , age :: Int\n",
    "  } deriving (Show)\n",
    "\n",
    "-- Define an instance to decode JSON into the Person data type\n",
    "instance FromJSON Person where\n",
    "  parseJSON = withObject \"Person\" $ \\v -> Person\n",
    "    <$> v .: \"name\"\n",
    "    <*> v .: \"age\"\n",
    "\n"
   ]
  },
  {
   "cell_type": "code",
   "execution_count": 2,
   "id": "cee499f0",
   "metadata": {},
   "outputs": [
    {
     "data": {
      "text/plain": [
       "Error: Unexpected end-of-input, expecting JSON value"
      ]
     },
     "metadata": {},
     "output_type": "display_data"
    }
   ],
   "source": [
    "  -- Read JSON data from the file\n",
    "  jsonData <- B.readFile \"data.json\"\n",
    "  \n",
    "  -- Parse JSON using eitherDecode function\n",
    "  let parsedData = eitherDecode jsonData :: Either String Person\n",
    "\n",
    "  case parsedData of\n",
    "    Left err -> putStrLn $ \"Error: \" ++ err\n",
    "    Right person -> putStrLn $ \"Parsed JSON: \" ++ show person"
   ]
  },
  {
   "cell_type": "code",
   "execution_count": 3,
   "id": "a3f31ebe",
   "metadata": {},
   "outputs": [
    {
     "data": {
      "text/plain": [
       "Alice"
      ]
     },
     "metadata": {},
     "output_type": "display_data"
    }
   ],
   "source": [
    "\n",
    "let person = Right (Person {name = \"Alice\", age = 30})\n",
    "\n",
    "case person of\n",
    "    Left _ -> putStrLn \"Error occurred\"\n",
    "    Right (Person {name = personName}) -> putStrLn personName\n"
   ]
  },
  {
   "cell_type": "markdown",
   "id": "5999cec0",
   "metadata": {},
   "source": [
    "-------------------------"
   ]
  },
  {
   "cell_type": "code",
   "execution_count": 4,
   "id": "9d26093b",
   "metadata": {},
   "outputs": [],
   "source": [
    "{-# LANGUAGE OverloadedStrings #-}\n",
    "\n",
    "import Data.Aeson\n",
    "import qualified Data.ByteString.Lazy as B\n",
    "\n",
    "-- Define a data type to represent the structure of the JSON\n",
    "data Person = Person\n",
    "  { name :: String\n",
    "  , age :: Int\n",
    "  , country :: String\n",
    "  } deriving (Show)\n",
    "\n",
    "-- Define an instance to decode JSON into the Person data type\n",
    "instance FromJSON Person where\n",
    "  parseJSON = withObject \"Person\" $ \\v -> Person\n",
    "    <$> v .: \"Name\"\n",
    "    <*> v .: \"Age\"\n",
    "    <*> v .: \"Country\"\n",
    "\n",
    "\n",
    "\n"
   ]
  },
  {
   "cell_type": "code",
   "execution_count": 5,
   "id": "5a4cb168",
   "metadata": {},
   "outputs": [
    {
     "data": {
      "text/plain": [
       "Error: Unexpected end-of-input, expecting JSON value"
      ]
     },
     "metadata": {},
     "output_type": "display_data"
    }
   ],
   "source": [
    "  -- Read JSON data from the file\n",
    "  jsonData <- B.readFile \"data.json\"\n",
    "  \n",
    "  -- Parse JSON using eitherDecode function\n",
    "  let parsedData = eitherDecode jsonData :: Either String [Person]\n",
    "\n",
    "  case parsedData of\n",
    "    Left err -> putStrLn $ \"Error: \" ++ err\n",
    "    Right people -> putStrLn $ \"Parsed JSON: \" ++ show people"
   ]
  },
  {
   "cell_type": "markdown",
   "id": "b9effcd9",
   "metadata": {},
   "source": [
    "------------"
   ]
  },
  {
   "cell_type": "code",
   "execution_count": null,
   "id": "8d2d2041",
   "metadata": {},
   "outputs": [],
   "source": [
    "{-# LANGUAGE OverloadedStrings #-}\n",
    "\n",
    "import Data.Aeson\n",
    "import qualified Data.ByteString.Lazy as B\n",
    "\n",
    "-- Define a data type to represent the structure of the JSON\n",
    "data Location = Location\n",
    "  { loc_name :: String\n",
    "  , loc_class :: String\n",
    "  , loc_directory :: String\n",
    "  , loc_remote_node :: String\n",
    "  , loc_remote_login :: String\n",
    "  , loc_remote_pwd :: String\n",
    "  , loc_remote_port :: Int\n",
    "  , loc_db_name :: String\n",
    "  , loc_db_user :: String\n",
    "  , loc_description :: String\n",
    "--  , result :: String -- New field with default value\n",
    "  } deriving (Show)\n",
    "\n",
    "-- Define an instance to decode JSON into the Location data type\n",
    "instance FromJSON Location where\n",
    "  parseJSON = withObject \"Location\" $ \\v -> Location\n",
    "    <$> v .: \"loc_name\"\n",
    "    <*> v .: \"loc_class\"\n",
    "    <*> v .: \"loc_directory\"\n",
    "    <*> v .: \"loc_remote_node\"\n",
    "    <*> v .: \"loc_remote_login\"\n",
    "    <*> v .: \"loc_remote_pwd\"\n",
    "    <*> v .: \"loc_remote_port\"\n",
    "    <*> v .: \"loc_db_name\"\n",
    "    <*> v .: \"loc_db_user\"\n",
    "    <*> v .: \"loc_description\"\n",
    "  --  <*> v .: \"result\" -- Set the default value for result\n",
    "\n",
    "\n",
    "-- Read JSON data from the file\n",
    "jsonData <- B.readFile \"data.json\"\n",
    "  \n",
    "-- Parse JSON using eitherDecode function\n",
    "let parsedData = eitherDecode jsonData :: Either String [Location]\n",
    "\n",
    "--case parsedData of\n",
    "--    Left err -> putStrLn $ \"Error: \" ++ err\n",
    "--    Right locations -> putStrLn $ show locations"
   ]
  },
  {
   "cell_type": "code",
   "execution_count": null,
   "id": "756f3af4",
   "metadata": {},
   "outputs": [],
   "source": [
    ":!cabal install --lib prettyprinter"
   ]
  },
  {
   "cell_type": "code",
   "execution_count": null,
   "id": "d0aae6b4",
   "metadata": {},
   "outputs": [],
   "source": [
    "import Data.Text.Prettyprint.Doc\n",
    "\n",
    "instance Pretty Location where\n",
    "  pretty loc =\n",
    "    vsep\n",
    "      [ \"Location {\"\n",
    "      , indent 2 (\"loc_name = \" <> pretty (loc_name loc))\n",
    "      , indent 2 (\"loc_class = \" <> pretty (loc_class loc))\n",
    "      , indent 2 (\"loc_directory = \" <> pretty (loc_directory loc))\n",
    "      , indent 2 (\"loc_remote_node = \" <> pretty (loc_remote_node loc))\n",
    "      , indent 2 (\"loc_remote_login = \" <> pretty (loc_remote_login loc))\n",
    "      , indent 2 (\"loc_remote_pwd = \" <> pretty (loc_remote_pwd loc))\n",
    "      , indent 2 (\"loc_remote_port = \" <> pretty (loc_remote_port loc))\n",
    "      , indent 2 (\"loc_db_name = \" <> pretty (loc_db_name loc))\n",
    "      , indent 2 (\"loc_db_user = \" <> pretty (loc_db_user loc))\n",
    "      , indent 2 (\"loc_description = \" <> pretty (loc_description loc))\n",
    "      , \"}\"\n",
    "      ]"
   ]
  },
  {
   "cell_type": "code",
   "execution_count": null,
   "id": "9dac3dd9",
   "metadata": {},
   "outputs": [
    {
     "data": {
      "text/plain": [
       "299"
      ]
     },
     "metadata": {},
     "output_type": "display_data"
    }
   ],
   "source": [
    "import Data.Either\n",
    "l = fromRight [] parsedData\n",
    "length l"
   ]
  },
  {
   "cell_type": "markdown",
   "id": "84fa14a2",
   "metadata": {},
   "source": [
    "import Text.Read (readMaybe) \n",
    "\n",
    "let jsonString = ( drop 1 . snd. break (== '=') . loc_db_name)  (l!!6)\n",
    "parsedJson = readMaybe jsonString :: Maybe [[String]]\n",
    "\n",
    "case parsedJson of\n",
    "        Just jsonList -> print jsonList\n",
    "        Nothing -> putStrLn \"Failed to parse JSON string\"\n",
    "\n",
    "parseRedshift \n"
   ]
  },
  {
   "cell_type": "markdown",
   "id": "c5de757f",
   "metadata": {
    "scrolled": false
   },
   "source": [
    "getLocFields :: Location  -> [Location  -> p] -> [p]\n",
    "getLocFields x  = map ($ x) \n",
    "\n",
    "--mapM_ (print . (\\x -> getLocFields x [loc_class , loc_db_name, loc_directory ]) ) (take 10 l)\n",
    "\n",
    "list l cols = mapM_ (print . (`getLocFields` cols)) l\n",
    "\n",
    "list (take 10 l) [loc_class , loc_db_name, loc_directory ]"
   ]
  },
  {
   "cell_type": "markdown",
   "id": "aa6b6838",
   "metadata": {},
   "source": [
    "data Loc = Loc\n",
    "    { loc_name' :: String\n",
    "    , loc_class' :: String\n",
    "    , db_node_name :: String\n",
    "    , db_node_instance :: String\n",
    "    } deriving (Show)"
   ]
  },
  {
   "cell_type": "markdown",
   "id": "d0aad3ab",
   "metadata": {},
   "source": [
    "--parseLoc :: Location  -> Loc\n",
    "parseLoc loc\n",
    "    | loc_class loc == \"oracle\"     = (defaultLoc loc) { loc_class' = \"orracle_class\" }\n",
    "    | loc_class loc == \"file\"       = t_file loc\n",
    "--    | loc_class loc == \"redshift\"   = t_redshift loc\n",
    "    | otherwise                     = defaultLoc loc\n",
    "    \n",
    "    where\n",
    "        defaultLoc x y z = Loc\n",
    "            { loc_name'        = loc_name x\n",
    "            , loc_class'       = loc_class x\n",
    "            , db_node_name     = \"\"\n",
    "            , db_node_instance = \"\"\n",
    "            }\n",
    "        t_file     x = (defaultLoc x) { db_node_instance = \"a\" }\n",
    "        --t_redshift = [\"db_node_name\",\"db_node_instance\"]\n",
    "--        t_redshift x = (defaultLoc x) { db_node_instance = 'a' }\n",
    "\n",
    "\n",
    "parseLoc    $ l!!6   "
   ]
  },
  {
   "cell_type": "markdown",
   "id": "a080e45d",
   "metadata": {},
   "source": [
    "data T  =  T { a :: String  , b ::String } deriving (Show)         \n",
    "data TT = TT { a':: String  , b'::String , c::String} deriving (Show)\n",
    "\n",
    "type Transform = T ->[String] -> TT\n",
    "\n",
    "\n",
    "t2list :: T -> (String, String)\n",
    "t2list T {a=x, b=y } = (x,y)\n",
    "\n",
    "ff :: Transform\n",
    "ff T { a = x, b = y } [suf,c] = TT { a' = x, b' = y ++ suf ,c=c}\n",
    "\n",
    "t =  T {a=\"ass\" , b =\"bss\"}\n",
    "\n",
    "ff t [\"XX\",\"C\"]\n"
   ]
  },
  {
   "cell_type": "code",
   "execution_count": null,
   "id": "6caaa951",
   "metadata": {},
   "outputs": [
    {
     "data": {
      "text/plain": [
       "Location' {loc_name' = \"dsred\", loc_class' = \"redshift_RED\", loc_remote_node' = \"10.242.112.153\", loc_remote_login' = \"hvr2\", loc_remote_port' = 9090, loc_db_user' = \"db_user\", loc_description' = \"Redshift data sharing cluster\", db_node_name = \"node_name\", db_node_instance = \"node_instance\"}"
      ]
     },
     "metadata": {},
     "output_type": "display_data"
    }
   ],
   "source": [
    "data Location' = Location'\n",
    "  { loc_name' :: String\n",
    "  , loc_class' :: String\n",
    "  , loc_remote_node' :: String  -- agent used \n",
    "  , loc_remote_login' :: String -- user agent \n",
    "  , loc_remote_port' :: Int     -- agent port\n",
    "  , loc_db_user' :: String\n",
    "  , loc_description' :: String\n",
    "  , db_node_name :: String\n",
    "  , db_node_instance :: String\n",
    "  } deriving (Show)\n",
    "  \n",
    "  \n",
    "loc2Location :: Location -> String -> [String] -> Location'\n",
    "loc2Location x classSuffix [db_user,node_name,node_instance] = \n",
    "                              Location' {\n",
    "                                          loc_name'  = loc_name x \n",
    "                                         , loc_class' = loc_class x ++ classSuffix\n",
    "                                         , loc_remote_node'  = loc_remote_node x\n",
    "                                         , loc_remote_login' = loc_remote_login x\n",
    "                                         , loc_remote_port'  = loc_remote_port x\n",
    "                                         , loc_db_user'      = db_user\n",
    "                                         , loc_description'  = loc_description x\n",
    "                                         , db_node_name      = node_name\n",
    "                                         , db_node_instance  = node_instance\n",
    "                                         }\n",
    "                                         \n",
    "loc2Location (l!!6) \"_RED\" [\"db_user\",\"node_name\",\"node_instance\"]"
   ]
  },
  {
   "cell_type": "code",
   "execution_count": null,
   "id": "fb754d32",
   "metadata": {},
   "outputs": [
    {
     "data": {
      "text/plain": [
       "Location {\n",
       "  loc_name = dsred\n",
       "  loc_class = redshift\n",
       "  loc_directory = \n",
       "  loc_remote_node = 10.242.112.153\n",
       "  loc_remote_login = hvr2\n",
       "  loc_remote_pwd = !{pdQj0MCa}!\n",
       "  loc_remote_port = 9090\n",
       "  loc_db_name = JSON=[[\"odbc_driver\",\"/opt/amazon/redshiftodbc/lib/64/libamazonredshiftodbc64.so\"],[\"db_node\",\"redshift-data-shared-poc.c8ziwm1qxh67.us-east-1.redshift.amazonaws.com\"],[\"db_port\",\"5439\"],[\"db_name\",\"redshiftpocdb\"]]\n",
       "  loc_db_user = 502830612/!{.9RrIJOsmfWxQJ4.}!\n",
       "  loc_description = Redshift data sharing cluster\n",
       "}"
      ]
     },
     "metadata": {},
     "output_type": "display_data"
    }
   ],
   "source": [
    "pretty $ l!!6"
   ]
  },
  {
   "cell_type": "code",
   "execution_count": null,
   "id": "4edc003a",
   "metadata": {},
   "outputs": [],
   "source": [
    "import Text.Read (readMaybe) \n",
    "import Data.Maybe (fromMaybe )\n",
    "import Data.List.Split"
   ]
  },
  {
   "cell_type": "code",
   "execution_count": null,
   "id": "a067e738",
   "metadata": {},
   "outputs": [
    {
     "data": {
      "text/plain": [
       "Location' {loc_name' = \"dsred\", loc_class' = \"redshift_RED\", loc_remote_node' = \"10.242.112.153\", loc_remote_login' = \"hvr2\", loc_remote_port' = 9090, loc_db_user' = \"502830612\", loc_description' = \"Redshift data sharing cluster\", db_node_name = \"redshift-data-shared-poc.c8ziwm1qxh67.us-east-1.redshift.amazonaws.com\", db_node_instance = \"redshiftpocdb\"}"
      ]
     },
     "metadata": {},
     "output_type": "display_data"
    }
   ],
   "source": [
    "parseRedshift :: Location  ->[String]\n",
    "parseRedshift l  = getUSer l : (concat . filterCols . fromMaybe []. parseJson .  getJsonStr)  l  \n",
    "   where\n",
    "       getJsonStr  = drop 1 . dropWhile (/= '=') . loc_db_name  -- get loc_db_name and return string after first '='\n",
    "       parseJson s = readMaybe s :: Maybe [[String]]            -- parse to list\n",
    "       filterCols  = map tail .  filter (\\[k, _] -> k `elem` [\"db_node\", \"db_name\"])\n",
    "       getUSer = head . splitOn \"/\" . loc_db_user \n",
    "     \n",
    " \n",
    "loc2Location (l!!6) \"_RED\"  $ parseRedshift (l!!6)"
   ]
  },
  {
   "cell_type": "code",
   "execution_count": null,
   "id": "2758dd58",
   "metadata": {},
   "outputs": [
    {
     "data": {
      "text/plain": [
       "[Location {\n",
       "  loc_name        = mfg\n",
       "  loc_class       = file\n",
       "  loc_remote_node = 10.242.109.196\n",
       "  loc_remote_login = hvr\n",
       "  loc_remote_port = 4343\n",
       "  loc_db_user = ###\n",
       "  loc_description =  MFG - CTD Wafers\n",
       "  db_node_name = ###\n",
       "  db_node_instance = ###\n",
       "},Location {\n",
       "  loc_name        = cis\n",
       "  loc_class       = file\n",
       "  loc_remote_node = 10.242.112.153\n",
       "  loc_remote_login = hvr2\n",
       "  loc_remote_port = 9090\n",
       "  loc_db_user = ###\n",
       "  loc_description = cis to s3\n",
       "  db_node_name = ###\n",
       "  db_node_instance = ###\n",
       "},Location {\n",
       "  loc_name        = opal\n",
       "  loc_class       = file\n",
       "  loc_remote_node = 10.242.112.153\n",
       "  loc_remote_login = hvr2\n",
       "  loc_remote_port = 9090\n",
       "  loc_db_user = ###\n",
       "  loc_description = hawkeye\n",
       "  db_node_name = ###\n",
       "  db_node_instance = ###\n",
       "},Location {\n",
       "  loc_name        = adrmd\n",
       "  loc_class       = oracle\n",
       "  loc_remote_node = \n",
       "  loc_remote_login = \n",
       "  loc_remote_port = 0\n",
       "  loc_db_user = ###\n",
       "  loc_description = drm dev instance\n",
       "  db_node_name = ###\n",
       "  db_node_instance = ###\n",
       "},Location {\n",
       "  loc_name        = alins\n",
       "  loc_class       = oracle\n",
       "  loc_remote_node = \n",
       "  loc_remote_login = \n",
       "  loc_remote_port = 0\n",
       "  loc_db_user = ###\n",
       "  loc_description = align iq test\n",
       "  db_node_name = ###\n",
       "  db_node_instance = ###\n",
       "},Location {\n",
       "  loc_name        = auror\n",
       "  loc_class       = postgresql\n",
       "  loc_remote_node = 10.242.112.86\n",
       "  loc_remote_login = hvr4\n",
       "  loc_remote_port = 9995\n",
       "  loc_db_user = ###\n",
       "  loc_description = \n",
       "  db_node_name = ###\n",
       "  db_node_instance = ###\n",
       "},Location {\n",
       "  loc_name        = dsred\n",
       "  loc_class       = redshift_RED\n",
       "  loc_remote_node = 10.242.112.153\n",
       "  loc_remote_login = hvr2\n",
       "  loc_remote_port = 9090\n",
       "  loc_db_user = 502830612\n",
       "  loc_description = Redshift data sharing cluster\n",
       "  db_node_name = redshift-data-shared-poc.c8ziwm1qxh67.us-east-1.redshift.amazonaws.com\n",
       "  db_node_instance = redshiftpocdb\n",
       "}]"
      ]
     },
     "metadata": {},
     "output_type": "display_data"
    }
   ],
   "source": [
    "parseLoc :: Location  -> Location'\n",
    "parseLoc l\n",
    "\n",
    "    | loc_class l == \"redshift\"   = loc2Location l \"_RED\"  $ parseRedshift l\n",
    "    | otherwise   = loc2Location l \"\"  [\"###\",\"###\",\"###\"]\n",
    "\n",
    "map (pretty . parseLoc) (take 7 l)"
   ]
  },
  {
   "cell_type": "code",
   "execution_count": null,
   "id": "5f47c548",
   "metadata": {},
   "outputs": [],
   "source": [
    "\n",
    "instance Pretty Location' where\n",
    "  pretty loc =\n",
    "    vsep\n",
    "      [ \"Location {\"\n",
    "      , indent 2 (\"loc_name        = \" <> pretty (loc_name' loc))\n",
    "      , indent 2 (\"loc_class       = \" <> pretty (loc_class' loc))\n",
    "      , indent 2 (\"loc_remote_node = \" <> pretty (loc_remote_node' loc))\n",
    "      , indent 2 (\"loc_remote_login = \" <> pretty (loc_remote_login' loc))\n",
    "      , indent 2 (\"loc_remote_port = \" <> pretty (loc_remote_port' loc))\n",
    "      , indent 2 (\"loc_db_user = \" <> pretty (loc_db_user' loc))\n",
    "      , indent 2 (\"loc_description = \" <> pretty (loc_description' loc))\n",
    "      , indent 2 (\"db_node_name = \" <> pretty (db_node_name loc))\n",
    "      , indent 2 (\"db_node_instance = \" <> pretty (db_node_instance loc))\n",
    "      , \"}\"\n",
    "      ]\n",
    "                            "
   ]
  },
  {
   "cell_type": "markdown",
   "id": "e5954c47",
   "metadata": {},
   "source": [
    "\n",
    "\n",
    "( loc_db_user )(l!!6)"
   ]
  },
  {
   "cell_type": "markdown",
   "id": "f067f06c",
   "metadata": {},
   "source": [
    "loc2Location (l!!6) \"_RED\" [\"db_user\",\"node_name\",\"node_instance\"]"
   ]
  },
  {
   "cell_type": "code",
   "execution_count": 25,
   "id": "d58e544d",
   "metadata": {},
   "outputs": [
    {
     "data": {
      "text/plain": [
       "Resolving dependencies...\n",
       "Up to date"
      ]
     },
     "metadata": {},
     "output_type": "display_data"
    }
   ],
   "source": [
    ":!cabal install --lib split "
   ]
  },
  {
   "cell_type": "markdown",
   "id": "16f540df",
   "metadata": {},
   "source": [
    "data T = T X Int Y Int Z Int\n",
    "f a b c = T {X=a , Y=b , Z=c}\n",
    "\n",
    "f 1 2 3\n",
    "\n",
    "\n"
   ]
  },
  {
   "cell_type": "markdown",
   "id": "9781878b",
   "metadata": {},
   "source": [
    "import Text.Read (readMaybe) \n",
    "\n",
    "let jsonString = ( drop 1 . snd. break (== '=') . loc_db_name)  (l!!6)\n",
    "parsedJson = readMaybe jsonString :: Maybe [[String]]\n",
    "\n",
    "case parsedJson of\n",
    "        Just jsonList -> print jsonList\n",
    "        Nothing -> putStrLn \"Failed to parse JSON string\"\n",
    "\n",
    "parseRedshift \n"
   ]
  },
  {
   "cell_type": "markdown",
   "id": "06c6b7f4",
   "metadata": {},
   "source": [
    "fromE a = case a of\n",
    "        Just jsonList ->  jsonList\n",
    "        Nothing -> 0\n",
    "        \n",
    "fromE (Just 5)\n"
   ]
  },
  {
   "cell_type": "markdown",
   "id": "9c5c6227",
   "metadata": {},
   "source": [
    "data Test = Test { a :: Maybe String, b :: Maybe String, c :: Maybe String } deriving Show\n",
    "\n",
    "makeTest :: Maybe String -> Maybe String -> Maybe String -> Test\n",
    "makeTest ma mb mc = Test { a = ma, b = mb, c = mc }\n",
    "\n",
    "\n",
    "t1 = makeTest (Just \"A\") (Just \"B\") Nothing\n",
    "t2 = makeTest (Just \"C\") Nothing Nothing\n",
    "t1\n",
    "t2\n",
    "\n"
   ]
  },
  {
   "cell_type": "markdown",
   "id": "17246701",
   "metadata": {},
   "source": [
    "-------------------"
   ]
  },
  {
   "cell_type": "code",
   "execution_count": 15,
   "id": "4a36c270",
   "metadata": {},
   "outputs": [
    {
     "data": {
      "text/plain": [
       "file\n",
       "file\n",
       "oracle"
      ]
     },
     "metadata": {},
     "output_type": "display_data"
    }
   ],
   "source": [
    "locationsResult :: Either String [Location]\n",
    "locationsResult = parsedData\n",
    "\n",
    "\n",
    "case locationsResult of\n",
    "  Left err -> putStrLn $ \"Error: \" ++ err\n",
    "  Right locationList -> do\n",
    "    let locNames = map loc_class  locationList\n",
    "    putStrLn $  unlines locNames\n"
   ]
  },
  {
   "cell_type": "code",
   "execution_count": 16,
   "id": "ec36f462",
   "metadata": {},
   "outputs": [
    {
     "data": {
      "text/plain": [
       "Location Names:\n",
       "mfg\n",
       "cis\n",
       "adrmd"
      ]
     },
     "metadata": {},
     "output_type": "display_data"
    }
   ],
   "source": [
    "-- Define a function to extract and print loc_name values\n",
    "printLocNames :: Either String [Location] -> IO ()\n",
    "printLocNames locationsResult = do\n",
    "  case locationsResult of\n",
    "    Left err -> putStrLn $ \"Error: \" ++ err\n",
    "    Right locationList -> do\n",
    "      let locNames = map loc_name locationList\n",
    "      putStrLn $ \"Location Names:\\n\" ++ unlines locNames\n",
    "\n",
    "\n",
    "-- Read JSON data from the file\n",
    "jsonData <- B.readFile \"data.json\"\n",
    "  \n",
    "-- Parse JSON using eitherDecode function\n",
    "let parsedData = eitherDecode jsonData :: Either String [Location]\n",
    "\n",
    "printLocNames parsedData"
   ]
  },
  {
   "cell_type": "code",
   "execution_count": 9,
   "id": "1f2e652f",
   "metadata": {},
   "outputs": [
    {
     "data": {
      "text/plain": [
       "[]"
      ]
     },
     "metadata": {},
     "output_type": "display_data"
    }
   ],
   "source": [
    "-- Define a function to extract loc_name values as a list\n",
    "getLocNames :: Either String [Location] -> [String]\n",
    "getLocNames locationsResult =\n",
    "  case locationsResult of\n",
    "    Left _ -> [] -- Return an empty list in case of error\n",
    "    Right locationList -> map loc_name locationList\n",
    "    \n",
    "getLocNames parsedData  "
   ]
  },
  {
   "cell_type": "code",
   "execution_count": 87,
   "id": "7f3978a9",
   "metadata": {},
   "outputs": [
    {
     "data": {
      "text/plain": [
       "[Location {loc_name = \"mfg\", loc_class = \"file\", loc_directory = \"/home/hvr/ctdwafersprocessed/data\", loc_remote_node = \"10.242.109.196\", loc_remote_login = \"hvr\", loc_remote_pwd = \"!{ioMZoDB5eGFbcfxn}!\", loc_remote_port = 4343, loc_db_name = \"\", loc_db_user = \"\", loc_description = \" MFG - CTD Wafers\"},Location {loc_name = \"cis\", loc_class = \"file\", loc_directory = \"/home/lh156795/cis/cis_data\", loc_remote_node = \"10.242.112.153\", loc_remote_login = \"hvr2\", loc_remote_pwd = \"!{yjT/heDE}!\", loc_remote_port = 9090, loc_db_name = \"\", loc_db_user = \"\", loc_description = \"cis to s3\"}]"
      ]
     },
     "metadata": {},
     "output_type": "display_data"
    }
   ],
   "source": [
    "[ {loc_name = \"mfg\", loc_class = \"file\", loc_directory = \"/home/hvr/ctdwafersprocessed/data\", loc_remote_node = \"10.242.109.196\", loc_remote_login = \"hvr\", loc_remote_pwd = \"!{ioMZoDB5eGFbcfxn}!\", loc_remote_port = 4343, loc_db_name = \"\", loc_db_user = \"\", loc_description = \" MFG - CTD Wafers\"}, {loc_name = \"cis\", loc_class = \"file\", loc_directory = \"/home/lh156795/cis/cis_data\", loc_remote_node = \"10.242.112.153\", loc_remote_login = \"hvr2\", loc_remote_pwd = \"!{yjT/heDE}!\", loc_remote_port = 9090, loc_db_name = \"\", loc_db_user = \"\", loc_description = \"cis to s3\"}]"
   ]
  },
  {
   "cell_type": "code",
   "execution_count": 57,
   "id": "5a2e5cb6",
   "metadata": {},
   "outputs": [],
   "source": [
    "import Data.Maybe (fromMaybe )\n",
    "import Data.Either"
   ]
  },
  {
   "cell_type": "code",
   "execution_count": 65,
   "id": "93e27cfd",
   "metadata": {},
   "outputs": [
    {
     "data": {
      "text/html": [
       "<style>/* Styles used for the Hoogle display in the pager */\n",
       ".hoogle-doc {\n",
       "display: block;\n",
       "padding-bottom: 1.3em;\n",
       "padding-left: 0.4em;\n",
       "}\n",
       ".hoogle-code {\n",
       "display: block;\n",
       "font-family: monospace;\n",
       "white-space: pre;\n",
       "}\n",
       ".hoogle-text {\n",
       "display: block;\n",
       "}\n",
       ".hoogle-name {\n",
       "color: green;\n",
       "font-weight: bold;\n",
       "}\n",
       ".hoogle-head {\n",
       "font-weight: bold;\n",
       "}\n",
       ".hoogle-sub {\n",
       "display: block;\n",
       "margin-left: 0.4em;\n",
       "}\n",
       ".hoogle-package {\n",
       "font-weight: bold;\n",
       "font-style: italic;\n",
       "}\n",
       ".hoogle-module {\n",
       "font-weight: bold;\n",
       "}\n",
       ".hoogle-class {\n",
       "font-weight: bold;\n",
       "}\n",
       "\n",
       ".get-type {\n",
       "color: green;\n",
       "font-weight: bold;\n",
       "font-family: monospace;\n",
       "display: block;\n",
       "white-space: pre-wrap;\n",
       "}\n",
       ".show-type {\n",
       "color: green;\n",
       "font-weight: bold;\n",
       "font-family: monospace;\n",
       "margin-left: 1em;\n",
       "}\n",
       ".mono {\n",
       "font-family: monospace;\n",
       "display: block;\n",
       "}\n",
       ".err-msg {\n",
       "color: red;\n",
       "font-style: italic;\n",
       "font-family: monospace;\n",
       "white-space: pre;\n",
       "display: block;\n",
       "}\n",
       "#unshowable {\n",
       "color: red;\n",
       "font-weight: bold;\n",
       "}\n",
       ".err-msg.in.collapse {\n",
       "padding-top: 0.7em;\n",
       "}\n",
       "\n",
       ".highlight-code {\n",
       "white-space: pre;\n",
       "font-family: monospace;\n",
       "}\n",
       "\n",
       ".suggestion-warning { \n",
       "font-weight: bold;\n",
       "color: rgb(200, 130, 0);\n",
       "}\n",
       ".suggestion-error { \n",
       "font-weight: bold;\n",
       "color: red;\n",
       "}\n",
       ".suggestion-name {\n",
       "font-weight: bold;\n",
       "}\n",
       "\n",
       "</style><div class=\"suggestion-name\" style=\"clear:both;\">Use <$></div><div class=\"suggestion-row\" style=\"float: left;\"><div class=\"suggestion-warning\">Found:</div><div class=\"highlight-code\" id=\"haskell\">fmap (\\ (Location x) -> x) $ fromMaybe 0 maybeInt</div></div><div class=\"suggestion-row\" style=\"float: left;\"><div class=\"suggestion-warning\">Why Not:</div><div class=\"highlight-code\" id=\"haskell\">(\\ (Location x) -> x) <$> fromMaybe 0 maybeInt</div></div>"
      ],
      "text/plain": [
       "Line 4: Use <$>\n",
       "Found:\n",
       "fmap (\\ (Location x) -> x) $ fromMaybe 0 maybeInt\n",
       "Why not:\n",
       "(\\ (Location x) -> x) <$> fromMaybe 0 maybeInt"
      ]
     },
     "metadata": {},
     "output_type": "display_data"
    },
    {
     "ename": "",
     "evalue": "",
     "output_type": "error",
     "traceback": [
      "<interactive>:1:41: error:\n    • Couldn't match type ‘Int’ with ‘f Location’\n      Expected: Maybe (f Location)\n        Actual: Maybe Int\n    • In the second argument of ‘fromMaybe’, namely ‘maybeInt’\n      In the second argument of ‘($)’, namely ‘fromMaybe 0 maybeInt’\n      In the expression: fmap (\\ (Location x) -> x) $ fromMaybe 0 maybeInt\n    • Relevant bindings include it :: f [Int] (bound at <interactive>:1:1)"
     ]
    }
   ],
   "source": [
    "maybeInt :: Maybe Int\n",
    "maybeInt = Just 1\n",
    "\n",
    "fmap (\\(Location x) -> x) $ fromMaybe 0 maybeInt"
   ]
  },
  {
   "cell_type": "code",
   "execution_count": 68,
   "id": "0368ede0",
   "metadata": {},
   "outputs": [
    {
     "data": {
      "text/html": [
       "<style>/* Styles used for the Hoogle display in the pager */\n",
       ".hoogle-doc {\n",
       "display: block;\n",
       "padding-bottom: 1.3em;\n",
       "padding-left: 0.4em;\n",
       "}\n",
       ".hoogle-code {\n",
       "display: block;\n",
       "font-family: monospace;\n",
       "white-space: pre;\n",
       "}\n",
       ".hoogle-text {\n",
       "display: block;\n",
       "}\n",
       ".hoogle-name {\n",
       "color: green;\n",
       "font-weight: bold;\n",
       "}\n",
       ".hoogle-head {\n",
       "font-weight: bold;\n",
       "}\n",
       ".hoogle-sub {\n",
       "display: block;\n",
       "margin-left: 0.4em;\n",
       "}\n",
       ".hoogle-package {\n",
       "font-weight: bold;\n",
       "font-style: italic;\n",
       "}\n",
       ".hoogle-module {\n",
       "font-weight: bold;\n",
       "}\n",
       ".hoogle-class {\n",
       "font-weight: bold;\n",
       "}\n",
       "\n",
       ".get-type {\n",
       "color: green;\n",
       "font-weight: bold;\n",
       "font-family: monospace;\n",
       "display: block;\n",
       "white-space: pre-wrap;\n",
       "}\n",
       ".show-type {\n",
       "color: green;\n",
       "font-weight: bold;\n",
       "font-family: monospace;\n",
       "margin-left: 1em;\n",
       "}\n",
       ".mono {\n",
       "font-family: monospace;\n",
       "display: block;\n",
       "}\n",
       ".err-msg {\n",
       "color: red;\n",
       "font-style: italic;\n",
       "font-family: monospace;\n",
       "white-space: pre;\n",
       "display: block;\n",
       "}\n",
       "#unshowable {\n",
       "color: red;\n",
       "font-weight: bold;\n",
       "}\n",
       ".err-msg.in.collapse {\n",
       "padding-top: 0.7em;\n",
       "}\n",
       "\n",
       ".highlight-code {\n",
       "white-space: pre;\n",
       "font-family: monospace;\n",
       "}\n",
       "\n",
       ".suggestion-warning { \n",
       "font-weight: bold;\n",
       "color: rgb(200, 130, 0);\n",
       "}\n",
       ".suggestion-error { \n",
       "font-weight: bold;\n",
       "color: red;\n",
       "}\n",
       ".suggestion-name {\n",
       "font-weight: bold;\n",
       "}\n",
       "\n",
       "</style><div class=\"suggestion-name\" style=\"clear:both;\">Redundant bracket</div><div class=\"suggestion-row\" style=\"float: left;\"><div class=\"suggestion-warning\">Found:</div><div class=\"highlight-code\" id=\"haskell\">[(Location [1]), (Location [2])]</div></div><div class=\"suggestion-row\" style=\"float: left;\"><div class=\"suggestion-warning\">Why Not:</div><div class=\"highlight-code\" id=\"haskell\">[Location [1], (Location [2])]</div></div><div class=\"suggestion-name\" style=\"clear:both;\">Redundant bracket</div><div class=\"suggestion-row\" style=\"float: left;\"><div class=\"suggestion-warning\">Found:</div><div class=\"highlight-code\" id=\"haskell\">[(Location [1]), (Location [2])]</div></div><div class=\"suggestion-row\" style=\"float: left;\"><div class=\"suggestion-warning\">Why Not:</div><div class=\"highlight-code\" id=\"haskell\">[(Location [1]), Location [2]]</div></div>"
      ],
      "text/plain": [
       "Line 1: Redundant bracket\n",
       "Found:\n",
       "[(Location [1]), (Location [2])]\n",
       "Why not:\n",
       "[Location [1], (Location [2])]Line 1: Redundant bracket\n",
       "Found:\n",
       "[(Location [1]), (Location [2])]\n",
       "Why not:\n",
       "[(Location [1]), Location [2]]"
      ]
     },
     "metadata": {},
     "output_type": "display_data"
    },
    {
     "data": {
      "text/plain": [
       "[1,2]"
      ]
     },
     "metadata": {},
     "output_type": "display_data"
    }
   ],
   "source": [
    "concatMap (\\(Location x) -> x)  [(Location [1]), (Location [2])]"
   ]
  },
  {
   "cell_type": "code",
   "execution_count": 14,
   "id": "14929e60",
   "metadata": {},
   "outputs": [
    {
     "ename": "",
     "evalue": "",
     "output_type": "error",
     "traceback": [
      "<interactive>:1:14: error: Variable not in scope: l"
     ]
    }
   ],
   "source": [
    "import GHC.Generics\n",
    "import Data.Aeson\n",
    "import Data.Either\n",
    "import qualified Data.HashMap.Strict as HashMap"
   ]
  },
  {
   "cell_type": "code",
   "execution_count": 17,
   "id": "9d705d8a",
   "metadata": {},
   "outputs": [
    {
     "data": {
      "text/plain": [
       "Right [Location {loc_name = \"mfg\", loc_class = \"file\", loc_directory = \"/home/hvr/ctdwafersprocessed/data\", loc_remote_node = \"10.242.109.196\", loc_remote_login = \"hvr\", loc_remote_pwd = \"!{ioMZoDB5eGFbcfxn}!\", loc_remote_port = 4343, loc_db_name = \"\", loc_db_user = \"\", loc_description = \" MFG - CTD Wafers\"},Location {loc_name = \"cis\", loc_class = \"file\", loc_directory = \"/home/lh156795/cis/cis_data\", loc_remote_node = \"10.242.112.153\", loc_remote_login = \"hvr2\", loc_remote_pwd = \"!{yjT/heDE}!\", loc_remote_port = 9090, loc_db_name = \"\", loc_db_user = \"\", loc_description = \"cis to s3\"},Location {loc_name = \"adrmd\", loc_class = \"oracle\", loc_directory = \"/usr/lib/oracle/19.5/client64/\", loc_remote_node = \"\", loc_remote_login = \"\", loc_remote_pwd = \"\", loc_remote_port = 0, loc_db_name = \"\", loc_db_user = \"DRMHUB_HVR_HC/!{FEfI1oxmpKL.zEto}!@//dev.az-drm.finance.ge.com:1621/drmdhub\", loc_description = \"drm dev instance\"}]"
      ]
     },
     "metadata": {},
     "output_type": "display_data"
    }
   ],
   "source": [
    "parsedData"
   ]
  },
  {
   "cell_type": "code",
   "execution_count": null,
   "id": "fb20fdc4",
   "metadata": {},
   "outputs": [
    {
     "data": {
      "text/plain": [
       "\"DRMHUB_HVR_HC/!{FEfI1oxmpKL.zEto}!@//dev.az-drm.finance.ge.com:1621/drmdhub\""
      ]
     },
     "metadata": {},
     "output_type": "display_data"
    }
   ],
   "source": [
    "import Data.Either\n",
    "l = fromRight [] parsedData\n",
    "\n",
    "apply loc_lst = case loc_class loc_lst of \n",
    "              \"file\" -> loc_class loc_lst\n",
    "              \"oracle\" -> loc_db_user    loc_lst\n",
    "\n",
    "apply $ last  l"
   ]
  },
  {
   "cell_type": "code",
   "execution_count": 45,
   "id": "70b70a06",
   "metadata": {},
   "outputs": [
    {
     "ename": "",
     "evalue": "",
     "output_type": "error",
     "traceback": [
      "Parse error (line 6, column 19): parse error on input `='"
     ]
    }
   ],
   "source": [
    "import Data.Either\n",
    "\n",
    "data Location = Location [Int] deriving Show\n",
    "\n",
    "let input = [Right (Location [1]), Right (Location [2])]\n",
    "      rightValues = rights input\n",
    "      extractedValues = concatMap (\\(Location nums) -> nums) rightValues\n",
    "print extractedValues\n"
   ]
  },
  {
   "cell_type": "code",
   "execution_count": null,
   "id": "c65fa868",
   "metadata": {},
   "outputs": [],
   "source": [
    "import Data.Either\n",
    "\n",
    "\n",
    "    let input = Right 3\n",
    "        extractedValue = fromRight (error \"Not a Right value\") input\n",
    "    print extractedValue\n"
   ]
  }
 ],
 "metadata": {
  "kernelspec": {
   "display_name": "Haskell",
   "language": "haskell",
   "name": "haskell"
  },
  "language_info": {
   "codemirror_mode": "ihaskell",
   "file_extension": ".hs",
   "mimetype": "text/x-haskell",
   "name": "haskell",
   "pygments_lexer": "Haskell",
   "version": "9.4.5"
  }
 },
 "nbformat": 4,
 "nbformat_minor": 5
}
