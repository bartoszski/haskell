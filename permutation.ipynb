{
 "cells": [
  {
   "cell_type": "code",
   "execution_count": 1,
   "id": "1a7d8213",
   "metadata": {},
   "outputs": [],
   "source": [
    "l =  [[1,2,3],[4,5,6]]"
   ]
  },
  {
   "cell_type": "code",
   "execution_count": 2,
   "id": "70682313",
   "metadata": {},
   "outputs": [
    {
     "data": {
      "text/plain": [
       "4"
      ]
     },
     "metadata": {},
     "output_type": "display_data"
    }
   ],
   "source": [
    "length l"
   ]
  },
  {
   "cell_type": "code",
   "execution_count": 133,
   "id": "eb3cf8f2",
   "metadata": {},
   "outputs": [],
   "source": [
    "add  :: [a] ->[a]->[a]\n",
    "(add)  x xs =  x ++xs\n",
    "\n",
    "ltake :: Int -> [a] -> [a]\n",
    "ltake x xs = reverse (take x (reverse xs))\n",
    "\n",
    "putInPerm :: a -> [a] -> [[a]]\n",
    "putInPerm x xs = [ take y xs `add` [x] `add` ltake (lhs-y) xs | y <- [0 .. lhs] ]\n",
    "         where lhs = length xs\n",
    "         \n",
    "putInPerms :: a\n",
    "  "
   ]
  },
  {
   "cell_type": "code",
   "execution_count": 134,
   "id": "d9bf5b2c",
   "metadata": {},
   "outputs": [
    {
     "data": {
      "text/plain": [
       "[[9,1,2,3],[1,9,2,3],[1,2,9,3],[1,2,3,9]]"
      ]
     },
     "metadata": {},
     "output_type": "display_data"
    }
   ],
   "source": [
    "putInPerm () [1,2,3]"
   ]
  },
  {
   "cell_type": "code",
   "execution_count": 176,
   "id": "be1ce319",
   "metadata": {},
   "outputs": [
    {
     "ename": "",
     "evalue": "",
     "output_type": "error",
     "traceback": [
      "<interactive>:1:1: error:\n    • No instance for (Num [[Integer]]) arising from a use of ‘it’\n    • In the first argument of ‘print’, namely ‘it’\n      In a stmt of an interactive GHCi command: print it"
     ]
    }
   ],
   "source": [
    "map (putInPerm $ take 1 l) l"
   ]
  },
  {
   "cell_type": "code",
   "execution_count": 174,
   "id": "e1aaa7f2",
   "metadata": {},
   "outputs": [
    {
     "data": {
      "text/html": [
       "<style>/* Styles used for the Hoogle display in the pager */\n",
       ".hoogle-doc {\n",
       "display: block;\n",
       "padding-bottom: 1.3em;\n",
       "padding-left: 0.4em;\n",
       "}\n",
       ".hoogle-code {\n",
       "display: block;\n",
       "font-family: monospace;\n",
       "white-space: pre;\n",
       "}\n",
       ".hoogle-text {\n",
       "display: block;\n",
       "}\n",
       ".hoogle-name {\n",
       "color: green;\n",
       "font-weight: bold;\n",
       "}\n",
       ".hoogle-head {\n",
       "font-weight: bold;\n",
       "}\n",
       ".hoogle-sub {\n",
       "display: block;\n",
       "margin-left: 0.4em;\n",
       "}\n",
       ".hoogle-package {\n",
       "font-weight: bold;\n",
       "font-style: italic;\n",
       "}\n",
       ".hoogle-module {\n",
       "font-weight: bold;\n",
       "}\n",
       ".hoogle-class {\n",
       "font-weight: bold;\n",
       "}\n",
       ".get-type {\n",
       "color: green;\n",
       "font-weight: bold;\n",
       "font-family: monospace;\n",
       "display: block;\n",
       "white-space: pre-wrap;\n",
       "}\n",
       ".show-type {\n",
       "color: green;\n",
       "font-weight: bold;\n",
       "font-family: monospace;\n",
       "margin-left: 1em;\n",
       "}\n",
       ".mono {\n",
       "font-family: monospace;\n",
       "display: block;\n",
       "}\n",
       ".err-msg {\n",
       "color: red;\n",
       "font-style: italic;\n",
       "font-family: monospace;\n",
       "white-space: pre;\n",
       "display: block;\n",
       "}\n",
       "#unshowable {\n",
       "color: red;\n",
       "font-weight: bold;\n",
       "}\n",
       ".err-msg.in.collapse {\n",
       "padding-top: 0.7em;\n",
       "}\n",
       ".highlight-code {\n",
       "white-space: pre;\n",
       "font-family: monospace;\n",
       "}\n",
       ".suggestion-warning { \n",
       "font-weight: bold;\n",
       "color: rgb(200, 130, 0);\n",
       "}\n",
       ".suggestion-error { \n",
       "font-weight: bold;\n",
       "color: red;\n",
       "}\n",
       ".suggestion-name {\n",
       "font-weight: bold;\n",
       "}\n",
       "</style><div class=\"suggestion-name\" style=\"clear:both;\">Use null</div><div class=\"suggestion-row\" style=\"float: left;\"><div class=\"suggestion-warning\">Found:</div><div class=\"highlight-code\" id=\"haskell\">length l == 0</div></div><div class=\"suggestion-row\" style=\"float: left;\"><div class=\"suggestion-warning\">Why Not:</div><div class=\"highlight-code\" id=\"haskell\">null l</div></div>"
      ],
      "text/plain": [
       "Line 2: Use null\n",
       "Found:\n",
       "length l == 0\n",
       "Why not:\n",
       "null l"
      ]
     },
     "metadata": {},
     "output_type": "display_data"
    },
    {
     "ename": "",
     "evalue": "",
     "output_type": "error",
     "traceback": [
      "<interactive>:3:27: error:\n    • Couldn't match expected type: [a] -> [[a]]\n                  with actual type: [[[[a]]]]\n    • The function ‘map’ is applied to three value arguments, but its type ‘([[a]] -> [[[a]]]) -> [[[a]]] -> [[[[a]]]]’ has only two\n      In the expression: map (putInPerm (take 1 l)) myperm (tail l)\n      In an equation for ‘myperm’:\n          myperm l\n            | length l == 0 = [l]\n            | otherwise = map (putInPerm (take 1 l)) myperm (tail l)\n    • Relevant bindings include\n        l :: [a] (bound at <interactive>:1:8)\n        myperm :: [[[a]]] (bound at <interactive>:1:1)\n<interactive>:1:1: error:\n    • Couldn't match expected type: [[[a]]]\n                  with actual type: [a] -> [[a]]\n    • Relevant bindings include myperm :: [[[a]]] (bound at <interactive>:1:1)"
     ]
    }
   ],
   "source": [
    "myperm l \n",
    "       | length l == 0 = [l]\n",
    "       | otherwise     =  map (putInPerm (take 1 l))  myperm(tail l)\n",
    "   "
   ]
  },
  {
   "cell_type": "code",
   "execution_count": 172,
   "id": "65aec451",
   "metadata": {},
   "outputs": [
    {
     "data": {
      "text/plain": [
       "[1]"
      ]
     },
     "metadata": {},
     "output_type": "display_data"
    }
   ],
   "source": [
    "take 1 [1,2,3]"
   ]
  },
  {
   "cell_type": "code",
   "execution_count": null,
   "id": "d07e824d",
   "metadata": {},
   "outputs": [],
   "source": [
    "myperm :: [a] -> [a]\n",
    "myperm l \n",
    "       |\n",
    "        length \n",
    "    if len(l) == 1 :\n",
    "        return [l]\n",
    "    return   putInPerms (l[0] , myperm(l[1:]))"
   ]
  }
 ],
 "metadata": {
  "kernelspec": {
   "display_name": "Haskell",
   "language": "haskell",
   "name": "haskell"
  },
  "language_info": {
   "codemirror_mode": "ihaskell",
   "file_extension": ".hs",
   "mimetype": "text/x-haskell",
   "name": "haskell",
   "pygments_lexer": "Haskell",
   "version": "9.2.7"
  }
 },
 "nbformat": 4,
 "nbformat_minor": 5
}
