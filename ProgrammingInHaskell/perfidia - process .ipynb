{
 "cells": [
  {
   "cell_type": "markdown",
   "id": "ecc38f6a",
   "metadata": {},
   "source": [
    "cabal update\n",
    "cabal install --lib prettyprinter"
   ]
  },
  {
   "cell_type": "code",
   "execution_count": 1,
   "id": "e7463290",
   "metadata": {},
   "outputs": [],
   "source": [
    "import Data.String\n",
    "import Data.List (nub,sort) \n",
    "import Prettyprinter\n",
    "\n",
    "---------------  Asociation  --------------------------\n",
    "\n",
    "type Assoc k v  = [(k,v)] \n",
    "\n",
    "find :: Eq k=> k -> Assoc k v -> v\n",
    "find k t = head [ v |  (k',v)<-t , k==k'] \n",
    "\n",
    "type Subst = Assoc String TimeFrame    \n",
    "\n",
    "--------------- Time Frame --------------------------\n",
    "\n",
    "data TimeFrame  = TimeFrame Int Int  deriving (Show,Read)\n",
    "getStart :: TimeFrame  -> Int\n",
    "getStart   (TimeFrame start _) = start\n",
    "\n",
    "getEnd :: TimeFrame  -> Int\n",
    "getEnd    (TimeFrame _ end) = end\n",
    "\n",
    "overlap ::  TimeFrame -> TimeFrame -> Bool\n",
    "overlap x y | not ((getEnd x <  getStart y) || (getEnd y <  getStart x) ) = True\n",
    "            | otherwise = False\n",
    "            \n",
    "startsAfter :: TimeFrame -> TimeFrame -> Bool\n",
    "startsAfter x y | getStart x > getStart y = True\n",
    "                | otherwise = False\n",
    "                \n",
    "                \n",
    "mkTimeFrame :: Int -> Int -> TimeFrame  \n",
    "mkTimeFrame start end\n",
    "    | start <= end  = TimeFrame start end\n",
    "\n",
    "\n",
    "safeMkTimeFrame :: Int -> Int -> Maybe TimeFrame  \n",
    "safeMkTimeFrame start end\n",
    "    | start <= end = Just (TimeFrame start end)\n",
    "    | otherwise    = Nothing"
   ]
  },
  {
   "cell_type": "code",
   "execution_count": 2,
   "id": "529c6ea2",
   "metadata": {},
   "outputs": [],
   "source": [
    "data ProcessOper  = Proc         String\n",
    "                  | Overlap      ProcessOper ProcessOper\n",
    "                  | StartsAfter  ProcessOper ProcessOper\n",
    "                  | And          ProcessOper ProcessOper\n",
    "                  | Or           ProcessOper ProcessOper\n",
    "                  deriving (Show,Read)\n",
    "                  \n",
    "                  \n",
    "eval :: Subst -> ProcessOper -> Bool\n",
    "\n",
    "eval s (Overlap p q) = overlap (getTF p s) (getTF q s)\n",
    "                     where \n",
    "                     subst (Proc x) = x \n",
    "                     getTF x = find (subst x) \n",
    "\n",
    "eval s (StartsAfter p q) = startsAfter (getTF p s) (getTF q s)\n",
    "                     where \n",
    "                     subst (Proc x) = x \n",
    "                     getTF x = find (subst x) \n",
    "\n",
    "eval s (And p q) = eval s p && eval s q\n",
    "eval s (Or p q)  = eval s p || eval s q"
   ]
  },
  {
   "cell_type": "code",
   "execution_count": 3,
   "id": "c2f5994d",
   "metadata": {},
   "outputs": [],
   "source": [
    "-- get vars from Process Model\n",
    "\n",
    "vars :: ProcessOper -> [String]\n",
    "vars (Proc xs) = [xs]\n",
    "vars (Overlap p q) = vars p ++ vars q\n",
    "vars (StartsAfter p q) = vars p ++ vars q\n",
    "vars (And p q) = vars p ++ vars q\n",
    "vars (Or p q) = vars p ++ vars q\n",
    "\n",
    "getvars :: ProcessOper -> [String]\n",
    "getvars  = sort . nub . vars\n",
    "\n",
    "-- Visualze process Model\n",
    "\n",
    "multiplyString :: String -> Int -> String\n",
    "multiplyString str n = concat (replicate n str)\n",
    "\n",
    "tf2String :: TimeFrame -> String\n",
    "tf2String (TimeFrame x y) =    multiplyString \" \" x  ++   multiplyString \"*\" (y-x)\n",
    "\n",
    "strCase :: [(String,TimeFrame)] -> String\n",
    "strCase  = concatMap ((\\x -> tf2String x ++\"\\n\"). snd) \n",
    "\n",
    "showCase ::  [(String, TimeFrame)] -> Doc ann\n",
    "showCase  = pretty . strCase\n",
    "\n",
    "\n",
    "import Data.List\n",
    "import Data.List.Split\n",
    "\n",
    "showListOfProcs ::  [[(String,TimeFrame)]] ->  IO()\n",
    "showListOfProcs lst = putStrLn $ intercalate \"\\n ------- \\n\" (map  strCase  lst)\n",
    "\n",
    "------------create Asoc Table"
   ]
  },
  {
   "cell_type": "code",
   "execution_count": 4,
   "id": "79b9804a",
   "metadata": {},
   "outputs": [
    {
     "data": {
      "text/plain": [
       "[[TimeFrame 1 2,TimeFrame 3 4],[TimeFrame 3 4],[TimeFrame 1 4],[TimeFrame 2 3,TimeFrame 1 4],[TimeFrame 2 4],[TimeFrame 1 3,TimeFrame 2 4],[],[TimeFrame 3 4],[],[],[TimeFrame 2 4],[TimeFrame 2 3],[TimeFrame 2 3],[TimeFrame 1 4,TimeFrame 2 3],[TimeFrame 1 2],[TimeFrame 1 3],[TimeFrame 2 4,TimeFrame 1 3],[],[],[TimeFrame 1 4],[TimeFrame 1 3],[TimeFrame 1 2],[TimeFrame 3 4,TimeFrame 1 2],[]]"
      ]
     },
     "metadata": {},
     "output_type": "display_data"
    }
   ],
   "source": [
    "import Data.List (permutations)\n",
    "--import Prettyprinter\n",
    "import Data.Maybe \n",
    "\n",
    "split :: [a]->[(a,a)]\n",
    "split x = zip [x!! y| y<- evens] [x!! y| y<-odds] \n",
    "     where \n",
    "       len   =   length x \n",
    "       odds  =  [1,3.. len]\n",
    "       evens =  [0,2.. len]\n",
    "\n",
    "\n",
    "lst2TimeFrames :: [(Int,Int)] -> [TimeFrame]\n",
    "lst2TimeFrames  =  f3 . f2 . f1 \n",
    "    where \n",
    "            f1 = map (uncurry safeMkTimeFrame) \n",
    "            f2 = filter isJust \n",
    "            f3 = map fromJust\n",
    "\n",
    "\n",
    "myList = [1, 2, 3,4]\n",
    "permutedLists = permutations myList\n",
    "\n",
    "aa =  map (lst2TimeFrames . split) permutedLists\n",
    "\n",
    "aa"
   ]
  },
  {
   "cell_type": "code",
   "execution_count": 5,
   "id": "54704b80",
   "metadata": {},
   "outputs": [],
   "source": [
    "-- mkAssocTable :: TimeFrame -> [[string ,TimeFrame ]]\n",
    "\n",
    "mkAssocTable tf =   filter (\\x-> length x == procLstLength tf)  $ map (zip (getvars tf) . lst2TimeFrames. split)  (permLst tf) \n",
    "        where \n",
    "          procLstLength   = length . getvars\n",
    "          permLst   tf    = permutations [1..procLstLength tf *2]\n",
    "\n",
    "findResults :: ProcessOper -> [[(String,TimeFrame)]] \n",
    "findResults p = filter (`eval` p ) (mkAssocTable p)\n",
    "\n",
    "--mkAssocTable p1\n",
    "--getvars p1"
   ]
  },
  {
   "cell_type": "code",
   "execution_count": 6,
   "id": "48017bf3",
   "metadata": {},
   "outputs": [
    {
     "data": {
      "text/plain": [
       " *\n",
       "   *\n",
       "     *"
      ]
     },
     "metadata": {},
     "output_type": "display_data"
    },
    {
     "data": {
      "text/plain": [
       "False"
      ]
     },
     "metadata": {},
     "output_type": "display_data"
    }
   ],
   "source": [
    "assocTableCase = [(\"procesA\",TimeFrame 1 2),(\"procesB\",TimeFrame 3 4),(\"procesC\",TimeFrame 5 6)]\n",
    "\n",
    "p1 :: ProcessOper\n",
    "p1 = And ( StartsAfter (Proc \"procesB\") (Proc \"procesA\")) \n",
    "         ( Overlap     (Proc \"procesA\") (Proc \"procesC\")) \n",
    "         \n",
    "         \n",
    "showCase assocTableCase             \n",
    "eval assocTableCase p1"
   ]
  },
  {
   "cell_type": "code",
   "execution_count": 7,
   "id": "cc67bde6",
   "metadata": {},
   "outputs": [
    {
     "data": {
      "text/plain": [
       "   *\n",
       "  ***\n",
       " *****\n",
       "\n",
       " ------- \n",
       "  ***\n",
       "   *\n",
       " *****\n",
       "\n",
       " ------- \n",
       "  *\n",
       "    *\n",
       " *****\n",
       "\n",
       " ------- \n",
       "   **\n",
       "  **\n",
       " *****\n",
       "\n",
       " ------- \n",
       "  **\n",
       "   **\n",
       " *****"
      ]
     },
     "metadata": {},
     "output_type": "display_data"
    }
   ],
   "source": [
    "--- Testing \n",
    "\n",
    "p1 :: ProcessOper\n",
    "p1 = And ( StartsAfter (Proc \"procesA\") (Proc \"procesB\")) \n",
    "         ( Overlap     (Proc \"procesB\") (Proc \"procesC\"))\n",
    "\n",
    "p2 :: ProcessOper\n",
    "p2 = StartsAfter (Proc \"procesA\") (Proc \"procesC\")\n",
    "\n",
    "p3 :: ProcessOper\n",
    "p3 = Or p1 p2\n",
    "    \n",
    "\n",
    "(showListOfProcs . take 5 .findResults) p3\n",
    "\n"
   ]
  },
  {
   "cell_type": "markdown",
   "id": "911c3442",
   "metadata": {},
   "source": [
    "-----------"
   ]
  },
  {
   "cell_type": "code",
   "execution_count": 8,
   "id": "1db1f449",
   "metadata": {},
   "outputs": [
    {
     "data": {
      "text/plain": [
       "[(procesA, TF( 3 4 )), (procesB, TF( 2 5 )), (procesC, TF( 1 6 ))]"
      ]
     },
     "metadata": {},
     "output_type": "display_data"
    }
   ],
   "source": [
    "import Data.Text.Prettyprint.Doc\n",
    "\n",
    "data TimeFrame = TimeFrame Int Int deriving (Show, Read)\n",
    "\n",
    "instance Pretty TimeFrame where\n",
    "    pretty (TimeFrame start end) = pretty \"TF(\" <+> pretty start <+>  pretty end <+> pretty \")\"\n",
    "\n",
    "\n",
    "t =  TimeFrame 10 20\n",
    "pretty [(\"procesA\",TimeFrame 3 4),(\"procesB\",TimeFrame 2 5),(\"procesC\",TimeFrame 1 6)]"
   ]
  }
 ],
 "metadata": {
  "kernelspec": {
   "display_name": "Haskell",
   "language": "haskell",
   "name": "haskell"
  },
  "language_info": {
   "codemirror_mode": "ihaskell",
   "file_extension": ".hs",
   "mimetype": "text/x-haskell",
   "name": "haskell",
   "pygments_lexer": "Haskell",
   "version": "9.4.5"
  }
 },
 "nbformat": 4,
 "nbformat_minor": 5
}
