{
 "cells": [
  {
   "cell_type": "markdown",
   "id": "b9effcd9",
   "metadata": {},
   "source": [
    "------------"
   ]
  },
  {
   "cell_type": "code",
   "execution_count": null,
   "id": "44ac3c10",
   "metadata": {},
   "outputs": [
    {
     "data": {
      "text/plain": [
       "Resolving dependencies...\n",
       "Build profile: -w ghc-9.4.5 -O1\n",
       "In order, the following will be built (use -v for more details):\n",
       " - boxes-0.1.5 (lib) (requires download & build)\n",
       " - generic-deriving-1.14.5 (lib) (requires download & build)\n",
       " - syb-0.7.2.4 (lib) (requires download & build)\n",
       " - pptable-0.3.0.0 (lib) (requires download & build)\n",
       "Downloading  boxes-0.1.5\n",
       "Downloaded   boxes-0.1.5\n",
       "Downloading  syb-0.7.2.4\n",
       "Starting     boxes-0.1.5 (lib)\n",
       "Downloaded   syb-0.7.2.4\n",
       "Downloading  generic-deriving-1.14.5\n",
       "Downloaded   generic-deriving-1.14.5\n",
       "Downloading  pptable-0.3.0.0\n",
       "Starting     generic-deriving-1.14.5 (lib)\n",
       "Downloaded   pptable-0.3.0.0\n",
       "Building     boxes-0.1.5 (lib)\n",
       "Building     generic-deriving-1.14.5 (lib)\n",
       "Installing   boxes-0.1.5 (lib)\n",
       "Completed    boxes-0.1.5 (lib)\n",
       "Starting     syb-0.7.2.4 (lib)\n",
       "Building     syb-0.7.2.4 (lib)\n",
       "Installing   syb-0.7.2.4 (lib)\n",
       "Completed    syb-0.7.2.4 (lib)\n",
       "Installing   generic-deriving-1.14.5 (lib)\n",
       "Completed    generic-deriving-1.14.5 (lib)\n",
       "Starting     pptable-0.3.0.0 (lib)\n",
       "Building     pptable-0.3.0.0 (lib)\n",
       "Installing   pptable-0.3.0.0 (lib)\n",
       "Completed    pptable-0.3.0.0 (lib)"
      ]
     },
     "metadata": {},
     "output_type": "display_data"
    },
    {
     "data": {
      "text/plain": [
       "Resolving dependencies...\n",
       "Up to date"
      ]
     },
     "metadata": {},
     "output_type": "display_data"
    },
    {
     "data": {
      "text/plain": [
       "Resolving dependencies...\n",
       "Up to date"
      ]
     },
     "metadata": {},
     "output_type": "display_data"
    }
   ],
   "source": [
    ":!cabal install --lib pptable\n",
    ":!cabal install --lib vector\n",
    ":!cabal install --lib pretty"
   ]
  },
  {
   "cell_type": "code",
   "execution_count": 1,
   "id": "8d2d2041",
   "metadata": {},
   "outputs": [],
   "source": [
    "{-# LANGUAGE OverloadedStrings #-}\n",
    "\n",
    "import Data.Aeson\n",
    "import qualified Data.ByteString.Lazy as B\n",
    "import Data.Text.Prettyprint.Doc\n",
    "\n",
    "-- Define a data type to represent the structure of the JSON\n",
    "data Location = Location\n",
    "  { database:: String\n",
    "  , dbdesc:: String\n",
    "  , host:: String\n",
    "  , loc_name :: String\n",
    "  , loc_class :: String\n",
    "  , loc_directory :: String\n",
    "  , loc_remote_node :: String\n",
    "  , loc_remote_login :: String\n",
    "  , loc_remote_pwd :: String\n",
    "  , loc_remote_port :: Int\n",
    "  , loc_db_name :: String\n",
    "  , loc_db_user :: String\n",
    "  , loc_description :: String\n",
    "  } deriving (Show)\n",
    "\n",
    "instance Pretty Location where\n",
    "  pretty loc =\n",
    "    vsep\n",
    "      [ \"Location {\"\n",
    "      , indent 2 (\"database = \" <> pretty (database loc))\n",
    "      , indent 2 (\"dbdesc = \" <> pretty (dbdesc loc))\n",
    "      , indent 2 (\"host = \" <> pretty (host loc))   \n",
    "      , indent 2 (\"loc_name = \" <> pretty (loc_name loc))\n",
    "      , indent 2 (\"loc_class = \" <> pretty (loc_class loc))\n",
    "      , indent 2 (\"loc_directory = \" <> pretty (loc_directory loc))\n",
    "      , indent 2 (\"loc_remote_node = \" <> pretty (loc_remote_node loc))\n",
    "      , indent 2 (\"loc_remote_login = \" <> pretty (loc_remote_login loc))\n",
    "      , indent 2 (\"loc_remote_pwd = \" <> pretty (loc_remote_pwd loc))\n",
    "      , indent 2 (\"loc_remote_port = \" <> pretty (loc_remote_port loc))\n",
    "      , indent 2 (\"loc_db_name = \" <> pretty (loc_db_name loc))\n",
    "      , indent 2 (\"loc_db_user = \" <> pretty (loc_db_user loc))\n",
    "      , indent 2 (\"loc_description = \" <> pretty (loc_description loc))\n",
    "      , \"}\"\n",
    "      ]\n",
    "\n",
    "-- Define an instance to decode JSON into the Location data type\n",
    "instance FromJSON Location where\n",
    "  parseJSON = withObject \"Location\" $ \\v -> Location  \n",
    "    <$> v .: \"database\"\n",
    "    <*> v .: \"dbdesc\"\n",
    "    <*> v .: \"host\"\n",
    "    <*> v .: \"loc_name\"\n",
    "    <*> v .: \"loc_class\"\n",
    "    <*> v .: \"loc_directory\"\n",
    "    <*> v .: \"loc_remote_node\"\n",
    "    <*> v .: \"loc_remote_login\"\n",
    "    <*> v .: \"loc_remote_pwd\"\n",
    "    <*> v .: \"loc_remote_port\"\n",
    "    <*> v .: \"loc_db_name\"\n",
    "    <*> v .: \"loc_db_user\"\n",
    "    <*> v .: \"loc_description\""
   ]
  },
  {
   "cell_type": "code",
   "execution_count": 2,
   "id": "b2167e6c",
   "metadata": {},
   "outputs": [],
   "source": [
    "data Location' = Location'\n",
    "  { database':: String\n",
    "  , dbdesc':: String\n",
    "  , host':: String\n",
    "  , loc_name' :: String\n",
    "  , loc_class' :: String\n",
    "  , loc_directory'::String\n",
    "  , loc_remote_node' :: String  -- agent used \n",
    "  , loc_remote_login' :: String -- user agent \n",
    "  , loc_remote_port' :: String     -- agent port\n",
    "  , loc_db_user' :: String\n",
    "  , loc_description' :: String\n",
    "  , db_node_name :: String      -- infra location where data is stored\n",
    "  , db_instance :: String  -- logical locaton\n",
    "  } deriving (Show)\n",
    "  \n",
    "instance Pretty Location' where\n",
    "  pretty loc =\n",
    "    vsep\n",
    "      [ \"Location {\"\n",
    "      , indent 2 (\"database         = \" <> pretty (database' loc))\n",
    "      , indent 2 (\"dbdesc           = \" <> pretty (dbdesc' loc))\n",
    "      , indent 2 (\"host             = \" <> pretty (host' loc))   \n",
    "      , indent 2 (\"loc_class        = \" <> pretty (loc_class' loc))\n",
    "      , indent 3 (\"loc_name         = \" <> pretty (loc_name' loc))\n",
    "      , indent 3 (\"loc_directory    = \" <> pretty (loc_directory' loc))     \n",
    "      , indent 3 (\"loc_remote_node  = \" <> pretty (loc_remote_node' loc))\n",
    "      , indent 3 (\"loc_remote_login = \" <> pretty (loc_remote_login' loc))\n",
    "      , indent 3 (\"loc_remote_port  = \" <> pretty (loc_remote_port' loc))\n",
    "      , indent 3 (\"loc_db_user      = \" <> pretty (loc_db_user' loc))\n",
    "      , indent 3 (\"loc_description  = \" <> pretty (loc_description' loc))\n",
    "      , indent 3 (\"db_node_name     = \" <> pretty (db_node_name loc))\n",
    "      , indent 3 (\"db_instance      = \" <> pretty (db_instance loc))\n",
    "      , \"}\"\n",
    "      ]  "
   ]
  },
  {
   "cell_type": "code",
   "execution_count": 3,
   "id": "6caaa951",
   "metadata": {},
   "outputs": [],
   "source": [
    "loc2Location :: Location -> String -> [String] -> Location'\n",
    "loc2Location x classSuffix [db_user,node_name,db_instance] = \n",
    "                              Location' {  database'= database x\n",
    "                                         , dbdesc'= dbdesc x\n",
    "                                         , host'=  host x\n",
    "                                         , loc_name'  = loc_name x \n",
    "                                         , loc_class' = loc_class x ++ classSuffix\n",
    "                                         , loc_directory' = loc_directory x\n",
    "                                         , loc_remote_node'  = loc_remote_node x\n",
    "                                         , loc_remote_login' = loc_remote_login x\n",
    "                                         , loc_remote_port'  = show (loc_remote_port x)\n",
    "                                         , loc_db_user'      = db_user                  ---- is it agent user or db user?\n",
    "                                         , loc_description'  = loc_description x\n",
    "                                         , db_node_name      = node_name\n",
    "                                         , db_instance       = db_instance\n",
    "                                         }\n",
    "                                         "
   ]
  },
  {
   "cell_type": "code",
   "execution_count": null,
   "id": "b1e5d042",
   "metadata": {},
   "outputs": [],
   "source": [
    "import Data.Aeson\n",
    "import qualified Data.Vector as V\n",
    "import Data.List (intercalate)\n",
    "import Data.Text (Text, unpack)\n",
    "import Data.List.Split (splitOn)\n",
    "import qualified Data.ByteString.Lazy.Char8 as LBS\n",
    "\n",
    "valueFromString :: LBS.ByteString -> Maybe Value\n",
    "valueFromString  s = decode  s :: Maybe Value\n",
    "\n",
    "unjust :: Maybe a -> a\n",
    "unjust (Just a) = a\n",
    "\n",
    "strfromString :: Value -> String\n",
    "strfromString (String x) = unpack  x\n",
    "\n",
    "unArray :: Value -> [Value]\n",
    "unArray (Array x )  = V.toList x\n",
    "\n",
    "unString :: [Value] -> [String]\n",
    "unString  [String x , String y] = [unpack  x, unpack y]\n",
    "unString  [String x , Array y]  = [unpack  x , listFromArray (Array y) ]\n",
    "\n",
    "listFromArray    = intercalate \";\" . map strfromString . unArray\n",
    "\n",
    "getKafkaString   = LBS.pack . last . splitOn \"=\"\n",
    "\n",
    "parseKafkaString = map(unString . unArray) . unArray . unjust . valueFromString \n",
    "\n",
    "getval :: String -> [[String]] -> String\n",
    "getval key records =\n",
    "    case filter (\\[k, _] -> k == key) records of\n",
    "        [] -> \"\"  -- Return an empty string when no match is found\n",
    "        [[_, value]] -> value\n",
    "        _ -> error \"Multiple matches found\"  -- Handle this case as needed\n",
    "\n",
    "getvals :: [String] -> [[String]] -> [String]\n",
    "getvals keys lst  = map (`getval` lst) keys\n",
    "\n",
    "parseKafka = getvals [\"urls\",\"ssl_key\"] . parseKafkaString . getKafkaString"
   ]
  },
  {
   "cell_type": "code",
   "execution_count": null,
   "id": "bacbe450",
   "metadata": {},
   "outputs": [],
   "source": [
    "-- Oracle parse\n",
    "\n",
    "safehead::[String] -> String\n",
    "safehead [] = \"\"\n",
    "safehead (x:xs) =  x\n",
    "\n",
    "getOraNode::[String] -> String\n",
    "getOraNode = last .splitOn \"@\" . safehead . tail . reverse\n",
    "\n",
    "-- data quality \n",
    "oraPatterFx :: [String]->[String]\n",
    "oraPatterFx x | length x == 1 =[head x ,\"@Not Found\",\"NotFound\"]\n",
    "     | otherwise = x\n",
    "\n",
    "\n",
    "getOracle :: Location  -> [String]\n",
    "getOracle  =  (\\x-> map ($ x) [head, getOraNode,last]). oraPatterFx .splitOn \"/\" . loc_db_user"
   ]
  },
  {
   "cell_type": "code",
   "execution_count": null,
   "id": "a067e738",
   "metadata": {},
   "outputs": [],
   "source": [
    "import Text.Read (readMaybe) \n",
    "import Data.Maybe (fromMaybe )\n",
    "import Data.List.Split (splitOn)\n",
    "import Data.List (intercalate)\n",
    "\n",
    "parseRedshift :: Location  ->[String]\n",
    "parseRedshift l  = getUSer l : (concat . filterCols . fromMaybe []. parseJson .  getJsonStr)  l  \n",
    "   where\n",
    "       getJsonStr  = drop 1 . dropWhile (/= '=') . loc_db_name  -- get loc_db_name and return string after first '='\n",
    "       parseJson s = readMaybe s :: Maybe [[String]]            -- parse to list\n",
    "       filterCols  = map tail .  filter (\\[k, _] -> k `elem` [\"db_node\", \"db_name\"])\n",
    "       getUSer = head . splitOn \"/\" . loc_db_user \n",
    "              \n",
    "parseLoc :: Location  -> Location'\n",
    "parseLoc l\n",
    "    | loc_class l == \"redshift\"   = loc2Location l \"\"  $ parseRedshift l\n",
    "    | loc_class l == \"file\" && ((head . loc_directory)   l  == '/'    )  = loc2Location l \"_locdir\"  [loc_remote_login  l ,loc_remote_node l, loc_directory l]\n",
    "    | loc_class l == \"file\" && ((take 4 . loc_directory) l  == \"s3s:\" )  = loc2Location l \"_s3s\" [\"###\",getBacket l ,getPrefix l]\n",
    "    | loc_class l == \"file\" && ((take 5 . loc_directory) l  == \"sftp:\")  = loc2Location l \"_sftp\" [\"###\",getBacket l ,getsftpFolder l]\n",
    "    | loc_class l `elem` [\"mysql\",\"greenplum\",\"postgresql\"]              = loc2Location l \"\"   [ getUserMysql l , getNodeMysql l, getInstMysql l]\n",
    "    | loc_class l == \"sqlserver\"    = loc2Location l \"\"   [getUserMsSql l, getNodeMsSql l,getInstMsSql l ]   \n",
    "    | loc_class l == \"teradata\"     = loc2Location l \"\"   [getUserTd l, loc_db_name l,loc_db_name l ] \n",
    "    | loc_class l == \"salesforce\"   = loc2Location l \"\"   [getUserSf l, getNodeSf l,getInstSf l ] \n",
    "    | loc_class l == \"kafka\"        = loc2Location l \"\"   (getKafka  l)\n",
    "    | loc_class l == \"oracle\"       = loc2Location l \"\"   (getOracle l)\n",
    "    | otherwise   = loc2Location l \"\"  [\"###\",\"###\",\"###\"]   \n",
    "    where \n",
    "    getBacket = head . splitOn \"/\" . last. splitOn \"@\" .loc_directory\n",
    "    getPrefix =  intercalate  \"/\" .tail . splitOn \"/\" . last. splitOn \"@\" .loc_directory\n",
    "    getsftpNode   = getBacket\n",
    "    getsftpFolder =  getPrefix\n",
    "    --\n",
    "    getNodeMysql  =  head . splitOn \"~\" . loc_db_name\n",
    "    getInstMysql  =  last . splitOn \"~\" . loc_db_name\n",
    "    getUserMysql  =  head . splitOn \"/\" . loc_db_user\n",
    "    --\n",
    "    getNodeMsSql  =  head . splitOn \"\\\\\" . loc_db_name\n",
    "    getInstMsSql  =  last . splitOn \"\\\\\" . loc_db_name\n",
    "    getUserMsSql  =  getUserMysql\n",
    "    --\n",
    "    getUserTd     =  getUserMysql\n",
    "    --\n",
    "    getNodeSf     = last .splitOn \"//\" . loc_directory\n",
    "    getInstSf     = last .splitOn \"@\" . head . splitOn \"/\" . loc_db_user\n",
    "    getUserSf     = head .splitOn \"@\" . head . splitOn \"/\" . loc_db_user\n",
    "    --\n",
    "    getKafka      = getvals [\"ssl_key\",\"urls\",\"dummy\"] . parseKafkaString . getKafkaString. loc_db_name\n",
    "    "
   ]
  },
  {
   "cell_type": "markdown",
   "id": "f18387e2",
   "metadata": {},
   "source": [
    "let kafkaStr = \"JSON=[[\\\"urls\\\",[\\\"b-1.us-dev-msk-cluster.x8853p.c1.kafka.us-east-1.amazonaws.com:9094\\\",\\\"b-2.us-dev-msk-cluster.x8853p.c1.kafka.us-east-1.amazonaws.com:9094\\\",\\\"b-3.us-dev-msk-cluster.x8853p.c1.kafka.us-east-1.amazonaws.com:9094\\\"]],[\\\"broker_ca\\\",\\\"/data/kafka_certs/MSKPOCKey.pem\\\"],[\\\"ssl_cert\\\",\\\"/data/kafka_devcerts/kafka/signed-certificate-from-acm\\\"],[\\\"ssl_key\\\",\\\"/data/kafka_devcerts/kafka/key.pem\\\"],[\\\"ssl_key_pwd\\\",\\\"!{Itbo2aix.D3x7/Yp}!\\\"]]\"\n",
    "\n",
    "\n",
    "parseKafka kafkaStr"
   ]
  },
  {
   "cell_type": "markdown",
   "id": "92b80269",
   "metadata": {},
   "source": [
    "------------"
   ]
  },
  {
   "cell_type": "markdown",
   "id": "c27ba71f",
   "metadata": {},
   "source": [
    "(last . splitOn \"=\" . loc_db_name )  $ lll!!1\n",
    "(last . splitOn \"=\" . loc_db_name )  $ ll!!1"
   ]
  },
  {
   "cell_type": "markdown",
   "id": "36f6128e",
   "metadata": {},
   "source": [
    "## Read Data"
   ]
  },
  {
   "cell_type": "code",
   "execution_count": null,
   "id": "adf2e4e1",
   "metadata": {},
   "outputs": [
    {
     "data": {
      "text/plain": [
       "2596"
      ]
     },
     "metadata": {},
     "output_type": "display_data"
    }
   ],
   "source": [
    "import Data.Either\n",
    "\n",
    "\n",
    "-- Read JSON data from the file\n",
    "jsonData <- B.readFile \"data2.json\"\n",
    "  \n",
    "-- Parse JSON using eitherDecode function\n",
    "let parsedData = eitherDecode jsonData :: Either String [Location]\n",
    "\n",
    "l = fromRight [] parsedData\n",
    "length l"
   ]
  },
  {
   "cell_type": "code",
   "execution_count": 6,
   "id": "7ec62705",
   "metadata": {
    "scrolled": true
   },
   "outputs": [
    {
     "data": {
      "text/plain": [
       "Location {database = \"ushvr12\", dbdesc = \"dev\", host = \"odp-us-innovation-postgres-db.cxzrm3enxxmy.us-east-1.rds.amazonaws.com\", loc_name = \"sedhp\", loc_class = \"oracle\", loc_directory = \"/u01/app/oracle/product/19.3.0.0/dbee_1\", loc_remote_node = \"ora-mke2-scanp.am.health.ge.com\", loc_remote_login = \"gehc_hvr5\", loc_remote_pwd = \"\", loc_remote_port = 4344, loc_db_name = \"\", loc_db_user = \"PLANT_USER_ODP/!{r/2axxMra/8grrk/}!@ora-mke2-scanp.am.health.ge.com:1521/prd1mes\", loc_description = \"scdhp connection\"}"
      ]
     },
     "metadata": {},
     "output_type": "display_data"
    }
   ],
   "source": [
    "l!!2"
   ]
  },
  {
   "cell_type": "markdown",
   "id": "34847cd2",
   "metadata": {},
   "source": [
    "## Parse Data"
   ]
  },
  {
   "cell_type": "code",
   "execution_count": null,
   "id": "2d9995b9",
   "metadata": {},
   "outputs": [
    {
     "data": {
      "text/plain": [
       "2596"
      ]
     },
     "metadata": {},
     "output_type": "display_data"
    }
   ],
   "source": [
    "l' = map  parseLoc l\n",
    "length l'"
   ]
  },
  {
   "cell_type": "markdown",
   "id": "c3dcb1f1",
   "metadata": {
    "scrolled": false
   },
   "source": [
    "-- helper function to get \n",
    "ll =  filter (\\x ->  loc_class x  == \"oracle\" ) l\n",
    "lll =  filter (\\x ->  loc_class' x  == \"oracle\" ) l'\n",
    "map pretty   (take 40 lll)"
   ]
  },
  {
   "cell_type": "code",
   "execution_count": 148,
   "id": "c5e0601c",
   "metadata": {
    "scrolled": false
   },
   "outputs": [
    {
     "data": {
      "text/plain": [
       "                                                                                                                                      \n",
       "@localhosttns                                                                                                                         \n",
       "HVR_RO/!{yYDHop7YQaeAtZzE}!@prd1aiq.c67zpurmgqn7.us-east-1.rds.amazonaws.com:1521/prd1aiq                                             \n",
       "PLANT_USER_ODP/!{r/2axxMra/8grrk/}!@ora-mke2-scanp.am.health.ge.com:1521/prd1mes                                                      \n",
       "gehc_hvr/!{If/T4sAYqjaR2iUm}!@cgehedp2-scan.am.health.ge.com:1525/ebs_prdvcp                                                          \n",
       "gevcp_view/!{WdJy4HgoWvIZAeY8}!@agehedd2-scan.am.health.ge.com:1525/ebs_devvcp                                                        \n",
       "hchvrodp/!{/KSo/OBrXqGqNGVrrq2XJZFR}!@/                                                                                               \n",
       "hchvrodp/!{3IB5rzN9kqoHuJNv}!@/##hchvrodp/!{3IB5rzN9kqoHuJNv}!@glbp-scan.am.health.ge.com:1525/ebs_glprod                             \n",
       "hchvrodp/!{9WAh/mvXd0.jNuLXx0KuJBb7}!@/##hchvrodp/!{9WAh/mvXd0.jNuLXx0KuJBb7}!@cgehedq2-scan.am.health.ge.com:1525/ebs_itest          \n",
       "hchvrodp/!{LMxlxZ/42QIXwjN2ZCptIHly}!@glbrep-scan.am.health.ge.com:1525/glprod                                                        \n",
       "hvr_ro/!{05CLtLA2U3f6o5uk}!@prd1aiq.c67zpurmgqn7.us-east-1.rds.amazonaws.com:1521/prd1aiq"
      ]
     },
     "metadata": {},
     "output_type": "display_data"
    }
   ],
   "source": [
    "-- oracle\n",
    "\n",
    "import Data.List (sort)\n",
    "import Data.List.Split (splitOn)\n",
    "\n",
    "--x = (sort. nub . map loc_db_user)  (take 10 ll)\n",
    "x = (sort. nub . map loc_db_user)  (take 10 ll)\n",
    "data Table  =  Table String String String deriving ( Data, G.Generic, Show)\n",
    "instance T.Tabulate Table T.ExpandWhenNested\n",
    "\n",
    "toTable::String -> Table\n",
    "toTable  x  = Table x \"\" \"\"\n",
    "\n",
    "\n",
    "\n",
    "(T.printTable . map toTable ) x"
   ]
  },
  {
   "cell_type": "code",
   "execution_count": 162,
   "id": "056e39fa",
   "metadata": {},
   "outputs": [],
   "source": [
    "safehead::[String] -> String\n",
    "safehead [] = \"\"\n",
    "safehead (x:xs) =  x\n",
    "\n",
    "getOraNode::[String] -> String\n",
    "getOraNode = last .splitOn \"@\" . safehead . tail . reverse\n",
    "\n",
    "-- data quality \n",
    "oraPatterFx :: [String]->[String]\n",
    "oraPatterFx x | length x == 1 =[head x ,\"@Not Found\",\"NotFound\"]\n",
    "     | otherwise = x\n",
    "\n",
    "getOracle :: String -> [String]\n",
    "getOracle  =  (\\x-> map ($ x) [head, getOraNode,last]). oraPatterFx .splitOn \"/\" --. loc_db_user\n"
   ]
  },
  {
   "cell_type": "code",
   "execution_count": 163,
   "id": "30b63817",
   "metadata": {},
   "outputs": [],
   "source": [
    "data Table  =  Table String String String deriving ( Data, G.Generic, Show)\n",
    "instance T.Tabulate Table T.ExpandWhenNested\n",
    "\n",
    "toTable::[String] -> Table\n",
    "toTable  [x,y,z]  = Table x y z"
   ]
  },
  {
   "cell_type": "code",
   "execution_count": 164,
   "id": "7803769d",
   "metadata": {
    "scrolled": false
   },
   "outputs": [
    {
     "data": {
      "text/plain": [
       "                                                                                                                           \n",
       "                              Not Found                                                        NotFound                    \n",
       "502816858                     agehscq1-c1-scan.am.health.ge.com:1525                           TST17SAL                    \n",
       "502816858                     agehscq1-c1-scan.am.health.ge.com:1525                           CRP17SAL                    \n",
       "502816858                     agehscq1-c1-scan.am.health.ge.com:1525                           DEV17SAL                    \n",
       "502816858                     agehscq1-c1-scan.am.health.ge.com:1525                           CRP17SAL                    \n",
       "502816858                     agehscq1-c1-scan.am.health.ge.com:1525                           TST17SAL                    \n",
       "502816858                     agehscq1-c1-scan.am.health.ge.com:1525                           DR27SAL                     \n",
       "502816858                     agehscq1-c1-scan.am.health.ge.com:1525                           DR27SAL                     \n",
       "502816858                     agehscq1-c1-scan.am.health.ge.com:1525                           CRP17SAL                    \n",
       "502816858                     agehscq1-c1-scan.am.health.ge.com:1525                           CRP17SAL                    \n",
       "502816858                     agehscq1-c1-scan.am.health.ge.com:1525                           TST17SAL                    \n",
       "502816858                     agehscq1-c1-scan.am.health.ge.com:1525                           CRP17SAL_READ               \n",
       "502816858                     agehscq1-c1-scan.am.health.ge.com:1525                           TST17SAL                    \n",
       "502816858                     agehscq1-c1-scan.am.health.ge.com:1525                           DEV17SAL                    \n",
       "502816858                     agehscq1-c1-scan.am.health.ge.com:1525                           DR27SAL                     \n",
       "502816859                     agehscq1-c1-scan.am.health.ge.com:1525                           stgipsvc                    \n",
       "502816859                     agehscq1-c1-scan.am.health.ge.com:1525                           DR2IPSVC                    \n",
       "502816859                     agehscq1db0104-vip.am.health.ge.com:33012                        PRDIPSVC_READ               \n",
       "502816859                     agehscq1-c1-scan.am.health.ge.com:1525                           TSTIPSVC                    \n",
       "502816859                     agehscq1-c1-scan.am.health.ge.com:1525                           TSTIPSVC                    \n",
       "502816859                     agehscq1-c1-scan.am.health.ge.com:1525                           DEVIPSVC                    \n",
       "502816859                     agehscq1-c1-scan.am.health.ge.com:1525                           CRP3SVC                     \n",
       "502816859                     agehscq1-c1-scan.am.health.ge.com:1525                           CRPIPSVC                    \n",
       "502816859                     agehscq1-c1-scan.am.health.ge.com:1525                           CRPIPSVC                    \n",
       "502816859                     agehscq1-c1-scan.am.health.ge.com:1525                           DR2IPSVC                    \n",
       "502816859                     agehscq1-c1-scan.am.health.ge.com:1525                           TSTIPSVC                    \n",
       "502816859                     agehscq1-c1-scan.am.health.ge.com:1525                           TSTIPSVC                    \n",
       "502816859                     agehscq1-c1-scan.am.health.ge.com:1525                           TSTIPSVC                    \n",
       "502816859                     agehscq1-c1-scan.am.health.ge.com:1525                           DR2IPSVC                    \n",
       "502816859                     agehscq1-c1-scan.am.health.ge.com:1525                           CRPIPSVC_READ               \n",
       "@                             h16698-1.cloud.health.ge.com:1521                                prd9eam                     \n",
       "@localhosttns                 Not Found                                                        NotFound                    \n",
       "AEGIS_PROD_HVR                prd1agrp.c67zpurmgqn7.us-east-1.rds.amazonaws.com:1521           prd1agrp                    \n",
       "AEGIS_STG_HVR                 h7425-1.cloud.health.ge.com:1521                                 stg1agrp                    \n",
       "C\\#\\#502816858                gehcexa01np-ezp8t-scan.health.ge.com:1521                        TST17SAL                    \n",
       "C\\#\\#SBLHVR                   gehcexa01np-ezp8t-scan.health.ge.com:1521                        crp17sal                    \n",
       "C\\#\\#SBLHVR                   gehcexa01np-ezp8t-scan.health.ge.com:1521                        crp17sal                    \n",
       "DRMHUB_HVR_HC                 drmhub.finance.ge.com:1621                                       drmhub                      \n",
       "DRMHUB_HVR_HC                 drmhub.finance.ge.com:1621                                       drmhub                      \n",
       "DRMHUB_HVR_HC                 drmhub.finance.ge.com:1621                                       drmhub                      \n",
       "DRMHUB_HVR_HC                 drmhub.finance.ge.com:1621                                       drmhub                      \n",
       "DRMHUB_HVR_HC                 agecedd3-scan.corporate.ge.com:1525                              drmdhub                     \n",
       "DRMHUB_HVR_HC                 drmhub.finance.ge.com:1621                                       drmhub                      \n",
       "DRMHUB_HVR_HC                 dev.az-drm.finance.ge.com:1621                                   drmdhub                     \n",
       "DRMHUB_HVR_HC                 az-drm.finance.ge.com:1621                                       drmhub                      \n",
       "DRMHUB_HVR_HC                 drmhub.finance.ge.com:1621                                       drmhub                      \n",
       "DRMHUB_HVR_HC                 drmhub.finance.ge.com:1621                                       drmhub                      \n",
       "DRMHUB_HVR_HC                 drmhub.finance.ge.com:1621                                       drmhub                      \n",
       "DVM58NV_RO                    prd1sims.c67zpurmgqn7.us-east-1.rds.amazonaws.com:1521           prd1sims                    \n",
       "DVM58NV_RO                    prd2sims.c67zpurmgqn7.us-east-1.rds.amazonaws.com:1521           prd2sims                    \n",
       "GEHC_HCIT_BI_EXTRACTS         ora-twr21-scanp.am.health.ge.com:1521                            PRDFSCM                     \n",
       "GEHC_HCIT_BI_EXTRACTS         ora-twr15-scand.am.health.ge.com:1521                            brkfscm                     \n",
       "GEMS_PLANTUSER_ODP            ora-twr18-scand.am.health.ge.com:1521                            crp2mes                     \n",
       "GEMS_PLANTUSER_ODP            ora-mke2-scanp.am.health.ge.com:1521                             prd2mes                     \n",
       "GEMS_PLANTUSER_ODP            ora-twr20-scanp.am.health.ge.com:1521                            prd2mes                     \n",
       "GEMS_PLANTUSER_ODP            ora-alp18-scans.am.health.ge.com:1521                            stg2mes                     \n",
       "GEMS_PLANTUSER_ODP            ora-mke2-scanp.am.health.ge.com:1521                             prd2mes                     \n",
       "GEMS_PLANTUSER_ODP            ora-twr18-scand.am.health.ge.com:1521                            crp2mes                     \n",
       "GLOBALMETRICS                 prd3ast.cloo7pawgkle.us-east-1.rds.amazonaws.com:1521            prd3ast                     \n",
       "HCHVRODP                      cgehedp2-scan.am.health.ge.com:1525                              prdopsm                     \n",
       "HCHVRODP                      cgehedq2-scan.am.health.ge.com:1525                              stgopsm                     \n",
       "HCHVRODP                      cgehedq2-scan.am.health.ge.com:1525                              stgopsm                     \n",
       "HCHVRODP                      cgehedq2-scan.am.health.ge.com:1525                              tstopsm                     \n",
       "HVR_ING                       agehscq1-c1-scan.am.health.ge.com:1525                           CRP17SAL                    \n",
       "HVR_ING                       agehscq1-c1-scan:1525                                            CRP3SVC                     \n",
       "HVR_ODP                       stg1lfp.c67zpurmgqn7.us-east-1.rds.amazonaws.com:1521            STG1LFP                     \n",
       "HVR_ODP                       stg1lfp.c67zpurmgqn7.us-east-1.rds.amazonaws.com:1521            STG1LFP                     \n",
       "HVR_RO                        prd4rst.cyrjfxhr8xtf.us-east-1.rds.amazonaws.com:1521            prd4rst                     \n",
       "HVR_RO                        dev3rsv.ctep03iqvg1m.eu-west-1.rds.amazonaws.com:1521            dev3rsv                     \n",
       "HVR_RO                        dev2ins.cql4xdlaukob.us-east-1.rds.amazonaws.com:1521            dev2ins                     \n",
       "HVR_RO                        prd4rst.cyrjfxhr8xtf.us-east-1.rds.amazonaws.com:1521            prd4rst                     \n",
       "HVR_RO                        prd2rsp.ckkbg1h6mfsb.us-east-1.rds.amazonaws.com:1521            prd2rsp                     \n",
       "HVR_RO                        prd2asc.cryih7xck8lk.us-east-1.rds.amazonaws.com:1521            PRD2ASC                     \n",
       "HVR_RO                        prd1rst.c67zpurmgqn7.us-east-1.rds.amazonaws.com:1521            prd1rst                     \n",
       "HVR_RO                        dev3ast.cloo7pawgkle.us-east-1.rds.amazonaws.com:1521            dev3ast                     \n",
       "HVR_RO                        stg2rsp.ckkbg1h6mfsb.us-east-1.rds.amazonaws.com:1521            stg2rsp                     \n",
       "HVR_RO                        prd3ast.cloo7pawgkle.us-east-1.rds.amazonaws.com:1521            prd3ast                     \n",
       "HVR_RO                        dev2ins.cql4xdlaukob.us-east-1.rds.amazonaws.com:1521            dev2ins                     \n",
       "HVR_RO                        dev3asc.cfbra3ioo0rf.eu-west-1.rds.amazonaws.com:1521            DEV3ASC                     \n",
       "HVR_RO                        prd2elc.cloo7pawgkle.us-east-1.rds.amazonaws.com:1521            prd2elc                     \n",
       "HVR_RO                        10.65.168.36:1521                                                dev4rsp                     \n",
       "HVR_RO                        10.65.168.43:1521                                                prd4rsp                     \n",
       "HVR_RO                        10.65.168.42:1521                                                prd4asc                     \n",
       "HVR_RO                        dev2olc.cloo7pawgkle.us-east-1.rds.amazonaws.com:1521            dev2olc                     \n",
       "HVR_RO                        prd3rsp.ctep03iqvg1m.eu-west-1.rds.amazonaws.com:1521            PRD3RSP                     \n",
       "HVR_RO                        dev2ins.cql4xdlaukob.us-east-1.rds.amazonaws.com:1521            dev2ins                     \n",
       "HVR_RO                        dev4rst.cyrjfxhr8xtf.us-east-1.rds.amazonaws.com:1521            dev4rst                     \n",
       "HVR_RO                        prd4rst.cyrjfxhr8xtf.us-east-1.rds.amazonaws.com:1521            prd4rst                     \n",
       "HVR_RO                        prd1aiq.c67zpurmgqn7.us-east-1.rds.amazonaws.com:1521            prd1aiq                     \n",
       "INFOREAM_HVR9                 h16698-1.cloud.health.ge.com:1521                                prd9eam                     \n",
       "INSPLU_INT                    dev2ins.cql4xdlaukob.us-east-1.rds.amazonaws.com                 dev2ins                     \n",
       "LTR_RO                        prd1lbtr.c67zpurmgqn7.us-east-1.rds.amazonaws.com:1521           prd1lbtr                    \n",
       "MR_OPS                        stg4rst.cyrjfxhr8xtf.us-east-1.rds.amazonaws.com:1521            stg4rst                     \n",
       "MR_OPS                        stg4rst.cyrjfxhr8xtf.us-east-1.rds.amazonaws.com:1521            stg4rst                     \n",
       "MWS_HVR                       ora-alp1-scand.am.health.ge.com:1521                             DEVMWSS2                    \n",
       "MWS_HVR                       ora-alp1-scand.am.health.ge.com:1521                             devmwss2                    \n",
       "MWS_HVR                       ora-alp1-scand.am.health.ge.com:1521                             devmwss2                    \n",
       "ODP_HVR                       h16658-1.cloud.health.ge.com:1521                                stg3otm                     \n",
       "ODP_HVR                       h14647-1.cloud.health.ge.com:1521                                prd1myod                    \n",
       "ODP_HVR                       g14645-1.cloud.health.ge.com:1521                                stg1myod                    \n",
       "ODP_HVR                       h16678-1.cloud.health.ge.com:1521                                stg2myod                    \n",
       "ODP_HVR                       h16678-1.cloud.health.ge.com:1521                                stg2myod                    \n",
       "ODP_HVR                       ora-twr14-scanp.am.health.ge.com:1521                            prd1pcq                     \n",
       "ODP_HVR                       h16658-1.cloud.health.ge.com:1521                                stg3otm                     \n",
       "ODP_HVR                       h16694-1.cloud.health.ge.com:1521                                prd2myod                    \n",
       "ODP_HVR                       h16658-1.cloud.health.ge.com:1521                                stg3otm                     \n",
       "ODP_HVR                       h16678-1.cloud.health.ge.com:1521                                stg2myod                    \n",
       "ODP_HVR_PRD                   h16682-1.cloud.health.ge.com:1521                                prd2otm                     \n",
       "ODP_HVR_PRD                   h16682-1.cloud.health.ge.com:1521                                prd2otm                     \n",
       "OPTIONACTIVATION_PROD_HVR     prd1opta.c67zpurmgqn7.us-east-1.rds.amazonaws.com:1521           prd1opta                    \n",
       "OptionActivation_dev_HVR      dev1opta.c67zpurmgqn7.us-east-1.rds.amazonaws.com:1521           dev1opta                    \n",
       "PLANT_USER_ODP                ora-alp18-scans.am.health.ge.com:1521                            stg1mes                     \n",
       "PLANT_USER_ODP                ora-mke2-scanp.am.health.ge.com                                  prd1mes                     \n",
       "PLANT_USER_ODP                ora-twr20-scanp.am.health.ge.com:1521                            prd1mes                     \n",
       "PLANT_USER_ODP                ora-mke2-scanp.am.health.ge.com:1521                             prd1mes                     \n",
       "PLANT_USER_ODP                ora-mke2-scanp.am.health.ge.com:1521                             prd1mes                     \n",
       "PLANT_USER_ODP                ora-mke2-scanp.am.health.ge.com:1521                             prd1mes                     \n",
       "PMV_READ                      ora-twr14-scand.am.health.ge.com:1521                            dev4pmv                     \n",
       "PM_HVR                        ora-alp1-scand.am.health.ge.com:1521                             dev4pmv                     \n",
       "PM_HVR                        dev5pmv.c67zpurmgqn7.us-east-1.rds.amazonaws.com:1521            dev5pmv                     \n",
       "SPOTFIRE_RO                   prd1lvcl.c67zpurmgqn7.us-east-1.rds.amazonaws.com:1521           prd1lvcl                    \n",
       "SSO502824279                  prd2rgt.c67zpurmgqn7.us-east-1.rds.amazonaws.com                 prd2rgt                     \n",
       "SSO502824279                  66160-13975-1.cloud.health.ge.com:1521                           STG1RGTR                    \n",
       "TDS_GEHC_BIZ_USER_PROD        cinlnx209711.corporate.ge.com:1526                               gqdwp                       \n",
       "TDS_GEHC_BIZ_USER_PROD        cinlnx209711.corporate.ge.com:1526                               gqdwp                       \n",
       "TDS_GEHC_BIZ_USER_STG         cinlnx207898.corporate.ge.com:1526                               gqdws                       \n",
       "TDS_GEHC_BIZ_USER_STG         cinlnx207898.corporate.ge.com:1526                               gqdws                       \n",
       "UDI                           dev1udi.c67zpurmgqn7.us-east-1.rds.amazonaws.com:1521            DEV1UDI                     \n",
       "UDI_HVR                       prd1udi.c67zpurmgqn7.us-east-1.rds.amazonaws.com                 prd1udi                     \n",
       "UDI_HVR                       prd1udi.c67zpurmgqn7.us-east-1.rds.amazonaws.com                 prd1udi                     \n",
       "UDI_ODP                       prd1udi.c67zpurmgqn7.us-east-1.rds.amazonaws.com:1521            prd1udi                     \n",
       "UDI_ODP                       dev1udi.c67zpurmgqn7.us-east-1.rds.amazonaws.com:1521            DEV1UDI                     \n",
       "WFMRT_HC                      10.155.140.233:6680                                              wfmlp                       \n",
       "c\\#\\#502816858                gehcexa01pr-mksn4-scan.health.ge.com:1521                        prd17sal                    \n",
       "c\\#\\#502816858                gehcexa01pr-mksn4-scan.health.ge.com:1521                        prd17sal                    \n",
       "c\\#\\#502816858                gehcexa01np-ezp8t-scan.health.ge.com:1521                        TST17SAL                    \n",
       "c\\#\\#502816859                gehcexa01pr-mksn4-scan.health.ge.com:1521                        prdipsvc                    \n",
       "c\\#\\#502816859                gehcexa01np-ezp8t-scan.health.ge.com:1521                        TSTIPSVC                    \n",
       "c\\#\\#502816859                gehcexa01pr-mksn4-scan.health.ge.com:1521                        prdipsvc                    \n",
       "c\\#\\#502816859                gehcexa01np-ezp8t-scan.health.ge.com:1521                        TSTIPSVC                    \n",
       "c\\#\\#502816859                gehcexa01pr-mksn4-scan.health.ge.com:1521                        PRDIPSVC                    \n",
       "c\\#\\#502816859                gehcexa01pr-mksn4-scan.health.ge.com:1521                        prdipsvc                    \n",
       "drmhub_ro_user                dev.drmhub.finance.ge.com:1621                                   drmdhub                     \n",
       "drmhub_ro_user                dev.drmhub.finance.ge.com:1621                                   drmdhub                     \n",
       "drmhub_ro_user                dev.drmhub.finance.ge.com:1621                                   drmdhub                     \n",
       "gehc_hvr                      vcpp-scan.am.health.ge.com:1525                                  ebs_prdvcp                  \n",
       "gehc_hvr                      vcpp-scan.am.health.ge.com:1525                                  ebs_prdvcp                  \n",
       "gehc_hvr                      10.73.210.30:1525                                                PRDVCP                      \n",
       "gehc_hvr                      vcpp-scan.am.health.ge.com:1525                                  ebs_prdvcp                  \n",
       "gehc_hvr                      vcpp-scan.am.health.ge.com:1525                                  ebs_prdvcp                  \n",
       "gehc_hvr                                                                                                                   \n",
       "gehc_hvr                      cgehedp2-scan.am.health.ge.com:1525                              ebs_prdvcp                  \n",
       "gevcp_view                    cgehedp2-scan.am.health.ge.com:1525                              ebs_prdvcp                  \n",
       "gevcp_view                    cgehedp2-scan.am.health.ge.com:1525                              ebs_prdvcp                  \n",
       "gevcp_view                    agehedd2-scan.am.health.ge.com:1525                              ebs_devvcp                  \n",
       "hchvrodp                                                                                                                   \n",
       "hchvrodp                      cgehedp2-scan.am.health.ge.com:1525                              ebs_itest                   \n",
       "hchvrodp                      agehedq1-scan.am.health.ge.com:1525                              itest                       \n",
       "hchvrodp                      glbp-scan.am.health.ge.com:1525                                  ebs_glprod                  \n",
       "hchvrodp                      cgehedq2-scan.am.health.ge.com:1525                              ebs_itest                   \n",
       "hchvrodp                      cgehedp2-scan.am.health.ge.com:1525                              ebs_glprod                  \n",
       "hchvrodp                      cgehedq2-scan.am.health.ge.com:1525                              ebs_itest                   \n",
       "hchvrodp                      cgehedq2-scan.am.health.ge.com:1525                              ebs_itest                   \n",
       "hchvrodp                      cgehedq2-scan.am.health.ge.com:1525                              ebs_itest                   \n",
       "hchvrodp                      agehedd2-scan.am.health.ge.com:1525                              ebs_devl2                   \n",
       "hchvrodp                      agehedq1-scan.am.health.ge.com:1525                              itest                       \n",
       "hchvrodp                      glbt-scan.am.health.ge.com:1525                                  ebs_itest                   \n",
       "hchvrodp                      glbrep-scan.am.health.ge.com:1525                                glprod                      \n",
       "hchvrodp                      glbp-scan.am.health.ge.com:1525                                  ebs_glprod                  \n",
       "hchvrodp                      glbrep-scan.am.health.ge.com:1525                                ebs_glprod                  \n",
       "hchvrodp                      cgehedq2-scan.am.health.ge.com:1525                              ebs_itest                   \n",
       "hchvrodp                      agehedd2-scan.am.health.ge.com:1525                              ebs_devl2                   \n",
       "hchvrodp                      glbp-scan.am.health.ge.com:1525                                  glprod                      \n",
       "hchvrodp                      agehedd2-scan.am.health.ge.com:1525                              ebs_devl1                   \n",
       "hchvrodp                                                                                                                   \n",
       "hchvrodp                      cgehedq2-scan.am.health.ge.com:1525                              ebs_itest                   \n",
       "hchvrodp                      glbt-scan.am.health.ge.com:1525                                  ebs_itest                   \n",
       "hchvrodp                      agehedq1-scan.am.health.ge.com:1525                              itest                       \n",
       "hchvrodp                      cgehedq2-scan.am.health.ge.com:1525                              gpmtst                      \n",
       "hchvrodp                      agehedq1-scan.am.health.ge.com:1525                              gpmtst                      \n",
       "hchvrodp                      glbp-scan.am.health.ge.com:1525                                  ebs_glprod                  \n",
       "hchvrodp                      glbp-scan.am.health.ge.com:1525                                  glprod                      \n",
       "hchvrodp                      glbp-scan.am.health.ge.com:1525                                  glprod                      \n",
       "hchvrodp                      agehedq1-scan.am.health.ge.com:1525                              glrac                       \n",
       "hchvrodp                      cgehedq2-scan.am.health.ge.com:1525                              ebs_preprod                 \n",
       "hchvrodp                      cgehedp2-scan.am.health.ge.com:1525                              ebs_glprod                  \n",
       "hchvrodp                      cgehedq2-scan.am.health.ge.com:1525                              ebs_itest                   \n",
       "hchvrodp                      cgehedq2-scan.am.health.ge.com:1525                              ebs_itest                   \n",
       "hchvrodp                      glbp-scan.am.health.ge.com:1525                                  glprod                      \n",
       "hchvrodp                      cgehedq2-scan.am.health.ge.com:1525                              ebs_itest                   \n",
       "hchvrodp                      glbp-scan.am.health.ge.com:1525                                  glprod                      \n",
       "hchvrodp                                                                                                                   \n",
       "hchvrodp                      cgehedp1-scan.am.health.ge.com:1525                              gpmprd                      \n",
       "hchvrodp                      cgehedp2-scan.am.health.ge.com:1525                              gpmprd                      \n",
       "hchvrodp                      cgehedq2-scan.am.health.ge.com:1525                              ebs_itest                   \n",
       "hchvrodp                                                                                                                   \n",
       "hchvrodp                      cgehedq2-scan.am.health.ge.com:1525                              ebs_itest                   \n",
       "hvr                           dev2olc.cloo7pawgkle.us-east-1.rds.amazonaws.com:1521            dev2olc                     \n",
       "hvr                           ora-twr15-scand.am.health.ge.com:1521                            devshr                      \n",
       "hvr                           dev2olc.cloo7pawgkle.us-east-1.rds.amazonaws.com:1521            dev2olc                     \n",
       "hvr                           ora-twr14-scans.am.health.ge.com:1521                            devmwsr5                    \n",
       "hvr                           ora-twr18-scand.am.health.ge.com:1521                            dev1olc                     \n",
       "hvr                           agehscq1-c2-scan.am.health.ge.com:1525                           POC3SVC                     \n",
       "hvr                           frbucoraencld1l.em.health.ge.com:1521                            dev2eng                     \n",
       "hvr_odp                       10.88.84.161:1521                                                SGL                         \n",
       "hvr_odp                       10.88.85.138:1521                                                PRD                         \n",
       "hvr_odp                       10.88.84.41:1521                                                 DVP                         \n",
       "hvr_odp                       10.88.84.41:1521                                                 DVP                         \n",
       "hvr_ro                        dev1rst.c67zpurmgqn7.us-east-1.rds.amazonaws.com:1521            dev1rst                     \n",
       "hvr_ro                        dev2rsp.ckkbg1h6mfsb.us-east-1.rds.amazonaws.com                 dev2rsp                     \n",
       "hvr_ro                        dev2rsp.ckkbg1h6mfsb.us-east-1.rds.amazonaws.com:1521            dev2rsp                     \n",
       "hvr_ro                        ora-twr15-scand.am.health.ge.com:1521                            dv2fscm                     \n",
       "hvr_ro                        prd1aiq.c67zpurmgqn7.us-east-1.rds.amazonaws.com:1521            prd1aiq                     \n",
       "hvr_ro                        10.65.168.43:1521                                                prd4rsp                     \n",
       "hvr_ro                        dev2olc.cloo7pawgkle.us-east-1.rds.amazonaws.com                 dev2olc                     \n",
       "hvr_ro                        ora-cin1-scanp.am.health.ge.com:1521                             prd1pmv                     \n",
       "hvr_ro                        ora-twr14-scanp.am.health.ge.com:1521                            prd1pmv                     \n",
       "hvr_ro                        ora-mke2-scanp.am.health.ge.com:1521                             prdshr                      \n",
       "hvr_ro                        ora-twr14-scanp.am.health.ge.com:1521                            prdshr                      \n",
       "hvr_ro                        10.65.168.21:1521                                                STG4ASC                     \n",
       "hvr_ro                        prd2ins.cql4xdlaukob.us-east-1.rds.amazonaws.com:1521            prd2ins                     \n",
       "hvr_ro                        10.65.168.95:1521                                                stg41rst                    \n",
       "hvr_ro                        ora-twr19-scanp.am.health.ge.com:1521                            prd1olc                     \n",
       "hvr_ro                        prd2olc.cloo7pawgkle.us-east-1.rds.amazonaws.com:1521            prd2olc                     \n",
       "hvr_ro                        stg2olc.cloo7pawgkle.us-east-1.rds.amazonaws.com:1521            stg2olc                     \n",
       "hvr_ro                        prd3ast.cloo7pawgkle.us-east-1.rds.amazonaws.com:1521            prd3ast                     \n",
       "hvr_ro                        65465-12168-2.cloud.health.ge.com:1521                           prd1sec                     \n",
       "hvr_ro                        prd1aiq.c67zpurmgqn7.us-east-1.rds.amazonaws.com:1521            prd1aiq                     \n",
       "hvr_ro                        10.65.168.93:1521                                                stg42olc                    \n",
       "hvr_ro                        g11899-1.cloud.health.ge.com:1521                                dev03qis                    \n",
       "hvr_ro                        ora-mke1-scanp.am.health.ge.com:1521                             prd5rsv\n",
       "\n",
       "                   \n",
       "hvr_ro                        vm-dig-peoplesoft9-db-prd-TU1t6gPG0.cloud.health.ge.com:1521     azp1fscm                    \n",
       "hvr_ro                        ora-twr14-scanp.am.health.ge.com:1521                            PRD1SWB                     \n",
       "hvr_ro                        10.65.168.42:1521                                                PRD4ASC                     \n",
       "hvr_ro                        prd1rst.c67zpurmgqn7.us-east-1.rds.amazonaws.com:1521            prd1rst                     \n",
       "hvr_ro                        ora-twr21-scanp.am.health.ge.com:1521                            PRDFSCM                     \n",
       "hvr_ro                        10.65.168.92:1521                                                stg43ast                    \n",
       "hvr_ro                        h15459-1.cloud.health.ge.com:1521                                prd2qis                     \n",
       "hvr_ro                        hvr_ro                                                           !{YCGsEJpA4ArbR31s}!@DEV1PMV\n",
       "hvr_ro                        ora-twr14-scanp.am.health.ge.com:1521                            prdshr                      \n",
       "hvr_ro                        ora-twr21-scanp.am.health.ge.com:1521                            PRDFSCM                     \n",
       "hvr_ro                        stg2asc.cryih7xck8lk.us-east-1.rds.amazonaws.com:1521            STG2ASC                     \n",
       "hvr_ro                        10.65.168.94:1521                                                stg44rst                    \n",
       "hvr_ro                        dev2olc.cloo7pawgkle.us-east-1.rds.amazonaws.com:1521            dev2olc                     \n",
       "hvr_ro                        hvr_ro                                                           !{mgww8B3VEiNX5RnJ}!@stgshr \n",
       "hvr_ro                        prd2olc.cloo7pawgkle.us-east-1.rds.amazonaws.com:1521            prd2olc                     \n",
       "hvr_ro                        ora-mke1-scanp.am.health.ge.com:1521                             prd5rsv                     \n",
       "hvr_ro                        ora-twr15-scand.am.health.ge.com:1521                            dv2fscm                     \n",
       "hvr_ro                        prd3asc.cfbra3ioo0rf.eu-west-1.rds.amazonaws.com:1521            PRD3ASC                     \n",
       "hvr_ro                        prd2olc.cloo7pawgkle.us-east-1.rds.amazonaws.com:1521            prd2olc                     \n",
       "hvr_ro                        h7847-1.cloud.health.ge.com:1521                                 prd1agrp                    \n",
       "hvr_ro                        ora-twr8-scanp.am.health.ge.com:1521                             prdeha                      \n",
       "hvr_ro                        hvr_ro                                                           !{zoPjUJsoRqykh3C.}!@prdeha \n",
       "hvruser                       dev1aiq.c67zpurmgqn7.us-east-1.rds.amazonaws.com:1521            dev1aiq                     \n",
       "hvruser                       stg1aiq.c67zpurmgqn7.us-east-1.rds.amazonaws.com:1521            stg1aiq                     \n",
       "infoream_hvr                  h6701-1.cloud.health.ge.com:1521                                 prd6eam                     \n",
       "infoream_hvr                  h6701-1.cloud.health.ge.com:1521                                 prd6eam                     \n",
       "pm_hvr                        dev5pmv.c67zpurmgqn7.us-east-1.rds.amazonaws.com:1521            dev5pmv                     \n",
       "pmv_hvr                       ora-cin1-scanp.am.health.ge.com:1521                             prd1pmv"
      ]
     },
     "metadata": {},
     "output_type": "display_data"
    }
   ],
   "source": [
    "y = (sort. nub . map loc_db_user) ll\n",
    "x = map getOracle  y\n",
    "\n",
    "(T.printTable . map toTable ) x"
   ]
  },
  {
   "cell_type": "code",
   "execution_count": 8,
   "id": "29e8675c",
   "metadata": {
    "scrolled": true
   },
   "outputs": [],
   "source": [
    "--pretty $ l!!6\n",
    "--loc2Location (l!!6) \"_RED\" [\"db_user\",\"node_name\",\"node_instance\"]\n",
    "--loc2Location (l!!6) \"_RED\"  $ parseRedshift (l!!6)"
   ]
  },
  {
   "cell_type": "code",
   "execution_count": 20,
   "id": "69d71e0d",
   "metadata": {},
   "outputs": [],
   "source": [
    "--l6 =  l!!6\n",
    "--pretty l6\n",
    "--l6' = loc2Location l6 \"_RED\" [\"db_user\",\"node_name\",\"node_instance\"]\n",
    "--pretty l6'"
   ]
  },
  {
   "cell_type": "markdown",
   "id": "61e9ec7c",
   "metadata": {
    "scrolled": false
   },
   "source": [
    " map pretty (filter (\\x ->  loc_class' x == \"kafka\" ) l' )"
   ]
  },
  {
   "cell_type": "markdown",
   "id": "062ceec3",
   "metadata": {},
   "source": [
    "### Analysis"
   ]
  },
  {
   "cell_type": "code",
   "execution_count": 10,
   "id": "97176b63",
   "metadata": {},
   "outputs": [
    {
     "ename": "",
     "evalue": "",
     "output_type": "error",
     "traceback": [
      "<interactive>:3:27: error:\n    Not in scope: type constructor or class ‘T.ExpandWhenNested’\n    NB: no module named ‘T’ is imported.\n<interactive>:3:10: error:\n    Not in scope: type constructor or class ‘T.Tabulate’\n    NB: no module named ‘T’ is imported.\n<interactive>:2:60: error:\n    Not in scope: type constructor or class ‘G.Generic’\n    NB: no module named ‘G’ is imported.\n<interactive>:2:54: error: Not in scope: type constructor or class ‘Data’"
     ]
    }
   ],
   "source": [
    "import Data.List (nub)\n",
    "x = (nub . map (\\x-> map ($ x) [dbdesc,host,database] ))  l\n",
    "\n",
    "data Table  =  Table String String String deriving ( Data, G.Generic, Show)\n",
    "instance T.Tabulate Table T.ExpandWhenNested\n",
    "\n",
    "toTable::[String] -> Table\n",
    "toTable  [x,y,z]  = Table x y z\n",
    "\n",
    "(T.printTable . map toTable ) x\n"
   ]
  },
  {
   "cell_type": "code",
   "execution_count": 9,
   "id": "adfddc10",
   "metadata": {},
   "outputs": [
    {
     "data": {
      "text/plain": [
       "[\"redshift\",\"file\",\"oracle\",\"sqlserver\",\"teradata\",\"postgresql\",\"salesforce\",\"mysql\",\"greenplum\",\"kafka\"]"
      ]
     },
     "metadata": {},
     "output_type": "display_data"
    },
    {
     "data": {
      "text/plain": [
       "[\"dev\",\"fin-prod\",\"Finance Nprod\",\"US hvr prod\",\"Us innovation\"]"
      ]
     },
     "metadata": {},
     "output_type": "display_data"
    },
    {
     "data": {
      "text/plain": [
       "[\"odp-us-innovation-postgres-db.cxzrm3enxxmy.us-east-1.rds.amazonaws.com\",\"odp-fin-prod-hvr-metadata.odp.health.ge.com\",\"odp-fin-nprod-hvr-metadata.odp.health.ge.com\",\"odp-us-prod-hvr-metadata-db.cjyhx859wwhg.us-east-1.rds.amazonaws.com\"]"
      ]
     },
     "metadata": {},
     "output_type": "display_data"
    }
   ],
   "source": [
    "import Data.List (nub)\n",
    "\n",
    "(nub . map  loc_class) l\n",
    "(nub . map  dbdesc) l\n",
    "(nub . map  host) l"
   ]
  },
  {
   "cell_type": "code",
   "execution_count": 10,
   "id": "46fc7505",
   "metadata": {},
   "outputs": [
    {
     "data": {
      "text/plain": [
       "1494"
      ]
     },
     "metadata": {},
     "output_type": "display_data"
    }
   ],
   "source": [
    " --let l_prd = map pretty (filter (\\x ->  (dbdesc' x) `elem` [\"fin-prod\",\"US hvr prod\"] ) l' )\n",
    " let l_prd =   filter (\\x ->  (dbdesc' x) `elem` [\"fin-prod\",\"US hvr prod\"] ) l' \n",
    " length l_prd"
   ]
  },
  {
   "cell_type": "markdown",
   "id": "cd9572f7",
   "metadata": {},
   "source": [
    " map pretty $ take 5  l_prd"
   ]
  },
  {
   "cell_type": "markdown",
   "id": "fa439eea",
   "metadata": {},
   "source": [
    "import Text.Pretty.Simple (pPrint)"
   ]
  },
  {
   "cell_type": "code",
   "execution_count": 11,
   "id": "2c70233f",
   "metadata": {},
   "outputs": [],
   "source": [
    "import Data.List ( sortOn, sortBy)"
   ]
  },
  {
   "cell_type": "code",
   "execution_count": 12,
   "id": "934a6beb",
   "metadata": {},
   "outputs": [],
   "source": [
    "import Text.PrettyPrint.Tabulate\n",
    "import qualified GHC.Generics as G\n",
    "import Data.Data\n",
    "import qualified Text.PrettyPrint.Tabulate as T\n",
    "import qualified Data.Map as Map\n",
    "import qualified Data.List as List\n",
    "import qualified Data.Vector as Vector"
   ]
  },
  {
   "cell_type": "code",
   "execution_count": 13,
   "id": "34af17bb",
   "metadata": {
    "scrolled": false
   },
   "outputs": [],
   "source": [
    "data Table  =  Table String String String deriving ( Data, G.Generic, Show)\n",
    "instance T.Tabulate Table T.ExpandWhenNested\n",
    "\n",
    "toTable::[String] -> Table\n",
    "toTable  [x,y]  = Table x y \"\"\n",
    "\n",
    "\n",
    "customCompare :: [String] -> [String] -> Ordering\n",
    "customCompare xs ys = compare (take 2 xs) (take 2 ys)\n"
   ]
  },
  {
   "cell_type": "code",
   "execution_count": 27,
   "id": "237e7a6a",
   "metadata": {},
   "outputs": [
    {
     "data": {
      "text/plain": [
       "                                                                      \n",
       "                                                            0         \n",
       "10.229.1.113                                                4343      \n",
       "10.229.2.236                                                8080      \n",
       "10.242.109.196                                              4343      \n",
       "10.242.109.196                                              6080      \n",
       "10.242.109.196                                              8080      \n",
       "10.242.109.196                                              8443      \n",
       "10.242.109.196                                              9995      \n",
       "10.242.109.235                                              8080      \n",
       "10.242.109.242                                              18081     \n",
       "10.242.109.242                                              8443      \n",
       "10.242.109.242                                              9090      \n",
       "10.242.109.242                                              9995      \n",
       "10.242.109196                                               4343      \n",
       "10.242.112.130                                              4343      \n",
       "10.242.112.153                                              4343      \n",
       "10.242.112.153                                              6080      \n",
       "10.242.112.153                                              8088      \n",
       "10.242.112.153                                              8443      \n",
       "10.242.112.153                                              9090      \n",
       "10.242.112.162                                              4343      \n",
       "10.242.112.86                                               4343      \n",
       "10.242.112.86                                               4344      \n",
       "10.242.112.86                                               6080      \n",
       "10.242.112.86                                               9995      \n",
       "10.242.115.16                                               4343      \n",
       "10.73.210.206                                               4343      \n",
       "10.73.210.213                                               4343      \n",
       "10.88.84.41                                                 4343      \n",
       "10.88.85.138                                                4343      \n",
       "3.20.142.28                                                 4343      \n",
       "3.7.58.82                                                   4343      \n",
       "65465-12168-2.cloud.health.ge.com                           4343      \n",
       "USMSNATE05.logon.ds.ge.com                                  4343      \n",
       "agecedd3-scan.corporate.ge.com                              4343      \n",
       "agehedq1db01-vip.am.health.ge.com                           4343      \n",
       "agehedq1db08-vip.am.health.ge.com                           4343      \n",
       "agehedq1db08adm.am.health.ge.com                            4343      \n",
       "agehscq1-c1-scan.am.health.ge.com                           4343      \n",
       "agehscq1-c1-scan.am.health.ge.com                           4344      \n",
       "agehscq1db01adm04.am.health.ge.com                          4343      \n",
       "agehscq1db01adm04.am.health.ge.com                          4344      \n",
       "agehscq1db03adm04.am.health.ge.com                          4343      \n",
       "agehscq1db03adm04.am.health.ge.com                          4344      \n",
       "cgehedp1db01-vip.am.health.ge.com                           4343      \n",
       "cgehedp1db02-vip.am.health.ge.com                           4343      \n",
       "cgehedp1db08adm.am.health.ge.com                            4343      \n",
       "cgehedp2db04-vip.am.health.ge.com                           4343      \n",
       "cgehedp2db05-vip.am.health.ge.com                           4343      \n",
       "cgehedq2-scan.am.health.ge.com                              4343      \n",
       "cgehedq2db01-vip.am.health.ge.com                           4343      \n",
       "cgehedq2db04.am.health.ge.com                               4343      \n",
       "dog10000.am.health.ge.com                                   4343      \n",
       "dog1149.am.health.ge.com                                    4343      \n",
       "dog1160.am.health.ge.com                                    4343      \n",
       "dog1163.am.health.ge.com                                    4343      \n",
       "dog1164.am.health.ge.com                                    4343      \n",
       "dog1200b.am.health.ge.com                                   4343      \n",
       "drmhub.finance.ge.com                                       4343      \n",
       "frbucoraencld1l.em.health.ge.com                            4343      \n",
       "g11899-1.cloud.health.ge.com                                4343      \n",
       "g14645-1.cloud.health.ge.com                                4343      \n",
       "h14647-1.cloud.health.ge.com                                4343      \n",
       "h15459-1.cloud.health.ge.com                                4343      \n",
       "h16658-1.cloud.health.ge.com                                4343      \n",
       "h16678-1.cloud.health.ge.com                                4343      \n",
       "h16682-1.cloud.health.ge.com                                4343      \n",
       "h16694-1.cloud.health.ge.com                                4343      \n",
       "h16698-1.cloud.health.ge.com                                4343      \n",
       "h6701-1.cloud.health.ge.com                                 4343      \n",
       "h7425-1.cloud.health.ge.com                                 4343      \n",
       "h7847-1.cloud.health.ge.com                                 4343      \n",
       "hvr-enc.gehealthcare.com                                    4343      \n",
       "ora-alp1-scand.am.health.ge.com                             4344      \n",
       "ora-cin1-scanp.am.health.ge.com                             4343      \n",
       "ora-mke1-scanp.am.health.ge.com                             4343      \n",
       "ora-mke2-scanp.am.health.ge.com                             4343      \n",
       "ora-mke2-scanp.am.health.ge.com                             4344      \n",
       "ora-twr14-scand.am.health.ge.com                            4343      \n",
       "ora-twr14-scanp.am.health.ge.com                            4343      \n",
       "ora-twr15-scand.am.health.ge.com                            4343      \n",
       "ora-twr18-scand.am.health.ge.com                            4344      \n",
       "ora-twr20-scanp.am.health.ge.com                            4344      \n",
       "ora-twr21-scanp.am.health.ge.com                            4343      \n",
       "rac://cgehedp2-scan.am.health.ge.com:1525/itest             4343      \n",
       "rac://cgehedq2-scan.am.health.ge.com:1525/ITEST             4343      \n",
       "rac://cgehedq2-scan.am.health.ge.com:1525/ebs_gltest        4343      \n",
       "rac://cgehedq2-scan.am.health.ge.com:1525/ebs_itest         4343      \n",
       "rac://cgehedq2-scan.am.health.ge.com:1525/ebs_itestc1       4343      \n",
       "rac://cgehedq2-scan.am.health.ge.com:1525/ebs_preprod       4343      \n",
       "rac://cgehedq2-scan.am.health.ge.com:1525/ebs_tstvcp        4343      \n",
       "rac://cgehedq2-scan.am.health.ge.com:1525/glprod            4343      \n",
       "rac://cgehedq2-scan.am.health.ge.com:1525/gltest            4343      \n",
       "rac://cgehedq2-scan.am.health.ge.com:1525/itest             4343      \n",
       "rac://gehcexa01np-ezp8t-scan.health.ge.com/SBLDE3           4343      \n",
       "rac://gehcexa01pr-mksn4-scan.health.ge.com/SBLP20           4343      \n",
       "rac://gehcexa01pr-mksn4-scan.health.ge.com/sblprd           4343      \n",
       "rac://gehcexa01pr-mksn4-scan.health.ge.com/sblprd           4344      \n",
       "rac://glbrep-scan.am.health.ge.com:1525/glprod              4343      \n",
       "sam8-web-poc-01.am.health.ge.com                            4343      \n",
       "vm-dig-peoplesoft9-db-prd-TU1t6gPG0.cloud.health.ge.com     4343"
      ]
     },
     "metadata": {},
     "output_type": "display_data"
    }
   ],
   "source": [
    "import Data.List (nub)\n",
    "x = (sortBy customCompare  . nub . map (\\x-> map ($ x) [loc_remote_node' , loc_remote_port'] ) )   l_prd\n",
    "(T.printTable . map toTable ) x"
   ]
  },
  {
   "cell_type": "markdown",
   "id": "0ae37ae9",
   "metadata": {},
   "source": [
    "database'= database x\n",
    "                                         , dbdesc'= dbdesc x\n",
    "                                         , host'=  host x\n",
    "                                         , loc_name'  = loc_name x \n",
    "                                         , loc_class' = loc_class x ++ classSuffix\n",
    "                                         , loc_directory' = loc_directory x\n",
    "                                         , loc_remote_node'  = loc_remote_node x\n",
    "                                         , loc_remote_login' = loc_remote_login x\n",
    "                                         , loc_remote_port'  = loc_remote_port x\n",
    "                                         , loc_db_user'      = db_user                  ---- is it agent user or db user?\n",
    "                                         , loc_description'  = loc_description x\n",
    "                                         , db_node_name      = node_name\n",
    "                                         , db_instance       = db_instance"
   ]
  }
 ],
 "metadata": {
  "kernelspec": {
   "display_name": "Haskell",
   "language": "haskell",
   "name": "haskell"
  },
  "language_info": {
   "codemirror_mode": "ihaskell",
   "file_extension": ".hs",
   "mimetype": "text/x-haskell",
   "name": "haskell",
   "pygments_lexer": "Haskell",
   "version": "9.4.5"
  }
 },
 "nbformat": 4,
 "nbformat_minor": 5
}
