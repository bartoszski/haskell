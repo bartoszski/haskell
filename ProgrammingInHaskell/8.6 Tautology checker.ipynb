{
 "cells": [
  {
   "cell_type": "code",
   "execution_count": null,
   "id": "9e1fc321",
   "metadata": {},
   "outputs": [],
   "source": [
    "import Data.String\n"
   ]
  },
  {
   "cell_type": "code",
   "execution_count": null,
   "id": "2fdfe083",
   "metadata": {},
   "outputs": [],
   "source": [
    "data Prop = Const Bool\n",
    "    | Var   String\n",
    "    | Not   Prop\n",
    "    | And   Prop Prop\n",
    "    | Imply Prop Prop\n",
    "    deriving (Show,Read)\n",
    "    \n",
    "type Assoc k v  = [(k,v)]    \n",
    "type Subst = Assoc Char Bool"
   ]
  },
  {
   "cell_type": "code",
   "execution_count": null,
   "id": "1b3542cf",
   "metadata": {},
   "outputs": [],
   "source": []
  },
  {
   "cell_type": "code",
   "execution_count": null,
   "id": "ea43470b",
   "metadata": {},
   "outputs": [],
   "source": [
    "p1 :: Prop\n",
    "p1 = Var \"AA\"\n",
    "\n",
    "p2 :: Prop\n",
    "p2  = And p1 p1 "
   ]
  },
  {
   "cell_type": "code",
   "execution_count": null,
   "id": "1746bf86",
   "metadata": {},
   "outputs": [],
   "source": [
    "find :: Eq k=> k -> Assoc k v -> [v]\n",
    "find k t = [ v |  (k',v)<-t , k==k'] "
   ]
  },
  {
   "cell_type": "code",
   "execution_count": null,
   "id": "e668022b",
   "metadata": {},
   "outputs": [],
   "source": [
    "a = [('A',False),('B',True),('B',False)]\n",
    "find 'B' a"
   ]
  },
  {
   "cell_type": "markdown",
   "id": "5331b87d",
   "metadata": {},
   "source": [
    "---------"
   ]
  },
  {
   "cell_type": "code",
   "execution_count": null,
   "id": "7202d940",
   "metadata": {},
   "outputs": [],
   "source": [
    "1) get number of variables ! to know haw many processes we have \n",
    "2) (p1 `^>` p2) and (p1 `<>` p2) \n",
    "   (p1 startsAfter p2 ) and (p1 overlap p2)\n",
    "\n",
    "\n"
   ]
  },
  {
   "cell_type": "code",
   "execution_count": null,
   "id": "c505b105",
   "metadata": {},
   "outputs": [],
   "source": [
    "data TimeFrame  = TimeFrame Int Int  \n",
    "                deriving (Show,Read)\n",
    "\n",
    "getStart :: TimeFrame  -> Int\n",
    "getStart   (TimeFrame start _) = start\n",
    "\n",
    "getEnd :: TimeFrame  -> Int\n",
    "getEnd    (TimeFrame _ end) = end\n",
    "\n",
    "\n",
    "overlap ::  TimeFrame -> TimeFrame -> Bool\n",
    "overlap x y | not ((getEnd x <  getStart y) || (getEnd y <  getStart x) ) = True\n",
    "            | otherwise = False\n",
    "           "
   ]
  },
  {
   "cell_type": "code",
   "execution_count": 2,
   "id": "709554e3",
   "metadata": {},
   "outputs": [],
   "source": [
    "mkTimeFrame :: Int -> Int -> TimeFrame  \n",
    "mkTimeFrame start end\n",
    "    | start <= end  = TimeFrame start end\n",
    "\n",
    "\n",
    "safeMkTimeFrame :: Int -> Int -> Maybe TimeFrame  \n",
    "safeMkTimeFrame start end\n",
    "    | start <= end = Just (TimeFrame start end)\n",
    "    | otherwise    = Nothing"
   ]
  },
  {
   "cell_type": "code",
   "execution_count": 3,
   "id": "68f48b9b",
   "metadata": {},
   "outputs": [],
   "source": [
    "startsAfter :: TimeFrame -> TimeFrame -> Bool\n",
    "startsAfter x y | getStart x > getStart y = True\n",
    "                | otherwise = False\n",
    "\n",
    "startsBefore :: TimeFrame -> TimeFrame -> Bool\n",
    "startsBefore x y = not (startsAfter x y)       "
   ]
  },
  {
   "cell_type": "code",
   "execution_count": 4,
   "id": "92c25d24",
   "metadata": {},
   "outputs": [
    {
     "data": {
      "text/plain": [
       "TimeFrame 1 4"
      ]
     },
     "metadata": {},
     "output_type": "display_data"
    },
    {
     "data": {
      "text/plain": [
       "TimeFrame 3 5"
      ]
     },
     "metadata": {},
     "output_type": "display_data"
    },
    {
     "data": {
      "text/plain": [
       "TimeFrame 1 3"
      ]
     },
     "metadata": {},
     "output_type": "display_data"
    },
    {
     "data": {
      "text/plain": [
       "TimeFrame 1 2"
      ]
     },
     "metadata": {},
     "output_type": "display_data"
    },
    {
     "data": {
      "text/plain": [
       "True"
      ]
     },
     "metadata": {},
     "output_type": "display_data"
    },
    {
     "data": {
      "text/plain": [
       "True"
      ]
     },
     "metadata": {},
     "output_type": "display_data"
    },
    {
     "data": {
      "text/plain": [
       "False"
      ]
     },
     "metadata": {},
     "output_type": "display_data"
    },
    {
     "data": {
      "text/plain": [
       "False"
      ]
     },
     "metadata": {},
     "output_type": "display_data"
    },
    {
     "data": {
      "text/plain": [
       "True"
      ]
     },
     "metadata": {},
     "output_type": "display_data"
    },
    {
     "data": {
      "text/plain": [
       "True"
      ]
     },
     "metadata": {},
     "output_type": "display_data"
    }
   ],
   "source": [
    "t1 = TimeFrame 1 4\n",
    "t2 = TimeFrame 3 5\n",
    "t3 = mkTimeFrame 1 3\n",
    "t4 = mkTimeFrame 1 2\n",
    "\n",
    "t1\n",
    "t2\n",
    "t3\n",
    "t4\n",
    "overlap t1 t2\n",
    "overlap t3 t4\n",
    "startsAfter  t1 t2\n",
    "startsAfter  t3 t4\n",
    "startsBefore t1 t2\n",
    "startsBefore t3 t4"
   ]
  },
  {
   "cell_type": "code",
   "execution_count": 34,
   "id": "cb2c42c7",
   "metadata": {},
   "outputs": [],
   "source": [
    "a = [(1,2),(3,4),(2,1)]"
   ]
  },
  {
   "cell_type": "code",
   "execution_count": 2,
   "id": "b1fdb82a",
   "metadata": {},
   "outputs": [
    {
     "ename": "",
     "evalue": "",
     "output_type": "error",
     "traceback": [
      "<interactive>:8:35: error: Not in scope: type constructor or class ‘TimeFrame’"
     ]
    }
   ],
   "source": [
    "import Data.List (permutations)\n",
    "--import Prettyprinter\n",
    "import Data.Maybe \n",
    "\n",
    "a = [(1,2),(3,4),(2,1)]\n",
    "\n",
    "split :: [a]->[(a,a)]\n",
    "split x = zip [x!! y| y<- evens] [x!! y| y<-odds] \n",
    "     where \n",
    "       len   =   length x \n",
    "       odds  =  [1,3.. len]\n",
    "       evens =  [0,2.. len]\n",
    "\n",
    "lst2TimeFrames :: [(Int,Int)] -> [TimeFrame]\n",
    "lst2TimeFrames  =  f3 . f2 . f1 \n",
    "    where \n",
    "            f1 = map (uncurry safeMkTimeFrame) \n",
    "            f2 = filter isJust \n",
    "            f3 = map fromJust\n",
    "\n",
    "lst2TimeFrames a"
   ]
  },
  {
   "cell_type": "code",
   "execution_count": 6,
   "id": "51d26855",
   "metadata": {},
   "outputs": [
    {
     "data": {
      "text/html": [
       "<style>/* Styles used for the Hoogle display in the pager */\n",
       ".hoogle-doc {\n",
       "display: block;\n",
       "padding-bottom: 1.3em;\n",
       "padding-left: 0.4em;\n",
       "}\n",
       ".hoogle-code {\n",
       "display: block;\n",
       "font-family: monospace;\n",
       "white-space: pre;\n",
       "}\n",
       ".hoogle-text {\n",
       "display: block;\n",
       "}\n",
       ".hoogle-name {\n",
       "color: green;\n",
       "font-weight: bold;\n",
       "}\n",
       ".hoogle-head {\n",
       "font-weight: bold;\n",
       "}\n",
       ".hoogle-sub {\n",
       "display: block;\n",
       "margin-left: 0.4em;\n",
       "}\n",
       ".hoogle-package {\n",
       "font-weight: bold;\n",
       "font-style: italic;\n",
       "}\n",
       ".hoogle-module {\n",
       "font-weight: bold;\n",
       "}\n",
       ".hoogle-class {\n",
       "font-weight: bold;\n",
       "}\n",
       ".get-type {\n",
       "color: green;\n",
       "font-weight: bold;\n",
       "font-family: monospace;\n",
       "display: block;\n",
       "white-space: pre-wrap;\n",
       "}\n",
       ".show-type {\n",
       "color: green;\n",
       "font-weight: bold;\n",
       "font-family: monospace;\n",
       "margin-left: 1em;\n",
       "}\n",
       ".mono {\n",
       "font-family: monospace;\n",
       "display: block;\n",
       "}\n",
       ".err-msg {\n",
       "color: red;\n",
       "font-style: italic;\n",
       "font-family: monospace;\n",
       "white-space: pre;\n",
       "display: block;\n",
       "}\n",
       "#unshowable {\n",
       "color: red;\n",
       "font-weight: bold;\n",
       "}\n",
       ".err-msg.in.collapse {\n",
       "padding-top: 0.7em;\n",
       "}\n",
       ".highlight-code {\n",
       "white-space: pre;\n",
       "font-family: monospace;\n",
       "}\n",
       ".suggestion-warning { \n",
       "font-weight: bold;\n",
       "color: rgb(200, 130, 0);\n",
       "}\n",
       ".suggestion-error { \n",
       "font-weight: bold;\n",
       "color: red;\n",
       "}\n",
       ".suggestion-name {\n",
       "font-weight: bold;\n",
       "}\n",
       "</style><div class=\"suggestion-name\" style=\"clear:both;\">Use map once</div><div class=\"suggestion-row\" style=\"float: left;\"><div class=\"suggestion-warning\">Found:</div><div class=\"highlight-code\" id=\"haskell\">map lst2TimeFrames (map split permutedLists)</div></div><div class=\"suggestion-row\" style=\"float: left;\"><div class=\"suggestion-warning\">Why Not:</div><div class=\"highlight-code\" id=\"haskell\">map (lst2TimeFrames . split) permutedLists</div></div>"
      ],
      "text/plain": [
       "Line 7: Use map once\n",
       "Found:\n",
       "map lst2TimeFrames (map split permutedLists)\n",
       "Why not:\n",
       "map (lst2TimeFrames . split) permutedLists"
      ]
     },
     "metadata": {},
     "output_type": "display_data"
    },
    {
     "data": {
      "text/plain": [
       "[[TimeFrame 1 2,TimeFrame 3 4],[TimeFrame 3 4],[TimeFrame 1 4],[TimeFrame 2 3,TimeFrame 1 4],[TimeFrame 2 4],[TimeFrame 1 3,TimeFrame 2 4],[],[TimeFrame 3 4],[],[],[TimeFrame 2 4],[TimeFrame 2 3],[TimeFrame 2 3],[TimeFrame 1 4,TimeFrame 2 3],[TimeFrame 1 2],[TimeFrame 1 3],[TimeFrame 2 4,TimeFrame 1 3],[],[],[TimeFrame 1 4],[TimeFrame 1 3],[TimeFrame 1 2],[TimeFrame 3 4,TimeFrame 1 2],[]]"
      ]
     },
     "metadata": {},
     "output_type": "display_data"
    }
   ],
   "source": [
    "import Data.List (permutations)\n",
    "import Prettyprinter\n",
    "\n",
    "myList = [1, 2, 3,4]\n",
    "permutedLists = permutations myList\n",
    "\n",
    "aa =  map lst2TimeFrames (map split permutedLists)\n",
    "aa"
   ]
  },
  {
   "cell_type": "code",
   "execution_count": 8,
   "id": "4b30a7f1",
   "metadata": {},
   "outputs": [],
   "source": [
    "import Data.String\n",
    "\n",
    "type Assoc k v  = [(k,v)] \n",
    "\n",
    "find :: Eq k=> k -> Assoc k v -> v\n",
    "find k t = head [ v |  (k',v)<-t , k==k'] \n",
    "\n",
    "type Subst = Assoc String TimeFrame    \n",
    "\n",
    "-- Time Frame\n",
    "data TimeFrame  = TimeFrame Int Int  deriving (Show,Read)\n",
    "getStart :: TimeFrame  -> Int\n",
    "getStart   (TimeFrame start _) = start\n",
    "\n",
    "getEnd :: TimeFrame  -> Int\n",
    "getEnd    (TimeFrame _ end) = end\n",
    "\n",
    "overlap ::  TimeFrame -> TimeFrame -> Bool\n",
    "overlap x y | not ((getEnd x <  getStart y) || (getEnd y <  getStart x) ) = True\n",
    "            | otherwise = False\n",
    "            \n",
    "startsAfter :: TimeFrame -> TimeFrame -> Bool\n",
    "startsAfter x y | getStart x > getStart y = True\n",
    "                | otherwise = False"
   ]
  },
  {
   "cell_type": "markdown",
   "id": "8a61af49",
   "metadata": {},
   "source": [
    "p1 :: ProcessModel \n",
    "p1 = And Overlap (Proc \"procesA\" Proc \"procesB\")  StartsBefore (Proc \"procesA\" Proc \"procesB\")"
   ]
  },
  {
   "cell_type": "code",
   "execution_count": 9,
   "id": "ffed00a6",
   "metadata": {},
   "outputs": [],
   "source": [
    "data ProcessOper  = Proc         String\n",
    "                  | Overlap      ProcessOper ProcessOper\n",
    "                  | StartsAfter  ProcessOper ProcessOper\n",
    "                  | And          ProcessOper ProcessOper\n",
    "                  | Or           ProcessOper ProcessOper\n",
    "                  deriving (Show,Read)\n",
    "                  \n",
    "                  \n",
    "eval :: Subst -> ProcessOper -> Bool\n",
    "\n",
    "eval s (Overlap p q) = overlap (getTF p s) (getTF q s)\n",
    "                     where \n",
    "                     subst (Proc x) = x \n",
    "                     getTF x = find (subst x) \n",
    "\n",
    "eval s (StartsAfter p q) = startsAfter (getTF p s) (getTF q s)\n",
    "                     where \n",
    "                     subst (Proc x) = x \n",
    "                     getTF x = find (subst x) \n",
    "\n",
    "eval s (And p q) = eval s p && eval s q\n",
    "eval s (Or p q)  = eval s p || eval s q\n"
   ]
  },
  {
   "cell_type": "code",
   "execution_count": 44,
   "id": "2446df08",
   "metadata": {},
   "outputs": [
    {
     "data": {
      "text/plain": [
       "True"
      ]
     },
     "metadata": {},
     "output_type": "display_data"
    }
   ],
   "source": [
    "-- Testing \n",
    "                    \n",
    "\n",
    "\n",
    "assocT = [(\"procesA\" , TimeFrame 1 3) , (\"procesB\" , TimeFrame 4 5), (\"procesC\" , TimeFrame 3 5)]\n",
    "\n",
    "p1 :: ProcessOper\n",
    "p1 = And ( StartsAfter (Proc \"procesB\") (Proc \"procesA\")) \n",
    "         ( Overlap     (Proc \"procesB\") (Proc \"procesC\")) \n",
    "\n",
    "\n",
    "-- startsAfter (find \"procesA\" s) (find \"procesB\" s)\n",
    "eval assocT p1"
   ]
  },
  {
   "cell_type": "code",
   "execution_count": 43,
   "id": "d3168f34",
   "metadata": {},
   "outputs": [
    {
     "data": {
      "text/plain": [
       "[\"procesA\",\"procesB\",\"procesC\"]"
      ]
     },
     "metadata": {},
     "output_type": "display_data"
    }
   ],
   "source": [
    "-- Getting Vars from ProcessOper\n",
    "import Data.List (nub,sort) \n",
    "\n",
    "vars :: ProcessOper -> [String]\n",
    "vars (Proc xs) = [xs]\n",
    "vars (Overlap p q) = vars p ++ vars q\n",
    "vars (StartsAfter p q) = vars p ++ vars q\n",
    "vars (And p q) = vars p ++ vars q\n",
    "vars (Or p q) = vars p ++ vars q\n",
    "getvars :: ProcessOper -> [String]\n",
    "getvars  = sort . nub . vars\n",
    "\n",
    "getvars p1\n"
   ]
  },
  {
   "cell_type": "code",
   "execution_count": 91,
   "id": "2e29ad53",
   "metadata": {},
   "outputs": [
    {
     "data": {
      "text/plain": [
       " **\n",
       "    *\n",
       "    ***"
      ]
     },
     "metadata": {},
     "output_type": "display_data"
    },
    {
     "data": {
      "text/plain": [
       "False"
      ]
     },
     "metadata": {},
     "output_type": "display_data"
    }
   ],
   "source": [
    "import Prettyprinter\n",
    "\n",
    "multiplyString :: String -> Int -> String\n",
    "multiplyString str n = concat (replicate n str)\n",
    "\n",
    "tf2String :: TimeFrame -> String\n",
    "tf2String (TimeFrame x y) =    multiplyString \" \" x  ++   multiplyString \"*\" (y-x)\n",
    "\n",
    "assocTableCase = [(\"procesA\" , TimeFrame 1 3) , (\"procesB\" , TimeFrame 4 5), (\"procesC\" , TimeFrame 4 7)]\n",
    "\n",
    "p1 :: ProcessOper\n",
    "p1 = And ( StartsAfter (Proc \"procesB\") (Proc \"procesA\")) \n",
    "         ( Overlap     (Proc \"procesA\") (Proc \"procesC\")) \n",
    "\n",
    "strCase :: [(String,TimeFrame)] -> String\n",
    "strCase  = concatMap ((\\x -> tf2String x ++\"\\n\"). snd) \n",
    "\n",
    "showCase ::  [(String, TimeFrame)] -> Doc ann\n",
    "showCase  = pretty . strCase\n",
    "\n",
    "showCase assocTableCase\n",
    "\n",
    "eval assocTableCase p1"
   ]
  },
  {
   "cell_type": "code",
   "execution_count": 84,
   "id": "ede8cdd7",
   "metadata": {},
   "outputs": [
    {
     "data": {
      "text/html": [
       "<style>/* Styles used for the Hoogle display in the pager */\n",
       ".hoogle-doc {\n",
       "display: block;\n",
       "padding-bottom: 1.3em;\n",
       "padding-left: 0.4em;\n",
       "}\n",
       ".hoogle-code {\n",
       "display: block;\n",
       "font-family: monospace;\n",
       "white-space: pre;\n",
       "}\n",
       ".hoogle-text {\n",
       "display: block;\n",
       "}\n",
       ".hoogle-name {\n",
       "color: green;\n",
       "font-weight: bold;\n",
       "}\n",
       ".hoogle-head {\n",
       "font-weight: bold;\n",
       "}\n",
       ".hoogle-sub {\n",
       "display: block;\n",
       "margin-left: 0.4em;\n",
       "}\n",
       ".hoogle-package {\n",
       "font-weight: bold;\n",
       "font-style: italic;\n",
       "}\n",
       ".hoogle-module {\n",
       "font-weight: bold;\n",
       "}\n",
       ".hoogle-class {\n",
       "font-weight: bold;\n",
       "}\n",
       ".get-type {\n",
       "color: green;\n",
       "font-weight: bold;\n",
       "font-family: monospace;\n",
       "display: block;\n",
       "white-space: pre-wrap;\n",
       "}\n",
       ".show-type {\n",
       "color: green;\n",
       "font-weight: bold;\n",
       "font-family: monospace;\n",
       "margin-left: 1em;\n",
       "}\n",
       ".mono {\n",
       "font-family: monospace;\n",
       "display: block;\n",
       "}\n",
       ".err-msg {\n",
       "color: red;\n",
       "font-style: italic;\n",
       "font-family: monospace;\n",
       "white-space: pre;\n",
       "display: block;\n",
       "}\n",
       "#unshowable {\n",
       "color: red;\n",
       "font-weight: bold;\n",
       "}\n",
       ".err-msg.in.collapse {\n",
       "padding-top: 0.7em;\n",
       "}\n",
       ".highlight-code {\n",
       "white-space: pre;\n",
       "font-family: monospace;\n",
       "}\n",
       ".suggestion-warning { \n",
       "font-weight: bold;\n",
       "color: rgb(200, 130, 0);\n",
       "}\n",
       ".suggestion-error { \n",
       "font-weight: bold;\n",
       "color: red;\n",
       "}\n",
       ".suggestion-name {\n",
       "font-weight: bold;\n",
       "}\n",
       "</style><span class='get-type'>showCase :: forall {ann}. [(String, TimeFrame)] -> Doc ann</span>"
      ],
      "text/plain": [
       "showCase :: forall {ann}. [(String, TimeFrame)] -> Doc ann"
      ]
     },
     "metadata": {},
     "output_type": "display_data"
    }
   ],
   "source": [
    ":t showCase"
   ]
  },
  {
   "cell_type": "markdown",
   "id": "b033981f",
   "metadata": {},
   "source": [
    "---------"
   ]
  },
  {
   "cell_type": "code",
   "execution_count": 7,
   "id": "130b1d4a",
   "metadata": {},
   "outputs": [
    {
     "ename": "",
     "evalue": "",
     "output_type": "error",
     "traceback": [
      "<interactive>:1:1: error:\n    Could not find module ‘IHaskell.Display’\n    Use -v (or `:set -v` in ghci) to see a list of the files searched for."
     ]
    }
   ],
   "source": [
    "import IHaskell.Display\n",
    "import Codec.Picture (generateImage, PixelRGBA8(..))"
   ]
  },
  {
   "cell_type": "code",
   "execution_count": 11,
   "id": "f1512558",
   "metadata": {},
   "outputs": [
    {
     "ename": "",
     "evalue": "",
     "output_type": "error",
     "traceback": [
      "<interactive>:1:29: error:\n    • Couldn't match type ‘Data.ByteString.Lazy.Internal.ByteString’ with ‘String’\n      Expected: String\n        Actual: Data.ByteString.Lazy.Internal.ByteString\n    • In the second argument of ‘writeFile’, namely ‘responseBody’\n      In the expression: writeFile \"my_diagram.puml\" responseBody\n      In an equation for ‘it’: it = writeFile \"my_diagram.puml\" responseBody"
     ]
    }
   ],
   "source": [
    "{-# LANGUAGE OverloadedStrings #-}\n",
    "-- cabal install http-conduit\n",
    "\n",
    "\n",
    "import Network.HTTP.Simple\n",
    "\n",
    "\n",
    "let plantUMLScript = \"Bob -> Alice : Hello\"\n",
    "let remoteURL = \"http://www.plantuml.com/plantuml/png/\" ++ plantUMLScript\n",
    "    \n",
    "response <- httpLBS $ parseRequest_ remoteURL\n",
    "let responseBody = getResponseBody response\n",
    "writeFile \"my_diagram.puml\" responseBody\n"
   ]
  },
  {
   "cell_type": "code",
   "execution_count": 33,
   "id": "8ddebfd1",
   "metadata": {},
   "outputs": [],
   "source": [
    "{-# LANGUAGE OverloadedStrings #-}\n",
    "\n",
    "\n",
    "plantUMLScript :: String\n",
    "plantUMLScript = \"@startuml\\n Bob -> Alice : Helloo\\n @enduml\""
   ]
  },
  {
   "cell_type": "code",
   "execution_count": 34,
   "id": "64af4c9d",
   "metadata": {},
   "outputs": [
    {
     "ename": "",
     "evalue": "",
     "output_type": "error",
     "traceback": [
      "<interactive>:1:62: error:\n    • Couldn't match expected type ‘String’ with actual type ‘Text’\n    • In the second argument of ‘(++)’, namely ‘plantUMLScript’\n      In the expression: \"http://www.plantuml.com/plantuml/png/~1\" ++ plantUMLScript\n      In an equation for ‘remoteURL’: remoteURL = \"http://www.plantuml.com/plantuml/png/~1\" ++ plantUMLScript"
     ]
    }
   ],
   "source": [
    "{-# LANGUAGE OverloadedStrings #-}\n",
    "\n",
    "import Network.HTTP.Simple\n",
    "import qualified Data.ByteString.Lazy as BL\n",
    "\n",
    "\n",
    "let remoteURL = \"http://www.plantuml.com/plantuml/png/~1\" ++ plantUMLScriptx\n",
    "\n",
    "response <- httpLBS $ parseRequest_ remoteURL\n",
    "let responseBody = getResponseBody response\n",
    "\n",
    "BL.writeFile \"diagram.png\" responseBody\n"
   ]
  },
  {
   "cell_type": "markdown",
   "id": "cbbdf991",
   "metadata": {},
   "source": [
    "![title](./diagram.png?10 )"
   ]
  },
  {
   "cell_type": "code",
   "execution_count": null,
   "id": "f156bf96",
   "metadata": {},
   "outputs": [],
   "source": []
  }
 ],
 "metadata": {
  "kernelspec": {
   "display_name": "Haskell",
   "language": "haskell",
   "name": "haskell"
  },
  "language_info": {
   "codemirror_mode": "ihaskell",
   "file_extension": ".hs",
   "mimetype": "text/x-haskell",
   "name": "haskell",
   "pygments_lexer": "Haskell",
   "version": "9.2.7"
  }
 },
 "nbformat": 4,
 "nbformat_minor": 5
}
