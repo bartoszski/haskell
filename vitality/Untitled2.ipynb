{
 "cells": [
  {
   "cell_type": "code",
   "execution_count": 1,
   "id": "88748ffc",
   "metadata": {},
   "outputs": [
    {
     "data": {
      "text/plain": [
       "Resolving dependencies...\n",
       "Up to date"
      ]
     },
     "metadata": {},
     "output_type": "display_data"
    }
   ],
   "source": [
    ":!cabal install --lib postgresql-simple"
   ]
  },
  {
   "cell_type": "markdown",
   "id": "fdb8f5b8",
   "metadata": {},
   "source": [
    "docker pull postgres:13\n",
    "docker run --name some-postgres -e POSTGRES_PASSWORD=t -d -p 5432:5432 postgres:13\n",
    "psql -h localhost -U postgres -d postgres -p 5432"
   ]
  },
  {
   "cell_type": "code",
   "execution_count": 3,
   "id": "e23d70b3",
   "metadata": {},
   "outputs": [],
   "source": [
    "{-# LANGUAGE OverloadedStrings #-}\n",
    "\n",
    "import Database.PostgreSQL.Simple\n",
    "import Database.PostgreSQL.Simple.FromRow\n",
    "import Data.Int (Int64)\n",
    "\n",
    "-- Define your database connection parameters\n",
    "connectionInfo :: ConnectInfo\n",
    "connectionInfo = defaultConnectInfo\n",
    "  { connectHost = \"localhost\"\n",
    "  , connectPort = 5432\n",
    "  , connectUser = \"postgres\"\n",
    "  , connectPassword = \"test123\"\n",
    "  , connectDatabase = \"postgres\"\n",
    "  }\n"
   ]
  },
  {
   "cell_type": "code",
   "execution_count": 4,
   "id": "5c04b202",
   "metadata": {},
   "outputs": [],
   "source": [
    "data Person = Person\n",
    "  { personId   :: Int\n",
    "  , personName :: String\n",
    "  , personAge  :: Int\n",
    "  } deriving (Show)\n"
   ]
  },
  {
   "cell_type": "code",
   "execution_count": 6,
   "id": "a3753c66",
   "metadata": {},
   "outputs": [
    {
     "data": {
      "text/html": [
       "<style>/* Styles used for the Hoogle display in the pager */\n",
       ".hoogle-doc {\n",
       "display: block;\n",
       "padding-bottom: 1.3em;\n",
       "padding-left: 0.4em;\n",
       "}\n",
       ".hoogle-code {\n",
       "display: block;\n",
       "font-family: monospace;\n",
       "white-space: pre;\n",
       "}\n",
       ".hoogle-text {\n",
       "display: block;\n",
       "}\n",
       ".hoogle-name {\n",
       "color: green;\n",
       "font-weight: bold;\n",
       "}\n",
       ".hoogle-head {\n",
       "font-weight: bold;\n",
       "}\n",
       ".hoogle-sub {\n",
       "display: block;\n",
       "margin-left: 0.4em;\n",
       "}\n",
       ".hoogle-package {\n",
       "font-weight: bold;\n",
       "font-style: italic;\n",
       "}\n",
       ".hoogle-module {\n",
       "font-weight: bold;\n",
       "}\n",
       ".hoogle-class {\n",
       "font-weight: bold;\n",
       "}\n",
       "\n",
       ".get-type {\n",
       "color: green;\n",
       "font-weight: bold;\n",
       "font-family: monospace;\n",
       "display: block;\n",
       "white-space: pre-wrap;\n",
       "}\n",
       ".show-type {\n",
       "color: green;\n",
       "font-weight: bold;\n",
       "font-family: monospace;\n",
       "margin-left: 1em;\n",
       "}\n",
       ".mono {\n",
       "font-family: monospace;\n",
       "display: block;\n",
       "}\n",
       ".err-msg {\n",
       "color: red;\n",
       "font-style: italic;\n",
       "font-family: monospace;\n",
       "white-space: pre;\n",
       "display: block;\n",
       "}\n",
       "#unshowable {\n",
       "color: red;\n",
       "font-weight: bold;\n",
       "}\n",
       ".err-msg.in.collapse {\n",
       "padding-top: 0.7em;\n",
       "}\n",
       "\n",
       ".highlight-code {\n",
       "white-space: pre;\n",
       "font-family: monospace;\n",
       "}\n",
       "\n",
       ".suggestion-warning { \n",
       "font-weight: bold;\n",
       "color: rgb(200, 130, 0);\n",
       "}\n",
       ".suggestion-error { \n",
       "font-weight: bold;\n",
       "color: red;\n",
       "}\n",
       ".suggestion-name {\n",
       "font-weight: bold;\n",
       "}\n",
       "\n",
       "</style><div class=\"suggestion-name\" style=\"clear:both;\">Eta reduce</div><div class=\"suggestion-row\" style=\"float: left;\"><div class=\"suggestion-warning\">Found:</div><div class=\"highlight-code\" id=\"haskell\">fromField field mbData = fromField field mbData</div></div><div class=\"suggestion-row\" style=\"float: left;\"><div class=\"suggestion-warning\">Why Not:</div><div class=\"highlight-code\" id=\"haskell\">fromField = fromField</div></div>"
      ],
      "text/plain": [
       "Line 13: Eta reduce\n",
       "Found:\n",
       "fromField field mbData = fromField field mbData\n",
       "Why not:\n",
       "fromField = fromField"
      ]
     },
     "metadata": {},
     "output_type": "display_data"
    },
    {
     "ename": "",
     "evalue": "",
     "output_type": "error",
     "traceback": [
      "<interactive>:5:10: error:\n    Duplicate instance declarations:\n      instance FromField Int -- Defined at <interactive>:5:10\n      instance FromField Int -- Defined in ‘Database.PostgreSQL.Simple.FromField’\n<interactive>:7:10: error:\n    Duplicate instance declarations:\n      instance ToField Int -- Defined at <interactive>:7:10\n      instance ToField Int -- Defined in ‘Database.PostgreSQL.Simple.ToField’"
     ]
    }
   ],
   "source": [
    "import Database.PostgreSQL.Simple.FromRow\n",
    "import Database.PostgreSQL.Simple.FromField\n",
    "import Database.PostgreSQL.Simple.ToRow\n",
    "import Database.PostgreSQL.Simple.ToField\n",
    "\n",
    "instance FromRow Person where\n",
    "    fromRow = Person <$> field <*> field <*> field\n",
    "\n",
    "instance ToRow Person where\n",
    "    toRow (Person id name age) = [toField id, toField name, toField age]\n",
    "\n",
    "instance FromField Int where\n",
    "    fromField field mbData = fromField field mbData\n",
    "\n",
    "instance ToField Int where\n",
    "    toField = toField\n"
   ]
  },
  {
   "cell_type": "code",
   "execution_count": 1,
   "id": "25dd26b6",
   "metadata": {},
   "outputs": [
    {
     "ename": "",
     "evalue": "",
     "output_type": "error",
     "traceback": [
      "libpq: failed (could not connect to server: Connection refused\n\tIs the server running on host \"localhost\" (127.0.0.1) and accepting\n\tTCP/IP connections on port 8081?\ncould not connect to server: Cannot assign requested address\n\tIs the server running on host \"localhost\" (::1) and accepting\n\tTCP/IP connections on port 8081?\n)"
     ]
    }
   ],
   "source": [
    "{-# LANGUAGE OverloadedStrings #-}\n",
    "\n",
    "import Database.PostgreSQL.Simple\n",
    "import Database.PostgreSQL.Simple.FromRow\n",
    "\n",
    "data Person = Person\n",
    "    { personId   :: Int\n",
    "    , personName :: String\n",
    "    , personAge  :: Int\n",
    "    } deriving (Show)\n",
    "\n",
    "instance FromRow Person where\n",
    "    fromRow = Person <$> field <*> field <*> field\n",
    "\n",
    "\n",
    "let connectionInfo = defaultConnectInfo\n",
    "        { connectHost = \"localhost\"\n",
    "      , connectPort = 8081\n",
    "      , connectUser = \"postgres\"\n",
    "      , connectPassword = \"t\"\n",
    "      , connectDatabase = \"postgres\"\n",
    "      }\n",
    "\n",
    "\n",
    "conn <- connect connectionInfo\n",
    "queryResults <- query_ conn \"SELECT id, name, age FROM persons\"\n",
    "\n",
    "queryResults\n",
    "\n",
    "\n"
   ]
  },
  {
   "cell_type": "code",
   "execution_count": null,
   "id": "8b9b7a7e",
   "metadata": {},
   "outputs": [],
   "source": [
    "\n",
    "mapM_ print (queryResults :: [Person])\n",
    "close conn"
   ]
  }
 ],
 "metadata": {
  "kernelspec": {
   "display_name": "Haskell",
   "language": "haskell",
   "name": "haskell"
  },
  "language_info": {
   "codemirror_mode": "ihaskell",
   "file_extension": ".hs",
   "mimetype": "text/x-haskell",
   "name": "haskell",
   "pygments_lexer": "Haskell",
   "version": "9.4.5"
  }
 },
 "nbformat": 4,
 "nbformat_minor": 5
}
