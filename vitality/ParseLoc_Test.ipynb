{
 "cells": [
  {
   "cell_type": "code",
   "execution_count": 1,
   "id": "0662e8ea",
   "metadata": {
    "scrolled": false
   },
   "outputs": [],
   "source": [
    ":load  ParseLoc"
   ]
  },
  {
   "cell_type": "markdown",
   "id": "66eef905",
   "metadata": {},
   "source": [
    "### create Location for test"
   ]
  },
  {
   "cell_type": "code",
   "execution_count": 2,
   "id": "b1eda708",
   "metadata": {},
   "outputs": [],
   "source": [
    "x = Location {database = \"ushvr12\", dbdesc = \"dev\", host = \"odp-us-innovation-postgres-db.cxzrm3enxxmy.us-east-1.rds.amazonaws.com\", loc_name = \"sedhp\", loc_class = \"oracle\", loc_directory = \"/u01/app/oracle/product/19.3.0.0/dbee_1\", loc_remote_node = \"ora-mke2-scanp.am.health.ge.com\", loc_remote_login = \"gehc_hvr5\", loc_remote_pwd = \"\", loc_remote_port = 4344, loc_db_name = \"\", loc_db_user = \"PLANT_USER_ODP/!{r/2axxMra/8grrk/}!@ora-mke2-scanp.am.health.ge.com:1521/prd1mes\", loc_description = \"scdhp connection\"}"
   ]
  },
  {
   "cell_type": "markdown",
   "id": "a5a15aea",
   "metadata": {},
   "source": [
    "####  Visualize Location"
   ]
  },
  {
   "cell_type": "code",
   "execution_count": 3,
   "id": "c03fb93a",
   "metadata": {},
   "outputs": [
    {
     "data": {
      "text/plain": [
       "Location {\n",
       "  database = ushvr12\n",
       "  dbdesc = dev\n",
       "  host = odp-us-innovation-postgres-db.cxzrm3enxxmy.us-east-1.rds.amazonaws.com\n",
       "  loc_name = sedhp\n",
       "  loc_class = oracle\n",
       "  loc_directory = /u01/app/oracle/product/19.3.0.0/dbee_1\n",
       "  loc_remote_node = ora-mke2-scanp.am.health.ge.com\n",
       "  loc_remote_login = gehc_hvr5\n",
       "  loc_remote_pwd = \n",
       "  loc_remote_port = 4344\n",
       "  loc_db_name = \n",
       "  loc_db_user = PLANT_USER_ODP/!{r/2axxMra/8grrk/}!@ora-mke2-scanp.am.health.ge.com:1521/prd1mes\n",
       "  loc_description = scdhp connection\n",
       "}"
      ]
     },
     "metadata": {},
     "output_type": "display_data"
    }
   ],
   "source": [
    "import Data.Text.Prettyprint.Doc\n",
    "\n",
    "pretty x"
   ]
  },
  {
   "cell_type": "markdown",
   "id": "d00378be",
   "metadata": {},
   "source": [
    "### load Json"
   ]
  },
  {
   "cell_type": "code",
   "execution_count": 4,
   "id": "9130609b",
   "metadata": {},
   "outputs": [
    {
     "data": {
      "text/plain": [
       "2596"
      ]
     },
     "metadata": {},
     "output_type": "display_data"
    }
   ],
   "source": [
    "import Data.Aeson\n",
    "import qualified Data.ByteString.Lazy as B\n",
    "import Control.Applicative\n",
    "\n",
    "input <- B.readFile \"data2.json\"\n",
    "let mm = decode input :: Maybe [Location]\n",
    "(length.unjust) mm"
   ]
  },
  {
   "cell_type": "code",
   "execution_count": 5,
   "id": "a9e1589d",
   "metadata": {},
   "outputs": [],
   "source": [
    "l = unjust mm\n",
    "let l_example =  (l!!2)"
   ]
  },
  {
   "cell_type": "code",
   "execution_count": 6,
   "id": "f4b194d1",
   "metadata": {},
   "outputs": [
    {
     "data": {
      "text/plain": [
       "Location {\n",
       "  database = ushvr12\n",
       "  dbdesc = dev\n",
       "  host = odp-us-innovation-postgres-db.cxzrm3enxxmy.us-east-1.rds.amazonaws.com\n",
       "  loc_name = sedhp\n",
       "  loc_class = oracle\n",
       "  loc_directory = /u01/app/oracle/product/19.3.0.0/dbee_1\n",
       "  loc_remote_node = ora-mke2-scanp.am.health.ge.com\n",
       "  loc_remote_login = gehc_hvr5\n",
       "  loc_remote_pwd = \n",
       "  loc_remote_port = 4344\n",
       "  loc_db_name = \n",
       "  loc_db_user = PLANT_USER_ODP/!{r/2axxMra/8grrk/}!@ora-mke2-scanp.am.health.ge.com:1521/prd1mes\n",
       "  loc_description = scdhp connection\n",
       "}"
      ]
     },
     "metadata": {},
     "output_type": "display_data"
    }
   ],
   "source": [
    "pretty l_example"
   ]
  },
  {
   "cell_type": "markdown",
   "id": "224771bb",
   "metadata": {},
   "source": [
    "----------------"
   ]
  },
  {
   "cell_type": "code",
   "execution_count": null,
   "id": "08db16f6",
   "metadata": {},
   "outputs": [],
   "source": [
    "import qualified Data.Text as T (Text,append,pack,unpack,head,take,splitOn,intercalate)\n",
    "import Data.Maybe (fromMaybe)\n",
    "import qualified Data.ByteString.Lazy.Char8 as BSL\n",
    "\n",
    "--- Redshift parser\n",
    "parseRedshift :: Location  -> [T.Text]\n",
    "parseRedshift l  = getUSer l : (map T.pack . concat . filterCols . fromMaybe []. parseJson .  getJsonStr)  l  \n",
    "   where\n",
    "       getJsonStr  = BSL.pack. T.unpack .last . T.splitOn \"=\" . loc_db_name  -- get loc_db_name and return string after first '='\n",
    "       parseJson s = decode s :: Maybe [[String]]            -- parse to list\n",
    "       filterCols  = map tail .  filter (\\[k, _] -> k `elem` [\"db_node\", \"db_name\"])\n",
    "       getUSer     = head . T.splitOn \"/\" . loc_db_user\n",
    "       \n",
    "--- PARSER \n",
    "\n",
    "parseLoc :: Location  -> Location'\n",
    "parseLoc l \n",
    "    | loc_class l == \"file\" && ((T.head . loc_directory)   l  == '/' )     = file_locdir l\n",
    "    | loc_class l == \"file\" && ((T.take 4 . loc_directory) l  == \"s3s:\" )  = file_s3s l\n",
    "    | loc_class l == \"file\" && ((T.take 5 . loc_directory) l  == \"sftp:\")  = file_sftp l\n",
    "    | loc_class l `elem` [\"mysql\",\"greenplum\",\"postgresql\"]                = mysql l \n",
    "    | loc_class l == \"sqlserver\"                                           = sqlserver l\n",
    "    | loc_class l == \"teradata\"                                            = teradata l \n",
    "    | loc_class l == \"salesforce\"                                          = salesforce l \n",
    "    | loc_class l == \"redshift\"                                            = redsfhit l  \n",
    "    | otherwise   = loc2Location l \"\"  [\"###\",\"###\",\"###\"]                                           \n",
    "     where\n",
    "        file_locdir x = loc2Location x  \"_locdir\"  [loc_remote_login  x ,loc_remote_node x, loc_directory x]\n",
    "        --\n",
    "        getBacket  =  head . T.splitOn \"/\"  . last. T.splitOn \"@\" .loc_directory\n",
    "        getPrefix  =  T.intercalate  \"/\" .tail . T.splitOn \"/\" . last. T.splitOn \"@\" .loc_directory\n",
    "        file_s3s x =  loc2Location x \"_s3s\" [\"###\",getBacket x ,getPrefix x]\n",
    "        --\n",
    "        getsftpNode   = getBacket\n",
    "        getsftpFolder =  getPrefix\n",
    "        file_sftp x   = loc2Location x \"_sftp\" [\"###\",getsftpNode x ,getsftpFolder x]\n",
    "        --\n",
    "        getNodeMysql  =  head . T.splitOn \"~\" . loc_db_name\n",
    "        getInstMysql  =  last . T.splitOn \"~\" . loc_db_name\n",
    "        getUserMysql  =  head . T.splitOn \"/\" . loc_db_user\n",
    "        mysql x =  loc2Location x \"\"   [ getUserMysql x , getNodeMysql x, getInstMysql x]\n",
    "        --\n",
    "        getNodeMsSql  =  head . T.splitOn \"\\\\\" . loc_db_name\n",
    "        getInstMsSql  =  last . T.splitOn \"\\\\\" . loc_db_name\n",
    "        getUserMsSql  =  getUserMysql\n",
    "        sqlserver x   = loc2Location x \"\"   [getUserMsSql x, getNodeMsSql x,getInstMsSql x]\n",
    "        --\n",
    "        getUserTd     =  getUserMysql\n",
    "        teradata x = loc2Location x \"\"   [getUserTd x, loc_db_name x,getUserTd x]\n",
    "        --\n",
    "        getNodeSf     = last .T.splitOn \"//\" . loc_directory\n",
    "        getInstSf     = last .T.splitOn \"@\" . head . T.splitOn \"/\" . loc_db_user\n",
    "        getUserSf     = head .T.splitOn \"@\" . head . T.splitOn \"/\" . loc_db_user\n",
    "        salesforce x  = loc2Location x \"\"   [getUserSf x, getNodeSf x,getInstSf x]\n",
    "        --\n",
    "        redsfhit x    = loc2Location x \"\"  (parseRedshift x)"
   ]
  },
  {
   "cell_type": "code",
   "execution_count": 15,
   "id": "75297081",
   "metadata": {},
   "outputs": [
    {
     "data": {
      "text/plain": [
       "138"
      ]
     },
     "metadata": {},
     "output_type": "display_data"
    }
   ],
   "source": [
    "length ll"
   ]
  },
  {
   "cell_type": "code",
   "execution_count": null,
   "id": "53a856dd",
   "metadata": {},
   "outputs": [
    {
     "data": {
      "text/html": [
       "<style>/* Styles used for the Hoogle display in the pager */\n",
       ".hoogle-doc {\n",
       "display: block;\n",
       "padding-bottom: 1.3em;\n",
       "padding-left: 0.4em;\n",
       "}\n",
       ".hoogle-code {\n",
       "display: block;\n",
       "font-family: monospace;\n",
       "white-space: pre;\n",
       "}\n",
       ".hoogle-text {\n",
       "display: block;\n",
       "}\n",
       ".hoogle-name {\n",
       "color: green;\n",
       "font-weight: bold;\n",
       "}\n",
       ".hoogle-head {\n",
       "font-weight: bold;\n",
       "}\n",
       ".hoogle-sub {\n",
       "display: block;\n",
       "margin-left: 0.4em;\n",
       "}\n",
       ".hoogle-package {\n",
       "font-weight: bold;\n",
       "font-style: italic;\n",
       "}\n",
       ".hoogle-module {\n",
       "font-weight: bold;\n",
       "}\n",
       ".hoogle-class {\n",
       "font-weight: bold;\n",
       "}\n",
       "\n",
       ".get-type {\n",
       "color: green;\n",
       "font-weight: bold;\n",
       "font-family: monospace;\n",
       "display: block;\n",
       "white-space: pre-wrap;\n",
       "}\n",
       ".show-type {\n",
       "color: green;\n",
       "font-weight: bold;\n",
       "font-family: monospace;\n",
       "margin-left: 1em;\n",
       "}\n",
       ".mono {\n",
       "font-family: monospace;\n",
       "display: block;\n",
       "}\n",
       ".err-msg {\n",
       "color: red;\n",
       "font-style: italic;\n",
       "font-family: monospace;\n",
       "white-space: pre;\n",
       "display: block;\n",
       "}\n",
       "#unshowable {\n",
       "color: red;\n",
       "font-weight: bold;\n",
       "}\n",
       ".err-msg.in.collapse {\n",
       "padding-top: 0.7em;\n",
       "}\n",
       "\n",
       ".highlight-code {\n",
       "white-space: pre;\n",
       "font-family: monospace;\n",
       "}\n",
       "\n",
       ".suggestion-warning { \n",
       "font-weight: bold;\n",
       "color: rgb(200, 130, 0);\n",
       "}\n",
       ".suggestion-error { \n",
       "font-weight: bold;\n",
       "color: red;\n",
       "}\n",
       ".suggestion-name {\n",
       "font-weight: bold;\n",
       "}\n",
       "\n",
       "</style><div class=\"suggestion-name\" style=\"clear:both;\">Use ==</div><div class=\"suggestion-row\" style=\"float: left;\"><div class=\"suggestion-warning\">Found:</div><div class=\"highlight-code\" id=\"haskell\">loc_class l `elem` [\"redshift\"]</div></div><div class=\"suggestion-row\" style=\"float: left;\"><div class=\"suggestion-warning\">Why Not:</div><div class=\"highlight-code\" id=\"haskell\">loc_class l == \"redshift\"</div></div>"
      ],
      "text/plain": [
       "Line 2: Use ==\n",
       "Found:\n",
       "loc_class l `elem` [\"redshift\"]\n",
       "Why not:\n",
       "loc_class l == \"redshift\""
      ]
     },
     "metadata": {},
     "output_type": "display_data"
    }
   ],
   "source": [
    "ff l = loc_class l == \"file\" && ((T.take 5 . loc_directory) l  == \"sftp:\")  \n",
    "f l  = loc_class l `elem` [\"redshift\"]\n",
    "ll   = filter  f   l"
   ]
  },
  {
   "cell_type": "code",
   "execution_count": 11,
   "id": "d2a567db",
   "metadata": {},
   "outputs": [
    {
     "data": {
      "text/html": [
       "<style>/* Styles used for the Hoogle display in the pager */\n",
       ".hoogle-doc {\n",
       "display: block;\n",
       "padding-bottom: 1.3em;\n",
       "padding-left: 0.4em;\n",
       "}\n",
       ".hoogle-code {\n",
       "display: block;\n",
       "font-family: monospace;\n",
       "white-space: pre;\n",
       "}\n",
       ".hoogle-text {\n",
       "display: block;\n",
       "}\n",
       ".hoogle-name {\n",
       "color: green;\n",
       "font-weight: bold;\n",
       "}\n",
       ".hoogle-head {\n",
       "font-weight: bold;\n",
       "}\n",
       ".hoogle-sub {\n",
       "display: block;\n",
       "margin-left: 0.4em;\n",
       "}\n",
       ".hoogle-package {\n",
       "font-weight: bold;\n",
       "font-style: italic;\n",
       "}\n",
       ".hoogle-module {\n",
       "font-weight: bold;\n",
       "}\n",
       ".hoogle-class {\n",
       "font-weight: bold;\n",
       "}\n",
       "\n",
       ".get-type {\n",
       "color: green;\n",
       "font-weight: bold;\n",
       "font-family: monospace;\n",
       "display: block;\n",
       "white-space: pre-wrap;\n",
       "}\n",
       ".show-type {\n",
       "color: green;\n",
       "font-weight: bold;\n",
       "font-family: monospace;\n",
       "margin-left: 1em;\n",
       "}\n",
       ".mono {\n",
       "font-family: monospace;\n",
       "display: block;\n",
       "}\n",
       ".err-msg {\n",
       "color: red;\n",
       "font-style: italic;\n",
       "font-family: monospace;\n",
       "white-space: pre;\n",
       "display: block;\n",
       "}\n",
       "#unshowable {\n",
       "color: red;\n",
       "font-weight: bold;\n",
       "}\n",
       ".err-msg.in.collapse {\n",
       "padding-top: 0.7em;\n",
       "}\n",
       "\n",
       ".highlight-code {\n",
       "white-space: pre;\n",
       "font-family: monospace;\n",
       "}\n",
       "\n",
       ".suggestion-warning { \n",
       "font-weight: bold;\n",
       "color: rgb(200, 130, 0);\n",
       "}\n",
       ".suggestion-error { \n",
       "font-weight: bold;\n",
       "color: red;\n",
       "}\n",
       ".suggestion-name {\n",
       "font-weight: bold;\n",
       "}\n",
       "\n",
       "</style><span class='get-type'>json_Str :: Text</span>"
      ],
      "text/plain": [
       "json_Str :: Text"
      ]
     },
     "metadata": {},
     "output_type": "display_data"
    },
    {
     "data": {
      "text/plain": [
       "\"[[\\\"odbc_driver\\\",\\\"/opt/amazon/redshiftodbc/lib/64/libamazonredshiftodbc64.so\\\"],[\\\"db_node\\\",\\\"us-innovation-redshift.c8ziwm1qxh67.us-east-1.redshift.amazonaws.com\\\"],[\\\"db_port\\\",\\\"5439\\\"],[\\\"db_name\\\",\\\"usinnovationredshift\\\"]]\""
      ]
     },
     "metadata": {},
     "output_type": "display_data"
    }
   ],
   "source": [
    "\n",
    "\n",
    "r = head  ll\n",
    "getJsonStr  =  last . T.splitOn \"=\" . loc_db_name\n",
    "json_Str =  getJsonStr  r\n",
    "\n",
    "-- Assuming loc_db_name and r are defined somewhere\n",
    "\n",
    ":t json_Str\n",
    "\n",
    "json_Str"
   ]
  },
  {
   "cell_type": "code",
   "execution_count": 35,
   "id": "8264c676",
   "metadata": {},
   "outputs": [
    {
     "data": {
      "text/html": [
       "<style>/* Styles used for the Hoogle display in the pager */\n",
       ".hoogle-doc {\n",
       "display: block;\n",
       "padding-bottom: 1.3em;\n",
       "padding-left: 0.4em;\n",
       "}\n",
       ".hoogle-code {\n",
       "display: block;\n",
       "font-family: monospace;\n",
       "white-space: pre;\n",
       "}\n",
       ".hoogle-text {\n",
       "display: block;\n",
       "}\n",
       ".hoogle-name {\n",
       "color: green;\n",
       "font-weight: bold;\n",
       "}\n",
       ".hoogle-head {\n",
       "font-weight: bold;\n",
       "}\n",
       ".hoogle-sub {\n",
       "display: block;\n",
       "margin-left: 0.4em;\n",
       "}\n",
       ".hoogle-package {\n",
       "font-weight: bold;\n",
       "font-style: italic;\n",
       "}\n",
       ".hoogle-module {\n",
       "font-weight: bold;\n",
       "}\n",
       ".hoogle-class {\n",
       "font-weight: bold;\n",
       "}\n",
       "\n",
       ".get-type {\n",
       "color: green;\n",
       "font-weight: bold;\n",
       "font-family: monospace;\n",
       "display: block;\n",
       "white-space: pre-wrap;\n",
       "}\n",
       ".show-type {\n",
       "color: green;\n",
       "font-weight: bold;\n",
       "font-family: monospace;\n",
       "margin-left: 1em;\n",
       "}\n",
       ".mono {\n",
       "font-family: monospace;\n",
       "display: block;\n",
       "}\n",
       ".err-msg {\n",
       "color: red;\n",
       "font-style: italic;\n",
       "font-family: monospace;\n",
       "white-space: pre;\n",
       "display: block;\n",
       "}\n",
       "#unshowable {\n",
       "color: red;\n",
       "font-weight: bold;\n",
       "}\n",
       ".err-msg.in.collapse {\n",
       "padding-top: 0.7em;\n",
       "}\n",
       "\n",
       ".highlight-code {\n",
       "white-space: pre;\n",
       "font-family: monospace;\n",
       "}\n",
       "\n",
       ".suggestion-warning { \n",
       "font-weight: bold;\n",
       "color: rgb(200, 130, 0);\n",
       "}\n",
       ".suggestion-error { \n",
       "font-weight: bold;\n",
       "color: red;\n",
       "}\n",
       ".suggestion-name {\n",
       "font-weight: bold;\n",
       "}\n",
       "\n",
       "</style><div class=\"suggestion-name\" style=\"clear:both;\">Redundant bracket</div><div class=\"suggestion-row\" style=\"float: left;\"><div class=\"suggestion-warning\">Found:</div><div class=\"highlight-code\" id=\"haskell\">(B.pack)</div></div><div class=\"suggestion-row\" style=\"float: left;\"><div class=\"suggestion-warning\">Why Not:</div><div class=\"highlight-code\" id=\"haskell\">B.pack</div></div>"
      ],
      "text/plain": [
       "Line 2: Redundant bracket\n",
       "Found:\n",
       "(B.pack)\n",
       "Why not:\n",
       "B.pack"
      ]
     },
     "metadata": {},
     "output_type": "display_data"
    },
    {
     "ename": "",
     "evalue": "",
     "output_type": "error",
     "traceback": [
      "<interactive>:1:2: error:\n    Ambiguous occurrence ‘B.pack’\n    It could refer to\n       either ‘B.pack’, imported qualified from ‘Data.ByteString.Char8’\n           or ‘B.pack’, imported qualified from ‘Data.ByteString.Lazy’\n           or ‘B.pack’, imported qualified from ‘Data.ByteString’"
     ]
    }
   ],
   "source": [
    "import qualified Data.ByteString.Char8 as B\n",
    "(B.pack . unpack) json_Str "
   ]
  },
  {
   "cell_type": "code",
   "execution_count": 19,
   "id": "8d74db06",
   "metadata": {},
   "outputs": [],
   "source": [
    "import qualified Data.ByteString.Char8 as BS\n"
   ]
  },
  {
   "cell_type": "code",
   "execution_count": 45,
   "id": "660c9c8a",
   "metadata": {},
   "outputs": [
    {
     "data": {
      "text/plain": [
       "[\"504005930\",\"us-innovation-redshift.c8ziwm1qxh67.us-east-1.redshift.amazonaws.com\",\"usinnovationredshift\"]"
      ]
     },
     "metadata": {},
     "output_type": "display_data"
    }
   ],
   "source": [
    "import Data.Maybe (fromMaybe )\n",
    "getJsonStr  = BSL.pack. T.unpack .last . T.splitOn \"=\" . loc_db_name  -- get loc_db_name and return string after first '='\n",
    "parseJson s = decode s :: Maybe [[String]]            -- parse to list\n",
    "filterCols  = map tail .  filter (\\[k, _] -> k `elem` [\"db_node\", \"db_name\"])\n",
    "getUSer     = head . T.splitOn \"/\" . loc_db_user\n",
    "\n",
    "getUSer r  : (map T.pack . concat .filterCols.fromMaybe [].parseJson . getJsonStr) r"
   ]
  },
  {
   "cell_type": "code",
   "execution_count": 28,
   "id": "89b2b6f4",
   "metadata": {},
   "outputs": [
    {
     "data": {
      "text/plain": [
       "Just (Array [Array [String \"odbc_driver\",String \"/opt/amazon/redshiftodbc/lib/64/libamazonredshiftodbc64.so\"],Array [String \"db_node\",String \"us-innovation-redshift.c8ziwm1qxh67.us-east-1.redshift.amazonaws.com\"],Array [String \"db_port\",String \"5439\"],Array [String \"db_name\",String \"usinnovationredshift\"]])"
      ]
     },
     "metadata": {},
     "output_type": "display_data"
    }
   ],
   "source": [
    "import qualified Data.ByteString.Lazy.Char8 as BSL\n",
    "import qualified Data.Text as T (Text,append,pack,unpack,head,take,splitOn,intercalate)\n",
    "\n",
    "sText =  T.pack \"[[\\\"odbc_driver\\\",\\\"/opt/amazon/redshiftodbc/lib/64/libamazonredshiftodbc64.so\\\"],[\\\"db_node\\\",\\\"us-innovation-redshift.c8ziwm1qxh67.us-east-1.redshift.amazonaws.com\\\"],[\\\"db_port\\\",\\\"5439\\\"],[\\\"db_name\\\",\\\"usinnovationredshift\\\"]]\"\n",
    "sString = T.unpack sText\n",
    "bString = BSL.pack sString\n",
    "decode bString :: Maybe Value"
   ]
  },
  {
   "cell_type": "code",
   "execution_count": 50,
   "id": "e374705c",
   "metadata": {},
   "outputs": [
    {
     "data": {
      "text/plain": [
       "[\"504005930\",\"us-innovation-redshift.c8ziwm1qxh67.us-east-1.redshift.amazonaws.com\",\"usinnovationredshift\"]"
      ]
     },
     "metadata": {},
     "output_type": "display_data"
    }
   ],
   "source": [
    "import Data.Maybe (fromMaybe)\n",
    "import qualified Data.Text as T (Text,append,pack,head,take,splitOn,intercalate,dropWhile )\n",
    "import qualified Data.ByteString.Lazy.Char8 as BSL\n",
    "\n",
    "parseRedshift :: Location  ->[T.Text]\n",
    "parseRedshift l  = getUSer l : (map T.pack . concat . filterCols . fromMaybe []. parseJson .  getJsonStr)  l  \n",
    "   where\n",
    "       getJsonStr  = BSL.pack. T.unpack .last . T.splitOn \"=\" . loc_db_name  -- get loc_db_name and return string after first '='\n",
    "       parseJson s = decode s :: Maybe [[String]]            -- parse to list\n",
    "       filterCols  = map tail .  filter (\\[k, _] -> k `elem` [\"db_node\", \"db_name\"])\n",
    "       getUSer     = head . T.splitOn \"/\" . loc_db_user\n",
    "       \n",
    "parseRedshift r       "
   ]
  },
  {
   "cell_type": "code",
   "execution_count": null,
   "id": "0389953e",
   "metadata": {
    "scrolled": false
   },
   "outputs": [
    {
     "data": {
      "text/plain": [
       "[Location {\n",
       "  database         = ushvr12\n",
       "  dbdesc           = dev\n",
       "  host             = odp-us-innovation-postgres-db.cxzrm3enxxmy.us-east-1.rds.amazonaws.com\n",
       "  loc_class        = redshift\n",
       "   loc_name         = tredp\n",
       "   loc_directory    = \n",
       "   loc_remote_node  = 10.242.112.153\n",
       "   loc_remote_login = isc_dev\n",
       "   loc_remote_port  = 8443\n",
       "   loc_db_user      = 504005930\n",
       "   loc_description  = tredp\n",
       "   db_node_name     = us-innovation-redshift.c8ziwm1qxh67.us-east-1.redshift.amazonaws.com\n",
       "   db_instance      = usinnovationredshift\n",
       "},Location {\n",
       "  database         = ushvr00\n",
       "  dbdesc           = fin-prod\n",
       "  host             = odp-fin-prod-hvr-metadata.odp.health.ge.com\n",
       "  loc_class        = redshift\n",
       "   loc_name         = trdfp\n",
       "   loc_directory    = \n",
       "   loc_remote_node  = 10.242.109.196\n",
       "   loc_remote_login = hvr\n",
       "   loc_remote_port  = 4343\n",
       "   loc_db_user      = 504004225\n",
       "   loc_description  = redshift finance prod\n",
       "   db_node_name     = odp-fin-prod-etl-redshift.odp.health.ge.com\n",
       "   db_instance      = gehc_data\n",
       "},Location {\n",
       "  database         = ushvr00\n",
       "  dbdesc           = fin-prod\n",
       "  host             = odp-fin-prod-hvr-metadata.odp.health.ge.com\n",
       "  loc_class        = redshift\n",
       "   loc_name         = trddn\n",
       "   loc_directory    = \n",
       "   loc_remote_node  = 10.242.109.242\n",
       "   loc_remote_login = gehc_ops\n",
       "   loc_remote_port  = 8443\n",
       "   loc_db_user      = 504004019\n",
       "   loc_description  = redshift finance nonprod \n",
       "   db_node_name     = odp-fin-dev-etl-redshift.odp.health.ge.com\n",
       "   db_instance      = gehc_data\n",
       "},Location {\n",
       "  database         = ushvr00\n",
       "  dbdesc           = fin-prod\n",
       "  host             = odp-fin-prod-hvr-metadata.odp.health.ge.com\n",
       "  loc_class        = redshift\n",
       "   loc_name         = trdin\n",
       "   loc_directory    = \n",
       "   loc_remote_node  = 10.242.112.153\n",
       "   loc_remote_login = isc_dev\n",
       "   loc_remote_port  = 8443\n",
       "   loc_db_user      = 504004019\n",
       "   loc_description  = redshift fin nprod\n",
       "   db_node_name     = odp-fin-dev-etl-redshift.odp.health.ge.com\n",
       "   db_instance      = gehc_data\n",
       "},Location {\n",
       "  database         = ushvr00\n",
       "  dbdesc           = fin-prod\n",
       "  host             = odp-fin-prod-hvr-metadata.odp.health.ge.com\n",
       "  loc_class        = redshift\n",
       "   loc_name         = trdsh\n",
       "   loc_directory    = \n",
       "   loc_remote_node  = 10.242.112.153\n",
       "   loc_remote_login = hvr2\n",
       "   loc_remote_port  = 9090\n",
       "   loc_db_user      = 502835360\n",
       "   loc_description  = redshift innovation\n",
       "   db_node_name     = us-innovation-redshift.c8ziwm1qxh67.us-east-1.redshift.amazonaws.com\n",
       "   db_instance      = usinnovationredshift\n",
       "}]"
      ]
     },
     "metadata": {},
     "output_type": "display_data"
    }
   ],
   "source": [
    "(map (pretty.parseLoc) . take 5 ) ll"
   ]
  },
  {
   "cell_type": "code",
   "execution_count": 50,
   "id": "6bb5dd3d",
   "metadata": {},
   "outputs": [
    {
     "data": {
      "text/plain": [
       "[\"redshift\",\"file\",\"oracle\",\"sqlserver\",\"teradata\",\"postgresql\",\"salesforce\",\"mysql\",\"greenplum\",\"kafka\"]"
      ]
     },
     "metadata": {},
     "output_type": "display_data"
    }
   ],
   "source": [
    "import Data.List (nub)\n",
    "(nub. map loc_class) l"
   ]
  }
 ],
 "metadata": {
  "kernelspec": {
   "display_name": "Haskell",
   "language": "haskell",
   "name": "haskell"
  },
  "language_info": {
   "codemirror_mode": "ihaskell",
   "file_extension": ".hs",
   "mimetype": "text/x-haskell",
   "name": "haskell",
   "pygments_lexer": "Haskell",
   "version": "9.4.5"
  }
 },
 "nbformat": 4,
 "nbformat_minor": 5
}
