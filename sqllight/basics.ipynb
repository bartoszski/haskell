{
 "cells": [
  {
   "cell_type": "code",
   "execution_count": 1,
   "id": "3dc2947d",
   "metadata": {},
   "outputs": [
    {
     "data": {
      "text/plain": [
       "Resolving dependencies...\n",
       "Up to date"
      ]
     },
     "metadata": {},
     "output_type": "display_data"
    }
   ],
   "source": [
    ":!cabal install --lib sqlite-simple"
   ]
  },
  {
   "cell_type": "code",
   "execution_count": 2,
   "id": "9a5838f3",
   "metadata": {},
   "outputs": [],
   "source": [
    "{-# LANGUAGE OverloadedStrings #-}\n",
    "\n",
    "import Database.SQLite.Simple\n"
   ]
  },
  {
   "cell_type": "code",
   "execution_count": 3,
   "id": "f27ceeb1",
   "metadata": {},
   "outputs": [],
   "source": [
    "instance FromRow User where\n",
    "    fromRow = User <$> field <*> field <*> field\n",
    "    \n",
    "data User = User\n",
    "    { userId :: Int\n",
    "    , userName :: String\n",
    "    , userAge :: Int\n",
    "    } deriving Show\n",
    "\n",
    "conn <- open \"mydatabase.db\" -- Replace with your database file path\n",
    "execute_ conn \"CREATE TABLE IF NOT EXISTS users (id INTEGER PRIMARY KEY, name TEXT, age INT)\"\n",
    "execute conn \"INSERT INTO users (name, age) VALUES (?, ?)\" (\"Alice\", 30)\n",
    "execute conn \"INSERT INTO users (name, age) VALUES (?, ?)\" (\"Bob\", 25)"
   ]
  },
  {
   "cell_type": "code",
   "execution_count": 4,
   "id": "9a3e8d8c",
   "metadata": {},
   "outputs": [],
   "source": [
    "users <- query_ conn \"SELECT * FROM users\" :: IO [User]"
   ]
  },
  {
   "cell_type": "markdown",
   "id": "83a9a41d",
   "metadata": {},
   "source": [
    "## cast to list"
   ]
  },
  {
   "cell_type": "code",
   "execution_count": 5,
   "id": "397f9d4d",
   "metadata": {},
   "outputs": [
    {
     "data": {
      "text/plain": [
       "[[\"1\",\"30\",\"Alice\"],[\"2\",\"25\",\"Bob\"],[\"3\",\"30\",\"Alice\"],[\"4\",\"25\",\"Bob\"],[\"5\",\"30\",\"Alice\"],[\"6\",\"25\",\"Bob\"],[\"7\",\"30\",\"Alice\"],[\"8\",\"25\",\"Bob\"],[\"9\",\"30\",\"Alice\"],[\"10\",\"25\",\"Bob\"],[\"11\",\"30\",\"Alice\"],[\"12\",\"25\",\"Bob\"],[\"13\",\"30\",\"Alice\"],[\"14\",\"25\",\"Bob\"],[\"15\",\"30\",\"Alice\"],[\"16\",\"25\",\"Bob\"],[\"17\",\"30\",\"Alice\"],[\"18\",\"25\",\"Bob\"],[\"19\",\"30\",\"Alice\"],[\"20\",\"25\",\"Bob\"],[\"21\",\"30\",\"Alice\"],[\"22\",\"25\",\"Bob\"],[\"23\",\"30\",\"Alice\"],[\"24\",\"25\",\"Bob\"]]"
      ]
     },
     "metadata": {},
     "output_type": "display_data"
    }
   ],
   "source": [
    "userValues = map  (\\x-> [(show . userId)x, (show . userAge) x, userName x])\n",
    "userValues users\n"
   ]
  },
  {
   "cell_type": "code",
   "execution_count": 6,
   "id": "13c7f620",
   "metadata": {},
   "outputs": [],
   "source": [
    "l = [User {userId = 2, userName = \"Bob\", userAge = 25}]"
   ]
  },
  {
   "cell_type": "code",
   "execution_count": 7,
   "id": "b8108ea3",
   "metadata": {},
   "outputs": [
    {
     "data": {
      "text/plain": [
       "User {userId = 1, userName = \"Alice\", userAge = 30}\n",
       "User {userId = 2, userName = \"Bob\", userAge = 25}\n",
       "User {userId = 3, userName = \"Alice\", userAge = 30}\n",
       "User {userId = 4, userName = \"Bob\", userAge = 25}\n",
       "User {userId = 5, userName = \"Alice\", userAge = 30}\n",
       "User {userId = 6, userName = \"Bob\", userAge = 25}\n",
       "User {userId = 7, userName = \"Alice\", userAge = 30}\n",
       "User {userId = 8, userName = \"Bob\", userAge = 25}\n",
       "User {userId = 9, userName = \"Alice\", userAge = 30}\n",
       "User {userId = 10, userName = \"Bob\", userAge = 25}\n",
       "User {userId = 11, userName = \"Alice\", userAge = 30}\n",
       "User {userId = 12, userName = \"Bob\", userAge = 25}\n",
       "User {userId = 13, userName = \"Alice\", userAge = 30}\n",
       "User {userId = 14, userName = \"Bob\", userAge = 25}\n",
       "User {userId = 15, userName = \"Alice\", userAge = 30}\n",
       "User {userId = 16, userName = \"Bob\", userAge = 25}\n",
       "User {userId = 17, userName = \"Alice\", userAge = 30}\n",
       "User {userId = 18, userName = \"Bob\", userAge = 25}\n",
       "User {userId = 19, userName = \"Alice\", userAge = 30}\n",
       "User {userId = 20, userName = \"Bob\", userAge = 25}\n",
       "User {userId = 21, userName = \"Alice\", userAge = 30}\n",
       "User {userId = 22, userName = \"Bob\", userAge = 25}\n",
       "User {userId = 23, userName = \"Alice\", userAge = 30}\n",
       "User {userId = 24, userName = \"Bob\", userAge = 25}"
      ]
     },
     "metadata": {},
     "output_type": "display_data"
    }
   ],
   "source": [
    "mapM_ print users"
   ]
  },
  {
   "cell_type": "code",
   "execution_count": 8,
   "id": "bff5a660",
   "metadata": {},
   "outputs": [],
   "source": [
    "close conn"
   ]
  },
  {
   "cell_type": "markdown",
   "id": "1ac69b35",
   "metadata": {},
   "source": [
    "# UDF"
   ]
  },
  {
   "cell_type": "code",
   "execution_count": 32,
   "id": "f2d79b0c",
   "metadata": {},
   "outputs": [
    {
     "data": {
      "text/html": [
       "<style>/* Styles used for the Hoogle display in the pager */\n",
       ".hoogle-doc {\n",
       "display: block;\n",
       "padding-bottom: 1.3em;\n",
       "padding-left: 0.4em;\n",
       "}\n",
       ".hoogle-code {\n",
       "display: block;\n",
       "font-family: monospace;\n",
       "white-space: pre;\n",
       "}\n",
       ".hoogle-text {\n",
       "display: block;\n",
       "}\n",
       ".hoogle-name {\n",
       "color: green;\n",
       "font-weight: bold;\n",
       "}\n",
       ".hoogle-head {\n",
       "font-weight: bold;\n",
       "}\n",
       ".hoogle-sub {\n",
       "display: block;\n",
       "margin-left: 0.4em;\n",
       "}\n",
       ".hoogle-package {\n",
       "font-weight: bold;\n",
       "font-style: italic;\n",
       "}\n",
       ".hoogle-module {\n",
       "font-weight: bold;\n",
       "}\n",
       ".hoogle-class {\n",
       "font-weight: bold;\n",
       "}\n",
       "\n",
       ".get-type {\n",
       "color: green;\n",
       "font-weight: bold;\n",
       "font-family: monospace;\n",
       "display: block;\n",
       "white-space: pre-wrap;\n",
       "}\n",
       ".show-type {\n",
       "color: green;\n",
       "font-weight: bold;\n",
       "font-family: monospace;\n",
       "margin-left: 1em;\n",
       "}\n",
       ".mono {\n",
       "font-family: monospace;\n",
       "display: block;\n",
       "}\n",
       ".err-msg {\n",
       "color: red;\n",
       "font-style: italic;\n",
       "font-family: monospace;\n",
       "white-space: pre;\n",
       "display: block;\n",
       "}\n",
       "#unshowable {\n",
       "color: red;\n",
       "font-weight: bold;\n",
       "}\n",
       ".err-msg.in.collapse {\n",
       "padding-top: 0.7em;\n",
       "}\n",
       "\n",
       ".highlight-code {\n",
       "white-space: pre;\n",
       "font-family: monospace;\n",
       "}\n",
       "\n",
       ".suggestion-warning { \n",
       "font-weight: bold;\n",
       "color: rgb(200, 130, 0);\n",
       "}\n",
       ".suggestion-error { \n",
       "font-weight: bold;\n",
       "color: red;\n",
       "}\n",
       ".suggestion-name {\n",
       "font-weight: bold;\n",
       "}\n",
       "\n",
       "</style><div class=\"suggestion-name\" style=\"clear:both;\">Use newtype instead of data</div><div class=\"suggestion-row\" style=\"float: left;\"><div class=\"suggestion-warning\">Found:</div><div class=\"highlight-code\" id=\"haskell\">data Number\n",
       "  = Number Int\n",
       "  deriving Show</div></div><div class=\"suggestion-row\" style=\"float: left;\"><div class=\"suggestion-warning\">Why Not:</div><div class=\"highlight-code\" id=\"haskell\">newtype Number\n",
       "  = Number Int\n",
       "  deriving Show</div></div>"
      ],
      "text/plain": [
       "Line 8: Use newtype instead of data\n",
       "Found:\n",
       "data Number\n",
       "  = Number Int\n",
       "  deriving Show\n",
       "Why not:\n",
       "newtype Number\n",
       "  = Number Int\n",
       "  deriving Show"
      ]
     },
     "metadata": {},
     "output_type": "display_data"
    }
   ],
   "source": [
    "import Database.SQLite.Simple\n",
    "import Database.SQLite.Simple.FromRow\n",
    "import Database.SQLite.Simple.ToField\n",
    "\n",
    "data Number = Number Int deriving Show\n",
    "\n",
    "instance FromRow Number where\n",
    "    fromRow = Number <$> field"
   ]
  },
  {
   "cell_type": "code",
   "execution_count": 33,
   "id": "eab1e2f9",
   "metadata": {},
   "outputs": [],
   "source": [
    "conn <- open \"mydatabase2.db\"\n",
    "\n",
    "\n",
    "execute_ conn \"CREATE TABLE IF NOT EXISTS numbers (A Integer)\"\n",
    "\n",
    "execute conn \"INSERT INTO numbers (A) VALUES (?)\" (Only 1)\n",
    "execute conn \"INSERT INTO numbers (A) VALUES (?)\" (Only 2)\n",
    "execute conn \"INSERT INTO numbers (A) VALUES (?)\" (Only 3)\n",
    "execute conn \"INSERT INTO numbers (A) VALUES (?)\" (Only 4)\n",
    "\n",
    "values <- query_ conn \"SELECT A FROM numbers\" :: IO [Number]"
   ]
  },
  {
   "cell_type": "code",
   "execution_count": 34,
   "id": "d86d123f",
   "metadata": {},
   "outputs": [
    {
     "data": {
      "text/plain": [
       "[Number 1,Number 2,Number 3,Number 4,Number 1,Number 2,Number 3,Number 4]"
      ]
     },
     "metadata": {},
     "output_type": "display_data"
    }
   ],
   "source": [
    "values"
   ]
  },
  {
   "cell_type": "code",
   "execution_count": 35,
   "id": "00c847c3",
   "metadata": {},
   "outputs": [
    {
     "ename": "",
     "evalue": "",
     "output_type": "error",
     "traceback": [
      "<interactive>:1:1: error: Variable not in scope: createFunction :: Connection -> t0 -> Maybe a0 -> (Int -> m0 Int) -> t"
     ]
    }
   ],
   "source": [
    "square :: Int -> Int\n",
    "square x = x * x\n",
    "\n",
    "createFunction conn \"square\" (Just 1) (return . square)"
   ]
  },
  {
   "cell_type": "code",
   "execution_count": 37,
   "id": "d2c3f09b",
   "metadata": {},
   "outputs": [
    {
     "ename": "",
     "evalue": "",
     "output_type": "error",
     "traceback": [
      "SQLite3 returned ErrorError while attempting to perform prepare \"SELECT A, square(A) FROM numbers\": no such function: square"
     ]
    }
   ],
   "source": [
    "values <- query_ conn \"SELECT A, square(A) FROM numbers\" :: IO [(Int, Int)]\n",
    "mapM_ print values\n",
    "\n",
    "close conn\n"
   ]
  },
  {
   "cell_type": "code",
   "execution_count": 44,
   "id": "143643a1",
   "metadata": {},
   "outputs": [
    {
     "data": {
      "text/plain": [
       "Resolving dependencies...\n",
       "Up to date"
      ]
     },
     "metadata": {},
     "output_type": "display_data"
    }
   ],
   "source": [
    ":!cabal install --lib direct-sqlite"
   ]
  },
  {
   "cell_type": "code",
   "execution_count": 10,
   "id": "5f2dd3d9",
   "metadata": {},
   "outputs": [
    {
     "ename": "",
     "evalue": "",
     "output_type": "error",
     "traceback": [
      "<interactive>:1:37: error:\n    • Couldn't match expected type ‘Bool’ with actual type ‘Double -> Double’\n    • Probable cause: ‘square’ is applied to too few arguments\n      In the fourth argument of ‘createFunction’, namely ‘square’\n      In the expression: createFunction db \"square\" (Just 1) square\n      In an equation for ‘it’: it = createFunction db \"square\" (Just 1) square"
     ]
    }
   ],
   "source": [
    "{-# LANGUAGE OverloadedStrings #-}\n",
    "\n",
    "import Database.SQLite3\n",
    "\n",
    "-- Define the UDF function\n",
    "square :: Double -> Double\n",
    "square x = x * x\n",
    "\n",
    "\n",
    "\n",
    "\n",
    "db <- open \"mydatabase10.db\"\n",
    "exec db \"CREATE TABLE IF NOT EXISTS numbers (num REAL)\"\n",
    "exec db \"INSERT INTO numbers (num) VALUES (2.0)\"\n",
    "exec db \"INSERT INTO numbers (num) VALUES (3.0)\"\n",
    "\n",
    "createFunction db \"square\" (Just 1) square\n",
    "execute_ db \"SELECT square(num) FROM numbers\"\n",
    "\n",
    "close db\n",
    "\n",
    "\n",
    "\n"
   ]
  }
 ],
 "metadata": {
  "kernelspec": {
   "display_name": "Haskell",
   "language": "haskell",
   "name": "haskell"
  },
  "language_info": {
   "codemirror_mode": "ihaskell",
   "file_extension": ".hs",
   "mimetype": "text/x-haskell",
   "name": "haskell",
   "pygments_lexer": "Haskell",
   "version": "9.4.5"
  }
 },
 "nbformat": 4,
 "nbformat_minor": 5
}
