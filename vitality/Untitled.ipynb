{
 "cells": [
  {
   "cell_type": "code",
   "execution_count": 3,
   "id": "5bed1785",
   "metadata": {},
   "outputs": [
    {
     "data": {
      "text/html": [
       "<div>\n",
       "<style scoped>\n",
       "    .dataframe tbody tr th:only-of-type {\n",
       "        vertical-align: middle;\n",
       "    }\n",
       "\n",
       "    .dataframe tbody tr th {\n",
       "        vertical-align: top;\n",
       "    }\n",
       "\n",
       "    .dataframe thead th {\n",
       "        text-align: right;\n",
       "    }\n",
       "</style>\n",
       "<table border=\"1\" class=\"dataframe\">\n",
       "  <thead>\n",
       "    <tr style=\"text-align: right;\">\n",
       "      <th></th>\n",
       "      <th>Column1</th>\n",
       "      <th>Column2</th>\n",
       "    </tr>\n",
       "  </thead>\n",
       "  <tbody>\n",
       "    <tr>\n",
       "      <th>0</th>\n",
       "      <td>1</td>\n",
       "      <td>A</td>\n",
       "    </tr>\n",
       "    <tr>\n",
       "      <th>1</th>\n",
       "      <td>2</td>\n",
       "      <td>B</td>\n",
       "    </tr>\n",
       "    <tr>\n",
       "      <th>2</th>\n",
       "      <td>3</td>\n",
       "      <td>C</td>\n",
       "    </tr>\n",
       "    <tr>\n",
       "      <th>3</th>\n",
       "      <td>4</td>\n",
       "      <td>D</td>\n",
       "    </tr>\n",
       "    <tr>\n",
       "      <th>4</th>\n",
       "      <td>5</td>\n",
       "      <td>E</td>\n",
       "    </tr>\n",
       "  </tbody>\n",
       "</table>\n",
       "</div>"
      ],
      "text/plain": [
       "   Column1 Column2\n",
       "0        1       A\n",
       "1        2       B\n",
       "2        3       C\n",
       "3        4       D\n",
       "4        5       E"
      ]
     },
     "execution_count": 3,
     "metadata": {},
     "output_type": "execute_result"
    }
   ],
   "source": [
    "import pandas as pd\n",
    "\n",
    "data = {'Column1': [1, 2, 3, 4, 5],\n",
    "        'Column2': ['A', 'B', 'C', 'D', 'E']}\n",
    "\n",
    "df = pd.DataFrame(data)\n",
    "df"
   ]
  },
  {
   "cell_type": "code",
   "execution_count": 5,
   "id": "daa10b95",
   "metadata": {},
   "outputs": [
    {
     "name": "stdout",
     "output_type": "stream",
     "text": [
      "Defaulting to user installation because normal site-packages is not writeable\n",
      "Requirement already satisfied: qgrid in /home/jovyan/.local/lib/python3.7/site-packages (1.3.1)\n",
      "Requirement already satisfied: ipywidgets>=7.0.0 in /home/jovyan/.local/lib/python3.7/site-packages (from qgrid) (8.1.1)\n",
      "Requirement already satisfied: notebook>=4.0.0 in /usr/local/lib/python3.7/dist-packages (from qgrid) (6.5.5)\n",
      "Requirement already satisfied: pandas>=0.18.0 in /home/jovyan/.local/lib/python3.7/site-packages (from qgrid) (1.3.5)\n",
      "Requirement already satisfied: comm>=0.1.3 in /home/jovyan/.local/lib/python3.7/site-packages (from ipywidgets>=7.0.0->qgrid) (0.1.4)\n",
      "Requirement already satisfied: ipython>=6.1.0 in /usr/local/lib/python3.7/dist-packages (from ipywidgets>=7.0.0->qgrid) (7.34.0)\n",
      "Requirement already satisfied: traitlets>=4.3.1 in /usr/local/lib/python3.7/dist-packages (from ipywidgets>=7.0.0->qgrid) (5.9.0)\n",
      "Requirement already satisfied: widgetsnbextension~=4.0.9 in /home/jovyan/.local/lib/python3.7/site-packages (from ipywidgets>=7.0.0->qgrid) (4.0.9)\n",
      "Requirement already satisfied: jupyterlab-widgets~=3.0.9 in /home/jovyan/.local/lib/python3.7/site-packages (from ipywidgets>=7.0.0->qgrid) (3.0.9)\n",
      "Requirement already satisfied: jinja2 in /usr/local/lib/python3.7/dist-packages (from notebook>=4.0.0->qgrid) (3.1.2)\n",
      "Requirement already satisfied: tornado>=6.1 in /usr/local/lib/python3.7/dist-packages (from notebook>=4.0.0->qgrid) (6.2)\n",
      "Requirement already satisfied: pyzmq<25,>=17 in /usr/local/lib/python3.7/dist-packages (from notebook>=4.0.0->qgrid) (24.0.1)\n",
      "Requirement already satisfied: argon2-cffi in /usr/local/lib/python3.7/dist-packages (from notebook>=4.0.0->qgrid) (23.1.0)\n",
      "Requirement already satisfied: jupyter-core>=4.6.1 in /usr/local/lib/python3.7/dist-packages (from notebook>=4.0.0->qgrid) (4.12.0)\n",
      "Requirement already satisfied: jupyter-client<8,>=5.3.4 in /usr/local/lib/python3.7/dist-packages (from notebook>=4.0.0->qgrid) (7.4.9)\n",
      "Requirement already satisfied: ipython-genutils in /usr/local/lib/python3.7/dist-packages (from notebook>=4.0.0->qgrid) (0.2.0)\n",
      "Requirement already satisfied: nbformat in /usr/local/lib/python3.7/dist-packages (from notebook>=4.0.0->qgrid) (5.8.0)\n",
      "Requirement already satisfied: nbconvert>=5 in /usr/local/lib/python3.7/dist-packages (from notebook>=4.0.0->qgrid) (7.6.0)\n",
      "Requirement already satisfied: nest-asyncio>=1.5 in /usr/local/lib/python3.7/dist-packages (from notebook>=4.0.0->qgrid) (1.5.7)\n",
      "Requirement already satisfied: ipykernel in /usr/local/lib/python3.7/dist-packages (from notebook>=4.0.0->qgrid) (6.16.2)\n",
      "Requirement already satisfied: Send2Trash>=1.8.0 in /usr/local/lib/python3.7/dist-packages (from notebook>=4.0.0->qgrid) (1.8.2)\n",
      "Requirement already satisfied: terminado>=0.8.3 in /usr/local/lib/python3.7/dist-packages (from notebook>=4.0.0->qgrid) (0.17.1)\n",
      "Requirement already satisfied: prometheus-client in /usr/local/lib/python3.7/dist-packages (from notebook>=4.0.0->qgrid) (0.17.1)\n",
      "Requirement already satisfied: nbclassic>=0.4.7 in /usr/local/lib/python3.7/dist-packages (from notebook>=4.0.0->qgrid) (1.0.0)\n",
      "Requirement already satisfied: python-dateutil>=2.7.3 in /usr/local/lib/python3.7/dist-packages (from pandas>=0.18.0->qgrid) (2.8.2)\n",
      "Requirement already satisfied: pytz>=2017.3 in /usr/local/lib/python3.7/dist-packages (from pandas>=0.18.0->qgrid) (2023.3)\n",
      "Requirement already satisfied: numpy>=1.17.3 in /home/jovyan/.local/lib/python3.7/site-packages (from pandas>=0.18.0->qgrid) (1.21.6)\n",
      "Requirement already satisfied: setuptools>=18.5 in /usr/lib/python3/dist-packages (from ipython>=6.1.0->ipywidgets>=7.0.0->qgrid) (40.8.0)\n",
      "Requirement already satisfied: jedi>=0.16 in /usr/local/lib/python3.7/dist-packages (from ipython>=6.1.0->ipywidgets>=7.0.0->qgrid) (0.19.0)\n",
      "Requirement already satisfied: decorator in /usr/local/lib/python3.7/dist-packages (from ipython>=6.1.0->ipywidgets>=7.0.0->qgrid) (5.1.1)\n",
      "Requirement already satisfied: pickleshare in /usr/local/lib/python3.7/dist-packages (from ipython>=6.1.0->ipywidgets>=7.0.0->qgrid) (0.7.5)\n",
      "Requirement already satisfied: prompt-toolkit!=3.0.0,!=3.0.1,<3.1.0,>=2.0.0 in /usr/local/lib/python3.7/dist-packages (from ipython>=6.1.0->ipywidgets>=7.0.0->qgrid) (3.0.39)\n",
      "Requirement already satisfied: pygments in /usr/local/lib/python3.7/dist-packages (from ipython>=6.1.0->ipywidgets>=7.0.0->qgrid) (2.16.1)\n",
      "Requirement already satisfied: backcall in /usr/local/lib/python3.7/dist-packages (from ipython>=6.1.0->ipywidgets>=7.0.0->qgrid) (0.2.0)\n",
      "Requirement already satisfied: matplotlib-inline in /usr/local/lib/python3.7/dist-packages (from ipython>=6.1.0->ipywidgets>=7.0.0->qgrid) (0.1.6)\n",
      "Requirement already satisfied: pexpect>4.3 in /usr/local/lib/python3.7/dist-packages (from ipython>=6.1.0->ipywidgets>=7.0.0->qgrid) (4.8.0)\n",
      "Requirement already satisfied: entrypoints in /usr/lib/python3/dist-packages (from jupyter-client<8,>=5.3.4->notebook>=4.0.0->qgrid) (0.3)\n",
      "Requirement already satisfied: jupyter-server>=1.8 in /usr/local/lib/python3.7/dist-packages (from nbclassic>=0.4.7->notebook>=4.0.0->qgrid) (1.24.0)\n",
      "Requirement already satisfied: notebook-shim>=0.2.3 in /usr/local/lib/python3.7/dist-packages (from nbclassic>=0.4.7->notebook>=4.0.0->qgrid) (0.2.3)\n",
      "Requirement already satisfied: beautifulsoup4 in /usr/local/lib/python3.7/dist-packages (from nbconvert>=5->notebook>=4.0.0->qgrid) (4.12.2)\n",
      "Requirement already satisfied: bleach!=5.0.0 in /usr/local/lib/python3.7/dist-packages (from nbconvert>=5->notebook>=4.0.0->qgrid) (6.0.0)\n",
      "Requirement already satisfied: defusedxml in /usr/local/lib/python3.7/dist-packages (from nbconvert>=5->notebook>=4.0.0->qgrid) (0.7.1)\n",
      "Requirement already satisfied: importlib-metadata>=3.6 in /usr/local/lib/python3.7/dist-packages (from nbconvert>=5->notebook>=4.0.0->qgrid) (6.7.0)\n",
      "Requirement already satisfied: jupyterlab-pygments in /usr/local/lib/python3.7/dist-packages (from nbconvert>=5->notebook>=4.0.0->qgrid) (0.2.2)\n",
      "Requirement already satisfied: markupsafe>=2.0 in /usr/local/lib/python3.7/dist-packages (from nbconvert>=5->notebook>=4.0.0->qgrid) (2.1.3)\n",
      "Requirement already satisfied: mistune<4,>=2.0.3 in /usr/local/lib/python3.7/dist-packages (from nbconvert>=5->notebook>=4.0.0->qgrid) (3.0.1)\n",
      "Requirement already satisfied: nbclient>=0.5.0 in /usr/local/lib/python3.7/dist-packages (from nbconvert>=5->notebook>=4.0.0->qgrid) (0.7.4)\n",
      "Requirement already satisfied: packaging in /usr/local/lib/python3.7/dist-packages (from nbconvert>=5->notebook>=4.0.0->qgrid) (23.1)\n",
      "Requirement already satisfied: pandocfilters>=1.4.1 in /usr/local/lib/python3.7/dist-packages (from nbconvert>=5->notebook>=4.0.0->qgrid) (1.5.0)\n",
      "Requirement already satisfied: tinycss2 in /usr/local/lib/python3.7/dist-packages (from nbconvert>=5->notebook>=4.0.0->qgrid) (1.2.1)\n",
      "Requirement already satisfied: fastjsonschema in /usr/local/lib/python3.7/dist-packages (from nbformat->notebook>=4.0.0->qgrid) (2.18.0)\n",
      "Requirement already satisfied: jsonschema>=2.6 in /usr/local/lib/python3.7/dist-packages (from nbformat->notebook>=4.0.0->qgrid) (4.17.3)\n",
      "Requirement already satisfied: six>=1.5 in /usr/lib/python3/dist-packages (from python-dateutil>=2.7.3->pandas>=0.18.0->qgrid) (1.12.0)\n",
      "Requirement already satisfied: ptyprocess in /usr/local/lib/python3.7/dist-packages (from terminado>=0.8.3->notebook>=4.0.0->qgrid) (0.7.0)\n",
      "Requirement already satisfied: argon2-cffi-bindings in /usr/local/lib/python3.7/dist-packages (from argon2-cffi->notebook>=4.0.0->qgrid) (21.2.0)\n",
      "Requirement already satisfied: typing-extensions in /usr/local/lib/python3.7/dist-packages (from argon2-cffi->notebook>=4.0.0->qgrid) (4.7.1)\n",
      "Requirement already satisfied: debugpy>=1.0 in /usr/local/lib/python3.7/dist-packages (from ipykernel->notebook>=4.0.0->qgrid) (1.6.7.post1)\n",
      "Requirement already satisfied: psutil in /usr/local/lib/python3.7/dist-packages (from ipykernel->notebook>=4.0.0->qgrid) (5.9.5)\n",
      "Requirement already satisfied: webencodings in /usr/local/lib/python3.7/dist-packages (from bleach!=5.0.0->nbconvert>=5->notebook>=4.0.0->qgrid) (0.5.1)\n",
      "Requirement already satisfied: zipp>=0.5 in /usr/local/lib/python3.7/dist-packages (from importlib-metadata>=3.6->nbconvert>=5->notebook>=4.0.0->qgrid) (3.15.0)\n",
      "Requirement already satisfied: parso<0.9.0,>=0.8.3 in /usr/local/lib/python3.7/dist-packages (from jedi>=0.16->ipython>=6.1.0->ipywidgets>=7.0.0->qgrid) (0.8.3)\n"
     ]
    },
    {
     "name": "stdout",
     "output_type": "stream",
     "text": [
      "Requirement already satisfied: attrs>=17.4.0 in /usr/local/lib/python3.7/dist-packages (from jsonschema>=2.6->nbformat->notebook>=4.0.0->qgrid) (23.1.0)\n",
      "Requirement already satisfied: importlib-resources>=1.4.0 in /usr/local/lib/python3.7/dist-packages (from jsonschema>=2.6->nbformat->notebook>=4.0.0->qgrid) (5.12.0)\n",
      "Requirement already satisfied: pkgutil-resolve-name>=1.3.10 in /usr/local/lib/python3.7/dist-packages (from jsonschema>=2.6->nbformat->notebook>=4.0.0->qgrid) (1.3.10)\n",
      "Requirement already satisfied: pyrsistent!=0.17.0,!=0.17.1,!=0.17.2,>=0.14.0 in /usr/local/lib/python3.7/dist-packages (from jsonschema>=2.6->nbformat->notebook>=4.0.0->qgrid) (0.19.3)\n",
      "Requirement already satisfied: anyio<4,>=3.1.0 in /usr/local/lib/python3.7/dist-packages (from jupyter-server>=1.8->nbclassic>=0.4.7->notebook>=4.0.0->qgrid) (3.7.1)\n",
      "Requirement already satisfied: websocket-client in /usr/local/lib/python3.7/dist-packages (from jupyter-server>=1.8->nbclassic>=0.4.7->notebook>=4.0.0->qgrid) (1.6.1)\n",
      "Requirement already satisfied: wcwidth in /usr/local/lib/python3.7/dist-packages (from prompt-toolkit!=3.0.0,!=3.0.1,<3.1.0,>=2.0.0->ipython>=6.1.0->ipywidgets>=7.0.0->qgrid) (0.2.6)\n",
      "Requirement already satisfied: cffi>=1.0.1 in /usr/local/lib/python3.7/dist-packages (from argon2-cffi-bindings->argon2-cffi->notebook>=4.0.0->qgrid) (1.15.1)\n",
      "Requirement already satisfied: soupsieve>1.2 in /usr/local/lib/python3.7/dist-packages (from beautifulsoup4->nbconvert>=5->notebook>=4.0.0->qgrid) (2.4.1)\n",
      "Requirement already satisfied: idna>=2.8 in /usr/local/lib/python3.7/dist-packages (from anyio<4,>=3.1.0->jupyter-server>=1.8->nbclassic>=0.4.7->notebook>=4.0.0->qgrid) (3.4)\n",
      "Requirement already satisfied: sniffio>=1.1 in /usr/local/lib/python3.7/dist-packages (from anyio<4,>=3.1.0->jupyter-server>=1.8->nbclassic>=0.4.7->notebook>=4.0.0->qgrid) (1.3.0)\n",
      "Requirement already satisfied: exceptiongroup in /usr/local/lib/python3.7/dist-packages (from anyio<4,>=3.1.0->jupyter-server>=1.8->nbclassic>=0.4.7->notebook>=4.0.0->qgrid) (1.1.3)\n",
      "Requirement already satisfied: pycparser in /usr/local/lib/python3.7/dist-packages (from cffi>=1.0.1->argon2-cffi-bindings->argon2-cffi->notebook>=4.0.0->qgrid) (2.21)\n"
     ]
    }
   ],
   "source": [
    "!pip install qgrid"
   ]
  },
  {
   "cell_type": "code",
   "execution_count": 4,
   "id": "455cd4a8",
   "metadata": {},
   "outputs": [
    {
     "data": {
      "text/plain": [
       "0    1\n",
       "1    2\n",
       "2    3\n",
       "3    4\n",
       "4    5\n",
       "Name: Column1, dtype: int64"
      ]
     },
     "metadata": {},
     "output_type": "display_data"
    },
    {
     "data": {
      "application/vnd.jupyter.widget-view+json": {
       "model_id": "80bf032ca58141f3b533c863aa96471d",
       "version_major": 2,
       "version_minor": 0
      },
      "text/plain": [
       "interactive(children=(Dropdown(description='column', options=('Column1', 'Column2'), value='Column1'), Output(…"
      ]
     },
     "metadata": {},
     "output_type": "display_data"
    }
   ],
   "source": [
    "from ipywidgets import interact, widgets\n",
    "\n",
    "@interact\n",
    "def show_data(column=widgets.Dropdown(options=df.columns)):\n",
    "    return df[column]\n"
   ]
  },
  {
   "cell_type": "code",
   "execution_count": 6,
   "id": "45198275",
   "metadata": {},
   "outputs": [
    {
     "name": "stdout",
     "output_type": "stream",
     "text": [
      "Enabling notebook extension jupyter-js-widgets/extension...\r\n",
      "Traceback (most recent call last):\r\n",
      "  File \"/usr/local/bin/jupyter-nbextension\", line 8, in <module>\r\n",
      "    sys.exit(main())\r\n",
      "  File \"/usr/local/lib/python3.7/dist-packages/jupyter_core/application.py\", line 269, in launch_instance\r\n",
      "    return super().launch_instance(argv=argv, **kwargs)\r\n",
      "  File \"/usr/local/lib/python3.7/dist-packages/traitlets/config/application.py\", line 1043, in launch_instance\r\n",
      "    app.start()\r\n",
      "  File \"/usr/local/lib/python3.7/dist-packages/notebook/nbextensions.py\", line 972, in start\r\n",
      "    super().start()\r\n",
      "  File \"/usr/local/lib/python3.7/dist-packages/jupyter_core/application.py\", line 258, in start\r\n",
      "    self.subapp.start()\r\n",
      "  File \"/usr/local/lib/python3.7/dist-packages/notebook/nbextensions.py\", line 882, in start\r\n",
      "    self.toggle_nbextension_python(self.extra_args[0])\r\n",
      "  File \"/usr/local/lib/python3.7/dist-packages/notebook/nbextensions.py\", line 858, in toggle_nbextension_python\r\n",
      "    logger=self.log)\r\n",
      "  File \"/usr/local/lib/python3.7/dist-packages/notebook/nbextensions.py\", line 471, in enable_nbextension_python\r\n",
      "    logger=logger)\r\n",
      "  File \"/usr/local/lib/python3.7/dist-packages/notebook/nbextensions.py\", line 374, in _set_nbextension_state_python\r\n",
      "    for nbext in nbexts]\r\n",
      "  File \"/usr/local/lib/python3.7/dist-packages/notebook/nbextensions.py\", line 374, in <listcomp>\r\n",
      "    for nbext in nbexts]\r\n",
      "  File \"/usr/local/lib/python3.7/dist-packages/notebook/nbextensions.py\", line 339, in _set_nbextension_state\r\n",
      "    cm.update(section, {\"load_extensions\": {require: state}})\r\n",
      "  File \"/usr/local/lib/python3.7/dist-packages/notebook/config_manager.py\", line 130, in update\r\n",
      "    self.set(section_name, data)\r\n",
      "  File \"/usr/local/lib/python3.7/dist-packages/notebook/config_manager.py\", line 107, in set\r\n",
      "    self.ensure_config_dir_exists()\r\n",
      "  File \"/usr/local/lib/python3.7/dist-packages/notebook/config_manager.py\", line 64, in ensure_config_dir_exists\r\n",
      "    os.makedirs(self.config_dir, 0o755)\r\n",
      "  File \"/usr/lib/python3.7/os.py\", line 211, in makedirs\r\n",
      "    makedirs(head, exist_ok=exist_ok)\r\n",
      "  File \"/usr/lib/python3.7/os.py\", line 211, in makedirs\r\n",
      "    makedirs(head, exist_ok=exist_ok)\r\n",
      "  File \"/usr/lib/python3.7/os.py\", line 221, in makedirs\r\n",
      "    mkdir(name, mode)\r\n",
      "PermissionError: [Errno 13] Permission denied: '/usr/etc'\r\n"
     ]
    }
   ],
   "source": [
    "!jupyter nbextension enable --py --sys-prefix widgetsnbextension"
   ]
  },
  {
   "cell_type": "code",
   "execution_count": 5,
   "id": "2f411b70",
   "metadata": {},
   "outputs": [
    {
     "ename": "TypeError",
     "evalue": "register() missing 1 required positional argument: 'widget'",
     "output_type": "error",
     "traceback": [
      "\u001b[0;31m---------------------------------------------------------------------------\u001b[0m",
      "\u001b[0;31mTypeError\u001b[0m                                 Traceback (most recent call last)",
      "\u001b[0;32m/tmp/ipykernel_305/3618078849.py\u001b[0m in \u001b[0;36m<module>\u001b[0;34m\u001b[0m\n\u001b[0;32m----> 1\u001b[0;31m \u001b[0;32mimport\u001b[0m \u001b[0mqgrid\u001b[0m\u001b[0;34m\u001b[0m\u001b[0;34m\u001b[0m\u001b[0m\n\u001b[0m",
      "\u001b[0;32m~/.local/lib/python3.7/site-packages/qgrid/__init__.py\u001b[0m in \u001b[0;36m<module>\u001b[0;34m\u001b[0m\n\u001b[1;32m      1\u001b[0m \u001b[0;32mfrom\u001b[0m \u001b[0;34m.\u001b[0m\u001b[0m_version\u001b[0m \u001b[0;32mimport\u001b[0m \u001b[0mversion_info\u001b[0m\u001b[0;34m,\u001b[0m \u001b[0m__version__\u001b[0m  \u001b[0;31m# noqa F401\u001b[0m\u001b[0;34m\u001b[0m\u001b[0;34m\u001b[0m\u001b[0m\n\u001b[1;32m      2\u001b[0m \u001b[0;34m\u001b[0m\u001b[0m\n\u001b[0;32m----> 3\u001b[0;31m from .grid import (\n\u001b[0m\u001b[1;32m      4\u001b[0m     \u001b[0menable\u001b[0m\u001b[0;34m,\u001b[0m\u001b[0;34m\u001b[0m\u001b[0;34m\u001b[0m\u001b[0m\n\u001b[1;32m      5\u001b[0m     \u001b[0mdisable\u001b[0m\u001b[0;34m,\u001b[0m\u001b[0;34m\u001b[0m\u001b[0;34m\u001b[0m\u001b[0m\n",
      "\u001b[0;32m~/.local/lib/python3.7/site-packages/qgrid/grid.py\u001b[0m in \u001b[0;36m<module>\u001b[0;34m\u001b[0m\n\u001b[1;32m    522\u001b[0m \u001b[0;34m\u001b[0m\u001b[0m\n\u001b[1;32m    523\u001b[0m \u001b[0;34m\u001b[0m\u001b[0m\n\u001b[0;32m--> 524\u001b[0;31m \u001b[0;34m@\u001b[0m\u001b[0mwidgets\u001b[0m\u001b[0;34m.\u001b[0m\u001b[0mregister\u001b[0m\u001b[0;34m(\u001b[0m\u001b[0;34m)\u001b[0m\u001b[0;34m\u001b[0m\u001b[0;34m\u001b[0m\u001b[0m\n\u001b[0m\u001b[1;32m    525\u001b[0m \u001b[0;32mclass\u001b[0m \u001b[0mQgridWidget\u001b[0m\u001b[0;34m(\u001b[0m\u001b[0mwidgets\u001b[0m\u001b[0;34m.\u001b[0m\u001b[0mDOMWidget\u001b[0m\u001b[0;34m)\u001b[0m\u001b[0;34m:\u001b[0m\u001b[0;34m\u001b[0m\u001b[0;34m\u001b[0m\u001b[0m\n\u001b[1;32m    526\u001b[0m     \"\"\"\n",
      "\u001b[0;31mTypeError\u001b[0m: register() missing 1 required positional argument: 'widget'"
     ]
    }
   ],
   "source": [
    "import qgrid"
   ]
  }
 ],
 "metadata": {
  "kernelspec": {
   "display_name": "Python 3 (ipykernel)",
   "language": "python",
   "name": "python3"
  },
  "language_info": {
   "codemirror_mode": {
    "name": "ipython",
    "version": 3
   },
   "file_extension": ".py",
   "mimetype": "text/x-python",
   "name": "python",
   "nbconvert_exporter": "python",
   "pygments_lexer": "ipython3",
   "version": "3.7.3"
  }
 },
 "nbformat": 4,
 "nbformat_minor": 5
}
