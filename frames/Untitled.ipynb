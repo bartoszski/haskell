{
 "cells": [
  {
   "cell_type": "code",
   "execution_count": 7,
   "id": "3712651d-b12a-4d87-a4d5-97bcdd121420",
   "metadata": {},
   "outputs": [
    {
     "data": {
      "text/plain": [
       "\u001b[0mCabal file warning in /opt/IHaskell/ihaskell-display/ihaskell-aeson/ihaskell-aeson.cabal@46:28: Packages with 'cabal-version: 1.12' or later should specify a specific version of the Cabal spec of the form 'cabal-version: x.y'. Use 'cabal-version: 1.16'.\u001b[0m\n",
       "\u001b[0mCabal file warning in /opt/IHaskell/ihaskell-display/ihaskell-blaze/ihaskell-blaze.cabal@49:28: Packages with 'cabal-version: 1.12' or later should specify a specific version of the Cabal spec of the form 'cabal-version: x.y'. Use 'cabal-version: 1.16'.\u001b[0m\n",
       "\u001b[0mCabal file warning in /opt/IHaskell/ihaskell-display/ihaskell-charts/ihaskell-charts.cabal@46:28: Packages with 'cabal-version: 1.12' or later should specify a specific version of the Cabal spec of the form 'cabal-version: x.y'. Use 'cabal-version: 1.16'.\u001b[0m\n",
       "\u001b[0mCabal file warning in /opt/IHaskell/ihaskell-display/ihaskell-diagrams/ihaskell-diagrams.cabal@46:28: Packages with 'cabal-version: 1.12' or later should specify a specific version of the Cabal spec of the form 'cabal-version: x.y'. Use 'cabal-version: 1.16'.\u001b[0m\n",
       "\u001b[0mCabal file warning in /opt/IHaskell/ihaskell-display/ihaskell-gnuplot/ihaskell-gnuplot.cabal@47:28: Packages with 'cabal-version: 1.12' or later should specify a specific version of the Cabal spec of the form 'cabal-version: x.y'. Use 'cabal-version: 1.16'.\u001b[0m\n",
       "\u001b[0mCabal file warning in /opt/IHaskell/ihaskell-display/ihaskell-graphviz/ihaskell-graphviz.cabal@48:28: Packages with 'cabal-version: 1.12' or later should specify a specific version of the Cabal spec of the form 'cabal-version: x.y'. Use 'cabal-version: 1.16'.\u001b[0m\n",
       "\u001b[0mCabal file warning in /opt/IHaskell/ihaskell-display/ihaskell-hatex/ihaskell-hatex.cabal@12:28: Packages with 'cabal-version: 1.12' or later should specify a specific version of the Cabal spec of the form 'cabal-version: x.y'. Use 'cabal-version: 1.16'.\u001b[0m\n",
       "\u001b[0mCabal file warning in /opt/IHaskell/ihaskell-display/ihaskell-juicypixels/ihaskell-juicypixels.cabal@52:28: Packages with 'cabal-version: 1.12' or later should specify a specific version of the Cabal spec of the form 'cabal-version: x.y'. Use 'cabal-version: 1.16'.\u001b[0m\n",
       "\u001b[0mCabal file warning in /opt/IHaskell/ihaskell-display/ihaskell-magic/ihaskell-magic.cabal@49:28: Packages with 'cabal-version: 1.12' or later should specify a specific version of the Cabal spec of the form 'cabal-version: x.y'. Use 'cabal-version: 1.16'.\u001b[0m\n",
       "\u001b[0mCabal file warning in /opt/IHaskell/ihaskell-display/ihaskell-plot/ihaskell-plot.cabal@47:28: Packages with 'cabal-version: 1.12' or later should specify a specific version of the Cabal spec of the form 'cabal-version: x.y'. Use 'cabal-version: 1.16'.\u001b[0m\n",
       "\u001b[0m\n",
       "\u001b[91mError:\u001b[0m [S-4804]\n",
       "       Stack failed to construct a build plan.\n",
       "       \n",
       "       While constructing the build plan, Stack encountered the following errors:\n",
       "       \n",
       "       Unknown package: \u001b[33mframes\u001b[0m\u001b[0m\n",
       "\n",
       "Process exited with error code 1"
      ]
     },
     "metadata": {},
     "output_type": "display_data"
    }
   ],
   "source": [
    ":!stack install frames"
   ]
  },
  {
   "cell_type": "code",
   "execution_count": 2,
   "id": "d6d203aa-f990-45ea-8d87-4ba3aa4966d8",
   "metadata": {},
   "outputs": [
    {
     "ename": "",
     "evalue": "",
     "output_type": "error",
     "traceback": [
      "<interactive>:1:1: error:\n    Could not find module ‘Frames’\n    Perhaps you meant\n      CNames\n      UNames\n    Use -v (or `:set -v` in ghci) to see a list of the files searched for."
     ]
    }
   ],
   "source": [
    "import Frames\n",
    "\n",
    "-- Define a data frame type\n",
    "tableTypes \"MyTable\" \"data.csv\"\n",
    "\n",
    "-- Load data from a CSV file into a data frame\n",
    "myData :: IO (Frame MyTable)\n",
    "myData = inCoreAoS (readTable \"data.csv\")\n",
    "myData"
   ]
  },
  {
   "cell_type": "code",
   "execution_count": 1,
   "id": "1a0502ef-30a3-422b-810a-63613b836a24",
   "metadata": {},
   "outputs": [
    {
     "data": {
      "text/plain": [
       "\"a\""
      ]
     },
     "metadata": {},
     "output_type": "display_data"
    }
   ],
   "source": [
    "print \"a\""
   ]
  },
  {
   "cell_type": "code",
   "execution_count": 8,
   "id": "de326a11-16d0-4b8a-b397-4e5920fff599",
   "metadata": {},
   "outputs": [
    {
     "ename": "",
     "evalue": "",
     "output_type": "error",
     "traceback": [
      "<interactive>:1:1: error:\n    Could not find module ‘Control.Foldl’\n    Use -v (or `:set -v` in ghci) to see a list of the files searched for."
     ]
    }
   ],
   "source": [
    "import qualified Control.Foldl as L\n",
    "import qualified Data.Foldable as F\n",
    "import Data.Vinyl\n",
    "import Data.Vinyl.Functor (Identity(..), Const(..))\n",
    "import Lens.Micro\n",
    "import Lens.Micro.Extras\n",
    "import Frames\n",
    "import Frames.CSV (readTableOpt, rowGen, RowGen(..))\n",
    "import Pipes hiding (Proxy)\n",
    "import qualified Pipes.Prelude as P"
   ]
  }
 ],
 "metadata": {
  "kernelspec": {
   "display_name": "Haskell",
   "language": "haskell",
   "name": "haskell"
  },
  "language_info": {
   "codemirror_mode": "ihaskell",
   "file_extension": ".hs",
   "mimetype": "text/x-haskell",
   "name": "haskell",
   "pygments_lexer": "Haskell",
   "version": "9.4.5"
  }
 },
 "nbformat": 4,
 "nbformat_minor": 5
}
