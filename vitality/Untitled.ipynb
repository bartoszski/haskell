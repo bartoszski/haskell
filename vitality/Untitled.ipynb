{
 "cells": [
  {
   "cell_type": "code",
   "execution_count": 3,
   "id": "d2d0fbcf",
   "metadata": {},
   "outputs": [
    {
     "data": {
      "text/plain": [
       "'[[\"urls\",[\"10.242.115.68:9092\",\"10.242.115.9:9092\",\"10.242.115.54:9092\"]],[\"default_topic\",\"{hvr_tbl_name}\"]]'"
      ]
     },
     "execution_count": 3,
     "metadata": {},
     "output_type": "execute_result"
    }
   ],
   "source": [
    "\"[[\\\"urls\\\",[\\\"10.242.115.68:9092\\\",\\\"10.242.115.9:9092\\\",\\\"10.242.115.54:9092\\\"]],[\\\"default_topic\\\",\\\"{hvr_tbl_name}\\\"]]\""
   ]
  }
 ],
 "metadata": {
  "kernelspec": {
   "display_name": "Python 3 (ipykernel)",
   "language": "python",
   "name": "python3"
  },
  "language_info": {
   "codemirror_mode": {
    "name": "ipython",
    "version": 3
   },
   "file_extension": ".py",
   "mimetype": "text/x-python",
   "name": "python",
   "nbconvert_exporter": "python",
   "pygments_lexer": "ipython3",
   "version": "3.7.3"
  }
 },
 "nbformat": 4,
 "nbformat_minor": 5
}
