{
 "cells": [
  {
   "cell_type": "markdown",
   "id": "1c3e98fc",
   "metadata": {},
   "source": [
    ":!cabal update"
   ]
  },
  {
   "cell_type": "code",
   "execution_count": 3,
   "id": "eb1c926c",
   "metadata": {},
   "outputs": [
    {
     "data": {
      "text/plain": [
       "Resolving dependencies...\n",
       "Up to date"
      ]
     },
     "metadata": {},
     "output_type": "display_data"
    }
   ],
   "source": [
    ":!cabal install --lib aeson"
   ]
  },
  {
   "cell_type": "code",
   "execution_count": 2,
   "id": "bc84d173",
   "metadata": {},
   "outputs": [],
   "source": [
    "{-# LANGUAGE OverloadedStrings #-}\n",
    "\n",
    "import Data.Aeson\n",
    "import qualified Data.ByteString.Lazy as B\n",
    "import qualified Data.ByteString.Lazy.Char8 as L\n",
    "\n",
    "-- Define a data type to represent the structure of the JSON\n",
    "data Person = Person\n",
    "  { name :: String\n",
    "  , age :: Int\n",
    "  } deriving (Show)\n",
    "\n",
    "-- Define an instance to decode JSON into the Person data type\n",
    "instance FromJSON Person where\n",
    "  parseJSON = withObject \"Person\" $ \\v -> Person\n",
    "    <$> v .: \"name\"\n",
    "    <*> v .: \"age\"\n",
    "\n"
   ]
  },
  {
   "cell_type": "code",
   "execution_count": 3,
   "id": "cee499f0",
   "metadata": {},
   "outputs": [
    {
     "data": {
      "text/plain": [
       "Parsed JSON: Person {name = \"Alice\", age = 30}"
      ]
     },
     "metadata": {},
     "output_type": "display_data"
    }
   ],
   "source": [
    "  -- Read JSON data from the file\n",
    "  jsonData <- B.readFile \"data.json\"\n",
    "  \n",
    "  -- Parse JSON using eitherDecode function\n",
    "  let parsedData = eitherDecode jsonData :: Either String Person\n",
    "\n",
    "  case parsedData of\n",
    "    Left err -> putStrLn $ \"Error: \" ++ err\n",
    "    Right person -> putStrLn $ \"Parsed JSON: \" ++ show person"
   ]
  },
  {
   "cell_type": "code",
   "execution_count": null,
   "id": "a3f31ebe",
   "metadata": {},
   "outputs": [
    {
     "data": {
      "text/plain": [
       "Alice"
      ]
     },
     "metadata": {},
     "output_type": "display_data"
    }
   ],
   "source": [
    "\n",
    "let person = Right (Person {name = \"Alice\", age = 30})\n",
    "\n",
    "case person of\n",
    "    Left _ -> putStrLn \"Error occurred\"\n",
    "    Right (Person {name = personName}) -> putStrLn personName\n"
   ]
  },
  {
   "cell_type": "markdown",
   "id": "5999cec0",
   "metadata": {},
   "source": [
    "-------------------------"
   ]
  },
  {
   "cell_type": "code",
   "execution_count": null,
   "id": "9d26093b",
   "metadata": {},
   "outputs": [],
   "source": [
    "{-# LANGUAGE OverloadedStrings #-}\n",
    "\n",
    "import Data.Aeson\n",
    "import qualified Data.ByteString.Lazy as B\n",
    "\n",
    "-- Define a data type to represent the structure of the JSON\n",
    "data Person = Person\n",
    "  { name :: String\n",
    "  , age :: Int\n",
    "  , country :: String\n",
    "  } deriving (Show)\n",
    "\n",
    "-- Define an instance to decode JSON into the Person data type\n",
    "instance FromJSON Person where\n",
    "  parseJSON = withObject \"Person\" $ \\v -> Person\n",
    "    <$> v .: \"Name\"\n",
    "    <*> v .: \"Age\"\n",
    "    <*> v .: \"Country\"\n",
    "\n",
    "\n",
    "\n"
   ]
  },
  {
   "cell_type": "code",
   "execution_count": null,
   "id": "5a4cb168",
   "metadata": {},
   "outputs": [
    {
     "data": {
      "text/plain": [
       "Parsed JSON: [Person {name = \"Alice\", age = 25, country = \"USA\"},Person {name = \"Bob\", age = 30, country = \"Canada\"},Person {name = \"Charlie\", age = 22, country = \"UK\"}]"
      ]
     },
     "metadata": {},
     "output_type": "display_data"
    }
   ],
   "source": [
    "  -- Read JSON data from the file\n",
    "  jsonData <- B.readFile \"data.json\"\n",
    "  \n",
    "  -- Parse JSON using eitherDecode function\n",
    "  let parsedData = eitherDecode jsonData :: Either String [Person]\n",
    "\n",
    "  case parsedData of\n",
    "    Left err -> putStrLn $ \"Error: \" ++ err\n",
    "    Right people -> putStrLn $ \"Parsed JSON: \" ++ show people"
   ]
  },
  {
   "cell_type": "markdown",
   "id": "b9effcd9",
   "metadata": {},
   "source": [
    "------------"
   ]
  },
  {
   "cell_type": "code",
   "execution_count": 6,
   "id": "8d2d2041",
   "metadata": {},
   "outputs": [
    {
     "ename": "",
     "evalue": "",
     "output_type": "error",
     "traceback": [
      "<interactive>:3:35: error:\n    • Couldn't match type ‘Char’ with ‘String’\n      Expected: [String]\n        Actual: String\n    • In the first argument of ‘(!!)’, namely ‘show locations’\n      In the second argument of ‘($)’, namely ‘show locations !! 0’\n      In the expression: putStrLn $ show locations !! 0"
     ]
    }
   ],
   "source": [
    "{-# LANGUAGE OverloadedStrings #-}\n",
    "\n",
    "import Data.Aeson\n",
    "import qualified Data.ByteString.Lazy as B\n",
    "\n",
    "-- Define a data type to represent the structure of the JSON\n",
    "data Location = Location\n",
    "  { loc_name :: String\n",
    "  , loc_class :: String\n",
    "  , loc_directory :: String\n",
    "  , loc_remote_node :: String\n",
    "  , loc_remote_login :: String\n",
    "  , loc_remote_pwd :: String\n",
    "  , loc_remote_port :: Int\n",
    "  , loc_db_name :: String\n",
    "  , loc_db_user :: String\n",
    "  , loc_description :: String\n",
    "  } deriving (Show)\n",
    "\n",
    "-- Define an instance to decode JSON into the Location data type\n",
    "instance FromJSON Location where\n",
    "  parseJSON = withObject \"Location\" $ \\v -> Location\n",
    "    <$> v .: \"loc_name\"\n",
    "    <*> v .: \"loc_class\"\n",
    "    <*> v .: \"loc_directory\"\n",
    "    <*> v .: \"loc_remote_node\"\n",
    "    <*> v .: \"loc_remote_login\"\n",
    "    <*> v .: \"loc_remote_pwd\"\n",
    "    <*> v .: \"loc_remote_port\"\n",
    "    <*> v .: \"loc_db_name\"\n",
    "    <*> v .: \"loc_db_user\"\n",
    "    <*> v .: \"loc_description\"\n",
    "\n",
    "\n",
    "-- Read JSON data from the file\n",
    "jsonData <- B.readFile \"data.json\"\n",
    "  \n",
    "-- Parse JSON using eitherDecode function\n",
    "let parsedData = eitherDecode jsonData :: Either String [Location]\n",
    "\n",
    "case parsedData of\n",
    "    Left err -> putStrLn $ \"Error: \" ++ err\n",
    "    Right locations -> putStrLn $ show locations"
   ]
  },
  {
   "cell_type": "code",
   "execution_count": 10,
   "id": "4a36c270",
   "metadata": {},
   "outputs": [
    {
     "data": {
      "text/plain": [
       "Location Names:\n",
       "mfg\n",
       "cis"
      ]
     },
     "metadata": {},
     "output_type": "display_data"
    }
   ],
   "source": [
    "locationsResult :: Either String [Location]\n",
    "locationsResult = parsedData\n",
    "\n",
    "\n",
    "case locationsResult of\n",
    "  Left err -> putStrLn $ \"Error: \" ++ err\n",
    "  Right locationList -> do\n",
    "    let locNames = map loc_name locationList\n",
    "    putStrLn $ \"Location Names:\\n\" ++ unlines locNames\n"
   ]
  },
  {
   "cell_type": "code",
   "execution_count": 11,
   "id": "ec36f462",
   "metadata": {},
   "outputs": [
    {
     "data": {
      "text/plain": [
       "Location Names:\n",
       "mfg\n",
       "cis"
      ]
     },
     "metadata": {},
     "output_type": "display_data"
    }
   ],
   "source": [
    "-- Define a function to extract and print loc_name values\n",
    "printLocNames :: Either String [Location] -> IO ()\n",
    "printLocNames locationsResult = do\n",
    "  case locationsResult of\n",
    "    Left err -> putStrLn $ \"Error: \" ++ err\n",
    "    Right locationList -> do\n",
    "      let locNames = map loc_name locationList\n",
    "      putStrLn $ \"Location Names:\\n\" ++ unlines locNames\n",
    "\n",
    "\n",
    "-- Read JSON data from the file\n",
    "jsonData <- B.readFile \"data.json\"\n",
    "  \n",
    "-- Parse JSON using eitherDecode function\n",
    "let parsedData = eitherDecode jsonData :: Either String [Location]\n",
    "\n",
    "printLocNames parsedData"
   ]
  },
  {
   "cell_type": "code",
   "execution_count": 12,
   "id": "1f2e652f",
   "metadata": {},
   "outputs": [
    {
     "data": {
      "text/plain": [
       "[\"mfg\",\"cis\"]"
      ]
     },
     "metadata": {},
     "output_type": "display_data"
    }
   ],
   "source": [
    "-- Define a function to extract loc_name values as a list\n",
    "getLocNames :: Either String [Location] -> [String]\n",
    "getLocNames locationsResult =\n",
    "  case locationsResult of\n",
    "    Left _ -> [] -- Return an empty list in case of error\n",
    "    Right locationList -> map loc_name locationList\n",
    "    \n",
    "getLocNames parsedData  "
   ]
  }
 ],
 "metadata": {
  "kernelspec": {
   "display_name": "Haskell",
   "language": "haskell",
   "name": "haskell"
  },
  "language_info": {
   "codemirror_mode": "ihaskell",
   "file_extension": ".hs",
   "mimetype": "text/x-haskell",
   "name": "haskell",
   "pygments_lexer": "Haskell",
   "version": "9.4.5"
  }
 },
 "nbformat": 4,
 "nbformat_minor": 5
}
