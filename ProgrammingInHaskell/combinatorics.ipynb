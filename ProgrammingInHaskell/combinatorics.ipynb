{
 "cells": [
  {
   "cell_type": "code",
   "execution_count": 24,
   "id": "a3f1b699",
   "metadata": {},
   "outputs": [
    {
     "data": {
      "text/plain": [
       "[ [1, 2, 3, 4]\n",
       ", [2, 1, 3, 4]\n",
       ", [2, 3, 1, 4]\n",
       ", [2, 3, 4, 1]\n",
       ", [1, 3, 2, 4]\n",
       ", [3, 1, 2, 4]\n",
       ", [3, 2, 1, 4]\n",
       ", [3, 2, 4, 1]\n",
       ", [1, 3, 4, 2]\n",
       ", [3, 1, 4, 2]\n",
       ", [3, 4, 1, 2]\n",
       ", [3, 4, 2, 1]\n",
       ", [1, 2, 4, 3]\n",
       ", [2, 1, 4, 3]\n",
       ", [2, 4, 1, 3]\n",
       ", [2, 4, 3, 1]\n",
       ", [1, 4, 2, 3]\n",
       ", [4, 1, 2, 3]\n",
       ", [4, 2, 1, 3]\n",
       ", [4, 2, 3, 1]\n",
       ", [1, 4, 3, 2]\n",
       ", [4, 1, 3, 2]\n",
       ", [4, 3, 1, 2]\n",
       ", [4, 3, 2, 1] ]"
      ]
     },
     "metadata": {},
     "output_type": "display_data"
    }
   ],
   "source": [
    "import Data.List (permutations)\n",
    "\n",
    "\n",
    "let myList = [1, 2, 3,4]\n",
    "let permutedLists = permutations myList\n",
    "pretty permutedLists\n"
   ]
  },
  {
   "cell_type": "code",
   "execution_count": 14,
   "id": "ebaf0c47",
   "metadata": {},
   "outputs": [
    {
     "data": {
      "text/plain": [
       "[[1,2],[1,3],[2,3]]"
      ]
     },
     "metadata": {},
     "output_type": "display_data"
    }
   ],
   "source": [
    "import Data.List (subsequences)\n",
    "\n",
    "\n",
    "let myList = [1, 2, 3]\n",
    "let combinationListsOfLength2 = filter (\\x -> length x == 2) (subsequences myList)\n",
    "print combinationListsOfLength2\n"
   ]
  },
  {
   "cell_type": "code",
   "execution_count": 15,
   "id": "1fae63b6",
   "metadata": {},
   "outputs": [
    {
     "data": {
      "text/plain": [
       "[[],[1],[2],[1,2],[3],[1,3],[2,3],[1,2,3]]"
      ]
     },
     "metadata": {},
     "output_type": "display_data"
    }
   ],
   "source": [
    "subsequences myList"
   ]
  },
  {
   "cell_type": "code",
   "execution_count": 28,
   "id": "4e12ae4e",
   "metadata": {},
   "outputs": [
    {
     "data": {
      "text/plain": [
       "[ [1, 2, 3]\n",
       ", [1, 2, 4]\n",
       ", [1, 2, 5]\n",
       ", [1, 3, 4]\n",
       ", [1, 3, 5]\n",
       ", [1, 4, 5]\n",
       ", [2, 3, 4]\n",
       ", [2, 3, 5]\n",
       ", [2, 4, 5]\n",
       ", [3, 4, 5] ]"
      ]
     },
     "metadata": {},
     "output_type": "display_data"
    }
   ],
   "source": [
    "combinations :: Int -> [a] -> [[a]]\n",
    "combinations 0 _      = [[]]\n",
    "combinations _ []     = []\n",
    "combinations k (x:xs) = map (x :) (combinations (k - 1) xs) ++ combinations k xs\n",
    "\n",
    "\n",
    "let myList = [1, 2, 3,4,5]\n",
    "let combinationListsOfLength2 = combinations 3 myList\n",
    "pretty combinationListsOfLength2\n"
   ]
  },
  {
   "cell_type": "code",
   "execution_count": 18,
   "id": "fdc1a55c",
   "metadata": {},
   "outputs": [
    {
     "ename": "",
     "evalue": "",
     "output_type": "error",
     "traceback": [
      "<interactive>:1:25: error: Variable not in scope: split :: [a0] -> b"
     ]
    }
   ],
   "source": [
    "permutations :: [a] -> [[a]]\n",
    "permutations []     = [[]]\n",
    "permutations (x:xs) = concatMap (insertEveryPosition x) (permutations xs)\n",
    "\n",
    "insertEveryPosition :: a -> [a] -> [[a]]\n",
    "insertEveryPosition x []     = [[x]]\n",
    "insertEveryPosition x (y:ys) = (x : y : ys) : map (y :) (insertEveryPosition x ys)\n",
    "\n",
    "\n",
    "let myList = [1, 2, 3,4]\n",
    "let permutedLists = map split (permutations myList)\n",
    "permutedLists\n"
   ]
  },
  {
   "cell_type": "code",
   "execution_count": 19,
   "id": "b2098b9f",
   "metadata": {},
   "outputs": [
    {
     "data": {
      "text/plain": [
       "[[1,2],[3,4],[5,6]]"
      ]
     },
     "metadata": {},
     "output_type": "display_data"
    }
   ],
   "source": [
    "let b = [1,2,3,4,5,6]\n",
    "\n",
    "split :: [a] -> [[a]]\n",
    "split [] = []\n",
    "split xs = f xs : split (g xs)\n",
    "  where \n",
    "    f = fst . splitAt 2\n",
    "    g = snd . splitAt 2 \n",
    "    \n",
    "split  b"
   ]
  },
  {
   "cell_type": "code",
   "execution_count": 22,
   "id": "767f1e7a",
   "metadata": {},
   "outputs": [
    {
     "data": {
      "text/plain": [
       "[(1, 2), (3, 4), (5, 6)]"
      ]
     },
     "metadata": {},
     "output_type": "display_data"
    }
   ],
   "source": [
    "let b = [1,2,3,4,5,6]\n",
    "\n",
    "-- split a list in to list of pairs\n",
    "split :: [a]->[(a,a)]\n",
    "split x = zip [x!! y| y<- evens] [x!! y| y<-odds] \n",
    "     where \n",
    "       len   =   length x \n",
    "       odds  =  [1,3.. len]\n",
    "       evens =  [0,2.. len]\n",
    "       \n",
    "pretty (split  b)"
   ]
  },
  {
   "cell_type": "code",
   "execution_count": 53,
   "id": "1916571c",
   "metadata": {},
   "outputs": [
    {
     "ename": "",
     "evalue": "",
     "output_type": "error",
     "traceback": [
      "Parse error (line 1, column 1): parse error on input `??'"
     ]
    }
   ],
   "source": [
    "?? stack install prettyprinter-1.8.1"
   ]
  },
  {
   "cell_type": "code",
   "execution_count": 1,
   "id": "aeb2895d",
   "metadata": {},
   "outputs": [
    {
     "data": {
      "text/html": [
       "<style>/* Styles used for the Hoogle display in the pager */\n",
       ".hoogle-doc {\n",
       "display: block;\n",
       "padding-bottom: 1.3em;\n",
       "padding-left: 0.4em;\n",
       "}\n",
       ".hoogle-code {\n",
       "display: block;\n",
       "font-family: monospace;\n",
       "white-space: pre;\n",
       "}\n",
       ".hoogle-text {\n",
       "display: block;\n",
       "}\n",
       ".hoogle-name {\n",
       "color: green;\n",
       "font-weight: bold;\n",
       "}\n",
       ".hoogle-head {\n",
       "font-weight: bold;\n",
       "}\n",
       ".hoogle-sub {\n",
       "display: block;\n",
       "margin-left: 0.4em;\n",
       "}\n",
       ".hoogle-package {\n",
       "font-weight: bold;\n",
       "font-style: italic;\n",
       "}\n",
       ".hoogle-module {\n",
       "font-weight: bold;\n",
       "}\n",
       ".hoogle-class {\n",
       "font-weight: bold;\n",
       "}\n",
       ".get-type {\n",
       "color: green;\n",
       "font-weight: bold;\n",
       "font-family: monospace;\n",
       "display: block;\n",
       "white-space: pre-wrap;\n",
       "}\n",
       ".show-type {\n",
       "color: green;\n",
       "font-weight: bold;\n",
       "font-family: monospace;\n",
       "margin-left: 1em;\n",
       "}\n",
       ".mono {\n",
       "font-family: monospace;\n",
       "display: block;\n",
       "}\n",
       ".err-msg {\n",
       "color: red;\n",
       "font-style: italic;\n",
       "font-family: monospace;\n",
       "white-space: pre;\n",
       "display: block;\n",
       "}\n",
       "#unshowable {\n",
       "color: red;\n",
       "font-weight: bold;\n",
       "}\n",
       ".err-msg.in.collapse {\n",
       "padding-top: 0.7em;\n",
       "}\n",
       ".highlight-code {\n",
       "white-space: pre;\n",
       "font-family: monospace;\n",
       "}\n",
       ".suggestion-warning { \n",
       "font-weight: bold;\n",
       "color: rgb(200, 130, 0);\n",
       "}\n",
       ".suggestion-error { \n",
       "font-weight: bold;\n",
       "color: red;\n",
       "}\n",
       ".suggestion-name {\n",
       "font-weight: bold;\n",
       "}\n",
       "</style><div class=\"suggestion-name\" style=\"clear:both;\">Redundant bracket</div><div class=\"suggestion-row\" style=\"float: left;\"><div class=\"suggestion-warning\">Found:</div><div class=\"highlight-code\" id=\"haskell\">(\"hello\\nworld\")</div></div><div class=\"suggestion-row\" style=\"float: left;\"><div class=\"suggestion-warning\">Why Not:</div><div class=\"highlight-code\" id=\"haskell\">\"hello\\nworld\"</div></div>"
      ],
      "text/plain": [
       "Line 3: Redundant bracket\n",
       "Found:\n",
       "(\"hello\\nworld\")\n",
       "Why not:\n",
       "\"hello\\nworld\""
      ]
     },
     "metadata": {},
     "output_type": "display_data"
    },
    {
     "data": {
      "text/plain": [
       "hello\n",
       "world"
      ]
     },
     "metadata": {},
     "output_type": "display_data"
    }
   ],
   "source": [
    "import Prettyprinter\n",
    "\n",
    "pretty (\"hello\\nworld\") \n"
   ]
  },
  {
   "cell_type": "code",
   "execution_count": 45,
   "id": "62a064ad",
   "metadata": {},
   "outputs": [
    {
     "data": {
      "text/plain": [
       "Exit code: ExitSuccess"
      ]
     },
     "metadata": {},
     "output_type": "display_data"
    },
    {
     "data": {
      "text/plain": [
       "Output:\n",
       "Untitled.ipynb\n",
       "combinatorics.ipynb"
      ]
     },
     "metadata": {},
     "output_type": "display_data"
    },
    {
     "data": {
      "text/plain": [
       "Errors:"
      ]
     },
     "metadata": {},
     "output_type": "display_data"
    }
   ],
   "source": [
    "import System.Process\n",
    "\n",
    "\n",
    "let command = \"ls\"\n",
    "(exitCode, output, errors) <- readProcessWithExitCode command [] \"\"\n",
    "putStrLn $ \"Exit code: \" ++ show exitCode\n",
    "putStrLn $ \"Output:\\n\" ++ output\n",
    "putStrLn $ \"Errors:\\n\" ++ errors\n"
   ]
  },
  {
   "cell_type": "code",
   "execution_count": null,
   "id": "cf1ac77a",
   "metadata": {},
   "outputs": [
    {
     "data": {
      "text/plain": [
       "\"Output:\\nUntitled.ipynb\\ncombinatorics.ipynb\\n\""
      ]
     },
     "metadata": {},
     "output_type": "display_data"
    }
   ],
   "source": [
    "\"Output:\\n\" ++ output"
   ]
  }
 ],
 "metadata": {
  "kernelspec": {
   "display_name": "Haskell",
   "language": "haskell",
   "name": "haskell"
  },
  "language_info": {
   "codemirror_mode": "ihaskell",
   "file_extension": ".hs",
   "mimetype": "text/x-haskell",
   "name": "haskell",
   "pygments_lexer": "Haskell",
   "version": "9.2.7"
  }
 },
 "nbformat": 4,
 "nbformat_minor": 5
}
