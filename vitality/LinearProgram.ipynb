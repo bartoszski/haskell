{
 "cells": [
  {
   "cell_type": "code",
   "execution_count": 3,
   "id": "8d2eeb11",
   "metadata": {},
   "outputs": [
    {
     "data": {
      "text/plain": [
       "Resolving dependencies...\n",
       "Build profile: -w ghc-9.4.5 -O1\n",
       "In order, the following will be built (use -v for more details):\n",
       " - glpk-hs-0.8 (lib) (requires build)\n",
       " - glpk-hs-0.8 (exe:glpk-hs-example) (requires build)\n",
       "Starting     glpk-hs-0.8 (lib)\n",
       "\n",
       "Failed to build glpk-hs-0.8. The failure occurred during the configure step.\n",
       "Build log (\n",
       "/home/jovyan/.cabal/logs/ghc-9.4.5/glpk-hs-0.8-026466b3a364c6e3ad5de22e0116e426140b373532fc8fa0e6aa730a3c283ffc.log\n",
       "):\n",
       "Configuring library for glpk-hs-0.8..\n",
       "Error: cabal: Missing dependency on a foreign library:\n",
       "* Missing (or bad) C library: glpk\n",
       "This problem can usually be solved by installing the system package that\n",
       "provides this library (you may need the \"-dev\" version). If the library is\n",
       "already installed but in a non-standard location then you can use the flags\n",
       "--extra-include-dirs= and --extra-lib-dirs= to specify where it is.If the\n",
       "library file does exist, it may contain errors that are caught by the C\n",
       "compiler at the preprocessing stage. In this case you can re-run configure\n",
       "with the verbosity flag -v3 to see the error messages.\n",
       "\n",
       "Error: cabal: Failed to build glpk-hs-0.8 (which is required by\n",
       "exe:glpk-hs-example from glpk-hs-0.8). See the build log above for details.\n",
       "\n",
       "\n",
       "Process exited with error code 1"
      ]
     },
     "metadata": {},
     "output_type": "display_data"
    }
   ],
   "source": [
    ":!cabal install glpk-hs\n"
   ]
  },
  {
   "cell_type": "code",
   "execution_count": 2,
   "id": "4a4a1bc8",
   "metadata": {},
   "outputs": [
    {
     "data": {
      "text/plain": [
       "Error: cabal: Unknown package \"glpk\".\n",
       "\n",
       "\n",
       "Process exited with error code 1"
      ]
     },
     "metadata": {},
     "output_type": "display_data"
    }
   ],
   "source": [
    "import Data.LinearProgram.GLPK\n",
    "\n",
    "main :: IO ()\n",
    "main = do\n",
    "    -- Create a LP problem\n",
    "    lp <- makeSimplexLPObj Maximize\n",
    "\n",
    "    -- Add variables\n",
    "    x <- addVar lp \"x\"\n",
    "    y <- addVar lp \"y\"\n",
    "\n",
    "    -- Set the coefficients of the objective function\n",
    "    setObjective lp (3 *: x + 4 *: y)\n",
    "\n",
    "    -- Add constraints\n",
    "    addConstraint lp (2 *: x + 1 *: y <=. 6)\n",
    "    addConstraint lp (1 *: x + 2 *: y <=. 4)\n",
    "\n",
    "    -- Solve the LP problem\n",
    "    result <- glpSolveVars lp\n",
    "\n",
    "    case result of\n",
    "        Success -> do\n",
    "            -- Get the optimal solution\n",
    "            let optX = varValue x\n",
    "                optY = varValue y\n",
    "                optValue = objectiveValue lp\n",
    "\n",
    "            putStrLn $ \"Optimal solution: x = \" ++ show optX ++ \", y = \" ++ show optY\n",
    "            putStrLn $ \"Optimal value of the objective function: \" ++ show optValue\n",
    "        _ -> putStrLn \"LP problem could not be solved.\"\n",
    "\n",
    "\n"
   ]
  },
  {
   "cell_type": "code",
   "execution_count": 4,
   "id": "ee809af5",
   "metadata": {},
   "outputs": [
    {
     "data": {
      "text/plain": [
       "/bin/sh: 1: sudo: Permission denied\n",
       "\n",
       "Process exited with error code 127"
      ]
     },
     "metadata": {},
     "output_type": "display_data"
    },
    {
     "data": {
      "text/plain": [
       "/bin/sh: 1: sudo: Permission denied\n",
       "\n",
       "Process exited with error code 127"
      ]
     },
     "metadata": {},
     "output_type": "display_data"
    }
   ],
   "source": [
    ":!sudo apt-get update\n",
    ":!sudo apt-get install libglpk-dev\n"
   ]
  }
 ],
 "metadata": {
  "kernelspec": {
   "display_name": "Haskell",
   "language": "haskell",
   "name": "haskell"
  },
  "language_info": {
   "codemirror_mode": "ihaskell",
   "file_extension": ".hs",
   "mimetype": "text/x-haskell",
   "name": "haskell",
   "pygments_lexer": "Haskell",
   "version": "9.4.5"
  }
 },
 "nbformat": 4,
 "nbformat_minor": 5
}
