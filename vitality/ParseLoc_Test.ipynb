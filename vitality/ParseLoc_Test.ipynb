{
 "cells": [
  {
   "cell_type": "code",
   "execution_count": 1,
   "id": "0662e8ea",
   "metadata": {
    "scrolled": false
   },
   "outputs": [],
   "source": [
    ":load  ParseLoc"
   ]
  },
  {
   "cell_type": "markdown",
   "id": "55ec2cbf",
   "metadata": {},
   "source": [
    "### create Location for test"
   ]
  },
  {
   "cell_type": "code",
   "execution_count": 2,
   "id": "4469f405",
   "metadata": {},
   "outputs": [],
   "source": [
    "x = Location {database = \"ushvr12\", dbdesc = \"dev\", host = \"odp-us-innovation-postgres-db.cxzrm3enxxmy.us-east-1.rds.amazonaws.com\", loc_name = \"sedhp\", loc_class = \"oracle\", loc_directory = \"/u01/app/oracle/product/19.3.0.0/dbee_1\", loc_remote_node = \"ora-mke2-scanp.am.health.ge.com\", loc_remote_login = \"gehc_hvr5\", loc_remote_pwd = \"\", loc_remote_port = 4344, loc_db_name = \"\", loc_db_user = \"PLANT_USER_ODP/!{r/2axxMra/8grrk/}!@ora-mke2-scanp.am.health.ge.com:1521/prd1mes\", loc_description = \"scdhp connection\"}"
   ]
  },
  {
   "cell_type": "markdown",
   "id": "b5e01ec5",
   "metadata": {},
   "source": [
    "####  Visualize Location"
   ]
  },
  {
   "cell_type": "code",
   "execution_count": 3,
   "id": "10243e94",
   "metadata": {},
   "outputs": [
    {
     "data": {
      "text/plain": [
       "Location {\n",
       "  database = ushvr12\n",
       "  dbdesc = dev\n",
       "  host = odp-us-innovation-postgres-db.cxzrm3enxxmy.us-east-1.rds.amazonaws.com\n",
       "  loc_name = sedhp\n",
       "  loc_class = oracle\n",
       "  loc_directory = /u01/app/oracle/product/19.3.0.0/dbee_1\n",
       "  loc_remote_node = ora-mke2-scanp.am.health.ge.com\n",
       "  loc_remote_login = gehc_hvr5\n",
       "  loc_remote_pwd = \n",
       "  loc_remote_port = 4344\n",
       "  loc_db_name = \n",
       "  loc_db_user = PLANT_USER_ODP/!{r/2axxMra/8grrk/}!@ora-mke2-scanp.am.health.ge.com:1521/prd1mes\n",
       "  loc_description = scdhp connection\n",
       "}"
      ]
     },
     "metadata": {},
     "output_type": "display_data"
    }
   ],
   "source": [
    "import Data.Text.Prettyprint.Doc\n",
    "\n",
    "pretty x"
   ]
  },
  {
   "cell_type": "markdown",
   "id": "357ff1d0",
   "metadata": {},
   "source": [
    "### load Json"
   ]
  },
  {
   "cell_type": "code",
   "execution_count": 4,
   "id": "0791848b",
   "metadata": {},
   "outputs": [
    {
     "data": {
      "text/plain": [
       "2596"
      ]
     },
     "metadata": {},
     "output_type": "display_data"
    }
   ],
   "source": [
    "import Data.Aeson\n",
    "import qualified Data.ByteString.Lazy as B\n",
    "import Control.Applicative\n",
    "\n",
    "input <- B.readFile \"data2.json\"\n",
    "let mm = decode input :: Maybe [Location]\n",
    "(length.unjust) mm"
   ]
  },
  {
   "cell_type": "code",
   "execution_count": 5,
   "id": "ccde106e",
   "metadata": {},
   "outputs": [],
   "source": [
    "l = unjust mm\n",
    "let l_example =  (l!!2)"
   ]
  },
  {
   "cell_type": "markdown",
   "id": "8b24c07d",
   "metadata": {},
   "source": [
    "pretty l_example"
   ]
  },
  {
   "cell_type": "code",
   "execution_count": 6,
   "id": "ab1dc486",
   "metadata": {},
   "outputs": [
    {
     "data": {
      "text/plain": [
       "Location {\n",
       "  database         = ushvr12\n",
       "  dbdesc           = dev\n",
       "  host             = odp-us-innovation-postgres-db.cxzrm3enxxmy.us-east-1.rds.amazonaws.com\n",
       "  loc_class        = oracleAAA\n",
       "   loc_name         = sedhp\n",
       "   loc_directory    = /u01/app/oracle/product/19.3.0.0/dbee_1\n",
       "   loc_remote_node  = ora-mke2-scanp.am.health.ge.com\n",
       "   loc_remote_login = gehc_hvr5\n",
       "   loc_remote_port  = 4344\n",
       "   loc_db_user      = aa\n",
       "   loc_description  = scdhp connection\n",
       "   db_node_name     = bb\n",
       "   db_instance      = cc\n",
       "}"
      ]
     },
     "metadata": {},
     "output_type": "display_data"
    }
   ],
   "source": [
    "pretty (loc2Location l_example \"AAA\" [\"aa\",\"bb\",\"cc\"] )"
   ]
  }
 ],
 "metadata": {
  "kernelspec": {
   "display_name": "Haskell",
   "language": "haskell",
   "name": "haskell"
  },
  "language_info": {
   "codemirror_mode": "ihaskell",
   "file_extension": ".hs",
   "mimetype": "text/x-haskell",
   "name": "haskell",
   "pygments_lexer": "Haskell",
   "version": "9.4.5"
  }
 },
 "nbformat": 4,
 "nbformat_minor": 5
}
