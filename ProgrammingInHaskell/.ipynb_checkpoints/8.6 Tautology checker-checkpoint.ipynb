{
 "cells": [
  {
   "cell_type": "code",
   "execution_count": 25,
   "id": "9e1fc321",
   "metadata": {},
   "outputs": [],
   "source": [
    "import Data.String\n"
   ]
  },
  {
   "cell_type": "code",
   "execution_count": 55,
   "id": "2fdfe083",
   "metadata": {},
   "outputs": [],
   "source": [
    "data Prop = Const Bool\n",
    "    | Var   String\n",
    "    | Not   Prop\n",
    "    | And   Prop Prop\n",
    "    | Imply Prop Prop\n",
    "    deriving (Show,Read)\n",
    "    \n",
    "type Assoc k v  = [(k,v)]    \n",
    "type Subst = Assoc Char Bool"
   ]
  },
  {
   "cell_type": "code",
   "execution_count": 56,
   "id": "65cca26b",
   "metadata": {},
   "outputs": [],
   "source": []
  },
  {
   "cell_type": "code",
   "execution_count": 39,
   "id": "ea43470b",
   "metadata": {},
   "outputs": [],
   "source": [
    "p1 :: Prop\n",
    "p1 = Var \"AA\"\n",
    "\n",
    "p2 :: Prop\n",
    "p2  = And p1 p1 "
   ]
  },
  {
   "cell_type": "code",
   "execution_count": 65,
   "id": "1746bf86",
   "metadata": {},
   "outputs": [],
   "source": [
    "find :: Eq k=> k -> Assoc k v -> [v]\n",
    "find k t = [ v |  (k',v)<-t , k==k'] "
   ]
  },
  {
   "cell_type": "code",
   "execution_count": 66,
   "id": "a32e4e78",
   "metadata": {},
   "outputs": [
    {
     "data": {
      "text/plain": [
       "[True,False]"
      ]
     },
     "metadata": {},
     "output_type": "display_data"
    }
   ],
   "source": [
    "a = [('A',False),('B',True),('B',False)]\n",
    "find 'B' a"
   ]
  },
  {
   "cell_type": "markdown",
   "id": "5331b87d",
   "metadata": {},
   "source": [
    "---------"
   ]
  },
  {
   "cell_type": "code",
   "execution_count": null,
   "id": "211739fc",
   "metadata": {},
   "outputs": [],
   "source": [
    "1) get number of variables ! to know haw many processes we have \n",
    "2) (p1 `^>` p2) and (p1 `<>` p2) \n",
    "   (p1 startsAfter p2 ) and (p1 overlap p2)\n",
    "\n",
    "\n"
   ]
  },
  {
   "cell_type": "code",
   "execution_count": 1,
   "id": "98464cf1",
   "metadata": {},
   "outputs": [],
   "source": [
    "data TimeFrame  = TimeFrame Int Int  \n",
    "                deriving (Show,Read)\n",
    "\n",
    "getStart :: TimeFrame  -> Int\n",
    "getStart   (TimeFrame start _) = start\n",
    "\n",
    "getEnd :: TimeFrame  -> Int\n",
    "getEnd    (TimeFrame _ end) = end\n",
    "\n",
    "\n",
    "overlap ::  TimeFrame -> TimeFrame -> Bool\n",
    "overlap x y | not ((getEnd x <  getStart y) || (getEnd y <  getStart x) ) = True\n",
    "            | otherwise = False\n",
    "           "
   ]
  },
  {
   "cell_type": "code",
   "execution_count": 2,
   "id": "4aa7cbeb",
   "metadata": {},
   "outputs": [],
   "source": [
    "mkTimeFrame :: Int -> Int -> TimeFrame  \n",
    "mkTimeFrame start end\n",
    "    | start <= end  = TimeFrame start end\n",
    "\n",
    "\n",
    "safeMkTimeFrame :: Int -> Int -> Maybe TimeFrame  \n",
    "safeMkTimeFrame start end\n",
    "    | start <= end = Just (TimeFrame start end)\n",
    "    | otherwise    = Nothing"
   ]
  },
  {
   "cell_type": "code",
   "execution_count": 3,
   "id": "c8f75c8c",
   "metadata": {},
   "outputs": [],
   "source": [
    "startsAfter :: TimeFrame -> TimeFrame -> Bool\n",
    "startsAfter x y | getStart x > getStart y = True\n",
    "                | otherwise = False\n",
    "\n",
    "startsBefore :: TimeFrame -> TimeFrame -> Bool\n",
    "startsBefore x y = not (startsAfter x y)       "
   ]
  },
  {
   "cell_type": "code",
   "execution_count": 4,
   "id": "90034ed7",
   "metadata": {},
   "outputs": [
    {
     "data": {
      "text/plain": [
       "TimeFrame 1 4"
      ]
     },
     "metadata": {},
     "output_type": "display_data"
    },
    {
     "data": {
      "text/plain": [
       "TimeFrame 3 5"
      ]
     },
     "metadata": {},
     "output_type": "display_data"
    },
    {
     "data": {
      "text/plain": [
       "TimeFrame 1 3"
      ]
     },
     "metadata": {},
     "output_type": "display_data"
    },
    {
     "data": {
      "text/plain": [
       "TimeFrame 1 2"
      ]
     },
     "metadata": {},
     "output_type": "display_data"
    },
    {
     "data": {
      "text/plain": [
       "True"
      ]
     },
     "metadata": {},
     "output_type": "display_data"
    },
    {
     "data": {
      "text/plain": [
       "True"
      ]
     },
     "metadata": {},
     "output_type": "display_data"
    },
    {
     "data": {
      "text/plain": [
       "False"
      ]
     },
     "metadata": {},
     "output_type": "display_data"
    },
    {
     "data": {
      "text/plain": [
       "False"
      ]
     },
     "metadata": {},
     "output_type": "display_data"
    },
    {
     "data": {
      "text/plain": [
       "True"
      ]
     },
     "metadata": {},
     "output_type": "display_data"
    },
    {
     "data": {
      "text/plain": [
       "True"
      ]
     },
     "metadata": {},
     "output_type": "display_data"
    }
   ],
   "source": [
    "t1 = TimeFrame 1 4\n",
    "t2 = TimeFrame 3 5\n",
    "t3 = mkTimeFrame 1 3\n",
    "t4 = mkTimeFrame 1 2\n",
    "\n",
    "t1\n",
    "t2\n",
    "t3\n",
    "t4\n",
    "overlap t1 t2\n",
    "overlap t3 t4\n",
    "startsAfter  t1 t2\n",
    "startsAfter  t3 t4\n",
    "startsBefore t1 t2\n",
    "startsBefore t3 t4"
   ]
  },
  {
   "cell_type": "code",
   "execution_count": 34,
   "id": "8a340e27",
   "metadata": {},
   "outputs": [],
   "source": [
    "a = [(1,2),(3,4),(2,1)]"
   ]
  },
  {
   "cell_type": "code",
   "execution_count": 5,
   "id": "711ec565",
   "metadata": {},
   "outputs": [
    {
     "data": {
      "text/plain": [
       "[TimeFrame 1 2,TimeFrame 3 4]"
      ]
     },
     "metadata": {},
     "output_type": "display_data"
    }
   ],
   "source": [
    "import Data.List (permutations)\n",
    "import Prettyprinter\n",
    "import Data.Maybe \n",
    "\n",
    "a = [(1,2),(3,4),(2,1)]\n",
    "\n",
    "split :: [a]->[(a,a)]\n",
    "split x = zip [x!! y| y<- evens] [x!! y| y<-odds] \n",
    "     where \n",
    "       len   =   length x \n",
    "       odds  =  [1,3.. len]\n",
    "       evens =  [0,2.. len]\n",
    "\n",
    "lst2TimeFrames :: [(Int,Int)] -> [TimeFrame]\n",
    "lst2TimeFrames  =  f3 . f2 . f1 \n",
    "    where \n",
    "            f1 = map (uncurry safeMkTimeFrame) \n",
    "            f2 = filter isJust \n",
    "            f3 = map fromJust\n",
    "\n",
    "lst2TimeFrames a"
   ]
  },
  {
   "cell_type": "code",
   "execution_count": 6,
   "id": "fe6e3fde",
   "metadata": {},
   "outputs": [
    {
     "data": {
      "text/html": [
       "<style>/* Styles used for the Hoogle display in the pager */\n",
       ".hoogle-doc {\n",
       "display: block;\n",
       "padding-bottom: 1.3em;\n",
       "padding-left: 0.4em;\n",
       "}\n",
       ".hoogle-code {\n",
       "display: block;\n",
       "font-family: monospace;\n",
       "white-space: pre;\n",
       "}\n",
       ".hoogle-text {\n",
       "display: block;\n",
       "}\n",
       ".hoogle-name {\n",
       "color: green;\n",
       "font-weight: bold;\n",
       "}\n",
       ".hoogle-head {\n",
       "font-weight: bold;\n",
       "}\n",
       ".hoogle-sub {\n",
       "display: block;\n",
       "margin-left: 0.4em;\n",
       "}\n",
       ".hoogle-package {\n",
       "font-weight: bold;\n",
       "font-style: italic;\n",
       "}\n",
       ".hoogle-module {\n",
       "font-weight: bold;\n",
       "}\n",
       ".hoogle-class {\n",
       "font-weight: bold;\n",
       "}\n",
       ".get-type {\n",
       "color: green;\n",
       "font-weight: bold;\n",
       "font-family: monospace;\n",
       "display: block;\n",
       "white-space: pre-wrap;\n",
       "}\n",
       ".show-type {\n",
       "color: green;\n",
       "font-weight: bold;\n",
       "font-family: monospace;\n",
       "margin-left: 1em;\n",
       "}\n",
       ".mono {\n",
       "font-family: monospace;\n",
       "display: block;\n",
       "}\n",
       ".err-msg {\n",
       "color: red;\n",
       "font-style: italic;\n",
       "font-family: monospace;\n",
       "white-space: pre;\n",
       "display: block;\n",
       "}\n",
       "#unshowable {\n",
       "color: red;\n",
       "font-weight: bold;\n",
       "}\n",
       ".err-msg.in.collapse {\n",
       "padding-top: 0.7em;\n",
       "}\n",
       ".highlight-code {\n",
       "white-space: pre;\n",
       "font-family: monospace;\n",
       "}\n",
       ".suggestion-warning { \n",
       "font-weight: bold;\n",
       "color: rgb(200, 130, 0);\n",
       "}\n",
       ".suggestion-error { \n",
       "font-weight: bold;\n",
       "color: red;\n",
       "}\n",
       ".suggestion-name {\n",
       "font-weight: bold;\n",
       "}\n",
       "</style><div class=\"suggestion-name\" style=\"clear:both;\">Use map once</div><div class=\"suggestion-row\" style=\"float: left;\"><div class=\"suggestion-warning\">Found:</div><div class=\"highlight-code\" id=\"haskell\">map lst2TimeFrames (map split permutedLists)</div></div><div class=\"suggestion-row\" style=\"float: left;\"><div class=\"suggestion-warning\">Why Not:</div><div class=\"highlight-code\" id=\"haskell\">map (lst2TimeFrames . split) permutedLists</div></div>"
      ],
      "text/plain": [
       "Line 7: Use map once\n",
       "Found:\n",
       "map lst2TimeFrames (map split permutedLists)\n",
       "Why not:\n",
       "map (lst2TimeFrames . split) permutedLists"
      ]
     },
     "metadata": {},
     "output_type": "display_data"
    },
    {
     "data": {
      "text/plain": [
       "[[TimeFrame 1 2,TimeFrame 3 4],[TimeFrame 3 4],[TimeFrame 1 4],[TimeFrame 2 3,TimeFrame 1 4],[TimeFrame 2 4],[TimeFrame 1 3,TimeFrame 2 4],[],[TimeFrame 3 4],[],[],[TimeFrame 2 4],[TimeFrame 2 3],[TimeFrame 2 3],[TimeFrame 1 4,TimeFrame 2 3],[TimeFrame 1 2],[TimeFrame 1 3],[TimeFrame 2 4,TimeFrame 1 3],[],[],[TimeFrame 1 4],[TimeFrame 1 3],[TimeFrame 1 2],[TimeFrame 3 4,TimeFrame 1 2],[]]"
      ]
     },
     "metadata": {},
     "output_type": "display_data"
    }
   ],
   "source": [
    "import Data.List (permutations)\n",
    "import Prettyprinter\n",
    "\n",
    "myList = [1, 2, 3,4]\n",
    "permutedLists = permutations myList\n",
    "\n",
    "aa =  map lst2TimeFrames (map split permutedLists)\n",
    "aa"
   ]
  },
  {
   "cell_type": "code",
   "execution_count": 44,
   "id": "da56b0d4",
   "metadata": {},
   "outputs": [],
   "source": [
    "import Data.String\n",
    "\n",
    "type Assoc k v  = [(k,v)] \n",
    "\n",
    "find :: Eq k=> k -> Assoc k v -> v\n",
    "find k t = head [ v |  (k',v)<-t , k==k'] \n",
    "\n",
    "type Subst = Assoc String TimeFrame    \n",
    "\n",
    "-- Time Frame\n",
    "data TimeFrame  = TimeFrame Int Int  deriving (Show,Read)\n",
    "getStart :: TimeFrame  -> Int\n",
    "getStart   (TimeFrame start _) = start\n",
    "\n",
    "getEnd :: TimeFrame  -> Int\n",
    "getEnd    (TimeFrame _ end) = end\n",
    "\n",
    "overlap ::  TimeFrame -> TimeFrame -> Bool\n",
    "overlap x y | not ((getEnd x <  getStart y) || (getEnd y <  getStart x) ) = True\n",
    "            | otherwise = False\n",
    "            \n",
    "startsAfter :: TimeFrame -> TimeFrame -> Bool\n",
    "startsAfter x y | getStart x > getStart y = True\n",
    "                | otherwise = False\n",
    "\n",
    "\n",
    "data ProcessOper  = Const        TimeFrame\n",
    "                  | Proc         String\n",
    "                  | Overlap      ProcessOper ProcessOper\n",
    "                  | StartsAfter  ProcessOper ProcessOper\n",
    "                  deriving (Show,Read)\n",
    "                "
   ]
  },
  {
   "cell_type": "code",
   "execution_count": 11,
   "id": "cb12c455",
   "metadata": {},
   "outputs": [],
   "source": [
    "p1 :: ProcessOper \n",
    "p1 =  Overlap (Proc \"procesA\")  (Proc \"procesB\")\n",
    "\n",
    "--p2 :: ProcessOper \n",
    "--p2 =  And (   Overlap (Proc \"procesA\")  (Proc \"procesB\")) ( StartsAfter (Proc \"procesB\")  (Proc \"procesA\") ) "
   ]
  },
  {
   "cell_type": "markdown",
   "id": "3102b6b2",
   "metadata": {},
   "source": [
    "p1 :: ProcessModel \n",
    "p1 = And Overlap (Proc \"procesA\" Proc \"procesB\")  StartsBefore (Proc \"procesA\" Proc \"procesB\")"
   ]
  },
  {
   "cell_type": "code",
   "execution_count": 75,
   "id": "048425f9",
   "metadata": {},
   "outputs": [],
   "source": [
    "data ProcessOper  = Proc         String\n",
    "                  | Overlap      ProcessOper ProcessOper\n",
    "                  | StartsAfter  ProcessOper ProcessOper\n",
    "                  | And          ProcessOper ProcessOper\n",
    "                  | Or           ProcessOper ProcessOper\n",
    "                  deriving (Show,Read)"
   ]
  },
  {
   "cell_type": "code",
   "execution_count": 76,
   "id": "90d54dc1",
   "metadata": {},
   "outputs": [
    {
     "data": {
      "text/plain": [
       "False"
      ]
     },
     "metadata": {},
     "output_type": "display_data"
    }
   ],
   "source": [
    "eval :: Subst -> ProcessOper -> Bool\n",
    "\n",
    "eval s (Overlap p q) = overlap (getTF p s) (getTF q s)\n",
    "                     where \n",
    "                     subst (Proc x) = x \n",
    "                     getTF x = find (subst x) \n",
    "\n",
    "eval s (StartsAfter p q) = startsAfter (getTF p s) (getTF q s)\n",
    "                     where \n",
    "                     subst (Proc x) = x \n",
    "                     getTF x = find (subst x) \n",
    "\n",
    "eval s (And p q) = eval s p && eval s q\n",
    "eval s (Or p q)  = eval s p || eval s q\n",
    "                    \n",
    "\n",
    "\n",
    "s = [(\"procesA\" , TimeFrame 1 3) , (\"procesB\" , TimeFrame 4 5)]\n",
    "\n",
    "p1 :: ProcessOper\n",
    "p1 = And ( StartsAfter (Proc \"procesB\") (Proc \"procesA\"))  (Overlap (Proc \"procesB\") (Proc \"procesA\")) \n",
    "\n",
    "\n",
    "-- startsAfter (find \"procesA\" s) (find \"procesB\" s)\n",
    "eval s p1"
   ]
  }
 ],
 "metadata": {
  "kernelspec": {
   "display_name": "Haskell",
   "language": "haskell",
   "name": "haskell"
  },
  "language_info": {
   "codemirror_mode": "ihaskell",
   "file_extension": ".hs",
   "mimetype": "text/x-haskell",
   "name": "haskell",
   "pygments_lexer": "Haskell",
   "version": "9.2.7"
  }
 },
 "nbformat": 4,
 "nbformat_minor": 5
}
