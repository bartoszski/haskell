{
 "cells": [
  {
   "cell_type": "markdown",
   "id": "1c3e98fc",
   "metadata": {},
   "source": [
    ":!cabal update"
   ]
  },
  {
   "cell_type": "code",
   "execution_count": null,
   "id": "eb1c926c",
   "metadata": {},
   "outputs": [
    {
     "data": {
      "text/plain": [
       "Error: cabal: Unknown package \"prelude\". Did you mean any of the following?\n",
       "- Prelude\n",
       "\n",
       "\n",
       "Process exited with error code 1"
      ]
     },
     "metadata": {},
     "output_type": "display_data"
    },
    {
     "ename": "",
     "evalue": "",
     "output_type": "error",
     "traceback": [
      "<interactive>:1:1: error:\n    Could not load module ‘Prelude’\n    It is a member of the hidden package ‘base-4.17.1.0’.\n    You can run ‘:set -package base’ to expose it.\n    (Note: this unloads all the modules in the current scope.)\n    Use -v (or `:set -v` in ghci) to see a list of the files searched for."
     ]
    }
   ],
   "source": [
    ":!cabal install --lib prelude"
   ]
  },
  {
   "cell_type": "code",
   "execution_count": 1,
   "id": "bc84d173",
   "metadata": {},
   "outputs": [],
   "source": [
    "{-# LANGUAGE OverloadedStrings #-}\n",
    "\n",
    "import Data.Aeson\n",
    "import qualified Data.ByteString.Lazy as B\n",
    "import qualified Data.ByteString.Lazy.Char8 as L\n",
    "\n",
    "-- Define a data type to represent the structure of the JSON\n",
    "data Person = Person\n",
    "  { name :: String\n",
    "  , age :: Int\n",
    "  } deriving (Show)\n",
    "\n",
    "-- Define an instance to decode JSON into the Person data type\n",
    "instance FromJSON Person where\n",
    "  parseJSON = withObject \"Person\" $ \\v -> Person\n",
    "    <$> v .: \"name\"\n",
    "    <*> v .: \"age\"\n",
    "\n"
   ]
  },
  {
   "cell_type": "code",
   "execution_count": 2,
   "id": "cee499f0",
   "metadata": {},
   "outputs": [
    {
     "data": {
      "text/plain": [
       "Error: Unexpected end-of-input, expecting JSON value"
      ]
     },
     "metadata": {},
     "output_type": "display_data"
    }
   ],
   "source": [
    "  -- Read JSON data from the file\n",
    "  jsonData <- B.readFile \"data.json\"\n",
    "  \n",
    "  -- Parse JSON using eitherDecode function\n",
    "  let parsedData = eitherDecode jsonData :: Either String Person\n",
    "\n",
    "  case parsedData of\n",
    "    Left err -> putStrLn $ \"Error: \" ++ err\n",
    "    Right person -> putStrLn $ \"Parsed JSON: \" ++ show person"
   ]
  },
  {
   "cell_type": "code",
   "execution_count": 3,
   "id": "a3f31ebe",
   "metadata": {},
   "outputs": [
    {
     "data": {
      "text/plain": [
       "Alice"
      ]
     },
     "metadata": {},
     "output_type": "display_data"
    }
   ],
   "source": [
    "\n",
    "let person = Right (Person {name = \"Alice\", age = 30})\n",
    "\n",
    "case person of\n",
    "    Left _ -> putStrLn \"Error occurred\"\n",
    "    Right (Person {name = personName}) -> putStrLn personName\n"
   ]
  },
  {
   "cell_type": "markdown",
   "id": "5999cec0",
   "metadata": {},
   "source": [
    "-------------------------"
   ]
  },
  {
   "cell_type": "code",
   "execution_count": 4,
   "id": "9d26093b",
   "metadata": {},
   "outputs": [],
   "source": [
    "{-# LANGUAGE OverloadedStrings #-}\n",
    "\n",
    "import Data.Aeson\n",
    "import qualified Data.ByteString.Lazy as B\n",
    "\n",
    "-- Define a data type to represent the structure of the JSON\n",
    "data Person = Person\n",
    "  { name :: String\n",
    "  , age :: Int\n",
    "  , country :: String\n",
    "  } deriving (Show)\n",
    "\n",
    "-- Define an instance to decode JSON into the Person data type\n",
    "instance FromJSON Person where\n",
    "  parseJSON = withObject \"Person\" $ \\v -> Person\n",
    "    <$> v .: \"Name\"\n",
    "    <*> v .: \"Age\"\n",
    "    <*> v .: \"Country\"\n",
    "\n",
    "\n",
    "\n"
   ]
  },
  {
   "cell_type": "code",
   "execution_count": 5,
   "id": "5a4cb168",
   "metadata": {},
   "outputs": [
    {
     "data": {
      "text/plain": [
       "Error: Unexpected end-of-input, expecting JSON value"
      ]
     },
     "metadata": {},
     "output_type": "display_data"
    }
   ],
   "source": [
    "  -- Read JSON data from the file\n",
    "  jsonData <- B.readFile \"data.json\"\n",
    "  \n",
    "  -- Parse JSON using eitherDecode function\n",
    "  let parsedData = eitherDecode jsonData :: Either String [Person]\n",
    "\n",
    "  case parsedData of\n",
    "    Left err -> putStrLn $ \"Error: \" ++ err\n",
    "    Right people -> putStrLn $ \"Parsed JSON: \" ++ show people"
   ]
  },
  {
   "cell_type": "markdown",
   "id": "b9effcd9",
   "metadata": {},
   "source": [
    "------------"
   ]
  },
  {
   "cell_type": "code",
   "execution_count": 10,
   "id": "8d2d2041",
   "metadata": {},
   "outputs": [
    {
     "data": {
      "text/plain": [
       "[Location {loc_name = \"mfg\", loc_class = \"file\", loc_directory = \"/home/hvr/ctdwafersprocessed/data\", loc_remote_node = \"10.242.109.196\", loc_remote_login = \"hvr\", loc_remote_pwd = \"!{ioMZoDB5eGFbcfxn}!\", loc_remote_port = 4343, loc_db_name = \"\", loc_db_user = \"\", loc_description = \" MFG - CTD Wafers\"},Location {loc_name = \"cis\", loc_class = \"file\", loc_directory = \"/home/lh156795/cis/cis_data\", loc_remote_node = \"10.242.112.153\", loc_remote_login = \"hvr2\", loc_remote_pwd = \"!{yjT/heDE}!\", loc_remote_port = 9090, loc_db_name = \"\", loc_db_user = \"\", loc_description = \"cis to s3\"}]"
      ]
     },
     "metadata": {},
     "output_type": "display_data"
    }
   ],
   "source": [
    "{-# LANGUAGE OverloadedStrings #-}\n",
    "\n",
    "import Data.Aeson\n",
    "import qualified Data.ByteString.Lazy as B\n",
    "\n",
    "-- Define a data type to represent the structure of the JSON\n",
    "data Location = Location\n",
    "  { loc_name :: String\n",
    "  , loc_class :: String\n",
    "  , loc_directory :: String\n",
    "  , loc_remote_node :: String\n",
    "  , loc_remote_login :: String\n",
    "  , loc_remote_pwd :: String\n",
    "  , loc_remote_port :: Int\n",
    "  , loc_db_name :: String\n",
    "  , loc_db_user :: String\n",
    "  , loc_description :: String\n",
    "  } deriving (Show)\n",
    "\n",
    "-- Define an instance to decode JSON into the Location data type\n",
    "instance FromJSON Location where\n",
    "  parseJSON = withObject \"Location\" $ \\v -> Location\n",
    "    <$> v .: \"loc_name\"\n",
    "    <*> v .: \"loc_class\"\n",
    "    <*> v .: \"loc_directory\"\n",
    "    <*> v .: \"loc_remote_node\"\n",
    "    <*> v .: \"loc_remote_login\"\n",
    "    <*> v .: \"loc_remote_pwd\"\n",
    "    <*> v .: \"loc_remote_port\"\n",
    "    <*> v .: \"loc_db_name\"\n",
    "    <*> v .: \"loc_db_user\"\n",
    "    <*> v .: \"loc_description\"\n",
    "\n",
    "\n",
    "-- Read JSON data from the file\n",
    "jsonData <- B.readFile \"data.json\"\n",
    "  \n",
    "-- Parse JSON using eitherDecode function\n",
    "let parsedData = eitherDecode jsonData :: Either String [Location]\n",
    "\n",
    "case parsedData of\n",
    "    Left err -> putStrLn $ \"Error: \" ++ err\n",
    "    Right locations -> putStrLn $ show locations"
   ]
  },
  {
   "cell_type": "code",
   "execution_count": 11,
   "id": "4a36c270",
   "metadata": {},
   "outputs": [
    {
     "data": {
      "text/plain": [
       "Location Names:\n",
       "mfg\n",
       "cis"
      ]
     },
     "metadata": {},
     "output_type": "display_data"
    }
   ],
   "source": [
    "locationsResult :: Either String [Location]\n",
    "locationsResult = parsedData\n",
    "\n",
    "\n",
    "case locationsResult of\n",
    "  Left err -> putStrLn $ \"Error: \" ++ err\n",
    "  Right locationList -> do\n",
    "    let locNames = map loc_name locationList\n",
    "    putStrLn $ \"Location Names:\\n\" ++ unlines locNames\n"
   ]
  },
  {
   "cell_type": "code",
   "execution_count": null,
   "id": "ec36f462",
   "metadata": {},
   "outputs": [
    {
     "data": {
      "text/plain": [
       "Location Names:\n",
       "mfg\n",
       "cis"
      ]
     },
     "metadata": {},
     "output_type": "display_data"
    }
   ],
   "source": [
    "-- Define a function to extract and print loc_name values\n",
    "printLocNames :: Either String [Location] -> IO ()\n",
    "printLocNames locationsResult = do\n",
    "  case locationsResult of\n",
    "    Left err -> putStrLn $ \"Error: \" ++ err\n",
    "    Right locationList -> do\n",
    "      let locNames = map loc_name locationList\n",
    "      putStrLn $ \"Location Names:\\n\" ++ unlines locNames\n",
    "\n",
    "\n",
    "-- Read JSON data from the file\n",
    "jsonData <- B.readFile \"data.json\"\n",
    "  \n",
    "-- Parse JSON using eitherDecode function\n",
    "let parsedData = eitherDecode jsonData :: Either String [Location]\n",
    "\n",
    "printLocNames parsedData"
   ]
  },
  {
   "cell_type": "code",
   "execution_count": 9,
   "id": "1f2e652f",
   "metadata": {},
   "outputs": [
    {
     "data": {
      "text/plain": [
       "[]"
      ]
     },
     "metadata": {},
     "output_type": "display_data"
    }
   ],
   "source": [
    "-- Define a function to extract loc_name values as a list\n",
    "getLocNames :: Either String [Location] -> [String]\n",
    "getLocNames locationsResult =\n",
    "  case locationsResult of\n",
    "    Left _ -> [] -- Return an empty list in case of error\n",
    "    Right locationList -> map loc_name locationList\n",
    "    \n",
    "getLocNames parsedData  "
   ]
  }
 ],
 "metadata": {
  "kernelspec": {
   "display_name": "Haskell",
   "language": "haskell",
   "name": "haskell"
  },
  "language_info": {
   "codemirror_mode": "ihaskell",
   "file_extension": ".hs",
   "mimetype": "text/x-haskell",
   "name": "haskell",
   "pygments_lexer": "Haskell",
   "version": "9.4.5"
  }
 },
 "nbformat": 4,
 "nbformat_minor": 5
}
