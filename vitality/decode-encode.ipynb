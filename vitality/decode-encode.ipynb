{
 "cells": [
  {
   "cell_type": "code",
   "execution_count": 69,
   "id": "6b9b2199",
   "metadata": {},
   "outputs": [
    {
     "data": {
      "text/plain": [
       "\"{\\\"age\\\":12,\\\"name\\\":\\\"Joe\\\"}\""
      ]
     },
     "metadata": {},
     "output_type": "display_data"
    },
    {
     "data": {
      "text/plain": [
       "Just (Person {name = \"Joe\", age = 12})"
      ]
     },
     "metadata": {},
     "output_type": "display_data"
    }
   ],
   "source": [
    "\n",
    "{-# LANGUAGE OverloadedStrings #-}\n",
    "import Control.Applicative\n",
    "import Data.Aeson\n",
    "import Data.Text (Text)\n",
    "\n",
    "-- Same type as before, but without the Generic instance.\n",
    "data Person = Person { name :: Text, age :: Int } deriving Show\n",
    "\n",
    "-- We expect a JSON object, so we fail at any non-Object value.\n",
    "instance FromJSON Person where\n",
    "    parseJSON (Object v) = Person <$> v .: \"name\" <*> v .: \"age\"\n",
    "\n",
    "\n",
    "instance ToJSON Person where\n",
    "    toJSON (Person name age) = object [\"name\" .= name, \"age\" .= age]\n",
    "\n",
    "-- The main function is unchanged from before.\n",
    "\n",
    "e = encode (Person { name = \"Joe\", age = 12 })\n",
    "e\n",
    "decode e :: Maybe Person"
   ]
  },
  {
   "cell_type": "code",
   "execution_count": 19,
   "id": "64dee86c",
   "metadata": {},
   "outputs": [],
   "source": [
    "kafka    = \"[[\\\"urls\\\",[\\\"b-1.us-dev-msk-cluster.x8853p.c1.kafka.us-east-1.amazonaws.com:9094\\\",\\\"b-2.us-dev-msk-cluster.x8853p.c1.kafka.us-east-1.amazonaws.com:9094\\\",\\\"b-3.us-dev-msk-cluster.x8853p.c1.kafka.us-east-1.amazonaws.com:9094\\\"]],[\\\"broker_ca\\\",\\\"/data/kafka_certs/MSKPOCKey.pem\\\"],[\\\"ssl_cert\\\",\\\"/data/kafka_devcerts/kafka/signed-certificate-from-acm\\\"],[\\\"ssl_key\\\",\\\"/data/kafka_devcerts/kafka/key.pem\\\"],[\\\"ssl_key_pwd\\\",\\\"!{Itbo2aix.D3x7/Yp}!\\\"]]\"\n",
    "redshift = \"[[\\\"odbc_driver\\\",\\\"/opt/amazon/redshiftodbc/lib/64/libamazonredshiftodbc64.so\\\"],[\\\"db_node\\\",\\\"us-innovation-redshift.c8ziwm1qxh67.us-east-1.redshift.amazonaws.com\\\"],[\\\"db_port\\\",\\\"5439\\\"],[\\\"db_name\\\",\\\"redshift_hvr\\\"]]\""
   ]
  },
  {
   "cell_type": "code",
   "execution_count": 3,
   "id": "a607ef1c",
   "metadata": {},
   "outputs": [
    {
     "data": {
      "text/plain": [
       "Just (Array [Array [String \"urls\",Array [String \"b-1.us-dev-msk-cluster.x8853p.c1.kafka.us-east-1.amazonaws.com:9094\",String \"b-2.us-dev-msk-cluster.x8853p.c1.kafka.us-east-1.amazonaws.com:9094\",String \"b-3.us-dev-msk-cluster.x8853p.c1.kafka.us-east-1.amazonaws.com:9094\"]],Array [String \"broker_ca\",String \"/data/kafka_certs/MSKPOCKey.pem\"],Array [String \"ssl_cert\",String \"/data/kafka_devcerts/kafka/signed-certificate-from-acm\"],Array [String \"ssl_key\",String \"/data/kafka_devcerts/kafka/key.pem\"],Array [String \"ssl_key_pwd\",String \"!{Itbo2aix.D3x7/Yp}!\"]])"
      ]
     },
     "metadata": {},
     "output_type": "display_data"
    },
    {
     "data": {
      "text/plain": [
       "Just (Array [Array [String \"odbc_driver\",String \"/opt/amazon/redshiftodbc/lib/64/libamazonredshiftodbc64.so\"],Array [String \"db_node\",String \"us-innovation-redshift.c8ziwm1qxh67.us-east-1.redshift.amazonaws.com\"],Array [String \"db_port\",String \"5439\"],Array [String \"db_name\",String \"redshift_hvr\"]])"
      ]
     },
     "metadata": {},
     "output_type": "display_data"
    }
   ],
   "source": [
    "decode red :: Maybe Value\n",
    "decode kafka :: Maybe Value"
   ]
  },
  {
   "cell_type": "code",
   "execution_count": 4,
   "id": "208ce22e",
   "metadata": {},
   "outputs": [
    {
     "data": {
      "text/plain": [
       "\"[\\\"a\\\",\\\"b\\\"]\""
      ]
     },
     "metadata": {},
     "output_type": "display_data"
    },
    {
     "data": {
      "text/plain": [
       "Just (Array [String \"a\",String \"b\"])"
      ]
     },
     "metadata": {},
     "output_type": "display_data"
    },
    {
     "data": {
      "text/plain": [
       "Just (ListElem [\"aa\"])"
      ]
     },
     "metadata": {},
     "output_type": "display_data"
    }
   ],
   "source": [
    "import Data.Aeson\n",
    "import Data.Text (Text)\n",
    "import qualified Data.ByteString.Lazy.Char8 as LBS\n",
    "\n",
    "data MixedElement = ListElem [Text] |  StringElem Text deriving (Show)\n",
    "\n",
    "instance ToJSON MixedElement where\n",
    "    toJSON (StringElem str) = toJSON str\n",
    "    toJSON (ListElem lst)   = toJSON lst\n",
    "\n",
    "\n",
    "instance FromJSON MixedElement where\n",
    "    parseJSON (String str) = return $ StringElem str\n",
    "    parseJSON (Array arr)  = return $ ListElem [\"aa\"]\n",
    "    parseJSON _ = fail \"Invalid MixedElement JSON\"\n",
    "\n",
    "\n",
    "--let mixedList = [ListElem [\"a\",\"b\",\"c\",\"d\"], StringElem \"a\", StringElem \"b\"]\n",
    "let mixedList = [StringElem \"a\", StringElem \"b\"]\n",
    "\n",
    "\n",
    "e = encode mixedList\n",
    "\n",
    "e\n",
    "\n",
    "decode e :: Maybe Value\n",
    "decode e :: Maybe MixedElement"
   ]
  },
  {
   "cell_type": "code",
   "execution_count": 15,
   "id": "a9182797",
   "metadata": {},
   "outputs": [
    {
     "data": {
      "text/plain": [
       "[StringElem \"a\",ListElem [StringElem \"a\"]]"
      ]
     },
     "metadata": {},
     "output_type": "display_data"
    },
    {
     "data": {
      "text/html": [
       "<style>/* Styles used for the Hoogle display in the pager */\n",
       ".hoogle-doc {\n",
       "display: block;\n",
       "padding-bottom: 1.3em;\n",
       "padding-left: 0.4em;\n",
       "}\n",
       ".hoogle-code {\n",
       "display: block;\n",
       "font-family: monospace;\n",
       "white-space: pre;\n",
       "}\n",
       ".hoogle-text {\n",
       "display: block;\n",
       "}\n",
       ".hoogle-name {\n",
       "color: green;\n",
       "font-weight: bold;\n",
       "}\n",
       ".hoogle-head {\n",
       "font-weight: bold;\n",
       "}\n",
       ".hoogle-sub {\n",
       "display: block;\n",
       "margin-left: 0.4em;\n",
       "}\n",
       ".hoogle-package {\n",
       "font-weight: bold;\n",
       "font-style: italic;\n",
       "}\n",
       ".hoogle-module {\n",
       "font-weight: bold;\n",
       "}\n",
       ".hoogle-class {\n",
       "font-weight: bold;\n",
       "}\n",
       "\n",
       ".get-type {\n",
       "color: green;\n",
       "font-weight: bold;\n",
       "font-family: monospace;\n",
       "display: block;\n",
       "white-space: pre-wrap;\n",
       "}\n",
       ".show-type {\n",
       "color: green;\n",
       "font-weight: bold;\n",
       "font-family: monospace;\n",
       "margin-left: 1em;\n",
       "}\n",
       ".mono {\n",
       "font-family: monospace;\n",
       "display: block;\n",
       "}\n",
       ".err-msg {\n",
       "color: red;\n",
       "font-style: italic;\n",
       "font-family: monospace;\n",
       "white-space: pre;\n",
       "display: block;\n",
       "}\n",
       "#unshowable {\n",
       "color: red;\n",
       "font-weight: bold;\n",
       "}\n",
       ".err-msg.in.collapse {\n",
       "padding-top: 0.7em;\n",
       "}\n",
       "\n",
       ".highlight-code {\n",
       "white-space: pre;\n",
       "font-family: monospace;\n",
       "}\n",
       "\n",
       ".suggestion-warning { \n",
       "font-weight: bold;\n",
       "color: rgb(200, 130, 0);\n",
       "}\n",
       ".suggestion-error { \n",
       "font-weight: bold;\n",
       "color: red;\n",
       "}\n",
       ".suggestion-name {\n",
       "font-weight: bold;\n",
       "}\n",
       "\n",
       "</style><span class='get-type'>a :: [MixedElement]</span>"
      ],
      "text/plain": [
       "a :: [MixedElement]"
      ]
     },
     "metadata": {},
     "output_type": "display_data"
    }
   ],
   "source": [
    "data MixedElement = StringElem String | ListElem [MixedElement]  deriving (Show)\n",
    "\n",
    "a = [StringElem \"a\", ListElem [StringElem \"a\"]]\n",
    "a \n",
    ":t a"
   ]
  },
  {
   "cell_type": "code",
   "execution_count": 23,
   "id": "ac85247e",
   "metadata": {},
   "outputs": [
    {
     "data": {
      "text/plain": [
       "Just [[\"odbc_driver\",\"/opt/amazon/redshiftodbc/lib/64/libamazonredshiftodbc64.so\"],[\"db_node\",\"us-innovation-redshift.c8ziwm1qxh67.us-east-1.redshift.amazonaws.com\"],[\"db_port\",\"5439\"],[\"db_name\",\"redshift_hvr\"]]"
      ]
     },
     "metadata": {},
     "output_type": "display_data"
    },
    {
     "data": {
      "text/plain": [
       "Nothing"
      ]
     },
     "metadata": {},
     "output_type": "display_data"
    }
   ],
   "source": [
    "decode redshift :: Maybe [[String]]\n",
    "decode kafka    :: Maybe String"
   ]
  },
  {
   "cell_type": "code",
   "execution_count": 32,
   "id": "b54853b2",
   "metadata": {},
   "outputs": [
    {
     "data": {
      "text/plain": [
       "\"[\\\"value1.1\\\",\\\"valu1.2\\\"]\""
      ]
     },
     "metadata": {},
     "output_type": "display_data"
    }
   ],
   "source": [
    "import Control.Applicative\n",
    "import Data.Aeson\n",
    "import Data.Text (Text)\n",
    "\n",
    "type Key      =  String \n",
    "data Val    = Val  String | Vals [String] deriving (Show)\n",
    "data KeyValue = KeyValue Key Val deriving (Show)\n",
    "\n",
    "\n",
    "instance ToJSON Val where\n",
    "    toJSON (Val str) = toJSON str\n",
    "    toJSON (Vals lst) = toJSON lst\n",
    "\n",
    "instance ToJSON KeyValue where\n",
    "    toJSON (KeyValue str1 val) = toJSON val\n",
    "\n",
    "kv = [KeyValue \"key1\" (Vals [\"value1.1\",\"valu1.2\"]), KeyValue \"key1\" (Val  \"value1.1\")]\n",
    "v = Vals [\"value1.1\",\"valu1.2\"]\n",
    "\n",
    "kv1 = KeyValue \"key1\" (Vals [\"value1.1\",\"valu1.2\"])\n",
    "encode kv1"
   ]
  },
  {
   "cell_type": "code",
   "execution_count": 65,
   "id": "368ab7de",
   "metadata": {},
   "outputs": [
    {
     "ename": "",
     "evalue": "",
     "output_type": "error",
     "traceback": [
      "<interactive>:7:38: error:\n    • Illegal term-level use of the type constructor or class ‘ToJSON’\n    • imported from ‘Data.Aeson’ (and originally defined in ‘aeson-2.2.0.0:Data.Aeson.Types.ToJSON’)\n    • Perhaps use one of these: variable ‘toJSON’ (imported from Data.Aeson), variable ‘toJSON1’ (imported from Data.Aeson), variable ‘toJSON2’ (imported from Data.Aeson)\n    • In the expression: ToJSON key\n      In an equation for ‘toJSON’: toJSON (KeyValue key value) = ToJSON key\n      In the instance declaration for ‘ToJSON KeyValue’"
     ]
    }
   ],
   "source": [
    "{-# LANGUAGE OverloadedStrings #-}\n",
    "\n",
    "import Control.Applicative\n",
    "import Data.Aeson\n",
    "import qualified Data.Aeson.Key as AesonKey\n",
    "\n",
    "\n",
    "data Val = Val String | Vals [String] deriving (Show)\n",
    "data KeyValue = KeyValue String Val deriving (Show)\n",
    "\n",
    "instance ToJSON Val where\n",
    "    toJSON (Val str) = toJSON str\n",
    "    toJSON (Vals lst) = toJSON lst\n",
    "\n",
    "instance ToJSON KeyValue where\n",
    "    toJSON (KeyValue key value) =    ToJSON  key\n",
    "\n",
    "\n",
    "kv = [ KeyValue \"key1\" (Vals [\"value1.1\",\"value1.2\"]), KeyValue \"key2\" (Val \"value2.1\")]\n",
    "encode (KeyValue \"key1\" (Vals [\"value1.1\",\"value1.2\"]))\n"
   ]
  },
  {
   "cell_type": "code",
   "execution_count": 54,
   "id": "b74e5556",
   "metadata": {},
   "outputs": [
    {
     "data": {
      "text/plain": [
       "\"{\\\"name\\\":\\\"Joe\\\",\\\"age\\\":12}\""
      ]
     },
     "metadata": {},
     "output_type": "display_data"
    },
    {
     "data": {
      "text/plain": [
       "Just ()"
      ]
     },
     "metadata": {},
     "output_type": "display_data"
    }
   ],
   "source": [
    "import GHC.Generics\n",
    "\n",
    "data Person = Person {\n",
    "      name :: Text\n",
    "    , age  :: Int\n",
    "    } deriving (Generic, Show)\n",
    "    \n",
    "    \n",
    "instance ToJSON Person where\n",
    "    toEncoding = genericToEncoding defaultOptions\n",
    "\n",
    "instance FromJSON Person\n",
    "    \n",
    "encode (Person {name = \"Joe\", age = 12})    \n",
    "decode \"{\\\"name\\\":\\\"Joe\\\",\\\"age\\\":12}\""
   ]
  },
  {
   "cell_type": "code",
   "execution_count": 80,
   "id": "66f7ff16",
   "metadata": {},
   "outputs": [
    {
     "data": {
      "text/plain": [
       "\"[\\\"a\\\",\\\"b\\\"]\""
      ]
     },
     "metadata": {},
     "output_type": "display_data"
    },
    {
     "data": {
      "text/plain": [
       "Just [\"a\",\"b\"]"
      ]
     },
     "metadata": {},
     "output_type": "display_data"
    },
    {
     "data": {
      "text/plain": [
       "Just (Array [String \"a\",String \"b\"])"
      ]
     },
     "metadata": {},
     "output_type": "display_data"
    }
   ],
   "source": [
    "encode [\"a\",\"b\"]\n",
    "\n",
    "decode \"[\\\"a\\\",\\\"b\\\"]\" :: Maybe [String]\n",
    "\n",
    "vv = decode \"[\\\"a\\\",\\\"b\\\"]\" :: Maybe Value\n",
    "vv"
   ]
  },
  {
   "cell_type": "code",
   "execution_count": 22,
   "id": "c5fb85f5",
   "metadata": {},
   "outputs": [
    {
     "ename": "",
     "evalue": "",
     "output_type": "error",
     "traceback": [
      "<interactive>:1:7: error:\n    • Couldn't match type: [Value]\n                     with: V.Vector Value\n      Expected: Array\n        Actual: [Value]\n    • In the first argument of ‘Array’, namely ‘[String \"a\", String \"b\"]’\n      In the expression: Array [String \"a\", String \"b\"]\n      In an equation for ‘it’: it = Array [String \"a\", String \"b\"]"
     ]
    }
   ],
   "source": [
    "Array [String \"a\",String \"b\"]"
   ]
  },
  {
   "cell_type": "code",
   "execution_count": 2,
   "id": "7ec22770",
   "metadata": {},
   "outputs": [
    {
     "data": {
      "text/plain": [
       "Resolving dependencies...\n",
       "Up to date"
      ]
     },
     "metadata": {},
     "output_type": "display_data"
    }
   ],
   "source": [
    ":!cabal install --lib vector"
   ]
  },
  {
   "cell_type": "code",
   "execution_count": 28,
   "id": "35dec5be",
   "metadata": {},
   "outputs": [
    {
     "data": {
      "text/plain": [
       "\"[\\\"a\\\",\\\"b\\\"]\""
      ]
     },
     "metadata": {},
     "output_type": "display_data"
    },
    {
     "data": {
      "text/plain": [
       "Just (Array [String \"a\",String \"b\"])"
      ]
     },
     "metadata": {},
     "output_type": "display_data"
    },
    {
     "data": {
      "text/plain": [
       "[\"a\",\"b\"]"
      ]
     },
     "metadata": {},
     "output_type": "display_data"
    }
   ],
   "source": [
    "{-# LANGUAGE OverloadedStrings #-}\n",
    "\n",
    "import Data.Aeson\n",
    "import qualified Data.Vector as V\n",
    "\n",
    "encode [\"a\",\"b\"]\n",
    "vv = decode \"[\\\"a\\\",\\\"b\\\"]\" :: Maybe Value\n",
    "vv\n",
    "\n",
    "unJust   v = case v of\n",
    "               Just x -> x\n",
    "               \n",
    "listFromArray a = case a of\n",
    "        Array v ->  v\n",
    "        _ -> V.empty -- Handle other cases (not an array) \n",
    "\n",
    "unString v = case v of \n",
    "                String x-> x\n",
    "\n",
    "a2l = map unString . V.toList . listFromArray .unJust  \n",
    "        \n",
    "a2l  vv"
   ]
  },
  {
   "cell_type": "code",
   "execution_count": 98,
   "id": "10b609f9",
   "metadata": {},
   "outputs": [
    {
     "data": {
      "text/plain": [
       "Just (Object (fromList [(\"key\",String \"A\"),(\"type\",String \"KV\"),(\"value\",String \"B\")]))"
      ]
     },
     "metadata": {},
     "output_type": "display_data"
    }
   ],
   "source": [
    "data KV = KV String String | KVs String [String] deriving (Show)\n",
    "\n",
    "instance ToJSON KV where\n",
    "    toJSON (KV key value) = object [\"type\" .= (\"KV\" :: String), \"key\" .= key, \"value\" .= value]\n",
    "    toJSON (KVs key values) = object [\"type\" .= (\"KVs\" :: String), \"key\" .= key, \"values\" .= values]\n",
    "\n",
    "a = KV \"A\" \"B\"\n",
    "ea = encode a \n",
    "decode ea :: Maybe Value"
   ]
  },
  {
   "cell_type": "code",
   "execution_count": 250,
   "id": "261ad360",
   "metadata": {},
   "outputs": [
    {
     "ename": "",
     "evalue": "",
     "output_type": "error",
     "traceback": [
      "Parse error (line 1, column 9): lexical error in string/character literal at character '/'"
     ]
    }
   ],
   "source": [
    "let a = \"\\/a\""
   ]
  },
  {
   "cell_type": "code",
   "execution_count": 253,
   "id": "043947dd",
   "metadata": {},
   "outputs": [
    {
     "data": {
      "text/plain": [
       "\"[[\\\"urls\\\",[\\\"b-2.odp-us-innovation-msk.zov259.c1.kafka.us-east-1.amazonaws.com:9092\\\",\\\"b-1.odp-us-innovation-msk.zov259.c1.kafka.us-east-1.amazonaws.com:9092\\\",\\\"b-3.odp-us-innovation-msk.zov259.c1.kafka.us-east-1.amazonaws.com:9092\\\"]],[\\\"default_topic\\\",\\\"{hvr_tbl_name}\\\"]]\""
      ]
     },
     "metadata": {},
     "output_type": "display_data"
    }
   ],
   "source": []
  },
  {
   "cell_type": "code",
   "execution_count": 2,
   "id": "e73c9342",
   "metadata": {},
   "outputs": [
    {
     "data": {
      "text/plain": [
       "Resolving dependencies...\n",
       "Up to date"
      ]
     },
     "metadata": {},
     "output_type": "display_data"
    }
   ],
   "source": [
    ":!cabal install --lib vector"
   ]
  },
  {
   "cell_type": "code",
   "execution_count": 27,
   "id": "086e5734",
   "metadata": {},
   "outputs": [],
   "source": [
    "import Data.Aeson\n",
    "import qualified Data.Vector as V\n",
    "import Data.List (intercalate)\n",
    "import Data.Text (Text, unpack)\n",
    "import Data.List.Split (splitOn)\n",
    "\n",
    "valueFromString  s = decode  s :: Maybe Value\n",
    "\n",
    "unjust :: Maybe a -> a\n",
    "unjust (Just a) = a\n",
    "\n",
    "\n",
    "strfromString (String x) = unpack  x\n",
    "\n",
    "listFromArray =  intercalate \";\" .  map strfromString .unArray\n",
    "\n",
    "unArray :: Value -> [Value]\n",
    "unArray (Array x )  = V.toList x\n",
    "\n",
    "unString  [String x , String y] = [unpack  x, unpack y]\n",
    "unString  [String x , Array y]  = [unpack  x , listFromArray (Array y) ]\n"
   ]
  },
  {
   "cell_type": "code",
   "execution_count": null,
   "id": "061936e6",
   "metadata": {},
   "outputs": [],
   "source": [
    "kafkaStr = \"[[\\\"urls\\\",[\\\"b-1.us-dev-msk-cluster.x8853p.c1.kafka.us-east-1.amazonaws.com:9094\\\",\\\"b-2.us-dev-msk-cluster.x8853p.c1.kafka.us-east-1.amazonaws.com:9094\\\",\\\"b-3.us-dev-msk-cluster.x8853p.c1.kafka.us-east-1.amazonaws.com:9094\\\"]],[\\\"broker_ca\\\",\\\"/data/kafka_certs/MSKPOCKey.pem\\\"],[\\\"ssl_cert\\\",\\\"/data/kafka_devcerts/kafka/signed-certificate-from-acm\\\"],[\\\"ssl_key\\\",\\\"/data/kafka_devcerts/kafka/key.pem\\\"],[\\\"ssl_key_pwd\\\",\\\"!{Itbo2aix.D3x7/Yp}!\\\"]]\""
   ]
  },
  {
   "cell_type": "code",
   "execution_count": 38,
   "id": "b986ec83",
   "metadata": {},
   "outputs": [
    {
     "ename": "",
     "evalue": "",
     "output_type": "error",
     "traceback": [
      "<interactive>:1:41: error:\n    • Couldn't match type ‘String’ with ‘LBS.ByteString’\n      Expected: LBS.ByteString\n        Actual: String\n    • In the first argument of ‘unjust . valueFromString’, namely ‘kafkaStr’\n      In the expression: (unjust . valueFromString) kafkaStr\n      In an equation for ‘kafkaStr2’: kafkaStr2 = (unjust . valueFromString) kafkaStr"
     ]
    }
   ],
   "source": [
    "kafkaStr = \"[[\\\"urls\\\",[\\\"b-1.us-dev-msk-cluster.x8853p.c1.kafka.us-east-1.amazonaws.com:9094\\\",\\\"b-2.us-dev-msk-cluster.x8853p.c1.kafka.us-east-1.amazonaws.com:9094\\\",\\\"b-3.us-dev-msk-cluster.x8853p.c1.kafka.us-east-1.amazonaws.com:9094\\\"]],[\\\"broker_ca\\\",\\\"/data/kafka_certs/MSKPOCKey.pem\\\"],[\\\"ssl_cert\\\",\\\"/data/kafka_devcerts/kafka/signed-certificate-from-acm\\\"],[\\\"ssl_key\\\",\\\"/data/kafka_devcerts/kafka/key.pem\\\"],[\\\"ssl_key_pwd\\\",\\\"!{Itbo2aix.D3x7/Yp}!\\\"]]\"\n",
    "--kafkaStr= \"[[\\\"urls\\\",[\\\"10.242.115.68:9092\\\",\\\"10.242.115.9:9092\\\",\\\"10.242.115.54:9092\\\"]],[\\\"default_topic\\\",\\\"{hvr_tbl_name}\\\"]]\" \n",
    "kafkaStr2 =  (unjust . valueFromString )kafkaStr \n",
    "--(map(unString . unArray) . unArray) kafkaStr2"
   ]
  },
  {
   "cell_type": "code",
   "execution_count": 60,
   "id": "ee910fe3",
   "metadata": {},
   "outputs": [
    {
     "data": {
      "text/plain": [
       "[\"b-1.us-dev-msk-cluster.x8853p.c1.kafka.us-east-1.amazonaws.com:9094;b-2.us-dev-msk-cluster.x8853p.c1.kafka.us-east-1.amazonaws.com:9094;b-3.us-dev-msk-cluster.x8853p.c1.kafka.us-east-1.amazonaws.com:9094\"]"
      ]
     },
     "metadata": {},
     "output_type": "display_data"
    }
   ],
   "source": [
    "import Data.Aeson\n",
    "import qualified Data.Vector as V\n",
    "import Data.List (intercalate)\n",
    "import Data.Text (Text, unpack)\n",
    "import Data.List.Split (splitOn)\n",
    "import qualified Data.ByteString.Lazy.Char8 as LBS\n",
    "\n",
    "valueFromString :: LBS.ByteString -> Maybe Value\n",
    "valueFromString  s = decode  s :: Maybe Value\n",
    "\n",
    "unjust :: Maybe a -> a\n",
    "unjust (Just a) = a\n",
    "\n",
    "strfromString :: Value -> String\n",
    "strfromString (String x) = unpack  x\n",
    "\n",
    "unArray :: Value -> [Value]\n",
    "unArray (Array x )  = V.toList x\n",
    "\n",
    "unString :: [Value] -> [String]\n",
    "unString  [String x , String y] = [unpack  x, unpack y]\n",
    "unString  [String x , Array y]  = [unpack  x , listFromArray (Array y) ]\n",
    "\n",
    "listFromArray    = intercalate \";\" . map strfromString . unArray\n",
    "getKafkaString   = LBS.pack . last . splitOn \"=\"\n",
    "parseKafkaString = map(unString . unArray) . unArray . unjust . valueFromString \n",
    "filterColumns    = filter (\\[k, _] -> k `elem` [\"urls\", \"ssl_key\"])\n",
    "\n",
    "\n",
    "getval key  =  last . head . filter (\\[k,_] -> k == key) \n",
    "getvals keys lst  = map (\\key-> getval key lst) keys\n",
    "\n",
    "\n",
    "\n",
    "let kafkaStr = \"JSON=[[\\\"urls\\\",[\\\"b-1.us-dev-msk-cluster.x8853p.c1.kafka.us-east-1.amazonaws.com:9094\\\",\\\"b-2.us-dev-msk-cluster.x8853p.c1.kafka.us-east-1.amazonaws.com:9094\\\",\\\"b-3.us-dev-msk-cluster.x8853p.c1.kafka.us-east-1.amazonaws.com:9094\\\"]],[\\\"broker_ca\\\",\\\"/data/kafka_certs/MSKPOCKey.pem\\\"],[\\\"ssl_cert\\\",\\\"/data/kafka_devcerts/kafka/signed-certificate-from-acm\\\"],[\\\"ssl_key\\\",\\\"/data/kafka_devcerts/kafka/key.pem\\\"],[\\\"ssl_key_pwd\\\",\\\"!{Itbo2aix.D3x7/Yp}!\\\"]]\"\n",
    "(getvals [\"urls\"] . parseKafkaString . getKafkaString) kafkaStr"
   ]
  },
  {
   "cell_type": "code",
   "execution_count": 26,
   "id": "5c34be4d",
   "metadata": {},
   "outputs": [
    {
     "ename": "",
     "evalue": "",
     "output_type": "error",
     "traceback": [
      "Parse error (line 3, column 1): parse error on input `{'"
     ]
    }
   ],
   "source": [
    "data Columns = ColumnA String | ColumnB String\n",
    "\n",
    "\n",
    " \n",
    "filter (\\[k, _] -> k `elem` [\"a\", \"b\"]) [[\"a\",\"1\"],[\"b=c\",\"1\"],[\"b=c\",\"1\"]]"
   ]
  },
  {
   "cell_type": "code",
   "execution_count": null,
   "id": "a6fe462c",
   "metadata": {},
   "outputs": [],
   "source": [
    "[(ColumnA:\"a\", ColumnB:\"b\" }"
   ]
  },
  {
   "cell_type": "code",
   "execution_count": null,
   "id": "ce2e75ae",
   "metadata": {},
   "outputs": [
    {
     "ename": "",
     "evalue": "",
     "output_type": "error",
     "traceback": [
      "<interactive>:3:39: error:\n    • Couldn't match type ‘String’ with ‘LBS.ByteString’\n      Expected: LBS.ByteString\n        Actual: String\n    • In the first argument of ‘unjust . valueFromString’, namely ‘kafkaStr’\n      In the expression: (unjust . valueFromString) kafkaStr\n      In an equation for ‘kafkaStr2’: kafkaStr2 = (unjust . valueFromString) kafkaStr"
     ]
    }
   ],
   "source": [
    "\n",
    "\n",
    "kafkaStr= \"[\\\"aa\\\",\\\"bb\\\",\\\"cc\\\"]\"\n",
    "valueFromString  s = decode  s :: Maybe Value\n",
    "kafkaStr2 =(unjust . valueFromString )kafkaStr \n",
    "\n",
    "\n",
    "kafkaStr2\n",
    "\n",
    "strfromString (String x) = unpack  x\n",
    "listFromArray =  intercalate \";\" .  map strfromString .  unArray \n",
    "listFromArray kafkaStr2\n",
    "\n"
   ]
  },
  {
   "cell_type": "code",
   "execution_count": 59,
   "id": "a5b0f4f6",
   "metadata": {},
   "outputs": [
    {
     "data": {
      "text/html": [
       "<style>/* Styles used for the Hoogle display in the pager */\n",
       ".hoogle-doc {\n",
       "display: block;\n",
       "padding-bottom: 1.3em;\n",
       "padding-left: 0.4em;\n",
       "}\n",
       ".hoogle-code {\n",
       "display: block;\n",
       "font-family: monospace;\n",
       "white-space: pre;\n",
       "}\n",
       ".hoogle-text {\n",
       "display: block;\n",
       "}\n",
       ".hoogle-name {\n",
       "color: green;\n",
       "font-weight: bold;\n",
       "}\n",
       ".hoogle-head {\n",
       "font-weight: bold;\n",
       "}\n",
       ".hoogle-sub {\n",
       "display: block;\n",
       "margin-left: 0.4em;\n",
       "}\n",
       ".hoogle-package {\n",
       "font-weight: bold;\n",
       "font-style: italic;\n",
       "}\n",
       ".hoogle-module {\n",
       "font-weight: bold;\n",
       "}\n",
       ".hoogle-class {\n",
       "font-weight: bold;\n",
       "}\n",
       "\n",
       ".get-type {\n",
       "color: green;\n",
       "font-weight: bold;\n",
       "font-family: monospace;\n",
       "display: block;\n",
       "white-space: pre-wrap;\n",
       "}\n",
       ".show-type {\n",
       "color: green;\n",
       "font-weight: bold;\n",
       "font-family: monospace;\n",
       "margin-left: 1em;\n",
       "}\n",
       ".mono {\n",
       "font-family: monospace;\n",
       "display: block;\n",
       "}\n",
       ".err-msg {\n",
       "color: red;\n",
       "font-style: italic;\n",
       "font-family: monospace;\n",
       "white-space: pre;\n",
       "display: block;\n",
       "}\n",
       "#unshowable {\n",
       "color: red;\n",
       "font-weight: bold;\n",
       "}\n",
       ".err-msg.in.collapse {\n",
       "padding-top: 0.7em;\n",
       "}\n",
       "\n",
       ".highlight-code {\n",
       "white-space: pre;\n",
       "font-family: monospace;\n",
       "}\n",
       "\n",
       ".suggestion-warning { \n",
       "font-weight: bold;\n",
       "color: rgb(200, 130, 0);\n",
       "}\n",
       ".suggestion-error { \n",
       "font-weight: bold;\n",
       "color: red;\n",
       "}\n",
       ".suggestion-name {\n",
       "font-weight: bold;\n",
       "}\n",
       "\n",
       "</style><div class=\"suggestion-name\" style=\"clear:both;\">Use map</div><div class=\"suggestion-row\" style=\"float: left;\"><div class=\"suggestion-warning\">Found:</div><div class=\"highlight-code\" id=\"haskell\">unArray [] = []\n",
       "unArray (x : xs) = (V.toList . listFromArray) x : unArray xs</div></div><div class=\"suggestion-row\" style=\"float: left;\"><div class=\"suggestion-warning\">Why Not:</div><div class=\"highlight-code\" id=\"haskell\">unArray xs = map (V.toList . listFromArray) xs</div></div>"
      ],
      "text/plain": [
       "Line 6: Use map\n",
       "Found:\n",
       "unArray [] = []\n",
       "unArray (x : xs) = (V.toList . listFromArray) x : unArray xs\n",
       "Why not:\n",
       "unArray xs = map (V.toList . listFromArray) xs"
      ]
     },
     "metadata": {},
     "output_type": "display_data"
    },
    {
     "data": {
      "text/plain": [
       "[[String \"a\",String \"b\"],[String \"a\",String \"b\",String \"c\"]]"
      ]
     },
     "metadata": {},
     "output_type": "display_data"
    }
   ],
   "source": [
    "unArray = V.toList . listFromArray \n",
    "vvv =  unJust kafkaStr \n",
    "\n",
    "listFromArray a = case a of\n",
    "        Array v ->  v\n",
    "        _ -> V.empty -- Handle other cases (not an array) \n",
    "\n",
    "unArray []      = []  \n",
    "unArray (x:xs)  =  (V.toList . listFromArray) x : unArray xs\n",
    "\n",
    "\n",
    "(unArray . V.toList . listFromArray . unJust) vv"
   ]
  },
  {
   "cell_type": "code",
   "execution_count": 200,
   "id": "3d22bce4",
   "metadata": {},
   "outputs": [
    {
     "data": {
      "text/plain": [
       "\"apple;banana;orange\""
      ]
     },
     "metadata": {},
     "output_type": "display_data"
    }
   ],
   "source": [
    "import Data.List (intercalate)\n",
    "\n",
    "\n",
    "let stringList = [\"apple\", \"banana\", \"orange\"]\n",
    "let separator = \", \"\n",
    "intercalate \";\" stringList"
   ]
  },
  {
   "cell_type": "code",
   "execution_count": 207,
   "id": "4f0b0ea4",
   "metadata": {},
   "outputs": [
    {
     "data": {
      "text/html": [
       "<style>/* Styles used for the Hoogle display in the pager */\n",
       ".hoogle-doc {\n",
       "display: block;\n",
       "padding-bottom: 1.3em;\n",
       "padding-left: 0.4em;\n",
       "}\n",
       ".hoogle-code {\n",
       "display: block;\n",
       "font-family: monospace;\n",
       "white-space: pre;\n",
       "}\n",
       ".hoogle-text {\n",
       "display: block;\n",
       "}\n",
       ".hoogle-name {\n",
       "color: green;\n",
       "font-weight: bold;\n",
       "}\n",
       ".hoogle-head {\n",
       "font-weight: bold;\n",
       "}\n",
       ".hoogle-sub {\n",
       "display: block;\n",
       "margin-left: 0.4em;\n",
       "}\n",
       ".hoogle-package {\n",
       "font-weight: bold;\n",
       "font-style: italic;\n",
       "}\n",
       ".hoogle-module {\n",
       "font-weight: bold;\n",
       "}\n",
       ".hoogle-class {\n",
       "font-weight: bold;\n",
       "}\n",
       "\n",
       ".get-type {\n",
       "color: green;\n",
       "font-weight: bold;\n",
       "font-family: monospace;\n",
       "display: block;\n",
       "white-space: pre-wrap;\n",
       "}\n",
       ".show-type {\n",
       "color: green;\n",
       "font-weight: bold;\n",
       "font-family: monospace;\n",
       "margin-left: 1em;\n",
       "}\n",
       ".mono {\n",
       "font-family: monospace;\n",
       "display: block;\n",
       "}\n",
       ".err-msg {\n",
       "color: red;\n",
       "font-style: italic;\n",
       "font-family: monospace;\n",
       "white-space: pre;\n",
       "display: block;\n",
       "}\n",
       "#unshowable {\n",
       "color: red;\n",
       "font-weight: bold;\n",
       "}\n",
       ".err-msg.in.collapse {\n",
       "padding-top: 0.7em;\n",
       "}\n",
       "\n",
       ".highlight-code {\n",
       "white-space: pre;\n",
       "font-family: monospace;\n",
       "}\n",
       "\n",
       ".suggestion-warning { \n",
       "font-weight: bold;\n",
       "color: rgb(200, 130, 0);\n",
       "}\n",
       ".suggestion-error { \n",
       "font-weight: bold;\n",
       "color: red;\n",
       "}\n",
       ".suggestion-name {\n",
       "font-weight: bold;\n",
       "}\n",
       "\n",
       "</style><span class='get-type'>a :: forall {a}. IsString a => a</span>"
      ],
      "text/plain": [
       "a :: forall {a}. IsString a => a"
      ]
     },
     "metadata": {},
     "output_type": "display_data"
    }
   ],
   "source": [
    "let a = head stringList\n",
    ":type  a"
   ]
  },
  {
   "cell_type": "code",
   "execution_count": 37,
   "id": "1a6876f2",
   "metadata": {},
   "outputs": [
    {
     "data": {
      "text/html": [
       "<style>/* Styles used for the Hoogle display in the pager */\n",
       ".hoogle-doc {\n",
       "display: block;\n",
       "padding-bottom: 1.3em;\n",
       "padding-left: 0.4em;\n",
       "}\n",
       ".hoogle-code {\n",
       "display: block;\n",
       "font-family: monospace;\n",
       "white-space: pre;\n",
       "}\n",
       ".hoogle-text {\n",
       "display: block;\n",
       "}\n",
       ".hoogle-name {\n",
       "color: green;\n",
       "font-weight: bold;\n",
       "}\n",
       ".hoogle-head {\n",
       "font-weight: bold;\n",
       "}\n",
       ".hoogle-sub {\n",
       "display: block;\n",
       "margin-left: 0.4em;\n",
       "}\n",
       ".hoogle-package {\n",
       "font-weight: bold;\n",
       "font-style: italic;\n",
       "}\n",
       ".hoogle-module {\n",
       "font-weight: bold;\n",
       "}\n",
       ".hoogle-class {\n",
       "font-weight: bold;\n",
       "}\n",
       "\n",
       ".get-type {\n",
       "color: green;\n",
       "font-weight: bold;\n",
       "font-family: monospace;\n",
       "display: block;\n",
       "white-space: pre-wrap;\n",
       "}\n",
       ".show-type {\n",
       "color: green;\n",
       "font-weight: bold;\n",
       "font-family: monospace;\n",
       "margin-left: 1em;\n",
       "}\n",
       ".mono {\n",
       "font-family: monospace;\n",
       "display: block;\n",
       "}\n",
       ".err-msg {\n",
       "color: red;\n",
       "font-style: italic;\n",
       "font-family: monospace;\n",
       "white-space: pre;\n",
       "display: block;\n",
       "}\n",
       "#unshowable {\n",
       "color: red;\n",
       "font-weight: bold;\n",
       "}\n",
       ".err-msg.in.collapse {\n",
       "padding-top: 0.7em;\n",
       "}\n",
       "\n",
       ".highlight-code {\n",
       "white-space: pre;\n",
       "font-family: monospace;\n",
       "}\n",
       "\n",
       ".suggestion-warning { \n",
       "font-weight: bold;\n",
       "color: rgb(200, 130, 0);\n",
       "}\n",
       ".suggestion-error { \n",
       "font-weight: bold;\n",
       "color: red;\n",
       "}\n",
       ".suggestion-name {\n",
       "font-weight: bold;\n",
       "}\n",
       "\n",
       "</style><span class='get-type'>(LBS.pack kafkaStr) :: ByteString</span>"
      ],
      "text/plain": [
       "(LBS.pack kafkaStr) :: ByteString"
      ]
     },
     "metadata": {},
     "output_type": "display_data"
    },
    {
     "data": {
      "text/html": [
       "<style>/* Styles used for the Hoogle display in the pager */\n",
       ".hoogle-doc {\n",
       "display: block;\n",
       "padding-bottom: 1.3em;\n",
       "padding-left: 0.4em;\n",
       "}\n",
       ".hoogle-code {\n",
       "display: block;\n",
       "font-family: monospace;\n",
       "white-space: pre;\n",
       "}\n",
       ".hoogle-text {\n",
       "display: block;\n",
       "}\n",
       ".hoogle-name {\n",
       "color: green;\n",
       "font-weight: bold;\n",
       "}\n",
       ".hoogle-head {\n",
       "font-weight: bold;\n",
       "}\n",
       ".hoogle-sub {\n",
       "display: block;\n",
       "margin-left: 0.4em;\n",
       "}\n",
       ".hoogle-package {\n",
       "font-weight: bold;\n",
       "font-style: italic;\n",
       "}\n",
       ".hoogle-module {\n",
       "font-weight: bold;\n",
       "}\n",
       ".hoogle-class {\n",
       "font-weight: bold;\n",
       "}\n",
       "\n",
       ".get-type {\n",
       "color: green;\n",
       "font-weight: bold;\n",
       "font-family: monospace;\n",
       "display: block;\n",
       "white-space: pre-wrap;\n",
       "}\n",
       ".show-type {\n",
       "color: green;\n",
       "font-weight: bold;\n",
       "font-family: monospace;\n",
       "margin-left: 1em;\n",
       "}\n",
       ".mono {\n",
       "font-family: monospace;\n",
       "display: block;\n",
       "}\n",
       ".err-msg {\n",
       "color: red;\n",
       "font-style: italic;\n",
       "font-family: monospace;\n",
       "white-space: pre;\n",
       "display: block;\n",
       "}\n",
       "#unshowable {\n",
       "color: red;\n",
       "font-weight: bold;\n",
       "}\n",
       ".err-msg.in.collapse {\n",
       "padding-top: 0.7em;\n",
       "}\n",
       "\n",
       ".highlight-code {\n",
       "white-space: pre;\n",
       "font-family: monospace;\n",
       "}\n",
       "\n",
       ".suggestion-warning { \n",
       "font-weight: bold;\n",
       "color: rgb(200, 130, 0);\n",
       "}\n",
       ".suggestion-error { \n",
       "font-weight: bold;\n",
       "color: red;\n",
       "}\n",
       ".suggestion-name {\n",
       "font-weight: bold;\n",
       "}\n",
       "\n",
       "</style><span class='get-type'>kafkaStr :: String</span>"
      ],
      "text/plain": [
       "kafkaStr :: String"
      ]
     },
     "metadata": {},
     "output_type": "display_data"
    }
   ],
   "source": [
    "let kafkaStr = \"Json=[[\\\"urls\\\",[\\\"b-1.us-dev-msk-cluster.x8853p.c1.kafka.us-east-1.amazonaws.com:9094\\\",\\\"b-2.us-dev-msk-cluster.x8853p.c1.kafka.us-east-1.amazonaws.com:9094\\\",\\\"b-3.us-dev-msk-cluster.x8853p.c1.kafka.us-east-1.amazonaws.com:9094\\\"]],[\\\"broker_ca\\\",\\\"/data/kafka_certs/MSKPOCKey.pem\\\"],[\\\"ssl_cert\\\",\\\"/data/kafka_devcerts/kafka/signed-certificate-from-acm\\\"],[\\\"ssl_key\\\",\\\"/data/kafka_devcerts/kafka/key.pem\\\"],[\\\"ssl_key_pwd\\\",\\\"!{Itbo2aix.D3x7/Yp}!\\\"]]\"\n",
    ":t (LBS.pack  kafkaStr)\n",
    ":t kafkaStr"
   ]
  },
  {
   "cell_type": "code",
   "execution_count": null,
   "id": "aef782ae",
   "metadata": {},
   "outputs": [
    {
     "data": {
      "text/plain": [
       "[\"orange\",\"\",\"apple\"]"
      ]
     },
     "metadata": {},
     "output_type": "display_data"
    }
   ],
   "source": [
    "let l = [[\"apple\",\"apple\"], [\"banana\",\"banana\"], [\"orange\",\"orange\"]]\n",
    "\n",
    "--getval key  =  last . head . filter (\\[k,_] -> k == key) \n",
    "\n",
    "getval :: String -> [[String]] -> String\n",
    "getval key records =\n",
    "    case filter (\\[k, _] -> k == key) records of\n",
    "        [] -> \"\"  -- Return an empty string when no match is found\n",
    "        [[_, value]] -> value\n",
    "        _ -> error \"Multiple matches found\"  -- Handle this case as needed\n",
    "\n",
    "getvals :: [String] -> [[String]] -> [String]\n",
    "getvals keys lst  = map (\\key-> getval key lst) keys\n",
    "\n",
    "getvals [\"orange\",\"plapla\",\"apple\"] l\n"
   ]
  },
  {
   "cell_type": "code",
   "execution_count": 51,
   "id": "d8ad0ddc",
   "metadata": {},
   "outputs": [
    {
     "data": {
      "text/html": [
       "<style>/* Styles used for the Hoogle display in the pager */\n",
       ".hoogle-doc {\n",
       "display: block;\n",
       "padding-bottom: 1.3em;\n",
       "padding-left: 0.4em;\n",
       "}\n",
       ".hoogle-code {\n",
       "display: block;\n",
       "font-family: monospace;\n",
       "white-space: pre;\n",
       "}\n",
       ".hoogle-text {\n",
       "display: block;\n",
       "}\n",
       ".hoogle-name {\n",
       "color: green;\n",
       "font-weight: bold;\n",
       "}\n",
       ".hoogle-head {\n",
       "font-weight: bold;\n",
       "}\n",
       ".hoogle-sub {\n",
       "display: block;\n",
       "margin-left: 0.4em;\n",
       "}\n",
       ".hoogle-package {\n",
       "font-weight: bold;\n",
       "font-style: italic;\n",
       "}\n",
       ".hoogle-module {\n",
       "font-weight: bold;\n",
       "}\n",
       ".hoogle-class {\n",
       "font-weight: bold;\n",
       "}\n",
       "\n",
       ".get-type {\n",
       "color: green;\n",
       "font-weight: bold;\n",
       "font-family: monospace;\n",
       "display: block;\n",
       "white-space: pre-wrap;\n",
       "}\n",
       ".show-type {\n",
       "color: green;\n",
       "font-weight: bold;\n",
       "font-family: monospace;\n",
       "margin-left: 1em;\n",
       "}\n",
       ".mono {\n",
       "font-family: monospace;\n",
       "display: block;\n",
       "}\n",
       ".err-msg {\n",
       "color: red;\n",
       "font-style: italic;\n",
       "font-family: monospace;\n",
       "white-space: pre;\n",
       "display: block;\n",
       "}\n",
       "#unshowable {\n",
       "color: red;\n",
       "font-weight: bold;\n",
       "}\n",
       ".err-msg.in.collapse {\n",
       "padding-top: 0.7em;\n",
       "}\n",
       "\n",
       ".highlight-code {\n",
       "white-space: pre;\n",
       "font-family: monospace;\n",
       "}\n",
       "\n",
       ".suggestion-warning { \n",
       "font-weight: bold;\n",
       "color: rgb(200, 130, 0);\n",
       "}\n",
       ".suggestion-error { \n",
       "font-weight: bold;\n",
       "color: red;\n",
       "}\n",
       ".suggestion-name {\n",
       "font-weight: bold;\n",
       "}\n",
       "\n",
       "</style><div class=\"suggestion-name\" style=\"clear:both;\">Avoid lambda</div><div class=\"suggestion-row\" style=\"float: left;\"><div class=\"suggestion-warning\">Found:</div><div class=\"highlight-code\" id=\"haskell\">(\\ x -> last x)</div></div><div class=\"suggestion-row\" style=\"float: left;\"><div class=\"suggestion-warning\">Why Not:</div><div class=\"highlight-code\" id=\"haskell\">last</div></div>"
      ],
      "text/plain": [
       "Line 2: Avoid lambda\n",
       "Found:\n",
       "(\\ x -> last x)\n",
       "Why not:\n",
       "last"
      ]
     },
     "metadata": {},
     "output_type": "display_data"
    },
    {
     "ename": "",
     "evalue": "",
     "output_type": "error",
     "traceback": [
      "<interactive>:1:47: error:\n    • Couldn't match expected type: Either a0 [Either String b]\n                  with actual type: [String]\n    • In the third argument of ‘either’, namely ‘l’\n      In the expression: either (\\ error -> Left \"\") (\\ x -> last x) l\n      In an equation for ‘it’: it = either (\\ error -> Left \"\") (\\ x -> last x) l\n    • Relevant bindings include it :: Either String b (bound at <interactive>:1:1)"
     ]
    }
   ],
   "source": [
    "l = [\"apple\",\"1\"]\n",
    "either   (\\error -> Left \"\")  (\\x -> last x ) l"
   ]
  }
 ],
 "metadata": {
  "kernelspec": {
   "display_name": "Haskell",
   "language": "haskell",
   "name": "haskell"
  },
  "language_info": {
   "codemirror_mode": "ihaskell",
   "file_extension": ".hs",
   "mimetype": "text/x-haskell",
   "name": "haskell",
   "pygments_lexer": "Haskell",
   "version": "9.4.5"
  }
 },
 "nbformat": 4,
 "nbformat_minor": 5
}
