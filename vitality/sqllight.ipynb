{
 "cells": [
  {
   "cell_type": "code",
   "execution_count": 1,
   "id": "a3c69c33",
   "metadata": {},
   "outputs": [
    {
     "data": {
      "text/plain": [
       "Resolving dependencies...\n",
       "Up to date"
      ]
     },
     "metadata": {},
     "output_type": "display_data"
    }
   ],
   "source": [
    ":! cabal install --lib pretty-show"
   ]
  },
  {
   "cell_type": "code",
   "execution_count": 6,
   "id": "2b83dbea",
   "metadata": {},
   "outputs": [
    {
     "data": {
      "text/plain": [
       "Person {personId = 1, firstName = \"John\", lastName = \"Doe\", age = 30}\n",
       "Person {personId = 2, firstName = \"Jane\", lastName = \"Doe\", age = 25}"
      ]
     },
     "metadata": {},
     "output_type": "display_data"
    }
   ],
   "source": [
    "{-# LANGUAGE OverloadedStrings #-}\n",
    "\n",
    "import Database.SQLite.Simple\n",
    "import Database.SQLite.Simple.FromRow\n",
    "\n",
    "data Person = Person {\n",
    "    personId :: Int,\n",
    "    firstName :: String,\n",
    "    lastName :: String,\n",
    "    age :: Int} deriving (Show)\n",
    "\n",
    "instance FromRow Person where\n",
    "    fromRow = Person <$> field <*> field <*> field <*> field\n",
    "\n",
    "\n",
    "-- Connect to the database (or create a new one if it doesn't exist)\n",
    "conn <- open \"test.db\"\n",
    "\n",
    "-- Create a table (if it doesn't exist)\n",
    "execute_ conn \"CREATE TABLE IF NOT EXISTS person (id INTEGER PRIMARY KEY, first_name TEXT, last_name TEXT, age INT)\"\n",
    "\n",
    "-- Insert some data\n",
    "execute conn \"INSERT INTO person (first_name, last_name, age) VALUES (?, ?, ?)\" (\"John\", \"Doe\", 30)\n",
    "execute conn \"INSERT INTO person (first_name, last_name, age) VALUES (?, ?, ?)\" (\"Jane\", \"Doe\", 25)\n",
    "\n",
    "-- Query the data\n",
    "people <- query_ conn \"SELECT * FROM person\" :: IO [Person]\n",
    "\n",
    "-- Print the results\n",
    "mapM_ print people\n",
    "\n",
    "-- Close the connection\n",
    "close conn\n"
   ]
  },
  {
   "cell_type": "code",
   "execution_count": 7,
   "id": "62ba25f5",
   "metadata": {},
   "outputs": [],
   "source": [
    "conn <- open \"test.db\""
   ]
  },
  {
   "cell_type": "code",
   "execution_count": 8,
   "id": "58ea9c32",
   "metadata": {},
   "outputs": [
    {
     "data": {
      "text/plain": [
       "[Person {personId = 1, firstName = \"John\", lastName = \"Doe\", age = 30},Person {personId = 2, firstName = \"Jane\", lastName = \"Doe\", age = 25}]"
      ]
     },
     "metadata": {},
     "output_type": "display_data"
    }
   ],
   "source": [
    "query_ conn \"SELECT * FROM person\" :: IO [Person]"
   ]
  },
  {
   "cell_type": "markdown",
   "id": "9b5716e8",
   "metadata": {},
   "source": [
    "------------------"
   ]
  },
  {
   "cell_type": "code",
   "execution_count": 1,
   "id": "004076db",
   "metadata": {},
   "outputs": [
    {
     "data": {
      "text/html": [
       "<style>/* Styles used for the Hoogle display in the pager */\n",
       ".hoogle-doc {\n",
       "display: block;\n",
       "padding-bottom: 1.3em;\n",
       "padding-left: 0.4em;\n",
       "}\n",
       ".hoogle-code {\n",
       "display: block;\n",
       "font-family: monospace;\n",
       "white-space: pre;\n",
       "}\n",
       ".hoogle-text {\n",
       "display: block;\n",
       "}\n",
       ".hoogle-name {\n",
       "color: green;\n",
       "font-weight: bold;\n",
       "}\n",
       ".hoogle-head {\n",
       "font-weight: bold;\n",
       "}\n",
       ".hoogle-sub {\n",
       "display: block;\n",
       "margin-left: 0.4em;\n",
       "}\n",
       ".hoogle-package {\n",
       "font-weight: bold;\n",
       "font-style: italic;\n",
       "}\n",
       ".hoogle-module {\n",
       "font-weight: bold;\n",
       "}\n",
       ".hoogle-class {\n",
       "font-weight: bold;\n",
       "}\n",
       "\n",
       ".get-type {\n",
       "color: green;\n",
       "font-weight: bold;\n",
       "font-family: monospace;\n",
       "display: block;\n",
       "white-space: pre-wrap;\n",
       "}\n",
       ".show-type {\n",
       "color: green;\n",
       "font-weight: bold;\n",
       "font-family: monospace;\n",
       "margin-left: 1em;\n",
       "}\n",
       ".mono {\n",
       "font-family: monospace;\n",
       "display: block;\n",
       "}\n",
       ".err-msg {\n",
       "color: red;\n",
       "font-style: italic;\n",
       "font-family: monospace;\n",
       "white-space: pre;\n",
       "display: block;\n",
       "}\n",
       "#unshowable {\n",
       "color: red;\n",
       "font-weight: bold;\n",
       "}\n",
       ".err-msg.in.collapse {\n",
       "padding-top: 0.7em;\n",
       "}\n",
       "\n",
       ".highlight-code {\n",
       "white-space: pre;\n",
       "font-family: monospace;\n",
       "}\n",
       "\n",
       ".suggestion-warning { \n",
       "font-weight: bold;\n",
       "color: rgb(200, 130, 0);\n",
       "}\n",
       ".suggestion-error { \n",
       "font-weight: bold;\n",
       "color: red;\n",
       "}\n",
       ".suggestion-name {\n",
       "font-weight: bold;\n",
       "}\n",
       "\n",
       "</style><span class='err-msg'>Failed to load module ParseLoc<br/>Could not load module ‘Data.Vector’<br/>It is a member of the hidden package ‘vector-0.13.0.0’.<br/>You can run ‘:set -package vector’ to expose it.<br/>(Note: this unloads all the modules in the current scope.)<br/>Use -v (or `:set -v` in ghci) to see a list of the files searched for.</span>"
      ],
      "text/plain": [
       "Failed to load module ParseLoc\n",
       "Could not load module ‘Data.Vector’\n",
       "It is a member of the hidden package ‘vector-0.13.0.0’.\n",
       "You can run ‘:set -package vector’ to expose it.\n",
       "(Note: this unloads all the modules in the current scope.)\n",
       "Use -v (or `:set -v` in ghci) to see a list of the files searched for."
      ]
     },
     "metadata": {},
     "output_type": "display_data"
    },
    {
     "ename": "",
     "evalue": "",
     "output_type": "error",
     "traceback": [
      "<interactive>:1:33: error: Not in scope: type constructor or class ‘Location’"
     ]
    }
   ],
   "source": [
    ":load ParseLoc\n",
    "import Data.Aeson\n",
    "import qualified Data.ByteString.Lazy as B\n",
    "import Control.Applicative\n",
    "import Data.Text.Prettyprint.Doc\n",
    "\n",
    "input <- B.readFile \"data2.json\"\n",
    "let mm = decode input :: Maybe [Location]\n",
    "(length.unjust) mm\n",
    "\n",
    "l = unjust mm\n",
    "l'= map parseLoc l"
   ]
  },
  {
   "cell_type": "code",
   "execution_count": 2,
   "id": "b3e23f38",
   "metadata": {},
   "outputs": [],
   "source": [
    "{-# LANGUAGE OverloadedStrings #-}\n",
    "import  Data.Text (Text)\n",
    "import Database.SQLite.Simple\n",
    "\n",
    "data Location' = Location'\n",
    "  { database' :: Text\n",
    "  , dbdesc' :: Text\n",
    "  , host' :: Text\n",
    "  } deriving (Show)\n",
    "\n",
    "\n",
    "instance FromRow Location' where\n",
    "    fromRow = Location'\n",
    "      <$> field <*> field <*> field "
   ]
  },
  {
   "cell_type": "code",
   "execution_count": 3,
   "id": "958de424",
   "metadata": {},
   "outputs": [],
   "source": [
    "conn <- open \"mydatabase.db\" -- Replace with your database file name\n",
    "\n",
    "createTableQuery :: Query\n",
    "createTableQuery = \n",
    "    \"CREATE TABLE IF NOT EXISTS locations2 (database TEXT,dbdesc TEXT,host)\"\n",
    "\n",
    "-- Create the table\n",
    "execute_ conn createTableQuery\n",
    "\n",
    "close conn"
   ]
  },
  {
   "cell_type": "code",
   "execution_count": 19,
   "id": "5f1677e8",
   "metadata": {},
   "outputs": [
    {
     "data": {
      "text/plain": [
       "[ ( \"A\" , 2 ) , ( \"Database1\" , 1 ) ]"
      ]
     },
     "metadata": {},
     "output_type": "display_data"
    }
   ],
   "source": [
    "conn <- open \"mydatabase.db\"\n",
    "result <- query_ conn \"SELECT database, count() FROM locations2 GROUP BY database\" :: IO [(Text, Int)]\n",
    "close conn\n",
    "\n",
    "  -- Now `result` contains the list of tuples returned by the query\n",
    "  -- You can use `result` within this `do` block\n",
    "pPrint result"
   ]
  },
  {
   "cell_type": "code",
   "execution_count": 17,
   "id": "2fbee125",
   "metadata": {},
   "outputs": [],
   "source": [
    "import Text.Show.Pretty (pPrint,ppShow )"
   ]
  },
  {
   "cell_type": "code",
   "execution_count": 6,
   "id": "15508c5e",
   "metadata": {},
   "outputs": [
    {
     "data": {
      "text/plain": [
       "[Only {fromOnly = \"person\"},Only {fromOnly = \"locations\"},Only {fromOnly = \"locations2\"}]"
      ]
     },
     "metadata": {},
     "output_type": "display_data"
    }
   ],
   "source": [
    "conn <- open \"mydatabase.db\" \n",
    "query_ conn \"SELECT name FROM sqlite_master WHERE type='table'\" :: IO [Only Text]\n",
    "close conn"
   ]
  },
  {
   "cell_type": "code",
   "execution_count": 16,
   "id": "113dd94c",
   "metadata": {},
   "outputs": [],
   "source": [
    "instance ToRow Location' where\n",
    "  toRow (Location' database desc host) =\n",
    "    toRow (database, desc, host)"
   ]
  },
  {
   "cell_type": "code",
   "execution_count": 17,
   "id": "013a69b0",
   "metadata": {},
   "outputs": [],
   "source": [
    "insertQuery :: Query\n",
    "insertQuery = \"INSERT INTO locations2 (database, dbdesc, host) VALUES (?, ?, ?)\" \n",
    "\n",
    "conn <- open \"mydatabase.db\"\n",
    "\n",
    "execute conn insertQuery l_record\n",
    "\n",
    "close conn"
   ]
  },
  {
   "cell_type": "code",
   "execution_count": 18,
   "id": "f96dfec5",
   "metadata": {},
   "outputs": [
    {
     "data": {
      "text/plain": [
       "Location' {database' = \"Database1\", dbdesc' = \"Description1\", host' = \"Host1\"}"
      ]
     },
     "metadata": {},
     "output_type": "display_data"
    }
   ],
   "source": [
    "let l_record = Location'\n",
    "          { database' = \"Database1\"\n",
    "          , dbdesc' = \"Description1\"\n",
    "          , host' = \"Host1\"\n",
    "          }\n",
    "          \n",
    "l_record\n",
    "\n"
   ]
  }
 ],
 "metadata": {
  "kernelspec": {
   "display_name": "Haskell",
   "language": "haskell",
   "name": "haskell"
  },
  "language_info": {
   "codemirror_mode": "ihaskell",
   "file_extension": ".hs",
   "mimetype": "text/x-haskell",
   "name": "haskell",
   "pygments_lexer": "Haskell",
   "version": "9.4.5"
  }
 },
 "nbformat": 4,
 "nbformat_minor": 5
}
