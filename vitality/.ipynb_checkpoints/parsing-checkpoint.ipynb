{
 "cells": [
  {
   "cell_type": "markdown",
   "id": "1c3e98fc",
   "metadata": {},
   "source": [
    ":!cabal update"
   ]
  },
  {
   "cell_type": "code",
   "execution_count": null,
   "id": "eb1c926c",
   "metadata": {},
   "outputs": [
    {
     "data": {
      "text/plain": [
       "Resolving dependencies...\n",
       "Up to date"
      ]
     },
     "metadata": {},
     "output_type": "display_data"
    }
   ],
   "source": [
    ":!cabal install --lib hashmap"
   ]
  },
  {
   "cell_type": "code",
   "execution_count": 1,
   "id": "bc84d173",
   "metadata": {},
   "outputs": [],
   "source": [
    "{-# LANGUAGE OverloadedStrings #-}\n",
    "\n",
    "import Data.Aeson\n",
    "import qualified Data.ByteString.Lazy as B\n",
    "import qualified Data.ByteString.Lazy.Char8 as L\n",
    "\n",
    "-- Define a data type to represent the structure of the JSON\n",
    "data Person = Person\n",
    "  { name :: String\n",
    "  , age :: Int\n",
    "  } deriving (Show)\n",
    "\n",
    "-- Define an instance to decode JSON into the Person data type\n",
    "instance FromJSON Person where\n",
    "  parseJSON = withObject \"Person\" $ \\v -> Person\n",
    "    <$> v .: \"name\"\n",
    "    <*> v .: \"age\"\n",
    "\n"
   ]
  },
  {
   "cell_type": "code",
   "execution_count": 2,
   "id": "cee499f0",
   "metadata": {},
   "outputs": [
    {
     "data": {
      "text/plain": [
       "Error: Unexpected end-of-input, expecting JSON value"
      ]
     },
     "metadata": {},
     "output_type": "display_data"
    }
   ],
   "source": [
    "  -- Read JSON data from the file\n",
    "  jsonData <- B.readFile \"data.json\"\n",
    "  \n",
    "  -- Parse JSON using eitherDecode function\n",
    "  let parsedData = eitherDecode jsonData :: Either String Person\n",
    "\n",
    "  case parsedData of\n",
    "    Left err -> putStrLn $ \"Error: \" ++ err\n",
    "    Right person -> putStrLn $ \"Parsed JSON: \" ++ show person"
   ]
  },
  {
   "cell_type": "code",
   "execution_count": 3,
   "id": "a3f31ebe",
   "metadata": {},
   "outputs": [
    {
     "data": {
      "text/plain": [
       "Alice"
      ]
     },
     "metadata": {},
     "output_type": "display_data"
    }
   ],
   "source": [
    "\n",
    "let person = Right (Person {name = \"Alice\", age = 30})\n",
    "\n",
    "case person of\n",
    "    Left _ -> putStrLn \"Error occurred\"\n",
    "    Right (Person {name = personName}) -> putStrLn personName\n"
   ]
  },
  {
   "cell_type": "markdown",
   "id": "5999cec0",
   "metadata": {},
   "source": [
    "-------------------------"
   ]
  },
  {
   "cell_type": "code",
   "execution_count": 4,
   "id": "9d26093b",
   "metadata": {},
   "outputs": [],
   "source": [
    "{-# LANGUAGE OverloadedStrings #-}\n",
    "\n",
    "import Data.Aeson\n",
    "import qualified Data.ByteString.Lazy as B\n",
    "\n",
    "-- Define a data type to represent the structure of the JSON\n",
    "data Person = Person\n",
    "  { name :: String\n",
    "  , age :: Int\n",
    "  , country :: String\n",
    "  } deriving (Show)\n",
    "\n",
    "-- Define an instance to decode JSON into the Person data type\n",
    "instance FromJSON Person where\n",
    "  parseJSON = withObject \"Person\" $ \\v -> Person\n",
    "    <$> v .: \"Name\"\n",
    "    <*> v .: \"Age\"\n",
    "    <*> v .: \"Country\"\n",
    "\n",
    "\n",
    "\n"
   ]
  },
  {
   "cell_type": "code",
   "execution_count": 5,
   "id": "5a4cb168",
   "metadata": {},
   "outputs": [
    {
     "data": {
      "text/plain": [
       "Error: Unexpected end-of-input, expecting JSON value"
      ]
     },
     "metadata": {},
     "output_type": "display_data"
    }
   ],
   "source": [
    "  -- Read JSON data from the file\n",
    "  jsonData <- B.readFile \"data.json\"\n",
    "  \n",
    "  -- Parse JSON using eitherDecode function\n",
    "  let parsedData = eitherDecode jsonData :: Either String [Person]\n",
    "\n",
    "  case parsedData of\n",
    "    Left err -> putStrLn $ \"Error: \" ++ err\n",
    "    Right people -> putStrLn $ \"Parsed JSON: \" ++ show people"
   ]
  },
  {
   "cell_type": "markdown",
   "id": "b9effcd9",
   "metadata": {},
   "source": [
    "------------"
   ]
  },
  {
   "cell_type": "code",
   "execution_count": 1,
   "id": "8d2d2041",
   "metadata": {},
   "outputs": [],
   "source": [
    "{-# LANGUAGE OverloadedStrings #-}\n",
    "\n",
    "import Data.Aeson\n",
    "import qualified Data.ByteString.Lazy as B\n",
    "\n",
    "-- Define a data type to represent the structure of the JSON\n",
    "data Location = Location\n",
    "  { loc_name :: String\n",
    "  , loc_class :: String\n",
    "  , loc_directory :: String\n",
    "  , loc_remote_node :: String\n",
    "  , loc_remote_login :: String\n",
    "  , loc_remote_pwd :: String\n",
    "  , loc_remote_port :: Int\n",
    "  , loc_db_name :: String\n",
    "  , loc_db_user :: String\n",
    "  , loc_description :: String\n",
    "--  , result :: String -- New field with default value\n",
    "  } deriving (Show)\n",
    "\n",
    "-- Define an instance to decode JSON into the Location data type\n",
    "instance FromJSON Location where\n",
    "  parseJSON = withObject \"Location\" $ \\v -> Location\n",
    "    <$> v .: \"loc_name\"\n",
    "    <*> v .: \"loc_class\"\n",
    "    <*> v .: \"loc_directory\"\n",
    "    <*> v .: \"loc_remote_node\"\n",
    "    <*> v .: \"loc_remote_login\"\n",
    "    <*> v .: \"loc_remote_pwd\"\n",
    "    <*> v .: \"loc_remote_port\"\n",
    "    <*> v .: \"loc_db_name\"\n",
    "    <*> v .: \"loc_db_user\"\n",
    "    <*> v .: \"loc_description\"\n",
    "  --  <*> v .: \"result\" -- Set the default value for result\n",
    "\n",
    "\n",
    "-- Read JSON data from the file\n",
    "jsonData <- B.readFile \"data.json\"\n",
    "  \n",
    "-- Parse JSON using eitherDecode function\n",
    "let parsedData = eitherDecode jsonData :: Either String [Location]\n",
    "\n",
    "--case parsedData of\n",
    "--    Left err -> putStrLn $ \"Error: \" ++ err\n",
    "--    Right locations -> putStrLn $ show locations"
   ]
  },
  {
   "cell_type": "code",
   "execution_count": 2,
   "id": "9dac3dd9",
   "metadata": {},
   "outputs": [
    {
     "data": {
      "text/plain": [
       "299"
      ]
     },
     "metadata": {},
     "output_type": "display_data"
    }
   ],
   "source": [
    "import Data.Either\n",
    "l = fromRight [] parsedData\n",
    "length l"
   ]
  },
  {
   "cell_type": "code",
   "execution_count": 9,
   "id": "e81d518f",
   "metadata": {},
   "outputs": [
    {
     "ename": "",
     "evalue": "",
     "output_type": "error",
     "traceback": [
      "<interactive>:1:7: error:\n    • Couldn't match expected type: a0 -> b0\n                  with actual type: [Location]\n    • In the first argument of ‘fmap’, namely ‘l’\n      In the first argument of ‘(!!)’, namely ‘fmap l’\n      In the expression: fmap l !! 1 loc_name\n<interactive>:1:1: error:\n    • Couldn't match expected type: [a]\n                  with actual type: f0 a0 -> f0 b0\n    • Probable cause: ‘fmap’ is applied to too few arguments\n      In the first argument of ‘(!!)’, namely ‘fmap l’\n      In the expression: fmap l !! 1 loc_name\n      In an equation for ‘it’: it = fmap l !! 1 loc_name\n    • Relevant bindings include it :: a (bound at <interactive>:1:1)"
     ]
    }
   ],
   "source": [
    "fmap  l!!1  loc_name "
   ]
  },
  {
   "cell_type": "code",
   "execution_count": 9,
   "id": "fb01147f",
   "metadata": {},
   "outputs": [
    {
     "data": {
      "text/plain": [
       "[\"file\",\"\",\"/home/hvr/ctdwafersprocessed/data\"]\n",
       "[\"file\",\"\",\"/home/lh156795/cis/cis_data\"]\n",
       "[\"file\",\"\",\"/home/hvr2/hawkeye/opal\"]\n",
       "[\"oracle\",\"\",\"/usr/lib/oracle/19.5/client64/\"]\n",
       "[\"oracle\",\"\",\"/usr/lib/oracle/19.5/client64/\"]\n",
       "[\"postgresql\",\"odp-us-innovation-aurora-postgres-db.cluster-cxzrm3enxxmy.us-east-1.rds.amazonaws.com~5432~gehc_data\",\"/usr/lib64\"]\n",
       "[\"redshift\",\"JSON=[[\\\"odbc_driver\\\",\\\"/opt/amazon/redshiftodbc/lib/64/libamazonredshiftodbc64.so\\\"],[\\\"db_node\\\",\\\"redshift-data-shared-poc.c8ziwm1qxh67.us-east-1.redshift.amazonaws.com\\\"],[\\\"db_port\\\",\\\"5439\\\"],[\\\"db_name\\\",\\\"redshiftpocdb\\\"]]\",\"\"]\n",
       "[\"oracle\",\"\",\"/u01/app/oracle/product/12.1.0.2/dbee_1\"]\n",
       "[\"oracle\",\"\",\"/u01/app/oracle/product/11.2.0.4/dbee_1\"]\n",
       "[\"oracle\",\"\",\"/u01/app/oracle/product/11.2.0.4/dbee_1\"]"
      ]
     },
     "metadata": {},
     "output_type": "display_data"
    }
   ],
   "source": [
    "getLocFields :: Location  -> [Location  -> p] -> [p]\n",
    "getLocFields x  = map ($ x) \n",
    "\n",
    "mapM_ (print . (\\x -> getLocFields x [loc_class , loc_db_name, loc_directory ]) ) (take 10 l)\n",
    "\n"
   ]
  },
  {
   "cell_type": "code",
   "execution_count": 7,
   "id": "1dcea3c0",
   "metadata": {},
   "outputs": [
    {
     "data": {
      "text/plain": [
       "[10,8,25]"
      ]
     },
     "metadata": {},
     "output_type": "display_data"
    }
   ],
   "source": [
    "applyFunctions :: [a -> b] -> a -> [b]\n",
    "applyFunctions fs x = map ($ x) fs\n",
    "\n",
    "let functions = [(* 2), (+ 3), (^ 2)]\n",
    "    input = 5\n",
    "    results = applyFunctions functions input\n",
    "print results\n",
    "\n"
   ]
  },
  {
   "cell_type": "code",
   "execution_count": 4,
   "id": "18967f13",
   "metadata": {},
   "outputs": [
    {
     "data": {
      "text/plain": [
       "\"DRMHUB_HVR_HC/!{FEfI1oxmpKL.zEto}!@//dev.az-drm.finance.ge.com:1621/drmdhub\""
      ]
     },
     "metadata": {},
     "output_type": "display_data"
    }
   ],
   "source": [
    "parseLoc loc \n",
    "    | loc_class loc == \"file\" = \"s3:/\" ++ loc_directory  loc \n",
    "    | otherwise  = loc_db_user  loc\n",
    "    \n",
    "\n",
    "    \n",
    "    \n",
    "parseLoc   $ l!!3                   "
   ]
  },
  {
   "cell_type": "code",
   "execution_count": 5,
   "id": "bb20ef55",
   "metadata": {},
   "outputs": [
    {
     "data": {
      "text/plain": [
       "Test {a = Just \"A\", b = Just \"B\", c = Nothing}"
      ]
     },
     "metadata": {},
     "output_type": "display_data"
    },
    {
     "data": {
      "text/plain": [
       "Test {a = Just \"C\", b = Nothing, c = Nothing}"
      ]
     },
     "metadata": {},
     "output_type": "display_data"
    }
   ],
   "source": [
    "data Test = Test { a :: Maybe String, b :: Maybe String, c :: Maybe String } deriving Show\n",
    "\n",
    "makeTest :: Maybe String -> Maybe String -> Maybe String -> Test\n",
    "makeTest ma mb mc = Test { a = ma, b = mb, c = mc }\n",
    "\n",
    "\n",
    "t1 = makeTest (Just \"A\") (Just \"B\") Nothing\n",
    "t2 = makeTest (Just \"C\") Nothing Nothing\n",
    "t1\n",
    "t2\n",
    "\n"
   ]
  },
  {
   "cell_type": "markdown",
   "id": "17246701",
   "metadata": {},
   "source": [
    "-------------------"
   ]
  },
  {
   "cell_type": "code",
   "execution_count": 15,
   "id": "4a36c270",
   "metadata": {},
   "outputs": [
    {
     "data": {
      "text/plain": [
       "file\n",
       "file\n",
       "oracle"
      ]
     },
     "metadata": {},
     "output_type": "display_data"
    }
   ],
   "source": [
    "locationsResult :: Either String [Location]\n",
    "locationsResult = parsedData\n",
    "\n",
    "\n",
    "case locationsResult of\n",
    "  Left err -> putStrLn $ \"Error: \" ++ err\n",
    "  Right locationList -> do\n",
    "    let locNames = map loc_class  locationList\n",
    "    putStrLn $  unlines locNames\n"
   ]
  },
  {
   "cell_type": "code",
   "execution_count": 16,
   "id": "ec36f462",
   "metadata": {},
   "outputs": [
    {
     "data": {
      "text/plain": [
       "Location Names:\n",
       "mfg\n",
       "cis\n",
       "adrmd"
      ]
     },
     "metadata": {},
     "output_type": "display_data"
    }
   ],
   "source": [
    "-- Define a function to extract and print loc_name values\n",
    "printLocNames :: Either String [Location] -> IO ()\n",
    "printLocNames locationsResult = do\n",
    "  case locationsResult of\n",
    "    Left err -> putStrLn $ \"Error: \" ++ err\n",
    "    Right locationList -> do\n",
    "      let locNames = map loc_name locationList\n",
    "      putStrLn $ \"Location Names:\\n\" ++ unlines locNames\n",
    "\n",
    "\n",
    "-- Read JSON data from the file\n",
    "jsonData <- B.readFile \"data.json\"\n",
    "  \n",
    "-- Parse JSON using eitherDecode function\n",
    "let parsedData = eitherDecode jsonData :: Either String [Location]\n",
    "\n",
    "printLocNames parsedData"
   ]
  },
  {
   "cell_type": "code",
   "execution_count": 9,
   "id": "1f2e652f",
   "metadata": {},
   "outputs": [
    {
     "data": {
      "text/plain": [
       "[]"
      ]
     },
     "metadata": {},
     "output_type": "display_data"
    }
   ],
   "source": [
    "-- Define a function to extract loc_name values as a list\n",
    "getLocNames :: Either String [Location] -> [String]\n",
    "getLocNames locationsResult =\n",
    "  case locationsResult of\n",
    "    Left _ -> [] -- Return an empty list in case of error\n",
    "    Right locationList -> map loc_name locationList\n",
    "    \n",
    "getLocNames parsedData  "
   ]
  },
  {
   "cell_type": "code",
   "execution_count": 87,
   "id": "7f3978a9",
   "metadata": {},
   "outputs": [
    {
     "data": {
      "text/plain": [
       "[Location {loc_name = \"mfg\", loc_class = \"file\", loc_directory = \"/home/hvr/ctdwafersprocessed/data\", loc_remote_node = \"10.242.109.196\", loc_remote_login = \"hvr\", loc_remote_pwd = \"!{ioMZoDB5eGFbcfxn}!\", loc_remote_port = 4343, loc_db_name = \"\", loc_db_user = \"\", loc_description = \" MFG - CTD Wafers\"},Location {loc_name = \"cis\", loc_class = \"file\", loc_directory = \"/home/lh156795/cis/cis_data\", loc_remote_node = \"10.242.112.153\", loc_remote_login = \"hvr2\", loc_remote_pwd = \"!{yjT/heDE}!\", loc_remote_port = 9090, loc_db_name = \"\", loc_db_user = \"\", loc_description = \"cis to s3\"}]"
      ]
     },
     "metadata": {},
     "output_type": "display_data"
    }
   ],
   "source": [
    "[ {loc_name = \"mfg\", loc_class = \"file\", loc_directory = \"/home/hvr/ctdwafersprocessed/data\", loc_remote_node = \"10.242.109.196\", loc_remote_login = \"hvr\", loc_remote_pwd = \"!{ioMZoDB5eGFbcfxn}!\", loc_remote_port = 4343, loc_db_name = \"\", loc_db_user = \"\", loc_description = \" MFG - CTD Wafers\"}, {loc_name = \"cis\", loc_class = \"file\", loc_directory = \"/home/lh156795/cis/cis_data\", loc_remote_node = \"10.242.112.153\", loc_remote_login = \"hvr2\", loc_remote_pwd = \"!{yjT/heDE}!\", loc_remote_port = 9090, loc_db_name = \"\", loc_db_user = \"\", loc_description = \"cis to s3\"}]"
   ]
  },
  {
   "cell_type": "code",
   "execution_count": 57,
   "id": "5a2e5cb6",
   "metadata": {},
   "outputs": [],
   "source": [
    "import Data.Maybe (fromMaybe )\n",
    "import Data.Either"
   ]
  },
  {
   "cell_type": "code",
   "execution_count": 65,
   "id": "93e27cfd",
   "metadata": {},
   "outputs": [
    {
     "data": {
      "text/html": [
       "<style>/* Styles used for the Hoogle display in the pager */\n",
       ".hoogle-doc {\n",
       "display: block;\n",
       "padding-bottom: 1.3em;\n",
       "padding-left: 0.4em;\n",
       "}\n",
       ".hoogle-code {\n",
       "display: block;\n",
       "font-family: monospace;\n",
       "white-space: pre;\n",
       "}\n",
       ".hoogle-text {\n",
       "display: block;\n",
       "}\n",
       ".hoogle-name {\n",
       "color: green;\n",
       "font-weight: bold;\n",
       "}\n",
       ".hoogle-head {\n",
       "font-weight: bold;\n",
       "}\n",
       ".hoogle-sub {\n",
       "display: block;\n",
       "margin-left: 0.4em;\n",
       "}\n",
       ".hoogle-package {\n",
       "font-weight: bold;\n",
       "font-style: italic;\n",
       "}\n",
       ".hoogle-module {\n",
       "font-weight: bold;\n",
       "}\n",
       ".hoogle-class {\n",
       "font-weight: bold;\n",
       "}\n",
       "\n",
       ".get-type {\n",
       "color: green;\n",
       "font-weight: bold;\n",
       "font-family: monospace;\n",
       "display: block;\n",
       "white-space: pre-wrap;\n",
       "}\n",
       ".show-type {\n",
       "color: green;\n",
       "font-weight: bold;\n",
       "font-family: monospace;\n",
       "margin-left: 1em;\n",
       "}\n",
       ".mono {\n",
       "font-family: monospace;\n",
       "display: block;\n",
       "}\n",
       ".err-msg {\n",
       "color: red;\n",
       "font-style: italic;\n",
       "font-family: monospace;\n",
       "white-space: pre;\n",
       "display: block;\n",
       "}\n",
       "#unshowable {\n",
       "color: red;\n",
       "font-weight: bold;\n",
       "}\n",
       ".err-msg.in.collapse {\n",
       "padding-top: 0.7em;\n",
       "}\n",
       "\n",
       ".highlight-code {\n",
       "white-space: pre;\n",
       "font-family: monospace;\n",
       "}\n",
       "\n",
       ".suggestion-warning { \n",
       "font-weight: bold;\n",
       "color: rgb(200, 130, 0);\n",
       "}\n",
       ".suggestion-error { \n",
       "font-weight: bold;\n",
       "color: red;\n",
       "}\n",
       ".suggestion-name {\n",
       "font-weight: bold;\n",
       "}\n",
       "\n",
       "</style><div class=\"suggestion-name\" style=\"clear:both;\">Use <$></div><div class=\"suggestion-row\" style=\"float: left;\"><div class=\"suggestion-warning\">Found:</div><div class=\"highlight-code\" id=\"haskell\">fmap (\\ (Location x) -> x) $ fromMaybe 0 maybeInt</div></div><div class=\"suggestion-row\" style=\"float: left;\"><div class=\"suggestion-warning\">Why Not:</div><div class=\"highlight-code\" id=\"haskell\">(\\ (Location x) -> x) <$> fromMaybe 0 maybeInt</div></div>"
      ],
      "text/plain": [
       "Line 4: Use <$>\n",
       "Found:\n",
       "fmap (\\ (Location x) -> x) $ fromMaybe 0 maybeInt\n",
       "Why not:\n",
       "(\\ (Location x) -> x) <$> fromMaybe 0 maybeInt"
      ]
     },
     "metadata": {},
     "output_type": "display_data"
    },
    {
     "ename": "",
     "evalue": "",
     "output_type": "error",
     "traceback": [
      "<interactive>:1:41: error:\n    • Couldn't match type ‘Int’ with ‘f Location’\n      Expected: Maybe (f Location)\n        Actual: Maybe Int\n    • In the second argument of ‘fromMaybe’, namely ‘maybeInt’\n      In the second argument of ‘($)’, namely ‘fromMaybe 0 maybeInt’\n      In the expression: fmap (\\ (Location x) -> x) $ fromMaybe 0 maybeInt\n    • Relevant bindings include it :: f [Int] (bound at <interactive>:1:1)"
     ]
    }
   ],
   "source": [
    "maybeInt :: Maybe Int\n",
    "maybeInt = Just 1\n",
    "\n",
    "fmap (\\(Location x) -> x) $ fromMaybe 0 maybeInt"
   ]
  },
  {
   "cell_type": "code",
   "execution_count": 68,
   "id": "0368ede0",
   "metadata": {},
   "outputs": [
    {
     "data": {
      "text/html": [
       "<style>/* Styles used for the Hoogle display in the pager */\n",
       ".hoogle-doc {\n",
       "display: block;\n",
       "padding-bottom: 1.3em;\n",
       "padding-left: 0.4em;\n",
       "}\n",
       ".hoogle-code {\n",
       "display: block;\n",
       "font-family: monospace;\n",
       "white-space: pre;\n",
       "}\n",
       ".hoogle-text {\n",
       "display: block;\n",
       "}\n",
       ".hoogle-name {\n",
       "color: green;\n",
       "font-weight: bold;\n",
       "}\n",
       ".hoogle-head {\n",
       "font-weight: bold;\n",
       "}\n",
       ".hoogle-sub {\n",
       "display: block;\n",
       "margin-left: 0.4em;\n",
       "}\n",
       ".hoogle-package {\n",
       "font-weight: bold;\n",
       "font-style: italic;\n",
       "}\n",
       ".hoogle-module {\n",
       "font-weight: bold;\n",
       "}\n",
       ".hoogle-class {\n",
       "font-weight: bold;\n",
       "}\n",
       "\n",
       ".get-type {\n",
       "color: green;\n",
       "font-weight: bold;\n",
       "font-family: monospace;\n",
       "display: block;\n",
       "white-space: pre-wrap;\n",
       "}\n",
       ".show-type {\n",
       "color: green;\n",
       "font-weight: bold;\n",
       "font-family: monospace;\n",
       "margin-left: 1em;\n",
       "}\n",
       ".mono {\n",
       "font-family: monospace;\n",
       "display: block;\n",
       "}\n",
       ".err-msg {\n",
       "color: red;\n",
       "font-style: italic;\n",
       "font-family: monospace;\n",
       "white-space: pre;\n",
       "display: block;\n",
       "}\n",
       "#unshowable {\n",
       "color: red;\n",
       "font-weight: bold;\n",
       "}\n",
       ".err-msg.in.collapse {\n",
       "padding-top: 0.7em;\n",
       "}\n",
       "\n",
       ".highlight-code {\n",
       "white-space: pre;\n",
       "font-family: monospace;\n",
       "}\n",
       "\n",
       ".suggestion-warning { \n",
       "font-weight: bold;\n",
       "color: rgb(200, 130, 0);\n",
       "}\n",
       ".suggestion-error { \n",
       "font-weight: bold;\n",
       "color: red;\n",
       "}\n",
       ".suggestion-name {\n",
       "font-weight: bold;\n",
       "}\n",
       "\n",
       "</style><div class=\"suggestion-name\" style=\"clear:both;\">Redundant bracket</div><div class=\"suggestion-row\" style=\"float: left;\"><div class=\"suggestion-warning\">Found:</div><div class=\"highlight-code\" id=\"haskell\">[(Location [1]), (Location [2])]</div></div><div class=\"suggestion-row\" style=\"float: left;\"><div class=\"suggestion-warning\">Why Not:</div><div class=\"highlight-code\" id=\"haskell\">[Location [1], (Location [2])]</div></div><div class=\"suggestion-name\" style=\"clear:both;\">Redundant bracket</div><div class=\"suggestion-row\" style=\"float: left;\"><div class=\"suggestion-warning\">Found:</div><div class=\"highlight-code\" id=\"haskell\">[(Location [1]), (Location [2])]</div></div><div class=\"suggestion-row\" style=\"float: left;\"><div class=\"suggestion-warning\">Why Not:</div><div class=\"highlight-code\" id=\"haskell\">[(Location [1]), Location [2]]</div></div>"
      ],
      "text/plain": [
       "Line 1: Redundant bracket\n",
       "Found:\n",
       "[(Location [1]), (Location [2])]\n",
       "Why not:\n",
       "[Location [1], (Location [2])]Line 1: Redundant bracket\n",
       "Found:\n",
       "[(Location [1]), (Location [2])]\n",
       "Why not:\n",
       "[(Location [1]), Location [2]]"
      ]
     },
     "metadata": {},
     "output_type": "display_data"
    },
    {
     "data": {
      "text/plain": [
       "[1,2]"
      ]
     },
     "metadata": {},
     "output_type": "display_data"
    }
   ],
   "source": [
    "concatMap (\\(Location x) -> x)  [(Location [1]), (Location [2])]"
   ]
  },
  {
   "cell_type": "code",
   "execution_count": 14,
   "id": "14929e60",
   "metadata": {},
   "outputs": [
    {
     "ename": "",
     "evalue": "",
     "output_type": "error",
     "traceback": [
      "<interactive>:1:14: error: Variable not in scope: l"
     ]
    }
   ],
   "source": [
    "import GHC.Generics\n",
    "import Data.Aeson\n",
    "import Data.Either\n",
    "import qualified Data.HashMap.Strict as HashMap"
   ]
  },
  {
   "cell_type": "code",
   "execution_count": 17,
   "id": "9d705d8a",
   "metadata": {},
   "outputs": [
    {
     "data": {
      "text/plain": [
       "Right [Location {loc_name = \"mfg\", loc_class = \"file\", loc_directory = \"/home/hvr/ctdwafersprocessed/data\", loc_remote_node = \"10.242.109.196\", loc_remote_login = \"hvr\", loc_remote_pwd = \"!{ioMZoDB5eGFbcfxn}!\", loc_remote_port = 4343, loc_db_name = \"\", loc_db_user = \"\", loc_description = \" MFG - CTD Wafers\"},Location {loc_name = \"cis\", loc_class = \"file\", loc_directory = \"/home/lh156795/cis/cis_data\", loc_remote_node = \"10.242.112.153\", loc_remote_login = \"hvr2\", loc_remote_pwd = \"!{yjT/heDE}!\", loc_remote_port = 9090, loc_db_name = \"\", loc_db_user = \"\", loc_description = \"cis to s3\"},Location {loc_name = \"adrmd\", loc_class = \"oracle\", loc_directory = \"/usr/lib/oracle/19.5/client64/\", loc_remote_node = \"\", loc_remote_login = \"\", loc_remote_pwd = \"\", loc_remote_port = 0, loc_db_name = \"\", loc_db_user = \"DRMHUB_HVR_HC/!{FEfI1oxmpKL.zEto}!@//dev.az-drm.finance.ge.com:1621/drmdhub\", loc_description = \"drm dev instance\"}]"
      ]
     },
     "metadata": {},
     "output_type": "display_data"
    }
   ],
   "source": [
    "parsedData"
   ]
  },
  {
   "cell_type": "code",
   "execution_count": null,
   "id": "fb20fdc4",
   "metadata": {},
   "outputs": [
    {
     "data": {
      "text/plain": [
       "\"DRMHUB_HVR_HC/!{FEfI1oxmpKL.zEto}!@//dev.az-drm.finance.ge.com:1621/drmdhub\""
      ]
     },
     "metadata": {},
     "output_type": "display_data"
    }
   ],
   "source": [
    "import Data.Either\n",
    "l = fromRight [] parsedData\n",
    "\n",
    "apply loc_lst = case loc_class loc_lst of \n",
    "              \"file\" -> loc_class loc_lst\n",
    "              \"oracle\" -> loc_db_user    loc_lst\n",
    "\n",
    "apply $ last  l"
   ]
  },
  {
   "cell_type": "code",
   "execution_count": 45,
   "id": "70b70a06",
   "metadata": {},
   "outputs": [
    {
     "ename": "",
     "evalue": "",
     "output_type": "error",
     "traceback": [
      "Parse error (line 6, column 19): parse error on input `='"
     ]
    }
   ],
   "source": [
    "import Data.Either\n",
    "\n",
    "data Location = Location [Int] deriving Show\n",
    "\n",
    "let input = [Right (Location [1]), Right (Location [2])]\n",
    "      rightValues = rights input\n",
    "      extractedValues = concatMap (\\(Location nums) -> nums) rightValues\n",
    "print extractedValues\n"
   ]
  },
  {
   "cell_type": "code",
   "execution_count": null,
   "id": "c65fa868",
   "metadata": {},
   "outputs": [],
   "source": [
    "import Data.Either\n",
    "\n",
    "\n",
    "    let input = Right 3\n",
    "        extractedValue = fromRight (error \"Not a Right value\") input\n",
    "    print extractedValue\n"
   ]
  }
 ],
 "metadata": {
  "kernelspec": {
   "display_name": "Haskell",
   "language": "haskell",
   "name": "haskell"
  },
  "language_info": {
   "codemirror_mode": "ihaskell",
   "file_extension": ".hs",
   "mimetype": "text/x-haskell",
   "name": "haskell",
   "pygments_lexer": "Haskell",
   "version": "9.4.5"
  }
 },
 "nbformat": 4,
 "nbformat_minor": 5
}
