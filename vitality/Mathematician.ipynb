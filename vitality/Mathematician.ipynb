{
 "cells": [
  {
   "cell_type": "code",
   "execution_count": 1,
   "id": "1f1e2660",
   "metadata": {},
   "outputs": [],
   "source": [
    ":load Mathematician"
   ]
  },
  {
   "cell_type": "code",
   "execution_count": 2,
   "id": "a8b9dcc9",
   "metadata": {},
   "outputs": [],
   "source": [
    "import Data.Aeson\n",
    "import qualified Data.ByteString.Lazy as B\n",
    "import Control.Applicative\n",
    "import Data.Text.Prettyprint.Doc"
   ]
  },
  {
   "cell_type": "code",
   "execution_count": 3,
   "id": "efbff06c",
   "metadata": {},
   "outputs": [
    {
     "data": {
      "text/plain": []
     },
     "metadata": {},
     "output_type": "display_data"
    }
   ],
   "source": [
    "input <- B.readFile \"Mathematician.json\"\n",
    "let mm = decode input :: Maybe [Mathematician]"
   ]
  },
  {
   "cell_type": "code",
   "execution_count": 4,
   "id": "42d19bda",
   "metadata": {},
   "outputs": [
    {
     "data": {
      "text/plain": [
       "\"Gauss\" was born in the year 1777\n",
       "\"Bartosz\" was born in the year 1978"
      ]
     },
     "metadata": {},
     "output_type": "display_data"
    }
   ],
   "source": [
    " (mapM_ (putStrLn . greet).unjust) mm"
   ]
  },
  {
   "cell_type": "code",
   "execution_count": 5,
   "id": "464bf7f0",
   "metadata": {},
   "outputs": [
    {
     "data": {
      "text/plain": [
       "[Mathematician {\n",
       "  name = Gauss\n",
       "  nationality = German\n",
       "  born = 1777\n",
       "  died = 1855\n",
       "},Mathematician {\n",
       "  name = Bartosz\n",
       "  nationality = Polish\n",
       "  born = 1978\n",
       "  died = \n",
       "}]"
      ]
     },
     "metadata": {},
     "output_type": "display_data"
    }
   ],
   "source": [
    "map pretty (unjust mm)"
   ]
  }
 ],
 "metadata": {
  "kernelspec": {
   "display_name": "Haskell",
   "language": "haskell",
   "name": "haskell"
  },
  "language_info": {
   "codemirror_mode": "ihaskell",
   "file_extension": ".hs",
   "mimetype": "text/x-haskell",
   "name": "haskell",
   "pygments_lexer": "Haskell",
   "version": "9.4.5"
  }
 },
 "nbformat": 4,
 "nbformat_minor": 5
}
