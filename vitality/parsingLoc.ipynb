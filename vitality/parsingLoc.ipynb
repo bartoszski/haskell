{
 "cells": [
  {
   "cell_type": "markdown",
   "id": "b9effcd9",
   "metadata": {},
   "source": [
    "------------"
   ]
  },
  {
   "cell_type": "code",
   "execution_count": 1,
   "id": "8d2d2041",
   "metadata": {},
   "outputs": [],
   "source": [
    "{-# LANGUAGE OverloadedStrings #-}\n",
    "\n",
    "import Data.Aeson\n",
    "import qualified Data.ByteString.Lazy as B\n",
    "import Data.Text.Prettyprint.Doc\n",
    "\n",
    "-- Define a data type to represent the structure of the JSON\n",
    "data Location = Location\n",
    "  { loc_name :: String\n",
    "  , loc_class :: String\n",
    "  , loc_directory :: String\n",
    "  , loc_remote_node :: String\n",
    "  , loc_remote_login :: String\n",
    "  , loc_remote_pwd :: String\n",
    "  , loc_remote_port :: Int\n",
    "  , loc_db_name :: String\n",
    "  , loc_db_user :: String\n",
    "  , loc_description :: String\n",
    "  } deriving (Show)\n",
    "\n",
    "instance Pretty Location where\n",
    "  pretty loc =\n",
    "    vsep\n",
    "      [ \"Location {\"\n",
    "      , indent 2 (\"loc_name = \" <> pretty (loc_name loc))\n",
    "      , indent 2 (\"loc_class = \" <> pretty (loc_class loc))\n",
    "      , indent 2 (\"loc_directory = \" <> pretty (loc_directory loc))\n",
    "      , indent 2 (\"loc_remote_node = \" <> pretty (loc_remote_node loc))\n",
    "      , indent 2 (\"loc_remote_login = \" <> pretty (loc_remote_login loc))\n",
    "      , indent 2 (\"loc_remote_pwd = \" <> pretty (loc_remote_pwd loc))\n",
    "      , indent 2 (\"loc_remote_port = \" <> pretty (loc_remote_port loc))\n",
    "      , indent 2 (\"loc_db_name = \" <> pretty (loc_db_name loc))\n",
    "      , indent 2 (\"loc_db_user = \" <> pretty (loc_db_user loc))\n",
    "      , indent 2 (\"loc_description = \" <> pretty (loc_description loc))\n",
    "      , \"}\"\n",
    "      ]\n",
    "\n",
    "-- Define an instance to decode JSON into the Location data type\n",
    "instance FromJSON Location where\n",
    "  parseJSON = withObject \"Location\" $ \\v -> Location\n",
    "    <$> v .: \"loc_name\"\n",
    "    <*> v .: \"loc_class\"\n",
    "    <*> v .: \"loc_directory\"\n",
    "    <*> v .: \"loc_remote_node\"\n",
    "    <*> v .: \"loc_remote_login\"\n",
    "    <*> v .: \"loc_remote_pwd\"\n",
    "    <*> v .: \"loc_remote_port\"\n",
    "    <*> v .: \"loc_db_name\"\n",
    "    <*> v .: \"loc_db_user\"\n",
    "    <*> v .: \"loc_description\"\n",
    "\n",
    "-- Read JSON data from the file\n",
    "jsonData <- B.readFile \"data.json\"\n",
    "  \n",
    "-- Parse JSON using eitherDecode function\n",
    "let parsedData = eitherDecode jsonData :: Either String [Location]\n"
   ]
  },
  {
   "cell_type": "code",
   "execution_count": 2,
   "id": "6caaa951",
   "metadata": {},
   "outputs": [],
   "source": [
    "data Location' = Location'\n",
    "  { loc_name' :: String\n",
    "  , loc_class' :: String\n",
    "  , loc_directory'::String\n",
    "  , loc_remote_node' :: String  -- agent used \n",
    "  , loc_remote_login' :: String -- user agent \n",
    "  , loc_remote_port' :: Int     -- agent port\n",
    "  , loc_db_user' :: String\n",
    "  , loc_description' :: String\n",
    "  , db_node_name :: String      -- infra location where data is stored\n",
    "  , db_instance :: String  -- logical locaton\n",
    "  } deriving (Show)\n",
    "  \n",
    "instance Pretty Location' where\n",
    "  pretty loc =\n",
    "    vsep\n",
    "      [ \"Location {\"\n",
    "      , indent 2 (\"loc_class         = \" <> pretty (loc_class' loc))\n",
    "      , indent 3 (\"loc_name         = \" <> pretty (loc_name' loc))\n",
    "      , indent 3 (\"loc_directory    = \" <> pretty (loc_directory' loc))     \n",
    "      , indent 3 (\"loc_remote_node  = \" <> pretty (loc_remote_node' loc))\n",
    "      , indent 3 (\"loc_remote_login = \" <> pretty (loc_remote_login' loc))\n",
    "      , indent 3 (\"loc_remote_port  = \" <> pretty (loc_remote_port' loc))\n",
    "      , indent 3 (\"loc_db_user      = \" <> pretty (loc_db_user' loc))\n",
    "      , indent 3 (\"loc_description  = \" <> pretty (loc_description' loc))\n",
    "      , indent 3 (\"db_node_name     = \" <> pretty (db_node_name loc))\n",
    "      , indent 3 (\"db_instance      = \" <> pretty (db_instance loc))\n",
    "      , \"}\"\n",
    "      ]  \n",
    "\n",
    "loc2Location :: Location -> String -> [String] -> Location'\n",
    "loc2Location x classSuffix [db_user,node_name,db_instance] = \n",
    "                              Location' {\n",
    "                                          loc_name'  = loc_name x \n",
    "                                         , loc_class' = loc_class x ++ classSuffix\n",
    "                                         , loc_directory' = loc_directory x\n",
    "                                         , loc_remote_node'  = loc_remote_node x\n",
    "                                         , loc_remote_login' = loc_remote_login x\n",
    "                                         , loc_remote_port'  = loc_remote_port x\n",
    "                                         , loc_db_user'      = db_user                  ---- is it agent user or db user?\n",
    "                                         , loc_description'  = loc_description x\n",
    "                                         , db_node_name      = node_name\n",
    "                                         , db_instance       = db_instance\n",
    "                                         }\n",
    "                                         "
   ]
  },
  {
   "cell_type": "code",
   "execution_count": 3,
   "id": "a067e738",
   "metadata": {},
   "outputs": [],
   "source": [
    "import Text.Read (readMaybe) \n",
    "import Data.Maybe (fromMaybe )\n",
    "import Data.List.Split (splitOn)\n",
    "import Data.List (intercalate)\n",
    "\n",
    "parseRedshift :: Location  ->[String]\n",
    "parseRedshift l  = getUSer l : (concat . filterCols . fromMaybe []. parseJson .  getJsonStr)  l  \n",
    "   where\n",
    "       getJsonStr  = drop 1 . dropWhile (/= '=') . loc_db_name  -- get loc_db_name and return string after first '='\n",
    "       parseJson s = readMaybe s :: Maybe [[String]]            -- parse to list\n",
    "       filterCols  = map tail .  filter (\\[k, _] -> k `elem` [\"db_node\", \"db_name\"])\n",
    "       getUSer = head . splitOn \"/\" . loc_db_user \n",
    "              \n",
    "parseLoc :: Location  -> Location'\n",
    "parseLoc l\n",
    "    | loc_class l == \"redshift\"   = loc2Location l \"\"  $ parseRedshift l\n",
    "    | loc_class l == \"file\" && ((head . loc_directory)   l  == '/'    )  = loc2Location l \"_locdir\"  [loc_remote_login  l ,loc_remote_node l, loc_directory l]\n",
    "    | loc_class l == \"file\" && ((take 4 . loc_directory) l  == \"s3s:\" )  = loc2Location l \"_s3s\" [\"###\",getBacket l ,getPrefix l]\n",
    "    | loc_class l == \"file\" && ((take 5 . loc_directory) l  == \"sftp:\")  = loc2Location l \"_sftp\" [\"###\",getBacket l ,getsftpFolder l]\n",
    "    | loc_class l `elem` [\"mysql\",\"greenplum\",\"postgresql\"]              = loc2Location l \"\"   [ getUserMysql l , getNodeMysql l, getInstMysql l]\n",
    "    | loc_class l == \"sqlserver\"    = loc2Location l \"\"  [getUserMsSql l, getNodeMsSql l,getInstMsSql l ]   \n",
    "    | loc_class l == \"teradata\"     = loc2Location l \"\"   [getUserTd l, loc_db_name l,loc_db_name l ] \n",
    "    | loc_class l == \"salesforce\"   = loc2Location l \"\"   [getUserSf l, getNodeSf l,getInstSf l ] \n",
    "    | otherwise   = loc2Location l \"\"  [\"###\",\"###\",\"###\"]   \n",
    "    where \n",
    "    getBacket = head . splitOn \"/\" . last. splitOn \"@\" .loc_directory\n",
    "    getPrefix =  intercalate  \"/\" .tail . splitOn \"/\" . last. splitOn \"@\" .loc_directory\n",
    "    getsftpNode   = getBacket\n",
    "    getsftpFolder =  getPrefix\n",
    "    --\n",
    "    getNodeMysql  =  head . splitOn \"~\" . loc_db_name\n",
    "    getInstMysql  =  last . splitOn \"~\" . loc_db_name\n",
    "    getUserMysql  =  head . splitOn \"/\" . loc_db_user\n",
    "    --\n",
    "    getNodeMsSql  =  head . splitOn \"\\\\\" . loc_db_name\n",
    "    getInstMsSql  =  last . splitOn \"\\\\\" . loc_db_name\n",
    "    getUserMsSql  =  getUserMysql\n",
    "    --\n",
    "    getUserTd     =  getUserMysql\n",
    "    --\n",
    "    getNodeSf     = last .splitOn \"//\" . loc_directory\n",
    "    getInstSf     = last .splitOn \"@\" . head . splitOn \"/\" . loc_db_user\n",
    "    getUserSf     = head .splitOn \"@\" . head . splitOn \"/\" . loc_db_user"
   ]
  },
  {
   "cell_type": "markdown",
   "id": "92b80269",
   "metadata": {},
   "source": [
    "------------"
   ]
  },
  {
   "cell_type": "code",
   "execution_count": null,
   "id": "b8ee170c",
   "metadata": {},
   "outputs": [
    {
     "data": {
      "text/plain": [
       "\"[[\\\"urls\\\",[\\\"b-1.us-dev-msk-cluster.x8853p.c1.kafka.us-east-1.amazonaws.com:9094\\\",\\\"b-2.us-dev-msk-cluster.x8853p.c1.kafka.us-east-1.amazonaws.com:9094\\\",\\\"b-3.us-dev-msk-cluster.x8853p.c1.kafka.us-east-1.amazonaws.com:9094\\\"]],[\\\"broker_ca\\\",\\\"/data/kafka_certs/MSKPOCKey.pem\\\"],[\\\"ssl_cert\\\",\\\"/data/kafka_devcerts/kafka/signed-certificate-from-acm\\\"],[\\\"ssl_key\\\",\\\"/data/kafka_devcerts/kafka/key.pem\\\"],[\\\"ssl_key_pwd\\\",\\\"!{Itbo2aix.D3x7/Yp}!\\\"]]\""
      ]
     },
     "metadata": {},
     "output_type": "display_data"
    },
    {
     "data": {
      "text/plain": [
       "\"[[\\\"odbc_driver\\\",\\\"/opt/amazon/redshiftodbc/lib/64/libamazonredshiftodbc64.so\\\"],[\\\"db_node\\\",\\\"us-innovation-redshift.c8ziwm1qxh67.us-east-1.redshift.amazonaws.com\\\"],[\\\"db_port\\\",\\\"5439\\\"],[\\\"db_name\\\",\\\"redshift_hvr\\\"]]\""
      ]
     },
     "metadata": {},
     "output_type": "display_data"
    }
   ],
   "source": [
    "(last . splitOn \"=\" . loc_db_name )  $ lll!!1\n",
    "(last . splitOn \"=\" . loc_db_name )  $ ll!!1"
   ]
  },
  {
   "cell_type": "code",
   "execution_count": 3,
   "id": "120d760e",
   "metadata": {},
   "outputs": [],
   "source": [
    "-------------"
   ]
  },
  {
   "cell_type": "code",
   "execution_count": 4,
   "id": "9dac3dd9",
   "metadata": {},
   "outputs": [
    {
     "data": {
      "text/plain": [
       "299"
      ]
     },
     "metadata": {},
     "output_type": "display_data"
    }
   ],
   "source": [
    "import Data.Either\n",
    "l = fromRight [] parsedData\n",
    "length l"
   ]
  },
  {
   "cell_type": "code",
   "execution_count": null,
   "id": "be5320fe",
   "metadata": {},
   "outputs": [
    {
     "data": {
      "text/plain": [
       "[Location {loc_name = \"kafka\", loc_class = \"kafka\", loc_directory = \"\", loc_remote_node = \"\", loc_remote_login = \"\", loc_remote_pwd = \"\", loc_remote_port = 0, loc_db_name = \"JSON=[[\\\"urls\\\",[\\\"b-2.odp-us-innovation-msk.zov259.c1.kafka.us-east-1.amazonaws.com:9092\\\",\\\"b-1.odp-us-innovation-msk.zov259.c1.kafka.us-east-1.amazonaws.com:9092\\\",\\\"b-3.odp-us-innovation-msk.zov259.c1.kafka.us-east-1.amazonaws.com:9092\\\"]],[\\\"default_topic\\\",\\\"{hvr_tbl_name}\\\"]]\", loc_db_user = \"\", loc_description = \"\"},Location {loc_name = \"kafk1\", loc_class = \"kafka\", loc_directory = \"\", loc_remote_node = \"10.242.109.196\", loc_remote_login = \"hvr\", loc_remote_pwd = \"!{lx5b1s4XljZxBFYJ}!\", loc_remote_port = 4343, loc_db_name = \"JSON=[[\\\"urls\\\",[\\\"b-1.us-dev-msk-cluster.x8853p.c1.kafka.us-east-1.amazonaws.com:9094\\\",\\\"b-2.us-dev-msk-cluster.x8853p.c1.kafka.us-east-1.amazonaws.com:9094\\\",\\\"b-3.us-dev-msk-cluster.x8853p.c1.kafka.us-east-1.amazonaws.com:9094\\\"]],[\\\"broker_ca\\\",\\\"/data/kafka_certs/MSKPOCKey.pem\\\"],[\\\"ssl_cert\\\",\\\"/data/kafka_devcerts/kafka/signed-certificate-from-acm\\\"],[\\\"ssl_key\\\",\\\"/data/kafka_devcerts/kafka/key.pem\\\"],[\\\"ssl_key_pwd\\\",\\\"!{Itbo2aix.D3x7/Yp}!\\\"]]\", loc_db_user = \"\", loc_description = \"\"},Location {loc_name = \"tmski\", loc_class = \"kafka\", loc_directory = \"\", loc_remote_node = \"10.242.115.16\", loc_remote_login = \"gehc_hvr\", loc_remote_pwd = \"!{9BUXw/Az}!\", loc_remote_port = 4343, loc_db_name = \"JSON=[[\\\"urls\\\",[\\\"10.242.115.68:9092\\\",\\\"10.242.115.9:9092\\\",\\\"10.242.115.54:9092\\\"]],[\\\"default_topic\\\",\\\"{hvr_tbl_name}\\\"]]\", loc_db_user = \"\", loc_description = \"Innovation Kafka\"},Location {loc_name = \"jokt\", loc_class = \"kafka\", loc_directory = \"\", loc_remote_node = \"10.242.112.153\", loc_remote_login = \"isc_dev\", loc_remote_pwd = \"!{sfuVWU2k}!\", loc_remote_port = 8443, loc_db_name = \"JSON=[[\\\"urls\\\",[\\\"b-3.us-dev-msk-cluster.x8853p.c1.kafka.us-east-1.amazonaws.com:9094\\\",\\\"b-2.us-dev-msk-cluster.x8853p.c1.kafka.us-east-1.amazonaws.com:9094\\\",\\\"b-1.us-dev-msk-cluster.x8853p.c1.kafka.us-east-1.amazonaws.com:9094\\\"]],[\\\"broker_ca\\\",\\\"/tmp/cacert_joyan/MSKPOCKey.pem\\\"],[\\\"ssl_cert\\\",\\\"/tmp/cacert_joyan/joyan_signed_certificate\\\"],[\\\"ssl_key\\\",\\\"/tmp/cacert_joyan/key.pem\\\"],[\\\"ssl_key_pwd\\\",\\\"!{hfebiKYautvtaUam}!\\\"]]\", loc_db_user = \"\", loc_description = \"Kafka Test Location Created by Joyan\"}]"
      ]
     },
     "metadata": {},
     "output_type": "display_data"
    }
   ],
   "source": [
    "ll"
   ]
  },
  {
   "cell_type": "code",
   "execution_count": 8,
   "id": "605b09a7",
   "metadata": {
    "scrolled": false
   },
   "outputs": [
    {
     "data": {
      "text/plain": [
       "[Location {\n",
       "  loc_name = kafka\n",
       "  loc_class = kafka\n",
       "  loc_directory = \n",
       "  loc_remote_node = \n",
       "  loc_remote_login = \n",
       "  loc_remote_pwd = \n",
       "  loc_remote_port = 0\n",
       "  loc_db_name = JSON=[[\"urls\",[\"b-2.odp-us-innovation-msk.zov259.c1.kafka.us-east-1.amazonaws.com:9092\",\"b-1.odp-us-innovation-msk.zov259.c1.kafka.us-east-1.amazonaws.com:9092\",\"b-3.odp-us-innovation-msk.zov259.c1.kafka.us-east-1.amazonaws.com:9092\"]],[\"default_topic\",\"{hvr_tbl_name}\"]]\n",
       "  loc_db_user = \n",
       "  loc_description = \n",
       "},Location {\n",
       "  loc_name = kafk1\n",
       "  loc_class = kafka\n",
       "  loc_directory = \n",
       "  loc_remote_node = 10.242.109.196\n",
       "  loc_remote_login = hvr\n",
       "  loc_remote_pwd = !{lx5b1s4XljZxBFYJ}!\n",
       "  loc_remote_port = 4343\n",
       "  loc_db_name = JSON=[[\"urls\",[\"b-1.us-dev-msk-cluster.x8853p.c1.kafka.us-east-1.amazonaws.com:9094\",\"b-2.us-dev-msk-cluster.x8853p.c1.kafka.us-east-1.amazonaws.com:9094\",\"b-3.us-dev-msk-cluster.x8853p.c1.kafka.us-east-1.amazonaws.com:9094\"]],[\"broker_ca\",\"/data/kafka_certs/MSKPOCKey.pem\"],[\"ssl_cert\",\"/data/kafka_devcerts/kafka/signed-certificate-from-acm\"],[\"ssl_key\",\"/data/kafka_devcerts/kafka/key.pem\"],[\"ssl_key_pwd\",\"!{Itbo2aix.D3x7/Yp}!\"]]\n",
       "  loc_db_user = \n",
       "  loc_description = \n",
       "},Location {\n",
       "  loc_name = tmski\n",
       "  loc_class = kafka\n",
       "  loc_directory = \n",
       "  loc_remote_node = 10.242.115.16\n",
       "  loc_remote_login = gehc_hvr\n",
       "  loc_remote_pwd = !{9BUXw/Az}!\n",
       "  loc_remote_port = 4343\n",
       "  loc_db_name = JSON=[[\"urls\",[\"10.242.115.68:9092\",\"10.242.115.9:9092\",\"10.242.115.54:9092\"]],[\"default_topic\",\"{hvr_tbl_name}\"]]\n",
       "  loc_db_user = \n",
       "  loc_description = Innovation Kafka\n",
       "},Location {\n",
       "  loc_name = jokt\n",
       "  loc_class = kafka\n",
       "  loc_directory = \n",
       "  loc_remote_node = 10.242.112.153\n",
       "  loc_remote_login = isc_dev\n",
       "  loc_remote_pwd = !{sfuVWU2k}!\n",
       "  loc_remote_port = 8443\n",
       "  loc_db_name = JSON=[[\"urls\",[\"b-3.us-dev-msk-cluster.x8853p.c1.kafka.us-east-1.amazonaws.com:9094\",\"b-2.us-dev-msk-cluster.x8853p.c1.kafka.us-east-1.amazonaws.com:9094\",\"b-1.us-dev-msk-cluster.x8853p.c1.kafka.us-east-1.amazonaws.com:9094\"]],[\"broker_ca\",\"/tmp/cacert_joyan/MSKPOCKey.pem\"],[\"ssl_cert\",\"/tmp/cacert_joyan/joyan_signed_certificate\"],[\"ssl_key\",\"/tmp/cacert_joyan/key.pem\"],[\"ssl_key_pwd\",\"!{hfebiKYautvtaUam}!\"]]\n",
       "  loc_db_user = \n",
       "  loc_description = Kafka Test Location Created by Joyan\n",
       "}]"
      ]
     },
     "metadata": {},
     "output_type": "display_data"
    }
   ],
   "source": [
    "-- helper function to get \n",
    "ll =  filter (\\x ->  loc_class x  == \"kafka\" ) l\n",
    "lll =  filter (\\x ->  loc_class x  == \"kafka\" ) l\n",
    "map pretty    ll"
   ]
  },
  {
   "cell_type": "code",
   "execution_count": 9,
   "id": "29e8675c",
   "metadata": {
    "scrolled": true
   },
   "outputs": [],
   "source": [
    "--pretty $ l!!6\n",
    "--loc2Location (l!!6) \"_RED\" [\"db_user\",\"node_name\",\"node_instance\"]\n",
    "--loc2Location (l!!6) \"_RED\"  $ parseRedshift (l!!6)"
   ]
  },
  {
   "cell_type": "code",
   "execution_count": 10,
   "id": "69d71e0d",
   "metadata": {},
   "outputs": [],
   "source": [
    "--l6 =  l!!6\n",
    "--pretty l6\n",
    "--l6' = loc2Location l6 \"_RED\" [\"db_user\",\"node_name\",\"node_instance\"]\n",
    "--pretty l6'"
   ]
  },
  {
   "cell_type": "code",
   "execution_count": 10,
   "id": "f04526b4",
   "metadata": {
    "scrolled": false
   },
   "outputs": [],
   "source": [
    "l' = map  parseLoc l"
   ]
  },
  {
   "cell_type": "code",
   "execution_count": 19,
   "id": "0184bc9c",
   "metadata": {
    "scrolled": false
   },
   "outputs": [
    {
     "data": {
      "text/plain": [
       "[Location {\n",
       "  loc_class         = redshift\n",
       "   loc_name         = dsred\n",
       "   loc_directory    = \n",
       "   loc_remote_node  = 10.242.112.153\n",
       "   loc_remote_login = hvr2\n",
       "   loc_remote_port  = 9090\n",
       "   loc_db_user      = 502830612\n",
       "   loc_description  = Redshift data sharing cluster\n",
       "   db_node_name     = redshift-data-shared-poc.c8ziwm1qxh67.us-east-1.redshift.amazonaws.com\n",
       "   db_instance      = redshiftpocdb\n",
       "},Location {\n",
       "  loc_class         = redshift\n",
       "   loc_name         = redst\n",
       "   loc_directory    = \n",
       "   loc_remote_node  = 10.242.112.153\n",
       "   loc_remote_login = gehc_hvr\n",
       "   loc_remote_port  = 4343\n",
       "   loc_db_user      = redshiftuser\n",
       "   loc_description  = redshift development\n",
       "   db_node_name     = us-innovation-redshift.c8ziwm1qxh67.us-east-1.redshift.amazonaws.com\n",
       "   db_instance      = redshift_hvr\n",
       "},Location {\n",
       "  loc_class         = redshift\n",
       "   loc_name         = rdite\n",
       "   loc_directory    = \n",
       "   loc_remote_node  = 10.242.112.153\n",
       "   loc_remote_login = hvr2\n",
       "   loc_remote_port  = 9090\n",
       "   loc_db_user      = 504005930\n",
       "   loc_description  = gehc_data_itest\n",
       "   db_node_name     = us-innovation-redshift.c8ziwm1qxh67.us-east-1.redshift.amazonaws.com\n",
       "   db_instance      = gehc_data_itest\n",
       "},Location {\n",
       "  loc_class         = redshift\n",
       "   loc_name         = tgrds\n",
       "   loc_directory    = \n",
       "   loc_remote_node  = 10.242.112.153\n",
       "   loc_remote_login = hvr2\n",
       "   loc_remote_port  = 9090\n",
       "   loc_db_user      = 502830612\n",
       "   loc_description  = \n",
       "   db_node_name     = redshift-data-share-poc-etl-producer.c8ziwm1qxh67.us-east-1.redshift.amazonaws.com\n",
       "   db_instance      = redshiftpocdb\n",
       "},Location {\n",
       "  loc_class         = redshift\n",
       "   loc_name         = treds\n",
       "   loc_directory    = \n",
       "   loc_remote_node  = 10.242.109.235\n",
       "   loc_remote_login = gehc_redshift\n",
       "   loc_remote_port  = 8080\n",
       "   loc_db_user      = 502824279\n",
       "   loc_description  = Redshift-Nprod\n",
       "   db_node_name     = us-nprod-redshift-poc.cjvhsrduwbym.us-east-1.redshift.amazonaws.com\n",
       "   db_instance      = odpusprodredshiftdb\n",
       "},Location {\n",
       "  loc_class         = redshift\n",
       "   loc_name         = tredd\n",
       "   loc_directory    = \n",
       "   loc_remote_node  = 10.242.112.153\n",
       "   loc_remote_login = hvr2\n",
       "   loc_remote_port  = 8088\n",
       "   loc_db_user      = redshiftuser\n",
       "   loc_description  = Redshift DB-usinnovationredshift\n",
       "   db_node_name     = us-innovation-redshift.c8ziwm1qxh67.us-east-1.redshift.amazonaws.com\n",
       "   db_instance      = usinnovationredshift\n",
       "},Location {\n",
       "  loc_class         = redshift\n",
       "   loc_name         = trfnp\n",
       "   loc_directory    = \n",
       "   loc_remote_node  = \n",
       "   loc_remote_login = \n",
       "   loc_remote_port  = 0\n",
       "   loc_db_user      = 504004019\n",
       "   loc_description  = \n",
       "   db_node_name     = odp-fin-dev-etl-redshift.odp.health.ge.com\n",
       "   db_instance      = gehc_data\n",
       "},Location {\n",
       "  loc_class         = redshift\n",
       "   loc_name         = rdshi\n",
       "   loc_directory    = \n",
       "   loc_remote_node  = 10.242.112.153\n",
       "   loc_remote_login = hvr2\n",
       "   loc_remote_port  = 4343\n",
       "   loc_db_user      = 502835360\n",
       "   loc_description  = Redshift-Nprod-usinnovationredshiftdev\n",
       "   db_node_name     = us-innovation-redshift.c8ziwm1qxh67.us-east-1.redshift.amazonaws.com\n",
       "   db_instance      = usinnovationredshift\n",
       "},Location {\n",
       "  loc_class         = redshift\n",
       "   loc_name         = sredp\n",
       "   loc_directory    = \n",
       "   loc_remote_node  = 10.242.109.196\n",
       "   loc_remote_login = hvr\n",
       "   loc_remote_port  = 4343\n",
       "   loc_db_user      = 502835360\n",
       "   loc_description  = servicesuit-redshift prod\n",
       "   db_node_name     = us-prod-redshift.cjn5iynjwss7.us-east-1.redshift.amazonaws.com\n",
       "   db_instance      = gehc_data\n",
       "},Location {\n",
       "  loc_class         = redshift\n",
       "   loc_name         = trdp\n",
       "   loc_directory    = \n",
       "   loc_remote_node  = 10.242.109.196\n",
       "   loc_remote_login = hvr\n",
       "   loc_remote_port  = 4343\n",
       "   loc_db_user      = 504008218\n",
       "   loc_description  = new fsso connectonn- redshfit \n",
       "   db_node_name     = us-prod-etl-alpha-redshift.cjn5iynjwss7.us-east-1.redshift.amazonaws.com\n",
       "   db_instance      = gehc_data\n",
       "},Location {\n",
       "  loc_class         = redshift\n",
       "   loc_name         = trdpp\n",
       "   loc_directory    = \n",
       "   loc_remote_node  = 10.242.109.242\n",
       "   loc_remote_login = gehc_ops\n",
       "   loc_remote_port  = 8443\n",
       "   loc_db_user      = 504008218\n",
       "   loc_description  = alpha-redshift prod pool\n",
       "   db_node_name     = us-prod-etl-alpha-redshift.cjn5iynjwss7.us-east-1.redshift.amazonaws.com\n",
       "   db_instance      = gehc_data\n",
       "},Location {\n",
       "  loc_class         = redshift\n",
       "   loc_name         = tredp\n",
       "   loc_directory    = \n",
       "   loc_remote_node  = 10.242.109.196\n",
       "   loc_remote_login = hvr\n",
       "   loc_remote_port  = 4343\n",
       "   loc_db_user      = 504008218\n",
       "   loc_description  = alpha-redshift-prod\n",
       "   db_node_name     = us-prod-etl-alpha-redshift.cjn5iynjwss7.us-east-1.redshift.amazonaws.com\n",
       "   db_instance      = gehc_data\n",
       "},Location {\n",
       "  loc_class         = redshift\n",
       "   loc_name         = trsd\n",
       "   loc_directory    = \n",
       "   loc_remote_node  = 10.242.112.153\n",
       "   loc_remote_login = isc_dev\n",
       "   loc_remote_port  = 8443\n",
       "   loc_db_user      = 502835360\n",
       "   loc_description  = This is a test location created for writing to ODP redshift Dev\n",
       "   db_node_name     = us-innovation-redshift.c8ziwm1qxh67.us-east-1.redshift.amazonaws.com\n",
       "   db_instance      = usinnovationredshift\n",
       "},Location {\n",
       "  loc_class         = redshift\n",
       "   loc_name         = tgrd1\n",
       "   loc_directory    = \n",
       "   loc_remote_node  = 10.242.112.153\n",
       "   loc_remote_login = hvr2\n",
       "   loc_remote_port  = 9090\n",
       "   loc_db_user      = 502830612\n",
       "   loc_description  = \n",
       "   db_node_name     = redshift-data-share-poc-etl-producer.c8ziwm1qxh67.us-east-1.redshift.amazonaws.com\n",
       "   db_instance      = redshiftpocdb\n",
       "},Location {\n",
       "  loc_class         = redshift\n",
       "   loc_name         = tgrd2\n",
       "   loc_directory    = \n",
       "   loc_remote_node  = 10.242.112.153\n",
       "   loc_remote_login = hvr2\n",
       "   loc_remote_port  = 9090\n",
       "   loc_db_user      = 502830612\n",
       "   loc_description  = \n",
       "   db_node_name     = redshift-data-share-poc-etl-producer.c8ziwm1qxh67.us-east-1.redshift.amazonaws.com\n",
       "   db_instance      = redshiftpocdb\n",
       "}]"
      ]
     },
     "metadata": {},
     "output_type": "display_data"
    }
   ],
   "source": [
    " map pretty (filter (\\x ->  loc_class' x == \"redshift\" ) l' )"
   ]
  },
  {
   "cell_type": "code",
   "execution_count": null,
   "id": "0af3d02c",
   "metadata": {},
   "outputs": [],
   "source": []
  }
 ],
 "metadata": {
  "kernelspec": {
   "display_name": "Haskell",
   "language": "haskell",
   "name": "haskell"
  },
  "language_info": {
   "codemirror_mode": "ihaskell",
   "file_extension": ".hs",
   "mimetype": "text/x-haskell",
   "name": "haskell",
   "pygments_lexer": "Haskell",
   "version": "9.4.5"
  }
 },
 "nbformat": 4,
 "nbformat_minor": 5
}
