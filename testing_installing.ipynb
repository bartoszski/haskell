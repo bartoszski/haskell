{
 "cells": [
  {
   "cell_type": "code",
   "execution_count": 13,
   "id": "97fce0cb",
   "metadata": {},
   "outputs": [
    {
     "data": {
      "text/plain": [
       "Downloading the latest package list from hackage.haskell.org\n",
       "Package list of hackage.haskell.org has been updated.\n",
       "The index-state is set to 2023-07-24T06:34:55Z."
      ]
     },
     "metadata": {},
     "output_type": "display_data"
    }
   ],
   "source": [
    ":! cabal update"
   ]
  },
  {
   "cell_type": "code",
   "execution_count": 5,
   "id": "345c846a",
   "metadata": {},
   "outputs": [
    {
     "data": {
      "text/plain": [
       "Resolving dependencies...\n",
       "Build profile: -w ghc-9.2.7 -O1\n",
       "In order, the following will be built (use -v for more details):\n",
       " - csv-0.1.2 (lib:csv) (requires download & build)\n",
       "Downloading  csv-0.1.2\n",
       "Downloaded   csv-0.1.2\n",
       "Starting     csv-0.1.2 (all, legacy fallback)\n",
       "Building     csv-0.1.2 (all, legacy fallback)\n",
       "Installing   csv-0.1.2 (all, legacy fallback)\n",
       "Completed    csv-0.1.2 (all, legacy fallback)"
      ]
     },
     "metadata": {},
     "output_type": "display_data"
    }
   ],
   "source": [
    ":! cabal install --lib csv"
   ]
  },
  {
   "cell_type": "code",
   "execution_count": 5,
   "id": "9971d90f",
   "metadata": {},
   "outputs": [
    {
     "data": {
      "text/plain": [
       "1,2,3\r\n",
       "4,5,6"
      ]
     },
     "metadata": {},
     "output_type": "display_data"
    }
   ],
   "source": [
    ":! cat example.csv\n"
   ]
  },
  {
   "cell_type": "code",
   "execution_count": 1,
   "id": "39227af3",
   "metadata": {},
   "outputs": [
    {
     "data": {
      "text/plain": [
       "2023-07-24 08:16:28.522631877 UTC"
      ]
     },
     "metadata": {},
     "output_type": "display_data"
    }
   ],
   "source": [
    "import Data.Time\n",
    "getCurrentTime"
   ]
  },
  {
   "cell_type": "code",
   "execution_count": 2,
   "id": "1c388969",
   "metadata": {},
   "outputs": [
    {
     "data": {
      "text/plain": [
       "Random number: 4"
      ]
     },
     "metadata": {},
     "output_type": "display_data"
    },
    {
     "data": {
      "text/plain": [
       "Random float: 0.79156375"
      ]
     },
     "metadata": {},
     "output_type": "display_data"
    }
   ],
   "source": [
    "import System.Random\n",
    "\n",
    "\n",
    "-- Generate a random number between 1 and 10 (inclusive)\n",
    "randomNumber <- randomRIO (1, 10) :: IO Int\n",
    "putStrLn $ \"Random number: \" ++ show randomNumber\n",
    "\n",
    "-- Generate a random floating-point number between 0 and 1\n",
    "randomFloat <- randomIO :: IO Float\n",
    "putStrLn $ \"Random float: \" ++ show randomFloat\n"
   ]
  },
  {
   "cell_type": "code",
   "execution_count": null,
   "id": "634c7ded",
   "metadata": {},
   "outputs": [
    {
     "ename": "",
     "evalue": "",
     "output_type": "error",
     "traceback": [
      "<interactive>:1:1: error:\n    Could not find module ‘Text.CSV’\n    Use -v (or `:set -v` in ghci) to see a list of the files searched for."
     ]
    }
   ],
   "source": [
    "import Text.CSV\n",
    "\n",
    "-- Read the CSV file\n",
    "csvData <- parseCSVFromFile \"example.csv\"\n",
    "\n",
    "\n",
    "case csvData of\n",
    "    Left err -> putStrLn $ \"Error parsing CSV: \" ++ show err\n",
    "    Right rows -> do\n",
    "        -- Process the parsed CSV data here\n",
    "        print rows"
   ]
  },
  {
   "cell_type": "markdown",
   "id": "2d561478",
   "metadata": {},
   "source": [
    "-------------"
   ]
  },
  {
   "cell_type": "code",
   "execution_count": 3,
   "id": "1f83e184",
   "metadata": {},
   "outputs": [
    {
     "data": {
      "text/plain": [
       "Resolving dependencies...\n",
       "Build profile: -w ghc-9.2.7 -O1\n",
       "In order, the following will be built (use -v for more details):\n",
       " - data-accessor-0.2.3.1 (lib) (requires download & build)\n",
       " - temporary-1.3 (lib) (requires download & build)\n",
       " - utility-ht-0.0.17 (lib) (requires download & build)\n",
       " - data-accessor-transformers-0.2.1.8 (lib) (requires download & build)\n",
       " - gnuplot-0.5.7 (lib) (requires download & build)\n",
       "Downloading  utility-ht-0.0.17\n",
       "Downloaded   utility-ht-0.0.17\n",
       "Downloading  data-accessor-0.2.3.1\n",
       "Starting     utility-ht-0.0.17 (lib)\n",
       "Downloaded   data-accessor-0.2.3.1\n",
       "Downloading  data-accessor-transformers-0.2.1.8\n",
       "Starting     data-accessor-0.2.3.1 (lib)\n",
       "Downloaded   data-accessor-transformers-0.2.1.8\n",
       "Downloading  temporary-1.3\n",
       "Downloaded   temporary-1.3\n",
       "Downloading  gnuplot-0.5.7\n",
       "Starting     temporary-1.3 (lib)\n",
       "Downloaded   gnuplot-0.5.7\n",
       "Building     data-accessor-0.2.3.1 (lib)\n",
       "Building     utility-ht-0.0.17 (lib)\n",
       "Building     temporary-1.3 (lib)\n",
       "Installing   temporary-1.3 (lib)\n",
       "Completed    temporary-1.3 (lib)\n",
       "Installing   data-accessor-0.2.3.1 (lib)\n",
       "Completed    data-accessor-0.2.3.1 (lib)\n",
       "Starting     data-accessor-transformers-0.2.1.8 (lib)\n",
       "Building     data-accessor-transformers-0.2.1.8 (lib)\n",
       "Installing   data-accessor-transformers-0.2.1.8 (lib)\n",
       "Completed    data-accessor-transformers-0.2.1.8 (lib)\n",
       "Installing   utility-ht-0.0.17 (lib)\n",
       "Completed    utility-ht-0.0.17 (lib)\n",
       "Starting     gnuplot-0.5.7 (lib)\n",
       "Building     gnuplot-0.5.7 (lib)\n",
       "Installing   gnuplot-0.5.7 (lib)\n",
       "Completed    gnuplot-0.5.7 (lib)"
      ]
     },
     "metadata": {},
     "output_type": "display_data"
    }
   ],
   "source": [
    ":! cabal install --lib gnuplot"
   ]
  },
  {
   "cell_type": "code",
   "execution_count": 1,
   "id": "a3569891",
   "metadata": {},
   "outputs": [],
   "source": [
    "import Graphics.Gnuplot.Simple"
   ]
  },
  {
   "cell_type": "code",
   "execution_count": 2,
   "id": "bcd5a63f",
   "metadata": {},
   "outputs": [
    {
     "data": {
      "text/plain": [
       "[1.5,2.3,3.1,2.7,3.8,4.2,2.5,3.4,3.9,4.1,4.3,2.9,3.5]"
      ]
     },
     "metadata": {},
     "output_type": "display_data"
    }
   ],
   "source": [
    "dataPoints :: [Double]\n",
    "dataPoints = [1.5, 2.3, 3.1, 2.7, 3.8, 4.2, 2.5, 3.4, 3.9, 4.1, 4.3, 2.9, 3.5]\n",
    "\n",
    "dataPoints"
   ]
  },
  {
   "cell_type": "code",
   "execution_count": 19,
   "id": "327490c1",
   "metadata": {},
   "outputs": [
    {
     "ename": "",
     "evalue": "",
     "output_type": "error",
     "traceback": [
      "gnuplot: readCreateProcessWithExitCode: posix_spawnp: permission denied (Permission denied)"
     ]
    }
   ],
   "source": [
    "import Graphics.Gnuplot.Simple\n",
    "import qualified Graphics.Gnuplot.Terminal.SVG as SVG\n",
    "\n",
    "someFunc :: IO ()\n",
    "someFunc = putStrLn \"someFunc\"\n",
    "\n",
    "zs = [ (x,x) | x <- [1..10] ]\n",
    "plotList [Key Nothing\n",
    "         ,YRange (0,maximum (map snd zs) + 1)\n",
    "         ,XLabel \"Days since launch of Hackage\"\n",
    "         ,YLabel \"Unique uploads each day\"\n",
    "         ,Title \"Daily uploads (180 day moving average) to http://hackage.haskell.org\"\n",
    "         ,Custom \"grid\" []\n",
    "         -- ,SVG \"/tmp/hackage-daily-graph.svg\"\n",
    "         -- ,Custom \"terminal svg;set output \\\"/tmp/hackage-daily-graph.svg\\\"\"[]\n",
    "         , terminal (SVG.cons \"/tmp/output.svg\")\n",
    "         ,Custom \"style line\" [\"3\",\"lc\",\"3\",\"lw\",\"3\"]\n",
    "         ] (map snd zs)\n",
    "\n",
    "\n"
   ]
  },
  {
   "cell_type": "code",
   "execution_count": 22,
   "id": "693fae7c",
   "metadata": {},
   "outputs": [],
   "source": [
    "import Graphics.Gnuplot.Simple\n",
    "plotFunc [] (linearScale 1000 (-20,20)) (\\x -> sin x / x)\n"
   ]
  },
  {
   "cell_type": "markdown",
   "id": "814c2bb1",
   "metadata": {},
   "source": [
    "------------"
   ]
  },
  {
   "cell_type": "code",
   "execution_count": 21,
   "id": "bf10882c",
   "metadata": {},
   "outputs": [
    {
     "data": {
      "text/plain": []
     },
     "metadata": {},
     "output_type": "display_data"
    }
   ],
   "source": [
    "{-# LANGUAGE OverloadedStrings #-}\n",
    "\n",
    "import Database.PostgreSQL.Simple\n",
    "\n",
    "\n",
    "-- Connect using libpq strings\n",
    "conn <- connectPostgreSQL \"host='odp-us-innovation-postgres-db.cxzrm3enxxmy.us-east-1.rds.amazonaws.com' port=5432 user=odp_us_in_adm password=NLjgRpSVspGdITkSJPsTOBbwR dbname=ushvr12 \"\n"
   ]
  },
  {
   "cell_type": "code",
   "execution_count": 50,
   "id": "d5fcf694",
   "metadata": {},
   "outputs": [
    {
     "data": {
      "text/plain": [
       "Only {fromOnly = 4}"
      ]
     },
     "metadata": {},
     "output_type": "display_data"
    }
   ],
   "source": [
    "mapM_ print =<< (query_ conn \"SELECT 1 + 3\" :: IO [Only Int])"
   ]
  },
  {
   "cell_type": "code",
   "execution_count": 76,
   "id": "b71032c0",
   "metadata": {},
   "outputs": [
    {
     "data": {
      "text/plain": [
       "Only {fromOnly = 1}\n",
       "Only {fromOnly = 2}"
      ]
     },
     "metadata": {},
     "output_type": "display_data"
    }
   ],
   "source": [
    "mapM_ print =<< (query_ conn \"SELECT id from client2\" :: IO [Only Int])"
   ]
  },
  {
   "cell_type": "code",
   "execution_count": 79,
   "id": "96eb2b1e",
   "metadata": {},
   "outputs": [
    {
     "data": {
      "text/plain": [
       "Only {fromOnly = \"alek\"}\n",
       "Only {fromOnly = \"olek\"}"
      ]
     },
     "metadata": {},
     "output_type": "display_data"
    }
   ],
   "source": [
    "mapM_ print =<< (query_ conn \"SELECT name from client2\" :: IO [Only String])"
   ]
  },
  {
   "cell_type": "code",
   "execution_count": 100,
   "id": "42e41784",
   "metadata": {},
   "outputs": [
    {
     "ename": "",
     "evalue": "",
     "output_type": "error",
     "traceback": [
      "Parse error (line 1, column 87): Invalid type signature: query_\n                          conn \"insert into client2 (name, id) values ('Alexx', 32)\" :: ...\nShould be of form <variable> :: <type>"
     ]
    }
   ],
   "source": [
    "query_ conn \"insert into client2 (name, id) values ('Alexx', 32)\"  :: IO [Only String]) "
   ]
  },
  {
   "cell_type": "code",
   "execution_count": 103,
   "id": "20ecec41",
   "metadata": {},
   "outputs": [
    {
     "ename": "",
     "evalue": "",
     "output_type": "error",
     "traceback": [
      "<interactive>:1:1: error:\n    • No instance for (Show (Connection -> Int -> IO [Only String])) arising from a use of ‘print’\n        (maybe you haven't applied a function to enough arguments?)\n    • In a stmt of an interactive GHCi command: print it"
     ]
    }
   ],
   "source": [
    "retrieveClient"
   ]
  },
  {
   "cell_type": "code",
   "execution_count": 63,
   "id": "1aee8b87",
   "metadata": {},
   "outputs": [],
   "source": [
    "import Database.PostgreSQL.Simple.FromRow"
   ]
  },
  {
   "cell_type": "code",
   "execution_count": 64,
   "id": "61ba10ad",
   "metadata": {},
   "outputs": [],
   "source": [
    "data Client = Client { id :: Int, name :: String }\n",
    "  deriving (Show)"
   ]
  },
  {
   "cell_type": "code",
   "execution_count": 65,
   "id": "cf5e4132",
   "metadata": {},
   "outputs": [],
   "source": [
    "instance FromRow Client where\n",
    "  fromRow = Client <$> field <*> field"
   ]
  },
  {
   "cell_type": "code",
   "execution_count": 72,
   "id": "00024dc9",
   "metadata": {},
   "outputs": [
    {
     "data": {
      "text/html": [
       "<style>/* Styles used for the Hoogle display in the pager */\n",
       ".hoogle-doc {\n",
       "display: block;\n",
       "padding-bottom: 1.3em;\n",
       "padding-left: 0.4em;\n",
       "}\n",
       ".hoogle-code {\n",
       "display: block;\n",
       "font-family: monospace;\n",
       "white-space: pre;\n",
       "}\n",
       ".hoogle-text {\n",
       "display: block;\n",
       "}\n",
       ".hoogle-name {\n",
       "color: green;\n",
       "font-weight: bold;\n",
       "}\n",
       ".hoogle-head {\n",
       "font-weight: bold;\n",
       "}\n",
       ".hoogle-sub {\n",
       "display: block;\n",
       "margin-left: 0.4em;\n",
       "}\n",
       ".hoogle-package {\n",
       "font-weight: bold;\n",
       "font-style: italic;\n",
       "}\n",
       ".hoogle-module {\n",
       "font-weight: bold;\n",
       "}\n",
       ".hoogle-class {\n",
       "font-weight: bold;\n",
       "}\n",
       ".get-type {\n",
       "color: green;\n",
       "font-weight: bold;\n",
       "font-family: monospace;\n",
       "display: block;\n",
       "white-space: pre-wrap;\n",
       "}\n",
       ".show-type {\n",
       "color: green;\n",
       "font-weight: bold;\n",
       "font-family: monospace;\n",
       "margin-left: 1em;\n",
       "}\n",
       ".mono {\n",
       "font-family: monospace;\n",
       "display: block;\n",
       "}\n",
       ".err-msg {\n",
       "color: red;\n",
       "font-style: italic;\n",
       "font-family: monospace;\n",
       "white-space: pre;\n",
       "display: block;\n",
       "}\n",
       "#unshowable {\n",
       "color: red;\n",
       "font-weight: bold;\n",
       "}\n",
       ".err-msg.in.collapse {\n",
       "padding-top: 0.7em;\n",
       "}\n",
       ".highlight-code {\n",
       "white-space: pre;\n",
       "font-family: monospace;\n",
       "}\n",
       ".suggestion-warning { \n",
       "font-weight: bold;\n",
       "color: rgb(200, 130, 0);\n",
       "}\n",
       ".suggestion-error { \n",
       "font-weight: bold;\n",
       "color: red;\n",
       "}\n",
       ".suggestion-name {\n",
       "font-weight: bold;\n",
       "}\n",
       "</style><div class=\"suggestion-name\" style=\"clear:both;\">Redundant $</div><div class=\"suggestion-row\" style=\"float: left;\"><div class=\"suggestion-warning\">Found:</div><div class=\"highlight-code\" id=\"haskell\">query conn \"SELECT id, name FROM client2 WHERE id = 2\" $ (Only cid)</div></div><div class=\"suggestion-row\" style=\"float: left;\"><div class=\"suggestion-warning\">Why Not:</div><div class=\"highlight-code\" id=\"haskell\">query conn \"SELECT id, name FROM client2 WHERE id = 2\" (Only cid)</div></div><div class=\"suggestion-name\" style=\"clear:both;\">Redundant bracket</div><div class=\"suggestion-row\" style=\"float: left;\"><div class=\"suggestion-warning\">Found:</div><div class=\"highlight-code\" id=\"haskell\">query conn \"SELECT id, name FROM client2 WHERE id = 2\" $ (Only cid)</div></div><div class=\"suggestion-row\" style=\"float: left;\"><div class=\"suggestion-warning\">Why Not:</div><div class=\"highlight-code\" id=\"haskell\">query conn \"SELECT id, name FROM client2 WHERE id = 2\" $ Only cid</div></div>"
      ],
      "text/plain": [
       "Line 2: Redundant $\n",
       "Found:\n",
       "query conn \"SELECT id, name FROM client2 WHERE id = 2\" $ (Only cid)\n",
       "Why not:\n",
       "query conn \"SELECT id, name FROM client2 WHERE id = 2\" (Only cid)Line 2: Redundant bracket\n",
       "Found:\n",
       "query conn \"SELECT id, name FROM client2 WHERE id = 2\" $ (Only cid)\n",
       "Why not:\n",
       "query conn \"SELECT id, name FROM client2 WHERE id = 2\" $ Only cid"
      ]
     },
     "metadata": {},
     "output_type": "display_data"
    }
   ],
   "source": [
    "retrieveClient :: Connection -> Int -> IO [Client]\n",
    "retrieveClient conn cid = query conn \"SELECT id, name FROM client2 WHERE id = 2\" $ (Only cid)"
   ]
  },
  {
   "cell_type": "code",
   "execution_count": 71,
   "id": "1e614f70",
   "metadata": {},
   "outputs": [
    {
     "ename": "",
     "evalue": "",
     "output_type": "error",
     "traceback": [
      "SqlError {sqlState = \"42601\", sqlExecStatus = FatalError, sqlErrorMsg = \"syntax error at or near \\\"client2\\\"\", sqlErrorDetail = \"\", sqlErrorHint = \"\"}"
     ]
    }
   ],
   "source": [
    "mapM_ print =<< (query_ conn \"SELECT id form client2 \" :: IO [Only Int])"
   ]
  },
  {
   "cell_type": "code",
   "execution_count": 4,
   "id": "677389d1",
   "metadata": {},
   "outputs": [
    {
     "data": {
      "text/plain": [
       "Client {clientId = 1, clientName = \"alek\"}\n",
       "Client {clientId = 2, clientName = \"olek\"}\n",
       "Client {clientId = 31, clientName = \"Alex\"}\n",
       "Client {clientId = 32, clientName = \"Alexx\"}"
      ]
     },
     "metadata": {},
     "output_type": "display_data"
    }
   ],
   "source": [
    "{-# LANGUAGE DeriveGeneric #-}\n",
    "{-# LANGUAGE OverloadedStrings #-}\n",
    "\n",
    "import GHC.Generics\n",
    "import Database.PostgreSQL.Simple\n",
    "import Database.PostgreSQL.Simple.FromRow\n",
    "import Data.Text (Text, unpack)\n",
    "import qualified Data.Text as T\n",
    "\n",
    "data Client = Client\n",
    "  { clientId :: Int\n",
    "  , clientName :: Text\n",
    "  } deriving (Show, Generic)\n",
    "\n",
    "instance FromRow Client where\n",
    "  fromRow = Client <$> field <*> field\n",
    "\n",
    "-- Connect to the PostgreSQL database\n",
    "connectInfo :: ConnectInfo\n",
    "connectInfo = defaultConnectInfo\n",
    "  { connectHost = \"odp-us-innovation-postgres-db.cxzrm3enxxmy.us-east-1.rds.amazonaws.com\"\n",
    "  , connectPort = 5432\n",
    "  , connectUser = \"odp_us_in_adm\"\n",
    "  , connectPassword = \"NLjgRpSVspGdITkSJPsTOBbwR\"\n",
    "  , connectDatabase = \"ushvr12\"\n",
    "  }\n",
    "\n",
    "withConnection :: (Connection -> IO a) -> IO a\n",
    "withConnection action = do\n",
    "  conn <- connect connectInfo\n",
    "  action conn\n",
    "\n",
    "-- Perform SELECT query to fetch clients from the database\n",
    "getClients :: IO [Client]\n",
    "getClients = withConnection $ \\conn -> query_ conn \"SELECT id, name FROM client2\"\n",
    "\n",
    "\n",
    "clients <- getClients\n",
    "mapM_ print clients\n"
   ]
  },
  {
   "cell_type": "code",
   "execution_count": 6,
   "id": "bc6f8245",
   "metadata": {},
   "outputs": [
    {
     "data": {
      "text/plain": []
     },
     "metadata": {},
     "output_type": "display_data"
    }
   ],
   "source": [
    "clients <- getClients\n"
   ]
  },
  {
   "cell_type": "code",
   "execution_count": 31,
   "id": "cc47317a",
   "metadata": {},
   "outputs": [
    {
     "data": {
      "text/plain": [
       "[(1,\"alek\"),(2,\"olek\"),(31,\"Alex\"),(32,\"Alexx\")]"
      ]
     },
     "metadata": {},
     "output_type": "display_data"
    }
   ],
   "source": [
    "-- Function to extract a list of clientId values\n",
    "getClientIds :: [Client] -> [Int]\n",
    "getClientIds = map clientId\n",
    "\n",
    "getclientName :: [Client] -> [Text]\n",
    "getclientName = map clientName\n",
    "\n",
    "let a = getClientIds clients \n",
    "let b = getclientName clients  \n",
    "\n",
    "zip a b"
   ]
  },
  {
   "cell_type": "code",
   "execution_count": 37,
   "id": "436cf0fd",
   "metadata": {},
   "outputs": [
    {
     "data": {
      "text/plain": [
       "The following commands are available:\n",
       "    :extension <Extension>    -  Enable a GHC extension.\n",
       "    :extension No<Extension>  -  Disable a GHC extension.\n",
       "    :type <expression>        -  Print expression type.\n",
       "    :info <name>              -  Print all info for a name.\n",
       "    :hoogle <query>           -  Search for a query on Hoogle.\n",
       "    :doc <ident>              -  Get documentation for an identifier via Hoogle.\n",
       "    :set -XFlag -Wall         -  Set an option (like ghci).\n",
       "    :option <opt>             -  Set an option.\n",
       "    :option no-<opt>          -  Unset an option.\n",
       "    :?, :help                 -  Show this help text.\n",
       "    :sprint <value>           -  Print a value without forcing evaluation.\n",
       "\n",
       "Any prefix of the commands will also suffice, e.g. use :ty for :type.\n",
       "\n",
       "Options:\n",
       "  lint        – enable or disable linting.\n",
       "  svg         – use svg output (cannot be resized).\n",
       "  show-types  – show types of all bound names\n",
       "  show-errors – display Show instance missing errors normally.\n",
       "  pager       – use the pager to display results of :info, :doc, :hoogle, etc."
      ]
     },
     "metadata": {},
     "output_type": "display_data"
    }
   ],
   "source": [
    ":? zip"
   ]
  },
  {
   "cell_type": "code",
   "execution_count": 43,
   "id": "37264fc9",
   "metadata": {},
   "outputs": [
    {
     "data": {},
     "metadata": {},
     "output_type": "display_data"
    }
   ],
   "source": [
    ":hoogle  zip"
   ]
  },
  {
   "cell_type": "code",
   "execution_count": 49,
   "id": "e3721e5b",
   "metadata": {},
   "outputs": [
    {
     "data": {},
     "metadata": {},
     "output_type": "display_data"
    }
   ],
   "source": [
    ":info a"
   ]
  },
  {
   "cell_type": "code",
   "execution_count": 46,
   "id": "94d0a11e",
   "metadata": {},
   "outputs": [
    {
     "data": {
      "text/plain": [
       "[1,2,31,32]"
      ]
     },
     "metadata": {},
     "output_type": "display_data"
    }
   ],
   "source": [
    "a"
   ]
  },
  {
   "cell_type": "code",
   "execution_count": null,
   "id": "cd387be3",
   "metadata": {},
   "outputs": [
    {
     "data": {
      "text/plain": [
       "E: Could not open lock file /var/lib/dpkg/lock-frontend - open (13: Permission denied)\n",
       "E: Unable to acquire the dpkg frontend lock (/var/lib/dpkg/lock-frontend), are you root?\n",
       "\n",
       "Process exited with error code 100"
      ]
     },
     "metadata": {},
     "output_type": "display_data"
    }
   ],
   "source": [
    ":! apt-get install ca-certificates"
   ]
  }
 ],
 "metadata": {
  "kernelspec": {
   "display_name": "Haskell",
   "language": "haskell",
   "name": "haskell"
  },
  "language_info": {
   "codemirror_mode": "ihaskell",
   "file_extension": ".hs",
   "mimetype": "text/x-haskell",
   "name": "haskell",
   "pygments_lexer": "Haskell",
   "version": "9.2.7"
  }
 },
 "nbformat": 4,
 "nbformat_minor": 5
}
