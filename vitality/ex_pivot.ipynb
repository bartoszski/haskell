{
 "cells": [
  {
   "cell_type": "code",
   "execution_count": 1,
   "id": "8d127724",
   "metadata": {},
   "outputs": [
    {
     "data": {
      "text/plain": [
       "(\"A\",\"Jan\",370)\n",
       "(\"B\",\"Jan\",450)"
      ]
     },
     "metadata": {},
     "output_type": "display_data"
    }
   ],
   "source": [
    "import Data.List (groupBy, sortOn)\n",
    "import Data.Function (on)\n",
    "\n",
    "-- Sample data\n",
    "data Record = Record { category :: String, month :: String, value :: Int } deriving (Show)\n",
    "\n",
    "records :: [Record]\n",
    "records = [Record \"A\" \"Jan\" 100,\n",
    "           Record \"B\" \"Jan\" 200,\n",
    "           Record \"A\" \"Feb\" 150,\n",
    "           Record \"B\" \"Feb\" 250,\n",
    "           Record \"A\" \"Jan\" 120]\n",
    "\n",
    "-- Function to group records by category and month\n",
    "groupByCategoryAndMonth :: [Record] -> [[Record]]\n",
    "groupByCategoryAndMonth = groupBy ((==) `on` category) . sortOn category\n",
    "\n",
    "-- Function to calculate the sum of values for each category-month combination\n",
    "calculateSum :: [Record] -> (String, String, Int)\n",
    "calculateSum rs = (category (head rs), month (head rs), sum (map value rs))\n",
    "\n",
    "-- Function to create the pivot table\n",
    "createPivotTable :: [Record] -> [(String, String, Int)]\n",
    "createPivotTable = map calculateSum . groupByCategoryAndMonth\n",
    "\n",
    "\n",
    "let pivotTable = createPivotTable records\n",
    "mapM_ print pivotTable"
   ]
  },
  {
   "cell_type": "code",
   "execution_count": null,
   "id": "3fbf6b48",
   "metadata": {},
   "outputs": [],
   "source": []
  },
  {
   "cell_type": "code",
   "execution_count": 31,
   "id": "33194c7f",
   "metadata": {},
   "outputs": [
    {
     "data": {
      "text/html": [
       "<style>/* Styles used for the Hoogle display in the pager */\n",
       ".hoogle-doc {\n",
       "display: block;\n",
       "padding-bottom: 1.3em;\n",
       "padding-left: 0.4em;\n",
       "}\n",
       ".hoogle-code {\n",
       "display: block;\n",
       "font-family: monospace;\n",
       "white-space: pre;\n",
       "}\n",
       ".hoogle-text {\n",
       "display: block;\n",
       "}\n",
       ".hoogle-name {\n",
       "color: green;\n",
       "font-weight: bold;\n",
       "}\n",
       ".hoogle-head {\n",
       "font-weight: bold;\n",
       "}\n",
       ".hoogle-sub {\n",
       "display: block;\n",
       "margin-left: 0.4em;\n",
       "}\n",
       ".hoogle-package {\n",
       "font-weight: bold;\n",
       "font-style: italic;\n",
       "}\n",
       ".hoogle-module {\n",
       "font-weight: bold;\n",
       "}\n",
       ".hoogle-class {\n",
       "font-weight: bold;\n",
       "}\n",
       "\n",
       ".get-type {\n",
       "color: green;\n",
       "font-weight: bold;\n",
       "font-family: monospace;\n",
       "display: block;\n",
       "white-space: pre-wrap;\n",
       "}\n",
       ".show-type {\n",
       "color: green;\n",
       "font-weight: bold;\n",
       "font-family: monospace;\n",
       "margin-left: 1em;\n",
       "}\n",
       ".mono {\n",
       "font-family: monospace;\n",
       "display: block;\n",
       "}\n",
       ".err-msg {\n",
       "color: red;\n",
       "font-style: italic;\n",
       "font-family: monospace;\n",
       "white-space: pre;\n",
       "display: block;\n",
       "}\n",
       "#unshowable {\n",
       "color: red;\n",
       "font-weight: bold;\n",
       "}\n",
       ".err-msg.in.collapse {\n",
       "padding-top: 0.7em;\n",
       "}\n",
       "\n",
       ".highlight-code {\n",
       "white-space: pre;\n",
       "font-family: monospace;\n",
       "}\n",
       "\n",
       ".suggestion-warning { \n",
       "font-weight: bold;\n",
       "color: rgb(200, 130, 0);\n",
       "}\n",
       ".suggestion-error { \n",
       "font-weight: bold;\n",
       "color: red;\n",
       "}\n",
       ".suggestion-name {\n",
       "font-weight: bold;\n",
       "}\n",
       "\n",
       "</style><div class=\"suggestion-name\" style=\"clear:both;\">Redundant bracket</div><div class=\"suggestion-row\" style=\"float: left;\"><div class=\"suggestion-warning\">Found:</div><div class=\"highlight-code\" id=\"haskell\">((groupBy ((==) `on` category) . sortOn category . sortOn month)\n",
       "   records)\n",
       "  !! 1</div></div><div class=\"suggestion-row\" style=\"float: left;\"><div class=\"suggestion-warning\">Why Not:</div><div class=\"highlight-code\" id=\"haskell\">(groupBy ((==) `on` category) . sortOn category . sortOn month)\n",
       "  records\n",
       "  !! 1</div></div>"
      ],
      "text/plain": [
       "Line 1: Redundant bracket\n",
       "Found:\n",
       "((groupBy ((==) `on` category) . sortOn category . sortOn month)\n",
       "   records)\n",
       "  !! 1\n",
       "Why not:\n",
       "(groupBy ((==) `on` category) . sortOn category . sortOn month)\n",
       "  records\n",
       "  !! 1"
      ]
     },
     "metadata": {},
     "output_type": "display_data"
    },
    {
     "data": {
      "text/plain": [
       "[Record {category = \"B\", month = \"Feb\", value = 250},Record {category = \"B\", month = \"Jan\", value = 200}]"
      ]
     },
     "metadata": {},
     "output_type": "display_data"
    }
   ],
   "source": [
    "((groupBy ((==) `on` category) . sortOn category . sortOn month ) records)!! 1"
   ]
  },
  {
   "cell_type": "code",
   "execution_count": 32,
   "id": "c2ada9f1",
   "metadata": {},
   "outputs": [
    {
     "data": {
      "text/html": [
       "<style>/* Styles used for the Hoogle display in the pager */\n",
       ".hoogle-doc {\n",
       "display: block;\n",
       "padding-bottom: 1.3em;\n",
       "padding-left: 0.4em;\n",
       "}\n",
       ".hoogle-code {\n",
       "display: block;\n",
       "font-family: monospace;\n",
       "white-space: pre;\n",
       "}\n",
       ".hoogle-text {\n",
       "display: block;\n",
       "}\n",
       ".hoogle-name {\n",
       "color: green;\n",
       "font-weight: bold;\n",
       "}\n",
       ".hoogle-head {\n",
       "font-weight: bold;\n",
       "}\n",
       ".hoogle-sub {\n",
       "display: block;\n",
       "margin-left: 0.4em;\n",
       "}\n",
       ".hoogle-package {\n",
       "font-weight: bold;\n",
       "font-style: italic;\n",
       "}\n",
       ".hoogle-module {\n",
       "font-weight: bold;\n",
       "}\n",
       ".hoogle-class {\n",
       "font-weight: bold;\n",
       "}\n",
       "\n",
       ".get-type {\n",
       "color: green;\n",
       "font-weight: bold;\n",
       "font-family: monospace;\n",
       "display: block;\n",
       "white-space: pre-wrap;\n",
       "}\n",
       ".show-type {\n",
       "color: green;\n",
       "font-weight: bold;\n",
       "font-family: monospace;\n",
       "margin-left: 1em;\n",
       "}\n",
       ".mono {\n",
       "font-family: monospace;\n",
       "display: block;\n",
       "}\n",
       ".err-msg {\n",
       "color: red;\n",
       "font-style: italic;\n",
       "font-family: monospace;\n",
       "white-space: pre;\n",
       "display: block;\n",
       "}\n",
       "#unshowable {\n",
       "color: red;\n",
       "font-weight: bold;\n",
       "}\n",
       ".err-msg.in.collapse {\n",
       "padding-top: 0.7em;\n",
       "}\n",
       "\n",
       ".highlight-code {\n",
       "white-space: pre;\n",
       "font-family: monospace;\n",
       "}\n",
       "\n",
       ".suggestion-warning { \n",
       "font-weight: bold;\n",
       "color: rgb(200, 130, 0);\n",
       "}\n",
       ".suggestion-error { \n",
       "font-weight: bold;\n",
       "color: red;\n",
       "}\n",
       ".suggestion-name {\n",
       "font-weight: bold;\n",
       "}\n",
       "\n",
       "</style><div class=\"suggestion-name\" style=\"clear:both;\">Redundant bracket</div><div class=\"suggestion-row\" style=\"float: left;\"><div class=\"suggestion-warning\">Found:</div><div class=\"highlight-code\" id=\"haskell\">((groupBy ((==) `on` category) . sortOn category) records) !! 1</div></div><div class=\"suggestion-row\" style=\"float: left;\"><div class=\"suggestion-warning\">Why Not:</div><div class=\"highlight-code\" id=\"haskell\">(groupBy ((==) `on` category) . sortOn category) records !! 1</div></div>"
      ],
      "text/plain": [
       "Line 1: Redundant bracket\n",
       "Found:\n",
       "((groupBy ((==) `on` category) . sortOn category) records) !! 1\n",
       "Why not:\n",
       "(groupBy ((==) `on` category) . sortOn category) records !! 1"
      ]
     },
     "metadata": {},
     "output_type": "display_data"
    },
    {
     "data": {
      "text/plain": [
       "[Record {category = \"B\", month = \"Jan\", value = 200},Record {category = \"B\", month = \"Feb\", value = 250}]"
      ]
     },
     "metadata": {},
     "output_type": "display_data"
    }
   ],
   "source": [
    "(( groupBy ((==) `on` category) . sortOn category ) records) !! 1"
   ]
  },
  {
   "cell_type": "code",
   "execution_count": 21,
   "id": "02a6a854",
   "metadata": {},
   "outputs": [
    {
     "data": {
      "text/plain": [
       "[[Record {category = \"A\", month = \"Jan\", value = 100},Record {category = \"A\", month = \"Feb\", value = 150},Record {category = \"A\", month = \"Jan\", value = 120}],[Record {category = \"B\", month = \"Jan\", value = 200},Record {category = \"B\", month = \"Feb\", value = 250}]]"
      ]
     },
     "metadata": {},
     "output_type": "display_data"
    }
   ],
   "source": [
    "groupByCategoryAndMonth records"
   ]
  },
  {
   "cell_type": "code",
   "execution_count": 15,
   "id": "5c2ad1d1",
   "metadata": {},
   "outputs": [
    {
     "data": {
      "text/html": [
       "<style>/* Styles used for the Hoogle display in the pager */\n",
       ".hoogle-doc {\n",
       "display: block;\n",
       "padding-bottom: 1.3em;\n",
       "padding-left: 0.4em;\n",
       "}\n",
       ".hoogle-code {\n",
       "display: block;\n",
       "font-family: monospace;\n",
       "white-space: pre;\n",
       "}\n",
       ".hoogle-text {\n",
       "display: block;\n",
       "}\n",
       ".hoogle-name {\n",
       "color: green;\n",
       "font-weight: bold;\n",
       "}\n",
       ".hoogle-head {\n",
       "font-weight: bold;\n",
       "}\n",
       ".hoogle-sub {\n",
       "display: block;\n",
       "margin-left: 0.4em;\n",
       "}\n",
       ".hoogle-package {\n",
       "font-weight: bold;\n",
       "font-style: italic;\n",
       "}\n",
       ".hoogle-module {\n",
       "font-weight: bold;\n",
       "}\n",
       ".hoogle-class {\n",
       "font-weight: bold;\n",
       "}\n",
       "\n",
       ".get-type {\n",
       "color: green;\n",
       "font-weight: bold;\n",
       "font-family: monospace;\n",
       "display: block;\n",
       "white-space: pre-wrap;\n",
       "}\n",
       ".show-type {\n",
       "color: green;\n",
       "font-weight: bold;\n",
       "font-family: monospace;\n",
       "margin-left: 1em;\n",
       "}\n",
       ".mono {\n",
       "font-family: monospace;\n",
       "display: block;\n",
       "}\n",
       ".err-msg {\n",
       "color: red;\n",
       "font-style: italic;\n",
       "font-family: monospace;\n",
       "white-space: pre;\n",
       "display: block;\n",
       "}\n",
       "#unshowable {\n",
       "color: red;\n",
       "font-weight: bold;\n",
       "}\n",
       ".err-msg.in.collapse {\n",
       "padding-top: 0.7em;\n",
       "}\n",
       "\n",
       ".highlight-code {\n",
       "white-space: pre;\n",
       "font-family: monospace;\n",
       "}\n",
       "\n",
       ".suggestion-warning { \n",
       "font-weight: bold;\n",
       "color: rgb(200, 130, 0);\n",
       "}\n",
       ".suggestion-error { \n",
       "font-weight: bold;\n",
       "color: red;\n",
       "}\n",
       ".suggestion-name {\n",
       "font-weight: bold;\n",
       "}\n",
       "\n",
       "</style><div class=\"suggestion-name\" style=\"clear:both;\">Eta reduce</div><div class=\"suggestion-row\" style=\"float: left;\"><div class=\"suggestion-warning\">Found:</div><div class=\"highlight-code\" id=\"haskell\">prettyPrintRecords records\n",
       "  = mapM_ (putStrLn . formatRecord) records</div></div><div class=\"suggestion-row\" style=\"float: left;\"><div class=\"suggestion-warning\">Why Not:</div><div class=\"highlight-code\" id=\"haskell\">prettyPrintRecords = mapM_ (putStrLn . formatRecord)</div></div>"
      ],
      "text/plain": [
       "Line 9: Eta reduce\n",
       "Found:\n",
       "prettyPrintRecords records\n",
       "  = mapM_ (putStrLn . formatRecord) records\n",
       "Why not:\n",
       "prettyPrintRecords = mapM_ (putStrLn . formatRecord)"
      ]
     },
     "metadata": {},
     "output_type": "display_data"
    },
    {
     "data": {
      "text/plain": [
       "Name: A    Month: Jan  Value:  100\n",
       "Name: B    Month: Jan  Value:  200\n",
       "Name: A    Month: Feb  Value:  150\n",
       "Name: B    Month: Feb  Value:  250\n",
       "Name: A    Month: Jan  Value:  120"
      ]
     },
     "metadata": {},
     "output_type": "display_data"
    }
   ],
   "source": [
    "import Text.Printf\n",
    "\n",
    "-- Define a custom function to format a single record\n",
    "formatRecord :: Record -> String\n",
    "formatRecord (Record n m v) = printf \"Name: %-4s Month: %-4s Value: %4d\" n m v\n",
    "\n",
    "-- Define a function to pretty-print a list of records\n",
    "prettyPrintRecords :: [Record] -> IO ()\n",
    "prettyPrintRecords records = mapM_ (putStrLn . formatRecord) records\n",
    "\n",
    "prettyPrintRecords records\n"
   ]
  },
  {
   "cell_type": "code",
   "execution_count": 34,
   "id": "44e9f68f",
   "metadata": {},
   "outputs": [
    {
     "data": {
      "text/html": [
       "<style>/* Styles used for the Hoogle display in the pager */\n",
       ".hoogle-doc {\n",
       "display: block;\n",
       "padding-bottom: 1.3em;\n",
       "padding-left: 0.4em;\n",
       "}\n",
       ".hoogle-code {\n",
       "display: block;\n",
       "font-family: monospace;\n",
       "white-space: pre;\n",
       "}\n",
       ".hoogle-text {\n",
       "display: block;\n",
       "}\n",
       ".hoogle-name {\n",
       "color: green;\n",
       "font-weight: bold;\n",
       "}\n",
       ".hoogle-head {\n",
       "font-weight: bold;\n",
       "}\n",
       ".hoogle-sub {\n",
       "display: block;\n",
       "margin-left: 0.4em;\n",
       "}\n",
       ".hoogle-package {\n",
       "font-weight: bold;\n",
       "font-style: italic;\n",
       "}\n",
       ".hoogle-module {\n",
       "font-weight: bold;\n",
       "}\n",
       ".hoogle-class {\n",
       "font-weight: bold;\n",
       "}\n",
       "\n",
       ".get-type {\n",
       "color: green;\n",
       "font-weight: bold;\n",
       "font-family: monospace;\n",
       "display: block;\n",
       "white-space: pre-wrap;\n",
       "}\n",
       ".show-type {\n",
       "color: green;\n",
       "font-weight: bold;\n",
       "font-family: monospace;\n",
       "margin-left: 1em;\n",
       "}\n",
       ".mono {\n",
       "font-family: monospace;\n",
       "display: block;\n",
       "}\n",
       ".err-msg {\n",
       "color: red;\n",
       "font-style: italic;\n",
       "font-family: monospace;\n",
       "white-space: pre;\n",
       "display: block;\n",
       "}\n",
       "#unshowable {\n",
       "color: red;\n",
       "font-weight: bold;\n",
       "}\n",
       ".err-msg.in.collapse {\n",
       "padding-top: 0.7em;\n",
       "}\n",
       "\n",
       ".highlight-code {\n",
       "white-space: pre;\n",
       "font-family: monospace;\n",
       "}\n",
       "\n",
       ".suggestion-warning { \n",
       "font-weight: bold;\n",
       "color: rgb(200, 130, 0);\n",
       "}\n",
       ".suggestion-error { \n",
       "font-weight: bold;\n",
       "color: red;\n",
       "}\n",
       ".suggestion-name {\n",
       "font-weight: bold;\n",
       "}\n",
       "\n",
       "</style><div class=\"suggestion-name\" style=\"clear:both;\">Redundant $</div><div class=\"suggestion-row\" style=\"float: left;\"><div class=\"suggestion-warning\">Found:</div><div class=\"highlight-code\" id=\"haskell\">html $ htmlTableString</div></div><div class=\"suggestion-row\" style=\"float: left;\"><div class=\"suggestion-warning\">Why Not:</div><div class=\"highlight-code\" id=\"haskell\">html htmlTableString</div></div>"
      ],
      "text/plain": [
       "Line 23: Redundant $\n",
       "Found:\n",
       "html $ htmlTableString\n",
       "Why not:\n",
       "html htmlTableString"
      ]
     },
     "metadata": {},
     "output_type": "display_data"
    },
    {
     "ename": "",
     "evalue": "",
     "output_type": "error",
     "traceback": [
      "<interactive>:1:1: error:\n    Could not find module ‘IHaskell.Display’\n    Use -v (or `:set -v` in ghci) to see a list of the files searched for."
     ]
    }
   ],
   "source": [
    "import IHaskell.Display\n",
    "\n",
    "-- Define a function to generate an HTML table as a string\n",
    "generateHTMLTable :: [[String]] -> String\n",
    "generateHTMLTable rows = unlines $\n",
    "  [\"<table style='border-collapse: collapse;'>\"] ++\n",
    "  [\"<tr>\" ++ concat [\"<th style='border: 1px solid black;'>\" ++ cell ++ \"</th>\" | cell <- row] ++ \"</tr>\" | row <- rows] ++\n",
    "  [\"</table>\"]\n",
    "\n",
    "-- Create some example data for the table\n",
    "tableData :: [[String]]\n",
    "tableData =\n",
    "  [ [\"Name\", \"Age\", \"City\"]\n",
    "  , [\"John\", \"30\", \"New York\"]\n",
    "  , [\"Alice\", \"25\", \"Los Angeles\"]\n",
    "  , [\"Bob\", \"35\", \"Chicago\"]\n",
    "  ]\n",
    "\n",
    "-- Generate the HTML table as a string\n",
    "htmlTableString = generateHTMLTable tableData\n",
    "\n",
    "-- Display the HTML table using IHaskell\n",
    "htmlTableDisplay = html $ htmlTableString\n",
    "\n",
    "htmlTableDisplay\n"
   ]
  },
  {
   "cell_type": "code",
   "execution_count": 35,
   "id": "19b49289",
   "metadata": {},
   "outputs": [
    {
     "ename": "",
     "evalue": "",
     "output_type": "error",
     "traceback": [
      "<interactive>:1:1: error:\n    Could not find module ‘IHaskell.Display.Widgets’\n    Use -v (or `:set -v` in ghci) to see a list of the files searched for."
     ]
    }
   ],
   "source": [
    "import IHaskell.Display.Widgets\n",
    "\n",
    "-- Define a function to generate an HTML table as a string\n",
    "generateHTMLTable :: [[String]] -> String\n",
    "generateHTMLTable rows = unlines $\n",
    "  [\"<table style='border-collapse: collapse;'>\"] ++\n",
    "  [\"<tr>\" ++ concat [\"<th style='border: 1px solid black;'>\" ++ cell ++ \"</th>\" | cell <- row] ++ \"</tr>\" | row <- rows] ++\n",
    "  [\"</table>\"]\n",
    "\n",
    "-- Create some example data for the table\n",
    "tableData :: [[String]]\n",
    "tableData =\n",
    "  [ [\"Name\", \"Age\", \"City\"]\n",
    "  , [\"John\", \"30\", \"New York\"]\n",
    "  , [\"Alice\", \"25\", \"Los Angeles\"]\n",
    "  , [\"Bob\", \"35\", \"Chicago\"]\n",
    "  ]\n",
    "\n",
    "-- Generate the HTML table as a string\n",
    "htmlTableString = generateHTMLTable tableData\n",
    "\n",
    "-- Create an HTML widget\n",
    "htmlWidget = html htmlTableString\n",
    "\n",
    "-- Display the HTML widget\n",
    "htmlWidget\n"
   ]
  },
  {
   "cell_type": "code",
   "execution_count": 2,
   "id": "13c81fbe",
   "metadata": {},
   "outputs": [
    {
     "data": {
      "text/plain": [
       "  IP: 10.229.2.236, Port: 8080\n",
       "  IP: 10.242.109.196, Port: 4343\n",
       "  IP: 10.242.112.153, Port: 9090"
      ]
     },
     "metadata": {},
     "output_type": "display_data"
    }
   ],
   "source": [
    "import Data.Text.Prettyprint.Doc\n",
    "\n",
    "-- Your list of lists\n",
    "ipPortList :: [[String]]\n",
    "ipPortList =\n",
    "  [ [\"10.229.2.236\", \"8080\"]\n",
    "  , [\"10.242.109.196\", \"4343\"]\n",
    "  , [\"10.242.112.153\", \"9090\"]\n",
    "  ]\n",
    "\n",
    "-- Pretty-print with custom indentation\n",
    "prettyPrintList :: [[String]] -> Doc ann\n",
    "prettyPrintList xs =\n",
    "  vsep $ map (\\[ip, port] -> indent 2 (pretty (\"IP: \" ++ ip ++ \", Port: \" ++ port))) xs\n",
    "\n",
    "prettyPrintList ipPortList\n"
   ]
  },
  {
   "cell_type": "code",
   "execution_count": 6,
   "id": "bb1dd0de",
   "metadata": {},
   "outputs": [
    {
     "data": {
      "text/plain": [
       "Resolving dependencies...\n",
       "Up to date"
      ]
     },
     "metadata": {},
     "output_type": "display_data"
    }
   ],
   "source": [
    ":!cabal install --lib pretty-simple"
   ]
  },
  {
   "cell_type": "code",
   "execution_count": 4,
   "id": "624b2aa1",
   "metadata": {},
   "outputs": [
    {
     "data": {
      "text/plain": [
       "Bar\n",
       "    { bar1 = 10.55\n",
       "    , bar2 =\n",
       "        [ Foo\n",
       "            { foo1 = 3\n",
       "            , foo2 =\n",
       "                [ \"hello\"\n",
       "                , \"goodbye\"\n",
       "                ]\n",
       "            }\n",
       "        , Foo\n",
       "            { foo1 = 3\n",
       "            , foo2 =\n",
       "                [ \"hello\"\n",
       "                , \"goodbye\"\n",
       "                ]\n",
       "            }\n",
       "        ]\n",
       "    }"
      ]
     },
     "metadata": {},
     "output_type": "display_data"
    }
   ],
   "source": [
    "import Text.Pretty.Simple (pPrint)\n",
    "data Foo = Foo { foo1 :: Integer , foo2 :: [String] } deriving Show\n",
    "\n",
    "foo :: Foo\n",
    "foo = Foo 3 [\"hello\", \"goodbye\"]\n",
    "\n",
    "data Bar = Bar { bar1 :: Double , bar2 :: [Foo] } deriving Show\n",
    "\n",
    "bar :: Bar\n",
    "bar = Bar 10.55 [foo, foo]\n",
    "\n",
    "pPrint bar"
   ]
  },
  {
   "cell_type": "code",
   "execution_count": 3,
   "id": "61097a71",
   "metadata": {},
   "outputs": [
    {
     "ename": "",
     "evalue": "",
     "output_type": "error",
     "traceback": [
      "<interactive>:1:1: error: Variable not in scope: pPrint :: Maybe (String, String) -> b"
     ]
    }
   ],
   "source": [
    "pPrint $ Just (\"hello\", \"goodbye\")"
   ]
  },
  {
   "cell_type": "code",
   "execution_count": 4,
   "id": "d38cce59",
   "metadata": {},
   "outputs": [
    {
     "data": {
      "text/html": [
       "<style>/* Styles used for the Hoogle display in the pager */\n",
       ".hoogle-doc {\n",
       "display: block;\n",
       "padding-bottom: 1.3em;\n",
       "padding-left: 0.4em;\n",
       "}\n",
       ".hoogle-code {\n",
       "display: block;\n",
       "font-family: monospace;\n",
       "white-space: pre;\n",
       "}\n",
       ".hoogle-text {\n",
       "display: block;\n",
       "}\n",
       ".hoogle-name {\n",
       "color: green;\n",
       "font-weight: bold;\n",
       "}\n",
       ".hoogle-head {\n",
       "font-weight: bold;\n",
       "}\n",
       ".hoogle-sub {\n",
       "display: block;\n",
       "margin-left: 0.4em;\n",
       "}\n",
       ".hoogle-package {\n",
       "font-weight: bold;\n",
       "font-style: italic;\n",
       "}\n",
       ".hoogle-module {\n",
       "font-weight: bold;\n",
       "}\n",
       ".hoogle-class {\n",
       "font-weight: bold;\n",
       "}\n",
       "\n",
       ".get-type {\n",
       "color: green;\n",
       "font-weight: bold;\n",
       "font-family: monospace;\n",
       "display: block;\n",
       "white-space: pre-wrap;\n",
       "}\n",
       ".show-type {\n",
       "color: green;\n",
       "font-weight: bold;\n",
       "font-family: monospace;\n",
       "margin-left: 1em;\n",
       "}\n",
       ".mono {\n",
       "font-family: monospace;\n",
       "display: block;\n",
       "}\n",
       ".err-msg {\n",
       "color: red;\n",
       "font-style: italic;\n",
       "font-family: monospace;\n",
       "white-space: pre;\n",
       "display: block;\n",
       "}\n",
       "#unshowable {\n",
       "color: red;\n",
       "font-weight: bold;\n",
       "}\n",
       ".err-msg.in.collapse {\n",
       "padding-top: 0.7em;\n",
       "}\n",
       "\n",
       ".highlight-code {\n",
       "white-space: pre;\n",
       "font-family: monospace;\n",
       "}\n",
       "\n",
       ".suggestion-warning { \n",
       "font-weight: bold;\n",
       "color: rgb(200, 130, 0);\n",
       "}\n",
       ".suggestion-error { \n",
       "font-weight: bold;\n",
       "color: red;\n",
       "}\n",
       ".suggestion-name {\n",
       "font-weight: bold;\n",
       "}\n",
       "\n",
       "</style><div class=\"suggestion-name\" style=\"clear:both;\">Avoid lambda</div><div class=\"suggestion-row\" style=\"float: left;\"><div class=\"suggestion-warning\">Found:</div><div class=\"highlight-code\" id=\"haskell\">\\ item -> indent 2 (pretty item)</div></div><div class=\"suggestion-row\" style=\"float: left;\"><div class=\"suggestion-warning\">Why Not:</div><div class=\"highlight-code\" id=\"haskell\">indent 2 . pretty</div></div>"
      ],
      "text/plain": [
       "Line 15: Avoid lambda\n",
       "Found:\n",
       "\\ item -> indent 2 (pretty item)\n",
       "Why not:\n",
       "indent 2 . pretty"
      ]
     },
     "metadata": {},
     "output_type": "display_data"
    },
    {
     "data": {
      "text/plain": [
       "  10.229.2.236\n",
       "  8080\n",
       "  10.242.109.196\n",
       "  4343\n",
       "  10.242.112.153\n",
       "  9090\n",
       "  10.1.2.3\n",
       "  12345\n",
       "  ExtraValue"
      ]
     },
     "metadata": {},
     "output_type": "display_data"
    }
   ],
   "source": [
    "import Data.Text.Prettyprint.Doc\n",
    "\n",
    "-- Your list of lists with varying sub-list lengths\n",
    "ipPortList :: [[String]]\n",
    "ipPortList =\n",
    "  [ [\"10.229.2.236\", \"8080\"]\n",
    "  , [\"10.242.109.196\", \"4343\"]\n",
    "  , [\"10.242.112.153\", \"9090\"]\n",
    "  , [\"10.1.2.3\", \"12345\", \"ExtraValue\"]\n",
    "  ]\n",
    "\n",
    "-- Function to pretty-print a single sublist with indentation\n",
    "prettyPrintSublist :: [String] -> Doc ann\n",
    "prettyPrintSublist xs =\n",
    "  vsep $ map (\\item -> indent 2 (pretty item)) xs\n",
    "\n",
    "-- Pretty-print the entire list with custom indentation\n",
    "prettyPrintList :: [[String]] -> Doc ann\n",
    "prettyPrintList xs = vsep (map prettyPrintSublist xs)\n",
    "\n",
    "prettyPrintList ipPortList\n"
   ]
  },
  {
   "cell_type": "code",
   "execution_count": 2,
   "id": "cc5e9b50",
   "metadata": {},
   "outputs": [
    {
     "ename": "",
     "evalue": "",
     "output_type": "error",
     "traceback": [
      "<interactive>:2:49: error:\n    • Couldn't match expected type ‘a’ with actual type ‘String’\n      ‘a’ is a rigid type variable bound by\n        the type signature for:\n          customOrder :: forall a. Ord a => (a -> a -> Ordering) -> [(String, a)] -> [(String, a)]\n        at <interactive>:1:1-78\n    • In the first argument of ‘cmp’, namely ‘x’\n      In the expression: cmp x y\n      In the first argument of ‘sortBy’, namely ‘(\\ (x, _) (y, _) -> cmp x y)’\n    • Relevant bindings include\n        cmp :: a -> a -> Ordering (bound at <interactive>:2:13)\n        customOrder :: (a -> a -> Ordering) -> [(String, a)] -> [(String, a)] (bound at <interactive>:2:1)"
     ]
    }
   ],
   "source": [
    "import Data.List (sortBy)\n",
    "--import Data.Ord (comparing)\n",
    "\n",
    "-- Define a custom lambda function to determine the order\n",
    "-- In this example, we'll order a list of tuples by the second element (index 1)\n",
    "customOrder :: Ord a => (a -> a -> Ordering) -> [(String, a)] -> [(String, a)]\n",
    "customOrder cmp = sortBy (\\(x, _) (y, _) -> cmp x y)\n",
    "\n",
    "\n",
    "let myList = [(\"Alice\", 30), (\"Bob\", 25), (\"Carol\", 35)]\n",
    "    \n",
    "    -- Order the list by the second element (age) in ascending order\n",
    "let orderedList = customOrder compare myList\n",
    "    \n",
    "print orderedList\n"
   ]
  },
  {
   "cell_type": "code",
   "execution_count": null,
   "id": "be4f2c7d",
   "metadata": {},
   "outputs": [],
   "source": [
    "https://hackage.haskell.org/package/pptable-0.2.0.0/candidate/docs/Text-PrettyPrint-Tabulate-Example.html"
   ]
  },
  {
   "cell_type": "markdown",
   "id": "2aba9f99",
   "metadata": {},
   "source": [
    "## pptable"
   ]
  },
  {
   "cell_type": "code",
   "execution_count": 3,
   "id": "ea0b19c9",
   "metadata": {},
   "outputs": [
    {
     "data": {
      "text/plain": [
       "Resolving dependencies...\n",
       "Up to date"
      ]
     },
     "metadata": {},
     "output_type": "display_data"
    }
   ],
   "source": [
    ":!cabal install --lib pretty"
   ]
  },
  {
   "cell_type": "code",
   "execution_count": null,
   "id": "6cc1cd36",
   "metadata": {},
   "outputs": [
    {
     "data": {
      "text/plain": [
       "Resolving dependencies...\n",
       "Build profile: -w ghc-9.4.5 -O1\n",
       "In order, the following will be built (use -v for more details):\n",
       " - boxes-0.1.5 (lib) (requires download & build)\n",
       " - generic-deriving-1.14.5 (lib) (requires download & build)\n",
       " - syb-0.7.2.4 (lib) (requires download & build)\n",
       " - pptable-0.3.0.0 (lib) (requires download & build)\n",
       "Downloading  boxes-0.1.5\n",
       "Downloaded   boxes-0.1.5\n",
       "Downloading  syb-0.7.2.4\n",
       "Starting     boxes-0.1.5 (lib)\n",
       "Downloaded   syb-0.7.2.4\n",
       "Downloading  generic-deriving-1.14.5\n",
       "Downloaded   generic-deriving-1.14.5\n",
       "Downloading  pptable-0.3.0.0\n",
       "Starting     generic-deriving-1.14.5 (lib)\n",
       "Downloaded   pptable-0.3.0.0\n",
       "Building     boxes-0.1.5 (lib)\n",
       "Building     generic-deriving-1.14.5 (lib)\n",
       "Installing   boxes-0.1.5 (lib)\n",
       "Completed    boxes-0.1.5 (lib)\n",
       "Starting     syb-0.7.2.4 (lib)\n",
       "Building     syb-0.7.2.4 (lib)\n",
       "Installing   syb-0.7.2.4 (lib)\n",
       "Completed    syb-0.7.2.4 (lib)\n",
       "Installing   generic-deriving-1.14.5 (lib)\n",
       "Completed    generic-deriving-1.14.5 (lib)\n",
       "Starting     pptable-0.3.0.0 (lib)\n",
       "Building     pptable-0.3.0.0 (lib)\n",
       "Installing   pptable-0.3.0.0 (lib)\n",
       "Completed    pptable-0.3.0.0 (lib)"
      ]
     },
     "metadata": {},
     "output_type": "display_data"
    },
    {
     "data": {
      "text/plain": [
       "Resolving dependencies...\n",
       "Up to date"
      ]
     },
     "metadata": {},
     "output_type": "display_data"
    },
    {
     "data": {
      "text/plain": [
       "Resolving dependencies...\n",
       "Up to date"
      ]
     },
     "metadata": {},
     "output_type": "display_data"
    }
   ],
   "source": [
    ":!cabal install --lib pptable\n",
    ":!cabal install --lib vector\n",
    ":!cabal install --lib pretty"
   ]
  },
  {
   "cell_type": "code",
   "execution_count": 7,
   "id": "ee22bf17",
   "metadata": {},
   "outputs": [],
   "source": [
    "{-# LANGUAGE MultiParamTypeClasses#-}\n",
    "{-# LANGUAGE DeriveGeneric #-}\n",
    "{-# LANGUAGE DeriveDataTypeable #-}\n",
    "\n",
    "import Text.PrettyPrint.Tabulate\n",
    "import qualified GHC.Generics as G\n",
    "import Data.Data\n",
    "\n",
    "import qualified Text.PrettyPrint.Tabulate as T\n",
    "\n",
    "import qualified Data.Map as Map\n",
    "import qualified Data.List as List\n",
    "import qualified Data.Vector as Vector"
   ]
  },
  {
   "cell_type": "code",
   "execution_count": 8,
   "id": "689ef76e",
   "metadata": {},
   "outputs": [],
   "source": [
    "data FxCode = USD | EUR | JPY deriving (Show, Data, G.Generic)\n",
    "instance T.CellValueFormatter FxCode\n",
    "\n",
    "-- This record type will be nested inside `Stock`\n",
    "data Price = Price {price::Double, fx_code::FxCode} deriving (Data, G.Generic, Show)\n",
    "\n",
    "-- if we do not want the `Price` records to be expanded into their own fields\n",
    "-- then choose `T.DoNotExpandWhenNested`\n",
    "instance T.Tabulate Price T.ExpandWhenNested\n",
    "instance T.CellValueFormatter Price\n",
    "\n",
    "data Stock = Stock {ticker::String, local_price::Price, marketCap::Double} deriving (\n",
    "    Data, G.Generic, Show)\n",
    "instance T.Tabulate Stock T.ExpandWhenNested"
   ]
  },
  {
   "cell_type": "code",
   "execution_count": 9,
   "id": "cbc3ac01",
   "metadata": {},
   "outputs": [
    {
     "data": {
      "text/html": [
       "<style>/* Styles used for the Hoogle display in the pager */\n",
       ".hoogle-doc {\n",
       "display: block;\n",
       "padding-bottom: 1.3em;\n",
       "padding-left: 0.4em;\n",
       "}\n",
       ".hoogle-code {\n",
       "display: block;\n",
       "font-family: monospace;\n",
       "white-space: pre;\n",
       "}\n",
       ".hoogle-text {\n",
       "display: block;\n",
       "}\n",
       ".hoogle-name {\n",
       "color: green;\n",
       "font-weight: bold;\n",
       "}\n",
       ".hoogle-head {\n",
       "font-weight: bold;\n",
       "}\n",
       ".hoogle-sub {\n",
       "display: block;\n",
       "margin-left: 0.4em;\n",
       "}\n",
       ".hoogle-package {\n",
       "font-weight: bold;\n",
       "font-style: italic;\n",
       "}\n",
       ".hoogle-module {\n",
       "font-weight: bold;\n",
       "}\n",
       ".hoogle-class {\n",
       "font-weight: bold;\n",
       "}\n",
       "\n",
       ".get-type {\n",
       "color: green;\n",
       "font-weight: bold;\n",
       "font-family: monospace;\n",
       "display: block;\n",
       "white-space: pre-wrap;\n",
       "}\n",
       ".show-type {\n",
       "color: green;\n",
       "font-weight: bold;\n",
       "font-family: monospace;\n",
       "margin-left: 1em;\n",
       "}\n",
       ".mono {\n",
       "font-family: monospace;\n",
       "display: block;\n",
       "}\n",
       ".err-msg {\n",
       "color: red;\n",
       "font-style: italic;\n",
       "font-family: monospace;\n",
       "white-space: pre;\n",
       "display: block;\n",
       "}\n",
       "#unshowable {\n",
       "color: red;\n",
       "font-weight: bold;\n",
       "}\n",
       ".err-msg.in.collapse {\n",
       "padding-top: 0.7em;\n",
       "}\n",
       "\n",
       ".highlight-code {\n",
       "white-space: pre;\n",
       "font-family: monospace;\n",
       "}\n",
       "\n",
       ".suggestion-warning { \n",
       "font-weight: bold;\n",
       "color: rgb(200, 130, 0);\n",
       "}\n",
       ".suggestion-error { \n",
       "font-weight: bold;\n",
       "color: red;\n",
       "}\n",
       ".suggestion-name {\n",
       "font-weight: bold;\n",
       "}\n",
       "\n",
       "</style><div class=\"suggestion-name\" style=\"clear:both;\">Use camelCase</div><div class=\"suggestion-row\" style=\"float: left;\"><div class=\"suggestion-warning\">Found:</div><div class=\"highlight-code\" id=\"haskell\">tickers_vector = ...</div></div><div class=\"suggestion-row\" style=\"float: left;\"><div class=\"suggestion-warning\">Why Not:</div><div class=\"highlight-code\" id=\"haskell\">tickersVector = ...</div></div><div class=\"suggestion-name\" style=\"clear:both;\">Use camelCase</div><div class=\"suggestion-row\" style=\"float: left;\"><div class=\"suggestion-warning\">Found:</div><div class=\"highlight-code\" id=\"haskell\">tickers_map :: Map.Map Integer Stock</div></div><div class=\"suggestion-row\" style=\"float: left;\"><div class=\"suggestion-warning\">Why Not:</div><div class=\"highlight-code\" id=\"haskell\">tickersMap :: Map.Map Integer Stock</div></div><div class=\"suggestion-name\" style=\"clear:both;\">Use camelCase</div><div class=\"suggestion-row\" style=\"float: left;\"><div class=\"suggestion-warning\">Found:</div><div class=\"highlight-code\" id=\"haskell\">tickers_map = ...</div></div><div class=\"suggestion-row\" style=\"float: left;\"><div class=\"suggestion-warning\">Why Not:</div><div class=\"highlight-code\" id=\"haskell\">tickersMap = ...</div></div>"
      ],
      "text/plain": [
       "Line 6: Use camelCase\n",
       "Found:\n",
       "tickers_vector = ...\n",
       "Why not:\n",
       "tickersVector = ...Line 7: Use camelCase\n",
       "Found:\n",
       "tickers_map :: Map.Map Integer Stock\n",
       "Why not:\n",
       "tickersMap :: Map.Map Integer StockLine 8: Use camelCase\n",
       "Found:\n",
       "tickers_map = ...\n",
       "Why not:\n",
       "tickersMap = ..."
      ]
     },
     "metadata": {},
     "output_type": "display_data"
    }
   ],
   "source": [
    "yahoo =  Stock {ticker=\"YHOO\", local_price=Price 42.29101010 USD, marketCap=40e9}\n",
    "google = Stock {ticker=\"GOOG\", local_price=Price 774.210101 EUR, marketCap=532.09e9}\n",
    "amazon = Stock {ticker=\"AMZN\", local_price=Price 799.161717 JPY, marketCap=378.86e9}\n",
    "\n",
    "tickers = [yahoo, google, amazon]\n",
    "tickers_vector = Vector.fromList tickers\n",
    "tickers_map:: Map.Map Integer Stock\n",
    "tickers_map = Map.fromList [(10, yahoo), (100, google), (1000, amazon)]"
   ]
  },
  {
   "cell_type": "code",
   "execution_count": 11,
   "id": "f4295a3b",
   "metadata": {},
   "outputs": [
    {
     "data": {
      "text/plain": [
       "Printing records in a list"
      ]
     },
     "metadata": {},
     "output_type": "display_data"
    },
    {
     "data": {
      "text/plain": [
       "ticker     local_price        local_price     marketCap     \n",
       "-          price              fx_code         -             \n",
       "YHOO           42.2910101     USD               4.0000000e10\n",
       "GOOG          774.2101010     EUR               5.3209000e11\n",
       "AMZN          799.1617170     JPY               3.7886000e11"
      ]
     },
     "metadata": {},
     "output_type": "display_data"
    },
    {
     "data": {
      "text/plain": [
       "\n",
       "Printing records in a map with the index.\n",
       "Note the `key(s)` are printed as first columns"
      ]
     },
     "metadata": {},
     "output_type": "display_data"
    },
    {
     "data": {
      "text/plain": [
       "-        ticker     local_price        local_price     marketCap     \n",
       "-        -          price              fx_code         -             \n",
       "10       YHOO           42.2910101     USD               4.0000000e10\n",
       "100      GOOG          774.2101010     EUR               5.3209000e11\n",
       "1000     AMZN          799.1617170     JPY               3.7886000e11"
      ]
     },
     "metadata": {},
     "output_type": "display_data"
    },
    {
     "data": {
      "text/plain": [
       "\n",
       "Printing records in a vector"
      ]
     },
     "metadata": {},
     "output_type": "display_data"
    },
    {
     "data": {
      "text/plain": [
       "ticker     local_price        local_price     marketCap     \n",
       "-          price              fx_code         -             \n",
       "YHOO           42.2910101     USD               4.0000000e10\n",
       "GOOG          774.2101010     EUR               5.3209000e11\n",
       "AMZN          799.1617170     JPY               3.7886000e11"
      ]
     },
     "metadata": {},
     "output_type": "display_data"
    },
    {
     "data": {
      "text/plain": [
       "10           42.2910101     YHOO\n",
       "100         774.2101010     GOOG\n",
       "1000        799.1617170     AMZN"
      ]
     },
     "metadata": {},
     "output_type": "display_data"
    },
    {
     "data": {
      "text/plain": [
       "-        price              fx_code\n",
       "10           42.2910101     USD    \n",
       "100         774.2101010     EUR    \n",
       "1000        799.1617170     JPY"
      ]
     },
     "metadata": {},
     "output_type": "display_data"
    }
   ],
   "source": [
    "putStrLn \"Printing records in a list\\n\"\n",
    "T.printTable tickers\n",
    "\n",
    "putStrLn \"\\nPrinting records in a map with the index.\\nNote the `key(s)` are printed as first columns\"\n",
    "T.printTable tickers_map\n",
    "\n",
    "putStrLn \"\\nPrinting records in a vector\\n\"\n",
    "T.printTable tickers_vector\n",
    "\n",
    "-- Sometimes records may have too many fields. In those case, specific fields can\n",
    "-- be chosen to be printed. Currently, support for this functionality is\n",
    "-- minimal. The 'headers` are not printed. In the future, a function that\n",
    "-- can take header labels as a list will be provided.\n",
    "\n",
    "--putStrLn \"\\nPrinting specific fields. Note, currently field names are not printed\"\n",
    "T.printTableWithFlds [T.DFld (price . local_price), T.DFld ticker] tickers_map\n",
    "\n",
    "--putStrLn \"\\nPrint nested record in a map, individually\"\n",
    "T.printTable $ fmap local_price tickers_map\n"
   ]
  },
  {
   "cell_type": "code",
   "execution_count": 12,
   "id": "27b87d0b",
   "metadata": {},
   "outputs": [],
   "source": [
    "-- simple --"
   ]
  },
  {
   "cell_type": "code",
   "execution_count": null,
   "id": "a507ace2",
   "metadata": {},
   "outputs": [
    {
     "data": {
      "text/plain": [
       "ticker     local_price              marketCap     \n",
       "YHOO       42.29101010 USD            4.0000000e10\n",
       "GOOG       Price 774.210101 EUR       5.3209000e11\n",
       "AMZN       Price 799.161717 JPY       3.7886000e11"
      ]
     },
     "metadata": {},
     "output_type": "display_data"
    }
   ],
   "source": [
    "{-# LANGUAGE MultiParamTypeClasses#-}\n",
    "{-# LANGUAGE DeriveGeneric #-}\n",
    "{-# LANGUAGE DeriveDataTypeable #-}\n",
    "\n",
    "import Text.PrettyPrint.Tabulate\n",
    "import qualified GHC.Generics as G\n",
    "import Data.Data\n",
    "\n",
    "import qualified Text.PrettyPrint.Tabulate as T\n",
    "\n",
    "import qualified Data.Map as Map\n",
    "import qualified Data.List as List\n",
    "import qualified Data.Vector as Vector\n",
    "\n",
    "\n",
    "data Stock = Stock {ticker::String, local_price::String, marketCap::Double} deriving ( Data, G.Generic, Show)\n",
    "instance T.Tabulate Stock T.ExpandWhenNested\n",
    "\n",
    "yahoo =  Stock {ticker=\"YHOO\", local_price=\"42.29101010 USD\", marketCap=40e9}\n",
    "google = Stock {ticker=\"GOOG\", local_price=\"Price 774.210101 EUR\", marketCap=532.09e9}\n",
    "amazon = Stock {ticker=\"AMZN\", local_price=\"Price 799.161717 JPY\", marketCap=378.86e9}\n",
    "\n",
    "tickers = [yahoo, google, amazon]\n",
    "\n",
    "T.printTable tickers"
   ]
  },
  {
   "cell_type": "code",
   "execution_count": 26,
   "id": "f57c9017",
   "metadata": {},
   "outputs": [
    {
     "data": {
      "text/plain": [
       "                             \n",
       "YHOO     42.29101010 USD     \n",
       "GOOG     Price 774.210101 EUR"
      ]
     },
     "metadata": {},
     "output_type": "display_data"
    }
   ],
   "source": [
    "data Stock = Stock String String deriving ( Data, G.Generic, Show)\n",
    "instance T.Tabulate Stock T.ExpandWhenNested\n",
    "\n",
    "yahoo =  Stock  \"YHOO\" \"42.29101010 USD\"\n",
    "google = Stock  \"GOOG\" \"Price 774.210101 EUR\"\n",
    "\n",
    "\n",
    "tickers = [yahoo, google]\n",
    "\n",
    "T.printTable tickers"
   ]
  },
  {
   "cell_type": "code",
   "execution_count": 36,
   "id": "605571c9",
   "metadata": {},
   "outputs": [
    {
     "data": {
      "text/plain": [
       "                                                                         \n",
       "aaooooooooooooooooooooooooooooooo o ooo     bb                           \n",
       "aa                                          bb aaa sss ssssssssssssssssss"
      ]
     },
     "metadata": {},
     "output_type": "display_data"
    }
   ],
   "source": [
    "data Table  =  Table String String deriving ( Data, G.Generic, Show)\n",
    "instance T.Tabulate Stock T.ExpandWhenNested\n",
    "\n",
    "table = [ Table  \"aaooooooooooooooooooooooooooooooo o ooo\" \"bb\" , Table  \"aa\" \"bb aaa sss ssssssssssssssssss\"]\n",
    "\n",
    "\n",
    "T.printTable table"
   ]
  },
  {
   "cell_type": "code",
   "execution_count": 1,
   "id": "92b0799e",
   "metadata": {},
   "outputs": [
    {
     "data": {
      "text/plain": [
       "Bob AHank Ivy\n",
       "Bob Alice Charlie\n",
       "Eve David Frank"
      ]
     },
     "metadata": {},
     "output_type": "display_data"
    }
   ],
   "source": [
    "import Data.List (sortBy)\n",
    "\n",
    "-- Define a custom comparison function based on the first two strings of each sublist\n",
    "customCompare :: [String] -> [String] -> Ordering\n",
    "customCompare xs ys = compare (take 2 xs) (take 2 ys)\n",
    "\n",
    "\n",
    "let myList = [ [\"Bob\", \"Alice\", \"Charlie\"]\n",
    "             , [\"Eve\", \"David\", \"Frank\"]\n",
    "             , [\"Bob\", \"AHank\", \"Ivy\"]\n",
    "             ]\n",
    "\n",
    "-- Sort the list based on the first two strings of each sublist\n",
    "let sortedList = sortBy customCompare myList\n",
    "\n",
    "-- Print the sorted list\n",
    "mapM_ putStrLn (map unwords sortedList)\n"
   ]
  },
  {
   "cell_type": "code",
   "execution_count": 47,
   "id": "c2b0dfd0",
   "metadata": {},
   "outputs": [
    {
     "data": {
      "text/plain": [
       "EQ"
      ]
     },
     "metadata": {},
     "output_type": "display_data"
    }
   ],
   "source": [
    "compare [\"Bob\", \"Alice\"] [\"Bob\", \"Alice\"]"
   ]
  },
  {
   "cell_type": "code",
   "execution_count": null,
   "id": "ef4af854",
   "metadata": {},
   "outputs": [
    {
     "data": {
      "text/plain": [
       "Resolving dependencies...\n",
       "Error: cabal: Could not resolve dependencies:\n",
       "[__0] trying: table-layout-0.9.1.0 (user goal)\n",
       "[__1] next goal: base (dependency of table-layout)\n",
       "[__1] rejecting: base-4.17.1.0/installed-4.17.1.0 (conflict: table-layout =>\n",
       "base>=4.9 && <4.15)\n",
       "[__1] skipping: base-4.18.0.0, base-4.17.2.0, base-4.17.1.0, base-4.17.0.0,\n",
       "base-4.16.4.0, base-4.16.3.0, base-4.16.2.0, base-4.16.1.0, base-4.16.0.0,\n",
       "base-4.15.1.0, base-4.15.0.0 (has the same characteristics that caused the\n",
       "previous version to fail: excluded by constraint '>=4.9 && <4.15' from\n",
       "'table-layout')\n",
       "[__1] rejecting: base-4.14.3.0, base-4.14.2.0, base-4.14.1.0, base-4.14.0.0,\n",
       "base-4.13.0.0, base-4.12.0.0, base-4.11.1.0, base-4.11.0.0, base-4.10.1.0,\n",
       "base-4.10.0.0, base-4.9.1.0, base-4.9.0.0, base-4.8.2.0, base-4.8.1.0,\n",
       "base-4.8.0.0, base-4.7.0.2, base-4.7.0.1, base-4.7.0.0, base-4.6.0.1,\n",
       "base-4.6.0.0, base-4.5.1.0, base-4.5.0.0, base-4.4.1.0, base-4.4.0.0,\n",
       "base-4.3.1.0, base-4.3.0.0, base-4.2.0.2, base-4.2.0.1, base-4.2.0.0,\n",
       "base-4.1.0.0, base-4.0.0.0, base-3.0.3.2, base-3.0.3.1 (constraint from\n",
       "non-upgradeable package requires installed instance)\n",
       "[__1] fail (backjumping, conflict set: base, table-layout)\n",
       "After searching the rest of the dependency tree exhaustively, these were the\n",
       "goals I've had most trouble fulfilling: base, table-layout\n",
       "\n",
       "\n",
       "Process exited with error code 1"
      ]
     },
     "metadata": {},
     "output_type": "display_data"
    }
   ],
   "source": [
    ":!cabal install --info table-layout"
   ]
  }
 ],
 "metadata": {
  "kernelspec": {
   "display_name": "Haskell",
   "language": "haskell",
   "name": "haskell"
  },
  "language_info": {
   "codemirror_mode": "ihaskell",
   "file_extension": ".hs",
   "mimetype": "text/x-haskell",
   "name": "haskell",
   "pygments_lexer": "Haskell",
   "version": "9.4.5"
  }
 },
 "nbformat": 4,
 "nbformat_minor": 5
}
